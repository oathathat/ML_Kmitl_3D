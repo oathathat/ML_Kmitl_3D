{
 "cells": [
  {
   "cell_type": "code",
   "execution_count": 2,
   "metadata": {},
   "outputs": [],
   "source": [
    "import numpy as np\n",
    "import pandas as pd\n",
    "import matplotlib.pyplot as plt\n",
    "import seaborn as sns \n",
    "from sklearn import preprocessing\n",
    "from sklearn import model_selection\n",
    "from sklearn.linear_model import LinearRegression\n",
    "from sklearn.svm import SVR\n",
    "from sklearn.model_selection import train_test_split,GridSearchCV,RandomizedSearchCV\n",
    "from sklearn import metrics\n",
    "import pandas_datareader.data as web \n",
    "from time import time\n",
    "from sklearn.cluster import KMeans"
   ]
  },
  {
   "cell_type": "markdown",
   "metadata": {},
   "source": [
    "# Get Stock Data"
   ]
  },
  {
   "cell_type": "code",
   "execution_count": 3,
   "metadata": {},
   "outputs": [],
   "source": [
    "stk_tickers = ['MSFT', 'IBM', 'GOOGL']\n",
    "ccy_tickers = ['DEXJPUS', 'DEXUSUK']\n",
    "idx_tickers = ['SP500', 'DJIA', 'VIXCLS']\n",
    "stk_data = web.DataReader(stk_tickers, 'yahoo')\n",
    "ccy_data = web.DataReader(ccy_tickers, 'fred')\n",
    "idx_data = web.DataReader(idx_tickers, 'fred')"
   ]
  },
  {
   "cell_type": "code",
   "execution_count": 4,
   "metadata": {},
   "outputs": [
    {
     "name": "stdout",
     "output_type": "stream",
     "text": [
      "Attributes   Adj Close            \n",
      "Symbols          GOOGL         IBM\n",
      "Date                              \n",
      "2017-10-20   50.253502  122.152084\n",
      "2017-10-23   49.277000  120.252808\n",
      "2017-10-24   49.424500  117.486710\n",
      "2017-10-25   49.573002  115.692879\n",
      "2017-10-26   49.570999  115.768265\n",
      "...                ...         ...\n",
      "2022-10-14   96.559998  120.040001\n",
      "2022-10-17   99.970001  121.519997\n",
      "2022-10-18  100.769997  122.940002\n",
      "2022-10-19   99.629997  122.510002\n",
      "2022-10-20  100.870003  127.644997\n",
      "\n",
      "[1259 rows x 2 columns]\n",
      "            DEXJPUS  DEXUSUK\n",
      "DATE                        \n",
      "2017-10-23   113.66   1.3201\n",
      "2017-10-24   113.92   1.3124\n",
      "2017-10-25   113.70   1.3252\n",
      "2017-10-26   113.72   1.3181\n",
      "2017-10-27   113.82   1.3108\n",
      "...             ...      ...\n",
      "2022-10-10      NaN      NaN\n",
      "2022-10-11   145.55   1.1168\n",
      "2022-10-12   146.87   1.1096\n",
      "2022-10-13   147.15   1.1344\n",
      "2022-10-14   148.46   1.1208\n",
      "\n",
      "[1300 rows x 2 columns]\n",
      "            DEXJPUS  DEXUSUK\n",
      "DATE                        \n",
      "2017-10-23   113.66   1.3201\n",
      "2017-10-24   113.92   1.3124\n",
      "2017-10-25   113.70   1.3252\n",
      "2017-10-26   113.72   1.3181\n",
      "2017-10-27   113.82   1.3108\n",
      "...             ...      ...\n",
      "2022-10-10      NaN      NaN\n",
      "2022-10-11   145.55   1.1168\n",
      "2022-10-12   146.87   1.1096\n",
      "2022-10-13   147.15   1.1344\n",
      "2022-10-14   148.46   1.1208\n",
      "\n",
      "[1300 rows x 2 columns]\n"
     ]
    }
   ],
   "source": [
    "#Select columns\n",
    "base = stk_data.loc[:, ('Adj Close', 'MSFT')]\n",
    "X1 = stk_data.loc[:, ('Adj Close', ('GOOGL', 'IBM'))]\n",
    "X2 = ccy_data\n",
    "X3 = idx_data\n",
    "print(X1)\n",
    "print(X2)\n",
    "print(X2)"
   ]
  },
  {
   "cell_type": "code",
   "execution_count": 5,
   "metadata": {},
   "outputs": [],
   "source": [
    "#Standardized data (X1, X2, X3) with kept index (date)\n",
    "standard_scaler = preprocessing.StandardScaler()\n",
    "sX1 = standard_scaler.fit_transform(X1.values)\n",
    "sX2 = standard_scaler.fit_transform(X2.values)\n",
    "sX3 = standard_scaler.fit_transform(X3.values)\n",
    "X1 = pd.DataFrame(index = X1.index,data = sX1,columns=X1.columns)\n",
    "X2 = pd.DataFrame(index = X2.index,data = sX2,columns=X2.columns)\n",
    "X3 = pd.DataFrame(index = X3.index,data = sX3,columns=X3.columns)"
   ]
  },
  {
   "cell_type": "markdown",
   "metadata": {},
   "source": [
    "## Calculate ความแตกต่างของค่า ราคา 'Adj Close', 'MSFT’)ย้อนหลัง backHistory วัน"
   ]
  },
  {
   "cell_type": "code",
   "execution_count": 6,
   "metadata": {},
   "outputs": [],
   "source": [
    "\n",
    "backHistory = [30, 45, 60, 90, 180, 240] #-> ทดลองหยิบ 3 ค่า 3 รูปแบบ เพื่อดูระยะเวลาการดูค่าข้อมูลย้อนหลงัหลายๆแบบและเปรียบเทียบ MSE\n",
    "BH1, BH2, BH3 = backHistory[1], backHistory[3], backHistory[4]\n",
    "return_period = 2\n",
    "Y = base.shift(-return_period)\n",
    "X4_BH1 = base.diff( BH1).shift( - BH1)\n",
    "X4_BH2 = base.diff( BH2).shift( - BH2)\n",
    "X4_BH3 = base.diff( BH3).shift( - BH3)\n",
    "\n",
    "X4 = pd.concat([X4_BH1, X4_BH2, X4_BH3], axis=1)\n",
    "X4.columns = ['MSFT_3DT', 'MSFT_6DT', 'MSFT_12DT']\n",
    "X4 = pd.DataFrame(standard_scaler.fit_transform(X4.values), index = X4.index,columns=X4.columns)"
   ]
  },
  {
   "cell_type": "code",
   "execution_count": 7,
   "metadata": {},
   "outputs": [
    {
     "data": {
      "text/html": [
       "<div>\n",
       "<style scoped>\n",
       "    .dataframe tbody tr th:only-of-type {\n",
       "        vertical-align: middle;\n",
       "    }\n",
       "\n",
       "    .dataframe tbody tr th {\n",
       "        vertical-align: top;\n",
       "    }\n",
       "\n",
       "    .dataframe thead th {\n",
       "        text-align: right;\n",
       "    }\n",
       "</style>\n",
       "<table border=\"1\" class=\"dataframe\">\n",
       "  <thead>\n",
       "    <tr style=\"text-align: right;\">\n",
       "      <th></th>\n",
       "      <th>(Adj Close, MSFT)</th>\n",
       "      <th>(Adj Close, GOOGL)</th>\n",
       "      <th>(Adj Close, IBM)</th>\n",
       "      <th>DEXJPUS</th>\n",
       "      <th>DEXUSUK</th>\n",
       "      <th>SP500</th>\n",
       "      <th>DJIA</th>\n",
       "      <th>VIXCLS</th>\n",
       "      <th>MSFT_3DT</th>\n",
       "      <th>MSFT_6DT</th>\n",
       "      <th>MSFT_12DT</th>\n",
       "    </tr>\n",
       "  </thead>\n",
       "  <tbody>\n",
       "    <tr>\n",
       "      <th>count</th>\n",
       "      <td>1062.000000</td>\n",
       "      <td>1062.000000</td>\n",
       "      <td>1062.000000</td>\n",
       "      <td>1062.000000</td>\n",
       "      <td>1062.000000</td>\n",
       "      <td>1062.000000</td>\n",
       "      <td>1062.000000</td>\n",
       "      <td>1062.000000</td>\n",
       "      <td>1062.000000</td>\n",
       "      <td>1062.000000</td>\n",
       "      <td>1062.000000</td>\n",
       "    </tr>\n",
       "    <tr>\n",
       "      <th>mean</th>\n",
       "      <td>170.246043</td>\n",
       "      <td>-0.180305</td>\n",
       "      <td>-0.208229</td>\n",
       "      <td>-0.351345</td>\n",
       "      <td>0.180731</td>\n",
       "      <td>-0.171819</td>\n",
       "      <td>-0.157852</td>\n",
       "      <td>-0.111275</td>\n",
       "      <td>0.150018</td>\n",
       "      <td>0.133205</td>\n",
       "      <td>0.000458</td>\n",
       "    </tr>\n",
       "    <tr>\n",
       "      <th>std</th>\n",
       "      <td>74.517356</td>\n",
       "      <td>0.954893</td>\n",
       "      <td>0.894560</td>\n",
       "      <td>0.323680</td>\n",
       "      <td>0.848681</td>\n",
       "      <td>0.966533</td>\n",
       "      <td>0.982666</td>\n",
       "      <td>1.027426</td>\n",
       "      <td>0.850004</td>\n",
       "      <td>0.917514</td>\n",
       "      <td>0.996036</td>\n",
       "    </tr>\n",
       "    <tr>\n",
       "      <th>min</th>\n",
       "      <td>73.884659</td>\n",
       "      <td>-1.111089</td>\n",
       "      <td>-3.298824</td>\n",
       "      <td>-1.132109</td>\n",
       "      <td>-2.495897</td>\n",
       "      <td>-1.708232</td>\n",
       "      <td>-2.489533</td>\n",
       "      <td>-1.348604</td>\n",
       "      <td>-3.551281</td>\n",
       "      <td>-3.647421</td>\n",
       "      <td>-3.380512</td>\n",
       "    </tr>\n",
       "    <tr>\n",
       "      <th>25%</th>\n",
       "      <td>103.533525</td>\n",
       "      <td>-0.879508</td>\n",
       "      <td>-0.709610</td>\n",
       "      <td>-0.581247</td>\n",
       "      <td>-0.375414</td>\n",
       "      <td>-0.911670</td>\n",
       "      <td>-0.877691</td>\n",
       "      <td>-0.780619</td>\n",
       "      <td>-0.225654</td>\n",
       "      <td>-0.219805</td>\n",
       "      <td>-0.375193</td>\n",
       "    </tr>\n",
       "    <tr>\n",
       "      <th>50%</th>\n",
       "      <td>147.291924</td>\n",
       "      <td>-0.654430</td>\n",
       "      <td>-0.248223</td>\n",
       "      <td>-0.345245</td>\n",
       "      <td>0.101881</td>\n",
       "      <td>-0.596587</td>\n",
       "      <td>-0.520031</td>\n",
       "      <td>-0.365365</td>\n",
       "      <td>0.124673</td>\n",
       "      <td>0.103275</td>\n",
       "      <td>0.095191</td>\n",
       "    </tr>\n",
       "    <tr>\n",
       "      <th>75%</th>\n",
       "      <td>221.475185</td>\n",
       "      <td>0.176847</td>\n",
       "      <td>0.291368</td>\n",
       "      <td>-0.129390</td>\n",
       "      <td>0.887274</td>\n",
       "      <td>0.520883</td>\n",
       "      <td>0.458494</td>\n",
       "      <td>0.219334</td>\n",
       "      <td>0.546531</td>\n",
       "      <td>0.602325</td>\n",
       "      <td>0.628783</td>\n",
       "    </tr>\n",
       "    <tr>\n",
       "      <th>max</th>\n",
       "      <td>340.882782</td>\n",
       "      <td>2.098358</td>\n",
       "      <td>1.881140</td>\n",
       "      <td>0.433560</td>\n",
       "      <td>1.974076</td>\n",
       "      <td>2.051403</td>\n",
       "      <td>1.997380</td>\n",
       "      <td>7.129384</td>\n",
       "      <td>2.462599</td>\n",
       "      <td>2.187000</td>\n",
       "      <td>2.302308</td>\n",
       "    </tr>\n",
       "  </tbody>\n",
       "</table>\n",
       "</div>"
      ],
      "text/plain": [
       "       (Adj Close, MSFT)  (Adj Close, GOOGL)  (Adj Close, IBM)      DEXJPUS  \\\n",
       "count        1062.000000         1062.000000       1062.000000  1062.000000   \n",
       "mean          170.246043           -0.180305         -0.208229    -0.351345   \n",
       "std            74.517356            0.954893          0.894560     0.323680   \n",
       "min            73.884659           -1.111089         -3.298824    -1.132109   \n",
       "25%           103.533525           -0.879508         -0.709610    -0.581247   \n",
       "50%           147.291924           -0.654430         -0.248223    -0.345245   \n",
       "75%           221.475185            0.176847          0.291368    -0.129390   \n",
       "max           340.882782            2.098358          1.881140     0.433560   \n",
       "\n",
       "           DEXUSUK        SP500         DJIA       VIXCLS     MSFT_3DT  \\\n",
       "count  1062.000000  1062.000000  1062.000000  1062.000000  1062.000000   \n",
       "mean      0.180731    -0.171819    -0.157852    -0.111275     0.150018   \n",
       "std       0.848681     0.966533     0.982666     1.027426     0.850004   \n",
       "min      -2.495897    -1.708232    -2.489533    -1.348604    -3.551281   \n",
       "25%      -0.375414    -0.911670    -0.877691    -0.780619    -0.225654   \n",
       "50%       0.101881    -0.596587    -0.520031    -0.365365     0.124673   \n",
       "75%       0.887274     0.520883     0.458494     0.219334     0.546531   \n",
       "max       1.974076     2.051403     1.997380     7.129384     2.462599   \n",
       "\n",
       "          MSFT_6DT    MSFT_12DT  \n",
       "count  1062.000000  1062.000000  \n",
       "mean      0.133205     0.000458  \n",
       "std       0.917514     0.996036  \n",
       "min      -3.647421    -3.380512  \n",
       "25%      -0.219805    -0.375193  \n",
       "50%       0.103275     0.095191  \n",
       "75%       0.602325     0.628783  \n",
       "max       2.187000     2.302308  "
      ]
     },
     "execution_count": 7,
     "metadata": {},
     "output_type": "execute_result"
    }
   ],
   "source": [
    "# Forming Dataset\n",
    "X = pd.concat([X1, X2, X3, X4], axis=1)\n",
    "dataset = pd.concat([Y, X], axis=1)\n",
    "dataset.dropna(inplace=True)\n",
    "dataset.describe()\n"
   ]
  },
  {
   "cell_type": "code",
   "execution_count": 8,
   "metadata": {},
   "outputs": [
    {
     "name": "stdout",
     "output_type": "stream",
     "text": [
      "             Adj Close\n",
      "                  MSFT\n",
      "2017-10-23   73.884659\n",
      "2017-10-24   74.006805\n",
      "2017-10-25   78.752029\n",
      "2017-10-26   78.827217\n",
      "2017-10-27   78.160065\n",
      "...                ...\n",
      "2022-01-27  308.961395\n",
      "2022-01-28  306.755798\n",
      "2022-01-31  311.425262\n",
      "2022-02-01  299.294525\n",
      "2022-02-02  303.954102\n",
      "\n",
      "[1062 rows x 1 columns]\n",
      "            (Adj Close, GOOGL)  (Adj Close, IBM)   DEXJPUS   DEXUSUK  \\\n",
      "2017-10-23           -1.111089          0.426252  0.150358  0.193956   \n",
      "2017-10-24           -1.106382          0.171241  0.180290  0.072763   \n",
      "2017-10-25           -1.101642          0.005865  0.154963  0.274227   \n",
      "2017-10-26           -1.101706          0.012815  0.157266  0.162478   \n",
      "2017-10-27           -1.034285          0.018373  0.168778  0.047580   \n",
      "...                        ...               ...       ...       ...   \n",
      "2022-01-27            1.433451          1.118688  0.358731  0.483560   \n",
      "2022-01-28            1.572155          1.294675  0.328799  0.533926   \n",
      "2022-01-31            1.634470          1.212015  0.329950  0.568553   \n",
      "2022-02-01            1.709167          1.386224  0.278145  0.672432   \n",
      "2022-02-02            2.039682          1.539102  0.230944  0.766868   \n",
      "\n",
      "               SP500      DJIA    VIXCLS  MSFT_3DT  MSFT_6DT  MSFT_12DT  \n",
      "2017-10-23 -1.226988 -1.335744 -1.126136  0.027622  0.047628  -0.148049  \n",
      "2017-10-24 -1.220891 -1.294394 -1.115762  0.026610  0.034463  -0.117031  \n",
      "2017-10-25 -1.238491 -1.322068 -1.107693  0.029100  0.063366  -0.124544  \n",
      "2017-10-26 -1.233717 -1.304473 -1.099625  0.043404  0.079976  -0.101179  \n",
      "2017-10-27 -1.203350 -1.296259 -1.272527 -0.192304 -0.028861  -0.250055  \n",
      "...              ...       ...       ...       ...       ...        ...  \n",
      "2022-01-27  1.360857  1.347085  1.112375  0.204870 -1.568893  -2.690554  \n",
      "2022-01-28  1.515611  1.486241  0.786166  0.051596 -1.983533  -2.674295  \n",
      "2022-01-31  1.638574  1.586387  0.459956 -0.314000 -2.313248  -2.720882  \n",
      "2022-02-01  1.684101  1.653756  0.129136 -0.806409 -2.692912  -2.715891  \n",
      "2022-02-02  1.747037  1.708979  0.144121 -0.957940 -3.302981  -2.821023  \n",
      "\n",
      "[1062 rows x 10 columns]\n"
     ]
    }
   ],
   "source": [
    "# Assign X, Y (drop datetime index)\n",
    "Y = pd.DataFrame(dataset[dataset.columns[0]])\n",
    "X = pd.DataFrame(dataset[dataset.columns[1:]])\n",
    "print(Y)\n",
    "print(X)"
   ]
  },
  {
   "cell_type": "code",
   "execution_count": 9,
   "metadata": {},
   "outputs": [
    {
     "data": {
      "text/html": [
       "<div>\n",
       "<style scoped>\n",
       "    .dataframe tbody tr th:only-of-type {\n",
       "        vertical-align: middle;\n",
       "    }\n",
       "\n",
       "    .dataframe tbody tr th {\n",
       "        vertical-align: top;\n",
       "    }\n",
       "\n",
       "    .dataframe thead th {\n",
       "        text-align: right;\n",
       "    }\n",
       "</style>\n",
       "<table border=\"1\" class=\"dataframe\">\n",
       "  <thead>\n",
       "    <tr style=\"text-align: right;\">\n",
       "      <th></th>\n",
       "      <th>(Adj Close, GOOGL)</th>\n",
       "      <th>(Adj Close, IBM)</th>\n",
       "      <th>DEXJPUS</th>\n",
       "      <th>DEXUSUK</th>\n",
       "      <th>SP500</th>\n",
       "      <th>DJIA</th>\n",
       "      <th>VIXCLS</th>\n",
       "      <th>MSFT_3DT</th>\n",
       "      <th>MSFT_6DT</th>\n",
       "      <th>MSFT_12DT</th>\n",
       "    </tr>\n",
       "  </thead>\n",
       "  <tbody>\n",
       "    <tr>\n",
       "      <th>(Adj Close, GOOGL)</th>\n",
       "      <td>1.000000</td>\n",
       "      <td>0.519085</td>\n",
       "      <td>0.180324</td>\n",
       "      <td>0.495622</td>\n",
       "      <td>0.983735</td>\n",
       "      <td>0.955296</td>\n",
       "      <td>0.042151</td>\n",
       "      <td>0.003271</td>\n",
       "      <td>-0.151562</td>\n",
       "      <td>-0.436815</td>\n",
       "    </tr>\n",
       "    <tr>\n",
       "      <th>(Adj Close, IBM)</th>\n",
       "      <td>0.519085</td>\n",
       "      <td>1.000000</td>\n",
       "      <td>0.286229</td>\n",
       "      <td>0.593476</td>\n",
       "      <td>0.539350</td>\n",
       "      <td>0.619171</td>\n",
       "      <td>-0.512233</td>\n",
       "      <td>-0.031685</td>\n",
       "      <td>-0.124006</td>\n",
       "      <td>-0.423540</td>\n",
       "    </tr>\n",
       "    <tr>\n",
       "      <th>DEXJPUS</th>\n",
       "      <td>0.180324</td>\n",
       "      <td>0.286229</td>\n",
       "      <td>1.000000</td>\n",
       "      <td>0.097019</td>\n",
       "      <td>0.105035</td>\n",
       "      <td>0.149825</td>\n",
       "      <td>-0.362571</td>\n",
       "      <td>-0.309732</td>\n",
       "      <td>-0.482866</td>\n",
       "      <td>-0.616719</td>\n",
       "    </tr>\n",
       "    <tr>\n",
       "      <th>DEXUSUK</th>\n",
       "      <td>0.495622</td>\n",
       "      <td>0.593476</td>\n",
       "      <td>0.097019</td>\n",
       "      <td>1.000000</td>\n",
       "      <td>0.500102</td>\n",
       "      <td>0.544894</td>\n",
       "      <td>-0.297632</td>\n",
       "      <td>0.049336</td>\n",
       "      <td>-0.008681</td>\n",
       "      <td>-0.218409</td>\n",
       "    </tr>\n",
       "    <tr>\n",
       "      <th>SP500</th>\n",
       "      <td>0.983735</td>\n",
       "      <td>0.539350</td>\n",
       "      <td>0.105035</td>\n",
       "      <td>0.500102</td>\n",
       "      <td>1.000000</td>\n",
       "      <td>0.983862</td>\n",
       "      <td>-0.005115</td>\n",
       "      <td>-0.026080</td>\n",
       "      <td>-0.130890</td>\n",
       "      <td>-0.357624</td>\n",
       "    </tr>\n",
       "    <tr>\n",
       "      <th>DJIA</th>\n",
       "      <td>0.955296</td>\n",
       "      <td>0.619171</td>\n",
       "      <td>0.149825</td>\n",
       "      <td>0.544894</td>\n",
       "      <td>0.983862</td>\n",
       "      <td>1.000000</td>\n",
       "      <td>-0.137353</td>\n",
       "      <td>-0.042716</td>\n",
       "      <td>-0.121364</td>\n",
       "      <td>-0.346036</td>\n",
       "    </tr>\n",
       "    <tr>\n",
       "      <th>VIXCLS</th>\n",
       "      <td>0.042151</td>\n",
       "      <td>-0.512233</td>\n",
       "      <td>-0.362571</td>\n",
       "      <td>-0.297632</td>\n",
       "      <td>-0.005115</td>\n",
       "      <td>-0.137353</td>\n",
       "      <td>1.000000</td>\n",
       "      <td>0.282476</td>\n",
       "      <td>0.299302</td>\n",
       "      <td>0.217637</td>\n",
       "    </tr>\n",
       "    <tr>\n",
       "      <th>MSFT_3DT</th>\n",
       "      <td>0.003271</td>\n",
       "      <td>-0.031685</td>\n",
       "      <td>-0.309732</td>\n",
       "      <td>0.049336</td>\n",
       "      <td>-0.026080</td>\n",
       "      <td>-0.042716</td>\n",
       "      <td>0.282476</td>\n",
       "      <td>1.000000</td>\n",
       "      <td>0.652356</td>\n",
       "      <td>0.402069</td>\n",
       "    </tr>\n",
       "    <tr>\n",
       "      <th>MSFT_6DT</th>\n",
       "      <td>-0.151562</td>\n",
       "      <td>-0.124006</td>\n",
       "      <td>-0.482866</td>\n",
       "      <td>-0.008681</td>\n",
       "      <td>-0.130890</td>\n",
       "      <td>-0.121364</td>\n",
       "      <td>0.299302</td>\n",
       "      <td>0.652356</td>\n",
       "      <td>1.000000</td>\n",
       "      <td>0.712384</td>\n",
       "    </tr>\n",
       "    <tr>\n",
       "      <th>MSFT_12DT</th>\n",
       "      <td>-0.436815</td>\n",
       "      <td>-0.423540</td>\n",
       "      <td>-0.616719</td>\n",
       "      <td>-0.218409</td>\n",
       "      <td>-0.357624</td>\n",
       "      <td>-0.346036</td>\n",
       "      <td>0.217637</td>\n",
       "      <td>0.402069</td>\n",
       "      <td>0.712384</td>\n",
       "      <td>1.000000</td>\n",
       "    </tr>\n",
       "  </tbody>\n",
       "</table>\n",
       "</div>"
      ],
      "text/plain": [
       "                    (Adj Close, GOOGL)  (Adj Close, IBM)   DEXJPUS   DEXUSUK  \\\n",
       "(Adj Close, GOOGL)            1.000000          0.519085  0.180324  0.495622   \n",
       "(Adj Close, IBM)              0.519085          1.000000  0.286229  0.593476   \n",
       "DEXJPUS                       0.180324          0.286229  1.000000  0.097019   \n",
       "DEXUSUK                       0.495622          0.593476  0.097019  1.000000   \n",
       "SP500                         0.983735          0.539350  0.105035  0.500102   \n",
       "DJIA                          0.955296          0.619171  0.149825  0.544894   \n",
       "VIXCLS                        0.042151         -0.512233 -0.362571 -0.297632   \n",
       "MSFT_3DT                      0.003271         -0.031685 -0.309732  0.049336   \n",
       "MSFT_6DT                     -0.151562         -0.124006 -0.482866 -0.008681   \n",
       "MSFT_12DT                    -0.436815         -0.423540 -0.616719 -0.218409   \n",
       "\n",
       "                       SP500      DJIA    VIXCLS  MSFT_3DT  MSFT_6DT  \\\n",
       "(Adj Close, GOOGL)  0.983735  0.955296  0.042151  0.003271 -0.151562   \n",
       "(Adj Close, IBM)    0.539350  0.619171 -0.512233 -0.031685 -0.124006   \n",
       "DEXJPUS             0.105035  0.149825 -0.362571 -0.309732 -0.482866   \n",
       "DEXUSUK             0.500102  0.544894 -0.297632  0.049336 -0.008681   \n",
       "SP500               1.000000  0.983862 -0.005115 -0.026080 -0.130890   \n",
       "DJIA                0.983862  1.000000 -0.137353 -0.042716 -0.121364   \n",
       "VIXCLS             -0.005115 -0.137353  1.000000  0.282476  0.299302   \n",
       "MSFT_3DT           -0.026080 -0.042716  0.282476  1.000000  0.652356   \n",
       "MSFT_6DT           -0.130890 -0.121364  0.299302  0.652356  1.000000   \n",
       "MSFT_12DT          -0.357624 -0.346036  0.217637  0.402069  0.712384   \n",
       "\n",
       "                    MSFT_12DT  \n",
       "(Adj Close, GOOGL)  -0.436815  \n",
       "(Adj Close, IBM)    -0.423540  \n",
       "DEXJPUS             -0.616719  \n",
       "DEXUSUK             -0.218409  \n",
       "SP500               -0.357624  \n",
       "DJIA                -0.346036  \n",
       "VIXCLS               0.217637  \n",
       "MSFT_3DT             0.402069  \n",
       "MSFT_6DT             0.712384  \n",
       "MSFT_12DT            1.000000  "
      ]
     },
     "execution_count": 9,
     "metadata": {},
     "output_type": "execute_result"
    }
   ],
   "source": [
    "X.corr()"
   ]
  },
  {
   "cell_type": "code",
   "execution_count": 10,
   "metadata": {},
   "outputs": [
    {
     "data": {
      "text/plain": [
       "[('Adj Close', 'GOOGL'), 'SP500']"
      ]
     },
     "execution_count": 10,
     "metadata": {},
     "output_type": "execute_result"
    }
   ],
   "source": [
    "lower = pd.DataFrame(np.tril(X.corr(),-1),columns = X.columns)\n",
    "to_drop = [column for column in lower.columns if any(lower[column] > 0.9)]\n",
    "X.drop(columns=to_drop,inplace=True)\n",
    "to_drop"
   ]
  },
  {
   "cell_type": "code",
   "execution_count": 11,
   "metadata": {},
   "outputs": [
    {
     "data": {
      "text/html": [
       "<div>\n",
       "<style scoped>\n",
       "    .dataframe tbody tr th:only-of-type {\n",
       "        vertical-align: middle;\n",
       "    }\n",
       "\n",
       "    .dataframe tbody tr th {\n",
       "        vertical-align: top;\n",
       "    }\n",
       "\n",
       "    .dataframe thead th {\n",
       "        text-align: right;\n",
       "    }\n",
       "</style>\n",
       "<table border=\"1\" class=\"dataframe\">\n",
       "  <thead>\n",
       "    <tr style=\"text-align: right;\">\n",
       "      <th></th>\n",
       "      <th>(Adj Close, IBM)</th>\n",
       "      <th>DEXJPUS</th>\n",
       "      <th>DEXUSUK</th>\n",
       "      <th>DJIA</th>\n",
       "      <th>VIXCLS</th>\n",
       "      <th>MSFT_3DT</th>\n",
       "      <th>MSFT_6DT</th>\n",
       "      <th>MSFT_12DT</th>\n",
       "    </tr>\n",
       "  </thead>\n",
       "  <tbody>\n",
       "    <tr>\n",
       "      <th>2017-10-23</th>\n",
       "      <td>0.426252</td>\n",
       "      <td>0.150358</td>\n",
       "      <td>0.193956</td>\n",
       "      <td>-1.335744</td>\n",
       "      <td>-1.126136</td>\n",
       "      <td>0.027622</td>\n",
       "      <td>0.047628</td>\n",
       "      <td>-0.148049</td>\n",
       "    </tr>\n",
       "    <tr>\n",
       "      <th>2017-10-24</th>\n",
       "      <td>0.171241</td>\n",
       "      <td>0.180290</td>\n",
       "      <td>0.072763</td>\n",
       "      <td>-1.294394</td>\n",
       "      <td>-1.115762</td>\n",
       "      <td>0.026610</td>\n",
       "      <td>0.034463</td>\n",
       "      <td>-0.117031</td>\n",
       "    </tr>\n",
       "    <tr>\n",
       "      <th>2017-10-25</th>\n",
       "      <td>0.005865</td>\n",
       "      <td>0.154963</td>\n",
       "      <td>0.274227</td>\n",
       "      <td>-1.322068</td>\n",
       "      <td>-1.107693</td>\n",
       "      <td>0.029100</td>\n",
       "      <td>0.063366</td>\n",
       "      <td>-0.124544</td>\n",
       "    </tr>\n",
       "    <tr>\n",
       "      <th>2017-10-26</th>\n",
       "      <td>0.012815</td>\n",
       "      <td>0.157266</td>\n",
       "      <td>0.162478</td>\n",
       "      <td>-1.304473</td>\n",
       "      <td>-1.099625</td>\n",
       "      <td>0.043404</td>\n",
       "      <td>0.079976</td>\n",
       "      <td>-0.101179</td>\n",
       "    </tr>\n",
       "    <tr>\n",
       "      <th>2017-10-27</th>\n",
       "      <td>0.018373</td>\n",
       "      <td>0.168778</td>\n",
       "      <td>0.047580</td>\n",
       "      <td>-1.296259</td>\n",
       "      <td>-1.272527</td>\n",
       "      <td>-0.192304</td>\n",
       "      <td>-0.028861</td>\n",
       "      <td>-0.250055</td>\n",
       "    </tr>\n",
       "    <tr>\n",
       "      <th>...</th>\n",
       "      <td>...</td>\n",
       "      <td>...</td>\n",
       "      <td>...</td>\n",
       "      <td>...</td>\n",
       "      <td>...</td>\n",
       "      <td>...</td>\n",
       "      <td>...</td>\n",
       "      <td>...</td>\n",
       "    </tr>\n",
       "    <tr>\n",
       "      <th>2022-01-27</th>\n",
       "      <td>1.118688</td>\n",
       "      <td>0.358731</td>\n",
       "      <td>0.483560</td>\n",
       "      <td>1.347085</td>\n",
       "      <td>1.112375</td>\n",
       "      <td>0.204870</td>\n",
       "      <td>-1.568893</td>\n",
       "      <td>-2.690554</td>\n",
       "    </tr>\n",
       "    <tr>\n",
       "      <th>2022-01-28</th>\n",
       "      <td>1.294675</td>\n",
       "      <td>0.328799</td>\n",
       "      <td>0.533926</td>\n",
       "      <td>1.486241</td>\n",
       "      <td>0.786166</td>\n",
       "      <td>0.051596</td>\n",
       "      <td>-1.983533</td>\n",
       "      <td>-2.674295</td>\n",
       "    </tr>\n",
       "    <tr>\n",
       "      <th>2022-01-31</th>\n",
       "      <td>1.212015</td>\n",
       "      <td>0.329950</td>\n",
       "      <td>0.568553</td>\n",
       "      <td>1.586387</td>\n",
       "      <td>0.459956</td>\n",
       "      <td>-0.314000</td>\n",
       "      <td>-2.313248</td>\n",
       "      <td>-2.720882</td>\n",
       "    </tr>\n",
       "    <tr>\n",
       "      <th>2022-02-01</th>\n",
       "      <td>1.386224</td>\n",
       "      <td>0.278145</td>\n",
       "      <td>0.672432</td>\n",
       "      <td>1.653756</td>\n",
       "      <td>0.129136</td>\n",
       "      <td>-0.806409</td>\n",
       "      <td>-2.692912</td>\n",
       "      <td>-2.715891</td>\n",
       "    </tr>\n",
       "    <tr>\n",
       "      <th>2022-02-02</th>\n",
       "      <td>1.539102</td>\n",
       "      <td>0.230944</td>\n",
       "      <td>0.766868</td>\n",
       "      <td>1.708979</td>\n",
       "      <td>0.144121</td>\n",
       "      <td>-0.957940</td>\n",
       "      <td>-3.302981</td>\n",
       "      <td>-2.821023</td>\n",
       "    </tr>\n",
       "  </tbody>\n",
       "</table>\n",
       "<p>1062 rows × 8 columns</p>\n",
       "</div>"
      ],
      "text/plain": [
       "            (Adj Close, IBM)   DEXJPUS   DEXUSUK      DJIA    VIXCLS  \\\n",
       "2017-10-23          0.426252  0.150358  0.193956 -1.335744 -1.126136   \n",
       "2017-10-24          0.171241  0.180290  0.072763 -1.294394 -1.115762   \n",
       "2017-10-25          0.005865  0.154963  0.274227 -1.322068 -1.107693   \n",
       "2017-10-26          0.012815  0.157266  0.162478 -1.304473 -1.099625   \n",
       "2017-10-27          0.018373  0.168778  0.047580 -1.296259 -1.272527   \n",
       "...                      ...       ...       ...       ...       ...   \n",
       "2022-01-27          1.118688  0.358731  0.483560  1.347085  1.112375   \n",
       "2022-01-28          1.294675  0.328799  0.533926  1.486241  0.786166   \n",
       "2022-01-31          1.212015  0.329950  0.568553  1.586387  0.459956   \n",
       "2022-02-01          1.386224  0.278145  0.672432  1.653756  0.129136   \n",
       "2022-02-02          1.539102  0.230944  0.766868  1.708979  0.144121   \n",
       "\n",
       "            MSFT_3DT  MSFT_6DT  MSFT_12DT  \n",
       "2017-10-23  0.027622  0.047628  -0.148049  \n",
       "2017-10-24  0.026610  0.034463  -0.117031  \n",
       "2017-10-25  0.029100  0.063366  -0.124544  \n",
       "2017-10-26  0.043404  0.079976  -0.101179  \n",
       "2017-10-27 -0.192304 -0.028861  -0.250055  \n",
       "...              ...       ...        ...  \n",
       "2022-01-27  0.204870 -1.568893  -2.690554  \n",
       "2022-01-28  0.051596 -1.983533  -2.674295  \n",
       "2022-01-31 -0.314000 -2.313248  -2.720882  \n",
       "2022-02-01 -0.806409 -2.692912  -2.715891  \n",
       "2022-02-02 -0.957940 -3.302981  -2.821023  \n",
       "\n",
       "[1062 rows x 8 columns]"
      ]
     },
     "execution_count": 11,
     "metadata": {},
     "output_type": "execute_result"
    }
   ],
   "source": [
    "X"
   ]
  },
  {
   "cell_type": "markdown",
   "metadata": {},
   "source": [
    "# Train / Test Preparation (try 2 Option)    "
   ]
  },
  {
   "cell_type": "code",
   "execution_count": 12,
   "metadata": {},
   "outputs": [
    {
     "name": "stdout",
     "output_type": "stream",
     "text": [
      "test size = 318\n",
      "train size = 743\n"
     ]
    }
   ],
   "source": [
    "from math import ceil, floor\n",
    "test_size = floor(0.3 * len( X ))\n",
    "train_size = floor(0.7 * len( X ))\n",
    "print(f'test size = {test_size}\\ntrain size = {train_size}')\n",
    "X_train, X_test = X[0:train_size], X[train_size:len(X)]\n",
    "Y_train, Y_test = Y[0:train_size], Y[train_size:len(X)]\n",
    "# Option #2\n",
    "# X_train2, X_test2, y_train2, y_test2 = model_selection.train_test_split(X, Y, test_size=0.3, random_state=seed)"
   ]
  },
  {
   "cell_type": "markdown",
   "metadata": {},
   "source": [
    "# 6.2 GridSearchCV()"
   ]
  },
  {
   "cell_type": "code",
   "execution_count": 13,
   "metadata": {},
   "outputs": [
    {
     "name": "stdout",
     "output_type": "stream",
     "text": [
      "{'fit_intercept': [True, False], 'normalize': [True, False]}\n"
     ]
    }
   ],
   "source": [
    "# Create Model List\n",
    "regression = { 'LR': LinearRegression(), 'SVR': SVR(), }\n",
    "# Create Parameter Dictionary for Linear Regression\n",
    "fit_intercept = [True, False]\n",
    "normalize = [True, False]\n",
    "params_LR = dict( fit_intercept = fit_intercept, normalize = normalize)\n",
    "print(params_LR)"
   ]
  },
  {
   "cell_type": "code",
   "execution_count": 14,
   "metadata": {},
   "outputs": [],
   "source": [
    "#Create Parameter Dictionary for SVR\n",
    "kernel = ['linear', 'rbf', 'poly']\n",
    "C_list = [10, 100]\n",
    "ep_list = [0.1, 1, 5]\n",
    "gamma = [0.01, 0.1]\n",
    "degree = [2, 3]       #3x2x3x2x2 = 72\n",
    "params_SVR = dict( kernel = kernel, C = C_list, epsilon = ep_list, gamma = gamma, degree = degree )"
   ]
  },
  {
   "cell_type": "code",
   "execution_count": 15,
   "metadata": {},
   "outputs": [
    {
     "name": "stdout",
     "output_type": "stream",
     "text": [
      "Fitting 5 folds for each of 4 candidates, totalling 20 fits\n"
     ]
    },
    {
     "name": "stderr",
     "output_type": "stream",
     "text": [
      "c:\\ProgramData\\Anaconda3\\lib\\site-packages\\sklearn\\linear_model\\_base.py:141: FutureWarning: 'normalize' was deprecated in version 1.0 and will be removed in 1.2.\n",
      "If you wish to scale the data, use Pipeline with a StandardScaler in a preprocessing stage. To reproduce the previous behavior:\n",
      "\n",
      "from sklearn.pipeline import make_pipeline\n",
      "\n",
      "model = make_pipeline(StandardScaler(with_mean=False), LinearRegression())\n",
      "\n",
      "If you wish to pass a sample_weight parameter, you need to pass it as a fit parameter to each step of the pipeline as follows:\n",
      "\n",
      "kwargs = {s[0] + '__sample_weight': sample_weight for s in model.steps}\n",
      "model.fit(X, y, **kwargs)\n",
      "\n",
      "\n",
      "  warnings.warn(\n",
      "c:\\ProgramData\\Anaconda3\\lib\\site-packages\\sklearn\\utils\\validation.py:1688: FutureWarning: Feature names only support names that are all strings. Got feature names with dtypes: ['str', 'tuple']. An error will be raised in 1.2.\n",
      "  warnings.warn(\n"
     ]
    },
    {
     "name": "stdout",
     "output_type": "stream",
     "text": [
      "Fitting 5 folds for each of 72 candidates, totalling 360 fits\n"
     ]
    },
    {
     "name": "stderr",
     "output_type": "stream",
     "text": [
      "c:\\ProgramData\\Anaconda3\\lib\\site-packages\\sklearn\\utils\\validation.py:1688: FutureWarning: Feature names only support names that are all strings. Got feature names with dtypes: ['str', 'tuple']. An error will be raised in 1.2.\n",
      "  warnings.warn(\n",
      "c:\\ProgramData\\Anaconda3\\lib\\site-packages\\sklearn\\utils\\validation.py:993: DataConversionWarning: A column-vector y was passed when a 1d array was expected. Please change the shape of y to (n_samples, ), for example using ravel().\n",
      "  y = column_or_1d(y, warn=True)\n"
     ]
    }
   ],
   "source": [
    "for EST in regression:\n",
    "    model = regression[EST]\n",
    "    if (EST == 'LR'):\n",
    "        params = params_LR\n",
    "    else:\n",
    "        params = params_SVR\n",
    "\n",
    "    grid = GridSearchCV( \n",
    "    estimator=model,                        #model\n",
    "    n_jobs = 8,                             #thread ที่ใช้               \n",
    "    verbose = 10,                           #ความละเอียดในการเปิด log\n",
    "    cv = 5,                                 #kfold\n",
    "    scoring = 'neg_mean_squared_error',     #neg mean - mse\n",
    "    param_grid = params)                    #parameter ที่ใช้กับ model\n",
    "    grid_result = grid.fit(X_train, Y_train)\n"
   ]
  },
  {
   "cell_type": "code",
   "execution_count": 16,
   "metadata": {},
   "outputs": [
    {
     "name": "stdout",
     "output_type": "stream",
     "text": [
      "Best params:  {'C': 100, 'degree': 2, 'epsilon': 0.1, 'gamma': 0.1, 'kernel': 'rbf'}\n",
      "Best score:  -828.715260430465\n"
     ]
    }
   ],
   "source": [
    "# Show Best Parameters for both models\n",
    "print('Best params: ',grid_result.best_params_)\n",
    "print('Best score: ', grid_result.best_score_)"
   ]
  },
  {
   "cell_type": "markdown",
   "metadata": {},
   "source": [
    "## Show Score for each parameter combination for both model"
   ]
  },
  {
   "cell_type": "code",
   "execution_count": 17,
   "metadata": {},
   "outputs": [
    {
     "name": "stdout",
     "output_type": "stream",
     "text": [
      "-1096.908091 (913.811868) with: {'C': 10, 'degree': 2, 'epsilon': 0.1, 'gamma': 0.01, 'kernel': 'linear'}\n",
      "-1327.106814 (1701.174920) with: {'C': 10, 'degree': 2, 'epsilon': 0.1, 'gamma': 0.01, 'kernel': 'rbf'}\n",
      "-2530.971109 (2532.012710) with: {'C': 10, 'degree': 2, 'epsilon': 0.1, 'gamma': 0.01, 'kernel': 'poly'}\n",
      "-1096.908091 (913.811868) with: {'C': 10, 'degree': 2, 'epsilon': 0.1, 'gamma': 0.1, 'kernel': 'linear'}\n",
      "-1018.814449 (1131.902399) with: {'C': 10, 'degree': 2, 'epsilon': 0.1, 'gamma': 0.1, 'kernel': 'rbf'}\n",
      "-1467.074657 (1736.486766) with: {'C': 10, 'degree': 2, 'epsilon': 0.1, 'gamma': 0.1, 'kernel': 'poly'}\n",
      "-1101.728680 (893.456200) with: {'C': 10, 'degree': 2, 'epsilon': 1, 'gamma': 0.01, 'kernel': 'linear'}\n",
      "-1332.717372 (1702.552165) with: {'C': 10, 'degree': 2, 'epsilon': 1, 'gamma': 0.01, 'kernel': 'rbf'}\n",
      "-2538.175717 (2545.242717) with: {'C': 10, 'degree': 2, 'epsilon': 1, 'gamma': 0.01, 'kernel': 'poly'}\n",
      "-1101.728680 (893.456200) with: {'C': 10, 'degree': 2, 'epsilon': 1, 'gamma': 0.1, 'kernel': 'linear'}\n",
      "-1019.948679 (1121.879666) with: {'C': 10, 'degree': 2, 'epsilon': 1, 'gamma': 0.1, 'kernel': 'rbf'}\n",
      "-1466.031200 (1746.062762) with: {'C': 10, 'degree': 2, 'epsilon': 1, 'gamma': 0.1, 'kernel': 'poly'}\n",
      "-1090.173668 (909.853777) with: {'C': 10, 'degree': 2, 'epsilon': 5, 'gamma': 0.01, 'kernel': 'linear'}\n",
      "-1304.857228 (1589.059498) with: {'C': 10, 'degree': 2, 'epsilon': 5, 'gamma': 0.01, 'kernel': 'rbf'}\n",
      "-2364.884015 (2472.936159) with: {'C': 10, 'degree': 2, 'epsilon': 5, 'gamma': 0.01, 'kernel': 'poly'}\n",
      "-1090.173668 (909.853777) with: {'C': 10, 'degree': 2, 'epsilon': 5, 'gamma': 0.1, 'kernel': 'linear'}\n",
      "-1104.429940 (1169.011258) with: {'C': 10, 'degree': 2, 'epsilon': 5, 'gamma': 0.1, 'kernel': 'rbf'}\n",
      "-1499.323353 (1750.455244) with: {'C': 10, 'degree': 2, 'epsilon': 5, 'gamma': 0.1, 'kernel': 'poly'}\n",
      "-1096.908091 (913.811868) with: {'C': 10, 'degree': 3, 'epsilon': 0.1, 'gamma': 0.01, 'kernel': 'linear'}\n",
      "-1327.106814 (1701.174920) with: {'C': 10, 'degree': 3, 'epsilon': 0.1, 'gamma': 0.01, 'kernel': 'rbf'}\n",
      "-2584.621209 (2587.099590) with: {'C': 10, 'degree': 3, 'epsilon': 0.1, 'gamma': 0.01, 'kernel': 'poly'}\n",
      "-1096.908091 (913.811868) with: {'C': 10, 'degree': 3, 'epsilon': 0.1, 'gamma': 0.1, 'kernel': 'linear'}\n",
      "-1018.814449 (1131.902399) with: {'C': 10, 'degree': 3, 'epsilon': 0.1, 'gamma': 0.1, 'kernel': 'rbf'}\n",
      "-1853.172525 (2104.552251) with: {'C': 10, 'degree': 3, 'epsilon': 0.1, 'gamma': 0.1, 'kernel': 'poly'}\n",
      "-1101.728680 (893.456200) with: {'C': 10, 'degree': 3, 'epsilon': 1, 'gamma': 0.01, 'kernel': 'linear'}\n",
      "-1332.717372 (1702.552165) with: {'C': 10, 'degree': 3, 'epsilon': 1, 'gamma': 0.01, 'kernel': 'rbf'}\n",
      "-2600.167049 (2607.234943) with: {'C': 10, 'degree': 3, 'epsilon': 1, 'gamma': 0.01, 'kernel': 'poly'}\n",
      "-1101.728680 (893.456200) with: {'C': 10, 'degree': 3, 'epsilon': 1, 'gamma': 0.1, 'kernel': 'linear'}\n",
      "-1019.948679 (1121.879666) with: {'C': 10, 'degree': 3, 'epsilon': 1, 'gamma': 0.1, 'kernel': 'rbf'}\n",
      "-1856.670260 (2121.560028) with: {'C': 10, 'degree': 3, 'epsilon': 1, 'gamma': 0.1, 'kernel': 'poly'}\n",
      "-1090.173668 (909.853777) with: {'C': 10, 'degree': 3, 'epsilon': 5, 'gamma': 0.01, 'kernel': 'linear'}\n",
      "-1304.857228 (1589.059498) with: {'C': 10, 'degree': 3, 'epsilon': 5, 'gamma': 0.01, 'kernel': 'rbf'}\n",
      "-2424.653460 (2515.507974) with: {'C': 10, 'degree': 3, 'epsilon': 5, 'gamma': 0.01, 'kernel': 'poly'}\n",
      "-1090.173668 (909.853777) with: {'C': 10, 'degree': 3, 'epsilon': 5, 'gamma': 0.1, 'kernel': 'linear'}\n",
      "-1104.429940 (1169.011258) with: {'C': 10, 'degree': 3, 'epsilon': 5, 'gamma': 0.1, 'kernel': 'rbf'}\n",
      "-1809.238325 (2122.465590) with: {'C': 10, 'degree': 3, 'epsilon': 5, 'gamma': 0.1, 'kernel': 'poly'}\n",
      "-1082.316771 (895.073960) with: {'C': 100, 'degree': 2, 'epsilon': 0.1, 'gamma': 0.01, 'kernel': 'linear'}\n",
      "-1093.501942 (1021.073507) with: {'C': 100, 'degree': 2, 'epsilon': 0.1, 'gamma': 0.01, 'kernel': 'rbf'}\n",
      "-2209.132012 (2370.944330) with: {'C': 100, 'degree': 2, 'epsilon': 0.1, 'gamma': 0.01, 'kernel': 'poly'}\n",
      "-1082.316771 (895.073960) with: {'C': 100, 'degree': 2, 'epsilon': 0.1, 'gamma': 0.1, 'kernel': 'linear'}\n",
      "-828.715260 (1171.752078) with: {'C': 100, 'degree': 2, 'epsilon': 0.1, 'gamma': 0.1, 'kernel': 'rbf'}\n",
      "-1562.337558 (1584.021679) with: {'C': 100, 'degree': 2, 'epsilon': 0.1, 'gamma': 0.1, 'kernel': 'poly'}\n",
      "-1093.661848 (879.336598) with: {'C': 100, 'degree': 2, 'epsilon': 1, 'gamma': 0.01, 'kernel': 'linear'}\n",
      "-1106.200201 (1036.800297) with: {'C': 100, 'degree': 2, 'epsilon': 1, 'gamma': 0.01, 'kernel': 'rbf'}\n",
      "-2201.042780 (2369.096775) with: {'C': 100, 'degree': 2, 'epsilon': 1, 'gamma': 0.01, 'kernel': 'poly'}\n",
      "-1093.661848 (879.336598) with: {'C': 100, 'degree': 2, 'epsilon': 1, 'gamma': 0.1, 'kernel': 'linear'}\n",
      "-837.121518 (1142.212568) with: {'C': 100, 'degree': 2, 'epsilon': 1, 'gamma': 0.1, 'kernel': 'rbf'}\n",
      "-1539.717319 (1584.384980) with: {'C': 100, 'degree': 2, 'epsilon': 1, 'gamma': 0.1, 'kernel': 'poly'}\n",
      "-1086.476205 (894.889766) with: {'C': 100, 'degree': 2, 'epsilon': 5, 'gamma': 0.01, 'kernel': 'linear'}\n",
      "-1072.143912 (1017.447653) with: {'C': 100, 'degree': 2, 'epsilon': 5, 'gamma': 0.01, 'kernel': 'rbf'}\n",
      "-2093.534289 (2279.820547) with: {'C': 100, 'degree': 2, 'epsilon': 5, 'gamma': 0.01, 'kernel': 'poly'}\n",
      "-1086.476205 (894.889766) with: {'C': 100, 'degree': 2, 'epsilon': 5, 'gamma': 0.1, 'kernel': 'linear'}\n",
      "-848.269557 (1136.954001) with: {'C': 100, 'degree': 2, 'epsilon': 5, 'gamma': 0.1, 'kernel': 'rbf'}\n",
      "-1460.629688 (1523.442415) with: {'C': 100, 'degree': 2, 'epsilon': 5, 'gamma': 0.1, 'kernel': 'poly'}\n",
      "-1082.316771 (895.073960) with: {'C': 100, 'degree': 3, 'epsilon': 0.1, 'gamma': 0.01, 'kernel': 'linear'}\n",
      "-1093.501942 (1021.073507) with: {'C': 100, 'degree': 3, 'epsilon': 0.1, 'gamma': 0.01, 'kernel': 'rbf'}\n",
      "-2576.240149 (2558.130042) with: {'C': 100, 'degree': 3, 'epsilon': 0.1, 'gamma': 0.01, 'kernel': 'poly'}\n",
      "-1082.316771 (895.073960) with: {'C': 100, 'degree': 3, 'epsilon': 0.1, 'gamma': 0.1, 'kernel': 'linear'}\n",
      "-828.715260 (1171.752078) with: {'C': 100, 'degree': 3, 'epsilon': 0.1, 'gamma': 0.1, 'kernel': 'rbf'}\n",
      "-1528.490703 (1727.048147) with: {'C': 100, 'degree': 3, 'epsilon': 0.1, 'gamma': 0.1, 'kernel': 'poly'}\n",
      "-1093.661848 (879.336598) with: {'C': 100, 'degree': 3, 'epsilon': 1, 'gamma': 0.01, 'kernel': 'linear'}\n",
      "-1106.200201 (1036.800297) with: {'C': 100, 'degree': 3, 'epsilon': 1, 'gamma': 0.01, 'kernel': 'rbf'}\n",
      "-2579.408417 (2568.783031) with: {'C': 100, 'degree': 3, 'epsilon': 1, 'gamma': 0.01, 'kernel': 'poly'}\n",
      "-1093.661848 (879.336598) with: {'C': 100, 'degree': 3, 'epsilon': 1, 'gamma': 0.1, 'kernel': 'linear'}\n",
      "-837.121518 (1142.212568) with: {'C': 100, 'degree': 3, 'epsilon': 1, 'gamma': 0.1, 'kernel': 'rbf'}\n",
      "-1549.514979 (1720.501078) with: {'C': 100, 'degree': 3, 'epsilon': 1, 'gamma': 0.1, 'kernel': 'poly'}\n",
      "-1086.476205 (894.889766) with: {'C': 100, 'degree': 3, 'epsilon': 5, 'gamma': 0.01, 'kernel': 'linear'}\n",
      "-1072.143912 (1017.447653) with: {'C': 100, 'degree': 3, 'epsilon': 5, 'gamma': 0.01, 'kernel': 'rbf'}\n",
      "-2405.120219 (2490.186704) with: {'C': 100, 'degree': 3, 'epsilon': 5, 'gamma': 0.01, 'kernel': 'poly'}\n",
      "-1086.476205 (894.889766) with: {'C': 100, 'degree': 3, 'epsilon': 5, 'gamma': 0.1, 'kernel': 'linear'}\n",
      "-848.269557 (1136.954001) with: {'C': 100, 'degree': 3, 'epsilon': 5, 'gamma': 0.1, 'kernel': 'rbf'}\n",
      "-1530.456158 (1674.455122) with: {'C': 100, 'degree': 3, 'epsilon': 5, 'gamma': 0.1, 'kernel': 'poly'}\n"
     ]
    }
   ],
   "source": [
    "means   = grid_result.cv_results_['mean_test_score']\n",
    "stds    = grid_result.cv_results_['std_test_score']\n",
    "params  = grid_result.cv_results_['params']\n",
    "for mean, stdev, param in zip(means, stds, params):\n",
    "    print(\"%f (%f) with: %r\" % (mean, stdev, param))"
   ]
  },
  {
   "cell_type": "markdown",
   "metadata": {},
   "source": [
    "## Display Mean, std, params"
   ]
  },
  {
   "cell_type": "code",
   "execution_count": null,
   "metadata": {},
   "outputs": [],
   "source": []
  },
  {
   "cell_type": "markdown",
   "metadata": {},
   "source": [
    "# 6.3 RandomizedSearchCV()"
   ]
  },
  {
   "cell_type": "code",
   "execution_count": 18,
   "metadata": {},
   "outputs": [],
   "source": [
    "# Create Model List\n",
    "regression = { 'LR': LinearRegression(), 'SVR': SVR()}"
   ]
  },
  {
   "cell_type": "code",
   "execution_count": 19,
   "metadata": {},
   "outputs": [],
   "source": [
    "# Create Parameter Dictionary for Linear Regression\n",
    "fit_intercept = [True, False]\n",
    "normalize = [True, False]\n",
    "params_LR = dict( fit_intercept = fit_intercept, normalize = normalize)"
   ]
  },
  {
   "cell_type": "code",
   "execution_count": 20,
   "metadata": {},
   "outputs": [],
   "source": [
    "# Create Parameter Dictionary for SVR\n",
    "kernel = ['linear', 'rbf', 'poly']\n",
    "C_list = list(np.linspace(0.1, 150, 5, dtype = float))\n",
    "ep_list = list(np.linspace(0.1, 1, 5, dtype = float))\n",
    "gamma = list(np.linspace(0.01, 0.1, 5, dtype = float))\n",
    "degree = [2, 3]\n",
    "params_SVR = dict( kernel = kernel, C = C_list, epsilon = ep_list, gamma = gamma, degree = degree )"
   ]
  },
  {
   "cell_type": "markdown",
   "metadata": {},
   "source": [
    "## Show scatter plot compare y_test vs each model prediction"
   ]
  },
  {
   "cell_type": "code",
   "execution_count": 21,
   "metadata": {},
   "outputs": [],
   "source": [
    "# import warnings\n",
    "# warnings.filterwarnings('ignore')"
   ]
  },
  {
   "cell_type": "code",
   "execution_count": 22,
   "metadata": {},
   "outputs": [
    {
     "name": "stderr",
     "output_type": "stream",
     "text": [
      "c:\\ProgramData\\Anaconda3\\lib\\site-packages\\sklearn\\utils\\validation.py:1688: FutureWarning: Feature names only support names that are all strings. Got feature names with dtypes: ['str', 'tuple']. An error will be raised in 1.2.\n",
      "  warnings.warn(\n",
      "c:\\ProgramData\\Anaconda3\\lib\\site-packages\\sklearn\\utils\\validation.py:1688: FutureWarning: Feature names only support names that are all strings. Got feature names with dtypes: ['str', 'tuple']. An error will be raised in 1.2.\n",
      "  warnings.warn(\n",
      "c:\\ProgramData\\Anaconda3\\lib\\site-packages\\sklearn\\linear_model\\_base.py:148: FutureWarning: 'normalize' was deprecated in version 1.0 and will be removed in 1.2. Please leave the normalize parameter to its default value to silence this warning. The default behavior of this estimator is to not do any normalization. If normalization is needed please use sklearn.preprocessing.StandardScaler instead.\n",
      "  warnings.warn(\n",
      "c:\\ProgramData\\Anaconda3\\lib\\site-packages\\sklearn\\utils\\validation.py:1688: FutureWarning: Feature names only support names that are all strings. Got feature names with dtypes: ['str', 'tuple']. An error will be raised in 1.2.\n",
      "  warnings.warn(\n",
      "c:\\ProgramData\\Anaconda3\\lib\\site-packages\\sklearn\\utils\\validation.py:1688: FutureWarning: Feature names only support names that are all strings. Got feature names with dtypes: ['str', 'tuple']. An error will be raised in 1.2.\n",
      "  warnings.warn(\n",
      "c:\\ProgramData\\Anaconda3\\lib\\site-packages\\sklearn\\utils\\validation.py:1688: FutureWarning: Feature names only support names that are all strings. Got feature names with dtypes: ['str', 'tuple']. An error will be raised in 1.2.\n",
      "  warnings.warn(\n",
      "c:\\ProgramData\\Anaconda3\\lib\\site-packages\\sklearn\\utils\\validation.py:993: DataConversionWarning: A column-vector y was passed when a 1d array was expected. Please change the shape of y to (n_samples, ), for example using ravel().\n",
      "  y = column_or_1d(y, warn=True)\n",
      "c:\\ProgramData\\Anaconda3\\lib\\site-packages\\sklearn\\utils\\validation.py:1688: FutureWarning: Feature names only support names that are all strings. Got feature names with dtypes: ['str', 'tuple']. An error will be raised in 1.2.\n",
      "  warnings.warn(\n",
      "c:\\ProgramData\\Anaconda3\\lib\\site-packages\\sklearn\\utils\\validation.py:1688: FutureWarning: Feature names only support names that are all strings. Got feature names with dtypes: ['str', 'tuple']. An error will be raised in 1.2.\n",
      "  warnings.warn(\n",
      "c:\\ProgramData\\Anaconda3\\lib\\site-packages\\sklearn\\utils\\validation.py:993: DataConversionWarning: A column-vector y was passed when a 1d array was expected. Please change the shape of y to (n_samples, ), for example using ravel().\n",
      "  y = column_or_1d(y, warn=True)\n",
      "c:\\ProgramData\\Anaconda3\\lib\\site-packages\\sklearn\\utils\\validation.py:1688: FutureWarning: Feature names only support names that are all strings. Got feature names with dtypes: ['str', 'tuple']. An error will be raised in 1.2.\n",
      "  warnings.warn(\n",
      "c:\\ProgramData\\Anaconda3\\lib\\site-packages\\sklearn\\utils\\validation.py:1688: FutureWarning: Feature names only support names that are all strings. Got feature names with dtypes: ['str', 'tuple']. An error will be raised in 1.2.\n",
      "  warnings.warn(\n",
      "c:\\ProgramData\\Anaconda3\\lib\\site-packages\\sklearn\\utils\\validation.py:993: DataConversionWarning: A column-vector y was passed when a 1d array was expected. Please change the shape of y to (n_samples, ), for example using ravel().\n",
      "  y = column_or_1d(y, warn=True)\n",
      "c:\\ProgramData\\Anaconda3\\lib\\site-packages\\sklearn\\utils\\validation.py:1688: FutureWarning: Feature names only support names that are all strings. Got feature names with dtypes: ['str', 'tuple']. An error will be raised in 1.2.\n",
      "  warnings.warn(\n"
     ]
    },
    {
     "data": {
      "image/png": "[encoded data removed]",
      "text/plain": [
       "<Figure size 1080x1296 with 1 Axes>"
      ]
     },
     "metadata": {
      "needs_background": "light"
     },
     "output_type": "display_data"
    }
   ],
   "source": [
    "#Best params:  {'C': 100, 'degree': 2, 'epsilon': 5, 'gamma': 0.1, 'kernel': 'rbf'}\n",
    "n_clusters=np.unique(Y_test)\n",
    "kmeans = KMeans(n_clusters= n_clusters.size, random_state=0)\n",
    "clusters_test = kmeans.fit_predict(X_test)\n",
    "### y_train\n",
    "n_clusters=np.unique(Y_train)\n",
    "kmeans = KMeans(n_clusters= n_clusters.size, random_state=0)\n",
    "clusters_train = kmeans.fit_predict(X_train)\n",
    "### LM_pred\n",
    "Model_LM = LinearRegression(copy_X=True, fit_intercept=True, n_jobs=1, normalize=False)\n",
    "LM_pred = Model_LM.fit(X_train, Y_train).predict(X_test)\n",
    "\n",
    "#svr \n",
    "c_val = 100\n",
    "svr_lin = SVR(kernel='linear', C=c_val)\n",
    "svr_rbf = SVR(kernel='rbf', C=c_val, gamma=0.1)\n",
    "svr_poly = SVR(kernel='poly', C=c_val, degree=2)\n",
    "SVR_Linear = svr_lin.fit(X_train,Y_train).predict(X_test)   #ค่า Linear Rbf Poly\n",
    "SVR_Rbf     = svr_rbf.fit(X_train,Y_train).predict(X_test)\n",
    "SVR_Poly = svr_poly.fit(X_train,Y_train).predict(X_test)\n",
    "\n",
    "\n",
    "plt.figure(figsize =(15, 18))\n",
    "plt.scatter(np.arange(len(LM_pred)),    LM_pred,         edgecolors='r',     alpha=0.75,s=20)\n",
    "plt.scatter(np.arange(len(Y_train)),    Y_train,       edgecolors='b',     alpha=0.75,s=2)\n",
    "plt.scatter(np.arange(len(Y_test)),     Y_test,         edgecolors='m',     alpha=0.75,s=1)\n",
    "plt.scatter(np.arange(len(SVR_Linear)), SVR_Linear,    edgecolors='y',     alpha=0.75,s=4)\n",
    "plt.scatter(np.arange(len(SVR_Rbf)),    SVR_Rbf,         edgecolors='g',     alpha=0.75,s=5)\n",
    "plt.scatter(np.arange(len(SVR_Poly)),   SVR_Poly,       edgecolors='pink',  alpha=0.75,s=6)\n",
    "\n",
    "plt.show()"
   ]
  },
  {
   "cell_type": "code",
   "execution_count": 23,
   "metadata": {},
   "outputs": [
    {
     "name": "stderr",
     "output_type": "stream",
     "text": [
      "c:\\ProgramData\\Anaconda3\\lib\\site-packages\\sklearn\\model_selection\\_search.py:292: UserWarning: The total space of parameters 4 is smaller than n_iter=10. Running 4 iterations. For exhaustive searches, use GridSearchCV.\n",
      "  warnings.warn(\n",
      "c:\\ProgramData\\Anaconda3\\lib\\site-packages\\sklearn\\linear_model\\_base.py:141: FutureWarning: 'normalize' was deprecated in version 1.0 and will be removed in 1.2.\n",
      "If you wish to scale the data, use Pipeline with a StandardScaler in a preprocessing stage. To reproduce the previous behavior:\n",
      "\n",
      "from sklearn.pipeline import make_pipeline\n",
      "\n",
      "model = make_pipeline(StandardScaler(with_mean=False), LinearRegression())\n",
      "\n",
      "If you wish to pass a sample_weight parameter, you need to pass it as a fit parameter to each step of the pipeline as follows:\n",
      "\n",
      "kwargs = {s[0] + '__sample_weight': sample_weight for s in model.steps}\n",
      "model.fit(X, y, **kwargs)\n",
      "\n",
      "\n",
      "  warnings.warn(\n",
      "c:\\ProgramData\\Anaconda3\\lib\\site-packages\\sklearn\\utils\\validation.py:1688: FutureWarning: Feature names only support names that are all strings. Got feature names with dtypes: ['str', 'tuple']. An error will be raised in 1.2.\n",
      "  warnings.warn(\n"
     ]
    },
    {
     "name": "stdout",
     "output_type": "stream",
     "text": [
      "Fitting 5 folds for each of 4 candidates, totalling 20 fits\n",
      "Fitting 5 folds for each of 10 candidates, totalling 50 fits\n"
     ]
    },
    {
     "name": "stderr",
     "output_type": "stream",
     "text": [
      "c:\\ProgramData\\Anaconda3\\lib\\site-packages\\sklearn\\utils\\validation.py:1688: FutureWarning: Feature names only support names that are all strings. Got feature names with dtypes: ['str', 'tuple']. An error will be raised in 1.2.\n",
      "  warnings.warn(\n",
      "c:\\ProgramData\\Anaconda3\\lib\\site-packages\\sklearn\\utils\\validation.py:993: DataConversionWarning: A column-vector y was passed when a 1d array was expected. Please change the shape of y to (n_samples, ), for example using ravel().\n",
      "  y = column_or_1d(y, warn=True)\n"
     ]
    }
   ],
   "source": [
    "for EST in regression:\n",
    "    model = regression[EST]\n",
    "    if (EST == 'LR'):\n",
    "        params = params_LR\n",
    "    else:\n",
    "        params = params_SVR\n",
    "\n",
    "    grid_rand = RandomizedSearchCV( \n",
    "                                    estimator=model, \n",
    "                                    n_jobs = 8,\n",
    "                                    verbose = 10,\n",
    "                                    cv = 5,\n",
    "                                    scoring = 'neg_mean_squared_error',\n",
    "                                    param_distributions = params )\n",
    "    grid_rand_result = grid_rand.fit(X_train, Y_train)"
   ]
  },
  {
   "cell_type": "code",
   "execution_count": 24,
   "metadata": {},
   "outputs": [
    {
     "name": "stdout",
     "output_type": "stream",
     "text": [
      "Best params:  {'kernel': 'linear', 'gamma': 0.01, 'epsilon': 0.1, 'degree': 3, 'C': 112.525}\n",
      "Best score:  -1082.278385873476\n"
     ]
    }
   ],
   "source": [
    "# Show Best Parameters for both models\n",
    "print('Best params: ',grid_rand_result.best_params_)\n",
    "print('Best score: ', grid_rand_result.best_score_)"
   ]
  },
  {
   "cell_type": "code",
   "execution_count": 25,
   "metadata": {},
   "outputs": [
    {
     "name": "stdout",
     "output_type": "stream",
     "text": [
      "-2433.347367 (2471.758019) with: {'kernel': 'poly', 'gamma': 0.01, 'epsilon': 0.1, 'degree': 2, 'C': 37.575}\n",
      "-2585.224144 (2562.034607) with: {'kernel': 'poly', 'gamma': 0.1, 'epsilon': 0.55, 'degree': 3, 'C': 0.1}\n",
      "-1082.278386 (895.203845) with: {'kernel': 'linear', 'gamma': 0.01, 'epsilon': 0.1, 'degree': 3, 'C': 112.525}\n",
      "-1094.736946 (877.667434) with: {'kernel': 'linear', 'gamma': 0.0325, 'epsilon': 1.0, 'degree': 2, 'C': 150.0}\n",
      "-1800.906739 (2116.591910) with: {'kernel': 'poly', 'gamma': 0.05500000000000001, 'epsilon': 0.325, 'degree': 3, 'C': 75.05}\n",
      "-1097.445615 (877.650562) with: {'kernel': 'linear', 'gamma': 0.05500000000000001, 'epsilon': 1.0, 'degree': 2, 'C': 37.575}\n",
      "-1090.428434 (880.759059) with: {'kernel': 'linear', 'gamma': 0.0775, 'epsilon': 0.775, 'degree': 3, 'C': 75.05}\n",
      "-1089.510478 (881.250546) with: {'kernel': 'linear', 'gamma': 0.1, 'epsilon': 0.775, 'degree': 3, 'C': 150.0}\n",
      "-1087.650639 (884.552188) with: {'kernel': 'linear', 'gamma': 0.1, 'epsilon': 0.55, 'degree': 3, 'C': 150.0}\n",
      "-1507.407671 (1806.806448) with: {'kernel': 'poly', 'gamma': 0.1, 'epsilon': 0.55, 'degree': 3, 'C': 75.05}\n"
     ]
    }
   ],
   "source": [
    "# Show Score for each parameter combination for both model\n",
    "means = grid_rand_result.cv_results_['mean_test_score']\n",
    "stds = grid_rand_result.cv_results_['std_test_score']\n",
    "params = grid_rand_result.cv_results_['params']\n",
    "for mean, stdev, param in zip(means, stds, params):\n",
    "    print(\"%f (%f) with: %r\" % (mean, stdev, param))"
   ]
  },
  {
   "cell_type": "markdown",
   "metadata": {},
   "source": [
    "## Display Mean, std, params"
   ]
  },
  {
   "cell_type": "code",
   "execution_count": 26,
   "metadata": {},
   "outputs": [
    {
     "data": {
      "image/png": "[encoded data removed]",
      "text/plain": [
       "<Figure size 432x288 with 1 Axes>"
      ]
     },
     "metadata": {
      "needs_background": "light"
     },
     "output_type": "display_data"
    }
   ],
   "source": [
    "# plt.bar(np.arange(len(means)),means)\n",
    "# plt.bar(np.arange(len(stds)),stds)\n",
    "# plt.bar(np.arange(len(params)),params)\n",
    "\n",
    "# set width of bars\n",
    "barWidth = 0.25\n",
    " \n",
    " \n",
    "# Set position of bar on X axis\n",
    "r1 = np.arange(len(means))\n",
    "r2 = [x + barWidth for x in r1]\n",
    " \n",
    "# Make the plot\n",
    "plt.bar(r1, means, color='#7f6d5f', width=barWidth, edgecolor='white', label='means')\n",
    "plt.bar(r2, stds, color='#557f2d', width=barWidth, edgecolor='white', label='score')\n",
    " \n",
    "# Add xticks on the middle of the group bars\n",
    "plt.xlabel('group', fontweight='bold')\n",
    "#plt.xticks([r + barWidth for r in range(len(means))], ['A', 'B', 'C', 'D', 'E'])\n",
    " \n",
    "# Create legend & Show graphic\n",
    "plt.legend()\n",
    "plt.show()\n",
    "\n"
   ]
  },
  {
   "cell_type": "code",
   "execution_count": null,
   "metadata": {},
   "outputs": [],
   "source": []
  },
  {
   "cell_type": "markdown",
   "metadata": {},
   "source": [
    "## Show scatter plot compare y_test vs each model prediction"
   ]
  },
  {
   "cell_type": "markdown",
   "metadata": {},
   "source": []
  }
 ],
 "metadata": {
  "kernelspec": {
   "display_name": "Python 3.9.12 ('base')",
   "language": "python",
   "name": "python3"
  },
  "language_info": {
   "codemirror_mode": {
    "name": "ipython",
    "version": 3
   },
   "file_extension": ".py",
   "mimetype": "text/x-python",
   "name": "python",
   "nbconvert_exporter": "python",
   "pygments_lexer": "ipython3",
   "version": "3.9.12"
  },
  "orig_nbformat": 4,
  "vscode": {
   "interpreter": {
    "hash": "ad2bdc8ecc057115af97d19610ffacc2b4e99fae6737bb82f5d7fb13d2f2c186"
   }
  }
 },
 "nbformat": 4,
 "nbformat_minor": 2
}
