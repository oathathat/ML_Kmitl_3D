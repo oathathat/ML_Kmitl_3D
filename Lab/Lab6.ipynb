{
 "cells": [
  {
   "cell_type": "code",
   "execution_count": 414,
   "metadata": {},
   "outputs": [],
   "source": [
    "import numpy as np\n",
    "import pandas as pd\n",
    "import matplotlib.pyplot as plt\n",
    "import seaborn as sns \n",
    "from sklearn import preprocessing\n",
    "from sklearn import model_selection\n",
    "from sklearn.linear_model import LinearRegression\n",
    "from sklearn.svm import SVR\n",
    "from sklearn.model_selection import train_test_split,GridSearchCV,RandomizedSearchCV\n",
    "from sklearn import metrics\n",
    "import pandas_datareader.data as web \n",
    "from time import time\n",
    "from sklearn.cluster import KMeans"
   ]
  },
  {
   "cell_type": "markdown",
   "metadata": {},
   "source": [
    "# Get Stock Data"
   ]
  },
  {
   "cell_type": "code",
   "execution_count": 415,
   "metadata": {},
   "outputs": [],
   "source": [
    "stk_tickers = ['MSFT', 'IBM', 'GOOGL']\n",
    "ccy_tickers = ['DEXJPUS', 'DEXUSUK']\n",
    "idx_tickers = ['SP500', 'DJIA', 'VIXCLS']\n",
    "stk_data = web.DataReader(stk_tickers, 'yahoo')\n",
    "ccy_data = web.DataReader(ccy_tickers, 'fred')\n",
    "idx_data = web.DataReader(idx_tickers, 'fred')"
   ]
  },
  {
   "cell_type": "code",
   "execution_count": 416,
   "metadata": {},
   "outputs": [
    {
     "name": "stdout",
     "output_type": "stream",
     "text": [
      "Attributes   Adj Close            \n",
      "Symbols          GOOGL         IBM\n",
      "Date                              \n",
      "2017-09-25   46.714001  109.942177\n",
      "2017-09-26   46.871498  110.462234\n",
      "2017-09-27   47.994999  109.783890\n",
      "2017-09-28   48.240501  109.783890\n",
      "2017-09-29   48.686001  109.346748\n",
      "...                ...         ...\n",
      "2022-09-16  102.800003  127.269997\n",
      "2022-09-19  103.070000  127.730003\n",
      "2022-09-20  101.139999  126.300003\n",
      "2022-09-21   99.279999  124.930000\n",
      "2022-09-22  100.139999  125.309998\n",
      "\n",
      "[1258 rows x 2 columns]\n",
      "            DEXJPUS  DEXUSUK\n",
      "DATE                        \n",
      "2017-09-25   111.64   1.3457\n",
      "2017-09-26   112.16   1.3422\n",
      "2017-09-27   112.76   1.3401\n",
      "2017-09-28   112.66   1.3435\n",
      "2017-09-29   112.64   1.3402\n",
      "...             ...      ...\n",
      "2022-09-12   142.41   1.1701\n",
      "2022-09-13   144.30   1.1526\n",
      "2022-09-14   142.93   1.1564\n",
      "2022-09-15   143.57   1.1472\n",
      "2022-09-16   143.04   1.1419\n",
      "\n",
      "[1300 rows x 2 columns]\n",
      "            DEXJPUS  DEXUSUK\n",
      "DATE                        \n",
      "2017-09-25   111.64   1.3457\n",
      "2017-09-26   112.16   1.3422\n",
      "2017-09-27   112.76   1.3401\n",
      "2017-09-28   112.66   1.3435\n",
      "2017-09-29   112.64   1.3402\n",
      "...             ...      ...\n",
      "2022-09-12   142.41   1.1701\n",
      "2022-09-13   144.30   1.1526\n",
      "2022-09-14   142.93   1.1564\n",
      "2022-09-15   143.57   1.1472\n",
      "2022-09-16   143.04   1.1419\n",
      "\n",
      "[1300 rows x 2 columns]\n"
     ]
    }
   ],
   "source": [
    "#Select columns\n",
    "base = stk_data.loc[:, ('Adj Close', 'MSFT')]\n",
    "X1 = stk_data.loc[:, ('Adj Close', ('GOOGL', 'IBM'))]\n",
    "X2 = ccy_data\n",
    "X3 = idx_data\n",
    "print(X1)\n",
    "print(X2)\n",
    "print(X2)"
   ]
  },
  {
   "cell_type": "code",
   "execution_count": 417,
   "metadata": {},
   "outputs": [],
   "source": [
    "#Standardized data (X1, X2, X3) with kept index (date)\n",
    "standard_scaler = preprocessing.StandardScaler()\n",
    "sX1 = standard_scaler.fit_transform(X1.values)\n",
    "sX2 = standard_scaler.fit_transform(X2.values)\n",
    "sX3 = standard_scaler.fit_transform(X3.values)\n",
    "X1 = pd.DataFrame(index = X1.index,data = sX1,columns=X1.columns)\n",
    "X2 = pd.DataFrame(index = X2.index,data = sX2,columns=X2.columns)\n",
    "X3 = pd.DataFrame(index = X3.index,data = sX3,columns=X3.columns)"
   ]
  },
  {
   "cell_type": "markdown",
   "metadata": {},
   "source": [
    "## Calculate ความแตกต่างของค่า ราคา 'Adj Close', 'MSFT’)ย้อนหลัง backHistory วัน"
   ]
  },
  {
   "cell_type": "code",
   "execution_count": 418,
   "metadata": {},
   "outputs": [],
   "source": [
    "\n",
    "backHistory = [30, 45, 60, 90, 180, 240] #-> ทดลองหยิบ 3 ค่า 3 รูปแบบ เพื่อดูระยะเวลาการดูค่าข้อมูลย้อนหลงัหลายๆแบบและเปรียบเทียบ MSE\n",
    "BH1, BH2, BH3 = backHistory[1], backHistory[3], backHistory[4]\n",
    "return_period = 2\n",
    "Y = base.shift(-return_period)\n",
    "X4_BH1 = base.diff( BH1).shift( - BH1)\n",
    "X4_BH2 = base.diff( BH2).shift( - BH2)\n",
    "X4_BH3 = base.diff( BH3).shift( - BH3)\n",
    "\n",
    "X4 = pd.concat([X4_BH1, X4_BH2, X4_BH3], axis=1)\n",
    "X4.columns = ['MSFT_3DT', 'MSFT_6DT', 'MSFT_12DT']\n",
    "X4 = pd.DataFrame(standard_scaler.fit_transform(X4.values), index = X4.index,columns=X4.columns)"
   ]
  },
  {
   "cell_type": "code",
   "execution_count": 419,
   "metadata": {},
   "outputs": [
    {
     "data": {
      "text/html": [
       "<div>\n",
       "<style scoped>\n",
       "    .dataframe tbody tr th:only-of-type {\n",
       "        vertical-align: middle;\n",
       "    }\n",
       "\n",
       "    .dataframe tbody tr th {\n",
       "        vertical-align: top;\n",
       "    }\n",
       "\n",
       "    .dataframe thead th {\n",
       "        text-align: right;\n",
       "    }\n",
       "</style>\n",
       "<table border=\"1\" class=\"dataframe\">\n",
       "  <thead>\n",
       "    <tr style=\"text-align: right;\">\n",
       "      <th></th>\n",
       "      <th>(Adj Close, MSFT)</th>\n",
       "      <th>(Adj Close, GOOGL)</th>\n",
       "      <th>(Adj Close, IBM)</th>\n",
       "      <th>DEXJPUS</th>\n",
       "      <th>DEXUSUK</th>\n",
       "      <th>SP500</th>\n",
       "      <th>DJIA</th>\n",
       "      <th>VIXCLS</th>\n",
       "      <th>MSFT_3DT</th>\n",
       "      <th>MSFT_6DT</th>\n",
       "      <th>MSFT_12DT</th>\n",
       "    </tr>\n",
       "  </thead>\n",
       "  <tbody>\n",
       "    <tr>\n",
       "      <th>count</th>\n",
       "      <td>1061.000000</td>\n",
       "      <td>1061.000000</td>\n",
       "      <td>1061.000000</td>\n",
       "      <td>1061.000000</td>\n",
       "      <td>1061.000000</td>\n",
       "      <td>1061.000000</td>\n",
       "      <td>1061.000000</td>\n",
       "      <td>1061.000000</td>\n",
       "      <td>1061.000000</td>\n",
       "      <td>1061.000000</td>\n",
       "      <td>1061.000000</td>\n",
       "    </tr>\n",
       "    <tr>\n",
       "      <th>mean</th>\n",
       "      <td>165.971046</td>\n",
       "      <td>-0.205567</td>\n",
       "      <td>-0.223126</td>\n",
       "      <td>-0.338575</td>\n",
       "      <td>0.130736</td>\n",
       "      <td>-0.198329</td>\n",
       "      <td>-0.185340</td>\n",
       "      <td>-0.101468</td>\n",
       "      <td>0.126929</td>\n",
       "      <td>0.151355</td>\n",
       "      <td>0.001336</td>\n",
       "    </tr>\n",
       "    <tr>\n",
       "      <th>std</th>\n",
       "      <td>73.329605</td>\n",
       "      <td>0.921420</td>\n",
       "      <td>0.874173</td>\n",
       "      <td>0.357050</td>\n",
       "      <td>0.913578</td>\n",
       "      <td>0.932024</td>\n",
       "      <td>0.950729</td>\n",
       "      <td>1.034052</td>\n",
       "      <td>0.889823</td>\n",
       "      <td>0.875896</td>\n",
       "      <td>0.994072</td>\n",
       "    </tr>\n",
       "    <tr>\n",
       "      <th>min</th>\n",
       "      <td>69.393150</td>\n",
       "      <td>-1.159659</td>\n",
       "      <td>-3.287446</td>\n",
       "      <td>-1.214892</td>\n",
       "      <td>-2.751596</td>\n",
       "      <td>-1.664437</td>\n",
       "      <td>-2.424575</td>\n",
       "      <td>-1.308869</td>\n",
       "      <td>-3.832301</td>\n",
       "      <td>-3.763462</td>\n",
       "      <td>-3.677681</td>\n",
       "    </tr>\n",
       "    <tr>\n",
       "      <th>25%</th>\n",
       "      <td>102.842392</td>\n",
       "      <td>-0.862360</td>\n",
       "      <td>-0.698881</td>\n",
       "      <td>-0.593148</td>\n",
       "      <td>-0.461011</td>\n",
       "      <td>-0.902425</td>\n",
       "      <td>-0.865630</td>\n",
       "      <td>-0.779002</td>\n",
       "      <td>-0.269088</td>\n",
       "      <td>-0.231870</td>\n",
       "      <td>-0.412160</td>\n",
       "    </tr>\n",
       "    <tr>\n",
       "      <th>50%</th>\n",
       "      <td>140.505402</td>\n",
       "      <td>-0.647902</td>\n",
       "      <td>-0.249133</td>\n",
       "      <td>-0.326500</td>\n",
       "      <td>0.052543</td>\n",
       "      <td>-0.590820</td>\n",
       "      <td>-0.511267</td>\n",
       "      <td>-0.362019</td>\n",
       "      <td>0.091079</td>\n",
       "      <td>0.087754</td>\n",
       "      <td>0.053586</td>\n",
       "    </tr>\n",
       "    <tr>\n",
       "      <th>75%</th>\n",
       "      <td>214.685989</td>\n",
       "      <td>0.139127</td>\n",
       "      <td>0.261193</td>\n",
       "      <td>-0.081964</td>\n",
       "      <td>0.885793</td>\n",
       "      <td>0.416528</td>\n",
       "      <td>0.346992</td>\n",
       "      <td>0.232355</td>\n",
       "      <td>0.532476</td>\n",
       "      <td>0.590201</td>\n",
       "      <td>0.625638</td>\n",
       "    </tr>\n",
       "    <tr>\n",
       "      <th>max</th>\n",
       "      <td>340.882782</td>\n",
       "      <td>2.106610</td>\n",
       "      <td>1.897336</td>\n",
       "      <td>0.554088</td>\n",
       "      <td>2.077850</td>\n",
       "      <td>2.055518</td>\n",
       "      <td>1.992947</td>\n",
       "      <td>7.163257</td>\n",
       "      <td>2.577556</td>\n",
       "      <td>2.210592</td>\n",
       "      <td>2.421412</td>\n",
       "    </tr>\n",
       "  </tbody>\n",
       "</table>\n",
       "</div>"
      ],
      "text/plain": [
       "       (Adj Close, MSFT)  (Adj Close, GOOGL)  (Adj Close, IBM)      DEXJPUS  \\\n",
       "count        1061.000000         1061.000000       1061.000000  1061.000000   \n",
       "mean          165.971046           -0.205567         -0.223126    -0.338575   \n",
       "std            73.329605            0.921420          0.874173     0.357050   \n",
       "min            69.393150           -1.159659         -3.287446    -1.214892   \n",
       "25%           102.842392           -0.862360         -0.698881    -0.593148   \n",
       "50%           140.505402           -0.647902         -0.249133    -0.326500   \n",
       "75%           214.685989            0.139127          0.261193    -0.081964   \n",
       "max           340.882782            2.106610          1.897336     0.554088   \n",
       "\n",
       "           DEXUSUK        SP500         DJIA       VIXCLS     MSFT_3DT  \\\n",
       "count  1061.000000  1061.000000  1061.000000  1061.000000  1061.000000   \n",
       "mean      0.130736    -0.198329    -0.185340    -0.101468     0.126929   \n",
       "std       0.913578     0.932024     0.950729     1.034052     0.889823   \n",
       "min      -2.751596    -1.664437    -2.424575    -1.308869    -3.832301   \n",
       "25%      -0.461011    -0.902425    -0.865630    -0.779002    -0.269088   \n",
       "50%       0.052543    -0.590820    -0.511267    -0.362019     0.091079   \n",
       "75%       0.885793     0.416528     0.346992     0.232355     0.532476   \n",
       "max       2.077850     2.055518     1.992947     7.163257     2.577556   \n",
       "\n",
       "          MSFT_6DT    MSFT_12DT  \n",
       "count  1061.000000  1061.000000  \n",
       "mean      0.151355     0.001336  \n",
       "std       0.875896     0.994072  \n",
       "min      -3.763462    -3.677681  \n",
       "25%      -0.231870    -0.412160  \n",
       "50%       0.087754     0.053586  \n",
       "75%       0.590201     0.625638  \n",
       "max       2.210592     2.421412  "
      ]
     },
     "execution_count": 419,
     "metadata": {},
     "output_type": "execute_result"
    }
   ],
   "source": [
    "# Forming Dataset\n",
    "X = pd.concat([X1, X2, X3, X4], axis=1)\n",
    "dataset = pd.concat([Y, X], axis=1)\n",
    "dataset.dropna(inplace=True)\n",
    "dataset.describe()"
   ]
  },
  {
   "cell_type": "code",
   "execution_count": 420,
   "metadata": {},
   "outputs": [
    {
     "name": "stdout",
     "output_type": "stream",
     "text": [
      "             Adj Close\n",
      "                  MSFT\n",
      "2017-09-25   69.393150\n",
      "2017-09-26   69.411926\n",
      "2017-09-27   69.994514\n",
      "2017-09-28   70.107277\n",
      "2017-09-29   69.778404\n",
      "...                ...\n",
      "2021-12-28  337.117401\n",
      "2021-12-29  334.136902\n",
      "2021-12-30  332.577057\n",
      "2022-01-03  314.326324\n",
      "2022-01-04  311.842529\n",
      "\n",
      "[1061 rows x 1 columns]\n",
      "            (Adj Close, GOOGL)  (Adj Close, IBM)   DEXJPUS   DEXUSUK  \\\n",
      "2017-09-25           -1.159659         -0.510343 -0.028635  0.589904   \n",
      "2017-09-26           -1.154671         -0.462353  0.039003  0.530386   \n",
      "2017-09-27           -1.119086         -0.524949  0.117046  0.494676   \n",
      "2017-09-28           -1.111310         -0.524949  0.104039  0.552493   \n",
      "2017-09-29           -1.097200         -0.565287  0.101437  0.496376   \n",
      "...                        ...               ...       ...       ...   \n",
      "2021-12-28            2.006792          1.143959  0.375889  0.547391   \n",
      "2021-12-29            2.005779          1.208015  0.404505  0.620513   \n",
      "2021-12-30            1.991384          1.257836  0.430520  0.663026   \n",
      "2022-01-03            1.953091          1.447330  0.443527  0.610310   \n",
      "2022-01-04            1.934341          1.623483  0.554088  0.737848   \n",
      "\n",
      "               SP500      DJIA    VIXCLS  MSFT_3DT  MSFT_6DT  MSFT_12DT  \n",
      "2017-09-25 -1.287581 -1.525879 -1.185618  0.238229  0.144408  -0.149238  \n",
      "2017-09-26 -1.287320 -1.528735 -1.190225  0.154571 -0.000609  -0.133561  \n",
      "2017-09-27 -1.272493 -1.515053 -1.224782  0.167769  0.104621  -0.185041  \n",
      "2017-09-28 -1.268103 -1.505230 -1.261642  0.171577  0.037872  -0.165506  \n",
      "2017-09-29 -1.254585 -1.499434 -1.266250 -0.034679 -0.162271  -0.182321  \n",
      "...              ...       ...       ...       ...       ...        ...  \n",
      "2021-12-28  2.040676  1.895550 -0.341285 -2.968482 -3.242002  -3.639137  \n",
      "2021-12-29  2.050430  1.917488 -0.409246 -3.355530 -3.680764  -3.677681  \n",
      "2021-12-30  2.029600  1.895518 -0.365474 -3.832301 -3.375628  -3.608616  \n",
      "2022-01-03  2.055518  1.940883 -0.449562 -3.021936 -3.763462  -3.638334  \n",
      "2022-01-04  2.051128  1.992947 -0.413853 -2.860552 -3.298432  -3.415155  \n",
      "\n",
      "[1061 rows x 10 columns]\n"
     ]
    }
   ],
   "source": [
    "# Assign X, Y (drop datetime index)\n",
    "Y = pd.DataFrame(dataset[dataset.columns[0]])\n",
    "X = pd.DataFrame(dataset[dataset.columns[1:]])\n",
    "print(Y)\n",
    "print(X)"
   ]
  },
  {
   "cell_type": "code",
   "execution_count": 421,
   "metadata": {},
   "outputs": [
    {
     "data": {
      "text/html": [
       "<div>\n",
       "<style scoped>\n",
       "    .dataframe tbody tr th:only-of-type {\n",
       "        vertical-align: middle;\n",
       "    }\n",
       "\n",
       "    .dataframe tbody tr th {\n",
       "        vertical-align: top;\n",
       "    }\n",
       "\n",
       "    .dataframe thead th {\n",
       "        text-align: right;\n",
       "    }\n",
       "</style>\n",
       "<table border=\"1\" class=\"dataframe\">\n",
       "  <thead>\n",
       "    <tr style=\"text-align: right;\">\n",
       "      <th></th>\n",
       "      <th>(Adj Close, GOOGL)</th>\n",
       "      <th>(Adj Close, IBM)</th>\n",
       "      <th>DEXJPUS</th>\n",
       "      <th>DEXUSUK</th>\n",
       "      <th>SP500</th>\n",
       "      <th>DJIA</th>\n",
       "      <th>VIXCLS</th>\n",
       "      <th>MSFT_3DT</th>\n",
       "      <th>MSFT_6DT</th>\n",
       "      <th>MSFT_12DT</th>\n",
       "    </tr>\n",
       "  </thead>\n",
       "  <tbody>\n",
       "    <tr>\n",
       "      <th>(Adj Close, GOOGL)</th>\n",
       "      <td>1.000000</td>\n",
       "      <td>0.486192</td>\n",
       "      <td>0.094845</td>\n",
       "      <td>0.483430</td>\n",
       "      <td>0.982740</td>\n",
       "      <td>0.952258</td>\n",
       "      <td>0.047198</td>\n",
       "      <td>0.040460</td>\n",
       "      <td>-0.059934</td>\n",
       "      <td>-0.370752</td>\n",
       "    </tr>\n",
       "    <tr>\n",
       "      <th>(Adj Close, IBM)</th>\n",
       "      <td>0.486192</td>\n",
       "      <td>1.000000</td>\n",
       "      <td>0.236112</td>\n",
       "      <td>0.588217</td>\n",
       "      <td>0.506262</td>\n",
       "      <td>0.589115</td>\n",
       "      <td>-0.532156</td>\n",
       "      <td>-0.002491</td>\n",
       "      <td>-0.047912</td>\n",
       "      <td>-0.375536</td>\n",
       "    </tr>\n",
       "    <tr>\n",
       "      <th>DEXJPUS</th>\n",
       "      <td>0.094845</td>\n",
       "      <td>0.236112</td>\n",
       "      <td>1.000000</td>\n",
       "      <td>0.077120</td>\n",
       "      <td>0.011478</td>\n",
       "      <td>0.057563</td>\n",
       "      <td>-0.407793</td>\n",
       "      <td>-0.287386</td>\n",
       "      <td>-0.428954</td>\n",
       "      <td>-0.575813</td>\n",
       "    </tr>\n",
       "    <tr>\n",
       "      <th>DEXUSUK</th>\n",
       "      <td>0.483430</td>\n",
       "      <td>0.588217</td>\n",
       "      <td>0.077120</td>\n",
       "      <td>1.000000</td>\n",
       "      <td>0.486225</td>\n",
       "      <td>0.528740</td>\n",
       "      <td>-0.304232</td>\n",
       "      <td>0.063434</td>\n",
       "      <td>0.026694</td>\n",
       "      <td>-0.199002</td>\n",
       "    </tr>\n",
       "    <tr>\n",
       "      <th>SP500</th>\n",
       "      <td>0.982740</td>\n",
       "      <td>0.506262</td>\n",
       "      <td>0.011478</td>\n",
       "      <td>0.486225</td>\n",
       "      <td>1.000000</td>\n",
       "      <td>0.982879</td>\n",
       "      <td>0.002491</td>\n",
       "      <td>0.011353</td>\n",
       "      <td>-0.035838</td>\n",
       "      <td>-0.281078</td>\n",
       "    </tr>\n",
       "    <tr>\n",
       "      <th>DJIA</th>\n",
       "      <td>0.952258</td>\n",
       "      <td>0.589115</td>\n",
       "      <td>0.057563</td>\n",
       "      <td>0.528740</td>\n",
       "      <td>0.982879</td>\n",
       "      <td>1.000000</td>\n",
       "      <td>-0.126383</td>\n",
       "      <td>-0.007451</td>\n",
       "      <td>-0.029897</td>\n",
       "      <td>-0.270801</td>\n",
       "    </tr>\n",
       "    <tr>\n",
       "      <th>VIXCLS</th>\n",
       "      <td>0.047198</td>\n",
       "      <td>-0.532156</td>\n",
       "      <td>-0.407793</td>\n",
       "      <td>-0.304232</td>\n",
       "      <td>0.002491</td>\n",
       "      <td>-0.126383</td>\n",
       "      <td>1.000000</td>\n",
       "      <td>0.284879</td>\n",
       "      <td>0.338162</td>\n",
       "      <td>0.259857</td>\n",
       "    </tr>\n",
       "    <tr>\n",
       "      <th>MSFT_3DT</th>\n",
       "      <td>0.040460</td>\n",
       "      <td>-0.002491</td>\n",
       "      <td>-0.287386</td>\n",
       "      <td>0.063434</td>\n",
       "      <td>0.011353</td>\n",
       "      <td>-0.007451</td>\n",
       "      <td>0.284879</td>\n",
       "      <td>1.000000</td>\n",
       "      <td>0.654932</td>\n",
       "      <td>0.389448</td>\n",
       "    </tr>\n",
       "    <tr>\n",
       "      <th>MSFT_6DT</th>\n",
       "      <td>-0.059934</td>\n",
       "      <td>-0.047912</td>\n",
       "      <td>-0.428954</td>\n",
       "      <td>0.026694</td>\n",
       "      <td>-0.035838</td>\n",
       "      <td>-0.029897</td>\n",
       "      <td>0.338162</td>\n",
       "      <td>0.654932</td>\n",
       "      <td>1.000000</td>\n",
       "      <td>0.671268</td>\n",
       "    </tr>\n",
       "    <tr>\n",
       "      <th>MSFT_12DT</th>\n",
       "      <td>-0.370752</td>\n",
       "      <td>-0.375536</td>\n",
       "      <td>-0.575813</td>\n",
       "      <td>-0.199002</td>\n",
       "      <td>-0.281078</td>\n",
       "      <td>-0.270801</td>\n",
       "      <td>0.259857</td>\n",
       "      <td>0.389448</td>\n",
       "      <td>0.671268</td>\n",
       "      <td>1.000000</td>\n",
       "    </tr>\n",
       "  </tbody>\n",
       "</table>\n",
       "</div>"
      ],
      "text/plain": [
       "                    (Adj Close, GOOGL)  (Adj Close, IBM)   DEXJPUS   DEXUSUK  \\\n",
       "(Adj Close, GOOGL)            1.000000          0.486192  0.094845  0.483430   \n",
       "(Adj Close, IBM)              0.486192          1.000000  0.236112  0.588217   \n",
       "DEXJPUS                       0.094845          0.236112  1.000000  0.077120   \n",
       "DEXUSUK                       0.483430          0.588217  0.077120  1.000000   \n",
       "SP500                         0.982740          0.506262  0.011478  0.486225   \n",
       "DJIA                          0.952258          0.589115  0.057563  0.528740   \n",
       "VIXCLS                        0.047198         -0.532156 -0.407793 -0.304232   \n",
       "MSFT_3DT                      0.040460         -0.002491 -0.287386  0.063434   \n",
       "MSFT_6DT                     -0.059934         -0.047912 -0.428954  0.026694   \n",
       "MSFT_12DT                    -0.370752         -0.375536 -0.575813 -0.199002   \n",
       "\n",
       "                       SP500      DJIA    VIXCLS  MSFT_3DT  MSFT_6DT  \\\n",
       "(Adj Close, GOOGL)  0.982740  0.952258  0.047198  0.040460 -0.059934   \n",
       "(Adj Close, IBM)    0.506262  0.589115 -0.532156 -0.002491 -0.047912   \n",
       "DEXJPUS             0.011478  0.057563 -0.407793 -0.287386 -0.428954   \n",
       "DEXUSUK             0.486225  0.528740 -0.304232  0.063434  0.026694   \n",
       "SP500               1.000000  0.982879  0.002491  0.011353 -0.035838   \n",
       "DJIA                0.982879  1.000000 -0.126383 -0.007451 -0.029897   \n",
       "VIXCLS              0.002491 -0.126383  1.000000  0.284879  0.338162   \n",
       "MSFT_3DT            0.011353 -0.007451  0.284879  1.000000  0.654932   \n",
       "MSFT_6DT           -0.035838 -0.029897  0.338162  0.654932  1.000000   \n",
       "MSFT_12DT          -0.281078 -0.270801  0.259857  0.389448  0.671268   \n",
       "\n",
       "                    MSFT_12DT  \n",
       "(Adj Close, GOOGL)  -0.370752  \n",
       "(Adj Close, IBM)    -0.375536  \n",
       "DEXJPUS             -0.575813  \n",
       "DEXUSUK             -0.199002  \n",
       "SP500               -0.281078  \n",
       "DJIA                -0.270801  \n",
       "VIXCLS               0.259857  \n",
       "MSFT_3DT             0.389448  \n",
       "MSFT_6DT             0.671268  \n",
       "MSFT_12DT            1.000000  "
      ]
     },
     "execution_count": 421,
     "metadata": {},
     "output_type": "execute_result"
    }
   ],
   "source": [
    "X.corr()"
   ]
  },
  {
   "cell_type": "code",
   "execution_count": 422,
   "metadata": {},
   "outputs": [
    {
     "data": {
      "text/plain": [
       "[('Adj Close', 'GOOGL'), 'SP500']"
      ]
     },
     "execution_count": 422,
     "metadata": {},
     "output_type": "execute_result"
    }
   ],
   "source": [
    "lower = pd.DataFrame(np.tril(X.corr(),-1),columns = X.columns)\n",
    "to_drop = [column for column in lower.columns if any(lower[column] > 0.9)]\n",
    "X.drop(columns=to_drop,inplace=True)\n",
    "to_drop"
   ]
  },
  {
   "cell_type": "code",
   "execution_count": 423,
   "metadata": {},
   "outputs": [
    {
     "data": {
      "text/html": [
       "<div>\n",
       "<style scoped>\n",
       "    .dataframe tbody tr th:only-of-type {\n",
       "        vertical-align: middle;\n",
       "    }\n",
       "\n",
       "    .dataframe tbody tr th {\n",
       "        vertical-align: top;\n",
       "    }\n",
       "\n",
       "    .dataframe thead th {\n",
       "        text-align: right;\n",
       "    }\n",
       "</style>\n",
       "<table border=\"1\" class=\"dataframe\">\n",
       "  <thead>\n",
       "    <tr style=\"text-align: right;\">\n",
       "      <th></th>\n",
       "      <th>(Adj Close, IBM)</th>\n",
       "      <th>DEXJPUS</th>\n",
       "      <th>DEXUSUK</th>\n",
       "      <th>DJIA</th>\n",
       "      <th>VIXCLS</th>\n",
       "      <th>MSFT_3DT</th>\n",
       "      <th>MSFT_6DT</th>\n",
       "      <th>MSFT_12DT</th>\n",
       "    </tr>\n",
       "  </thead>\n",
       "  <tbody>\n",
       "    <tr>\n",
       "      <th>2017-09-25</th>\n",
       "      <td>-0.510343</td>\n",
       "      <td>-0.028635</td>\n",
       "      <td>0.589904</td>\n",
       "      <td>-1.525879</td>\n",
       "      <td>-1.185618</td>\n",
       "      <td>0.238229</td>\n",
       "      <td>0.144408</td>\n",
       "      <td>-0.149238</td>\n",
       "    </tr>\n",
       "    <tr>\n",
       "      <th>2017-09-26</th>\n",
       "      <td>-0.462353</td>\n",
       "      <td>0.039003</td>\n",
       "      <td>0.530386</td>\n",
       "      <td>-1.528735</td>\n",
       "      <td>-1.190225</td>\n",
       "      <td>0.154571</td>\n",
       "      <td>-0.000609</td>\n",
       "      <td>-0.133561</td>\n",
       "    </tr>\n",
       "    <tr>\n",
       "      <th>2017-09-27</th>\n",
       "      <td>-0.524949</td>\n",
       "      <td>0.117046</td>\n",
       "      <td>0.494676</td>\n",
       "      <td>-1.515053</td>\n",
       "      <td>-1.224782</td>\n",
       "      <td>0.167769</td>\n",
       "      <td>0.104621</td>\n",
       "      <td>-0.185041</td>\n",
       "    </tr>\n",
       "    <tr>\n",
       "      <th>2017-09-28</th>\n",
       "      <td>-0.524949</td>\n",
       "      <td>0.104039</td>\n",
       "      <td>0.552493</td>\n",
       "      <td>-1.505230</td>\n",
       "      <td>-1.261642</td>\n",
       "      <td>0.171577</td>\n",
       "      <td>0.037872</td>\n",
       "      <td>-0.165506</td>\n",
       "    </tr>\n",
       "    <tr>\n",
       "      <th>2017-09-29</th>\n",
       "      <td>-0.565287</td>\n",
       "      <td>0.101437</td>\n",
       "      <td>0.496376</td>\n",
       "      <td>-1.499434</td>\n",
       "      <td>-1.266250</td>\n",
       "      <td>-0.034679</td>\n",
       "      <td>-0.162271</td>\n",
       "      <td>-0.182321</td>\n",
       "    </tr>\n",
       "    <tr>\n",
       "      <th>...</th>\n",
       "      <td>...</td>\n",
       "      <td>...</td>\n",
       "      <td>...</td>\n",
       "      <td>...</td>\n",
       "      <td>...</td>\n",
       "      <td>...</td>\n",
       "      <td>...</td>\n",
       "      <td>...</td>\n",
       "    </tr>\n",
       "    <tr>\n",
       "      <th>2021-12-28</th>\n",
       "      <td>1.143959</td>\n",
       "      <td>0.375889</td>\n",
       "      <td>0.547391</td>\n",
       "      <td>1.895550</td>\n",
       "      <td>-0.341285</td>\n",
       "      <td>-2.968482</td>\n",
       "      <td>-3.242002</td>\n",
       "      <td>-3.639137</td>\n",
       "    </tr>\n",
       "    <tr>\n",
       "      <th>2021-12-29</th>\n",
       "      <td>1.208015</td>\n",
       "      <td>0.404505</td>\n",
       "      <td>0.620513</td>\n",
       "      <td>1.917488</td>\n",
       "      <td>-0.409246</td>\n",
       "      <td>-3.355530</td>\n",
       "      <td>-3.680764</td>\n",
       "      <td>-3.677681</td>\n",
       "    </tr>\n",
       "    <tr>\n",
       "      <th>2021-12-30</th>\n",
       "      <td>1.257836</td>\n",
       "      <td>0.430520</td>\n",
       "      <td>0.663026</td>\n",
       "      <td>1.895518</td>\n",
       "      <td>-0.365474</td>\n",
       "      <td>-3.832301</td>\n",
       "      <td>-3.375628</td>\n",
       "      <td>-3.608616</td>\n",
       "    </tr>\n",
       "    <tr>\n",
       "      <th>2022-01-03</th>\n",
       "      <td>1.447330</td>\n",
       "      <td>0.443527</td>\n",
       "      <td>0.610310</td>\n",
       "      <td>1.940883</td>\n",
       "      <td>-0.449562</td>\n",
       "      <td>-3.021936</td>\n",
       "      <td>-3.763462</td>\n",
       "      <td>-3.638334</td>\n",
       "    </tr>\n",
       "    <tr>\n",
       "      <th>2022-01-04</th>\n",
       "      <td>1.623483</td>\n",
       "      <td>0.554088</td>\n",
       "      <td>0.737848</td>\n",
       "      <td>1.992947</td>\n",
       "      <td>-0.413853</td>\n",
       "      <td>-2.860552</td>\n",
       "      <td>-3.298432</td>\n",
       "      <td>-3.415155</td>\n",
       "    </tr>\n",
       "  </tbody>\n",
       "</table>\n",
       "<p>1061 rows × 8 columns</p>\n",
       "</div>"
      ],
      "text/plain": [
       "            (Adj Close, IBM)   DEXJPUS   DEXUSUK      DJIA    VIXCLS  \\\n",
       "2017-09-25         -0.510343 -0.028635  0.589904 -1.525879 -1.185618   \n",
       "2017-09-26         -0.462353  0.039003  0.530386 -1.528735 -1.190225   \n",
       "2017-09-27         -0.524949  0.117046  0.494676 -1.515053 -1.224782   \n",
       "2017-09-28         -0.524949  0.104039  0.552493 -1.505230 -1.261642   \n",
       "2017-09-29         -0.565287  0.101437  0.496376 -1.499434 -1.266250   \n",
       "...                      ...       ...       ...       ...       ...   \n",
       "2021-12-28          1.143959  0.375889  0.547391  1.895550 -0.341285   \n",
       "2021-12-29          1.208015  0.404505  0.620513  1.917488 -0.409246   \n",
       "2021-12-30          1.257836  0.430520  0.663026  1.895518 -0.365474   \n",
       "2022-01-03          1.447330  0.443527  0.610310  1.940883 -0.449562   \n",
       "2022-01-04          1.623483  0.554088  0.737848  1.992947 -0.413853   \n",
       "\n",
       "            MSFT_3DT  MSFT_6DT  MSFT_12DT  \n",
       "2017-09-25  0.238229  0.144408  -0.149238  \n",
       "2017-09-26  0.154571 -0.000609  -0.133561  \n",
       "2017-09-27  0.167769  0.104621  -0.185041  \n",
       "2017-09-28  0.171577  0.037872  -0.165506  \n",
       "2017-09-29 -0.034679 -0.162271  -0.182321  \n",
       "...              ...       ...        ...  \n",
       "2021-12-28 -2.968482 -3.242002  -3.639137  \n",
       "2021-12-29 -3.355530 -3.680764  -3.677681  \n",
       "2021-12-30 -3.832301 -3.375628  -3.608616  \n",
       "2022-01-03 -3.021936 -3.763462  -3.638334  \n",
       "2022-01-04 -2.860552 -3.298432  -3.415155  \n",
       "\n",
       "[1061 rows x 8 columns]"
      ]
     },
     "execution_count": 423,
     "metadata": {},
     "output_type": "execute_result"
    }
   ],
   "source": [
    "X"
   ]
  },
  {
   "cell_type": "markdown",
   "metadata": {},
   "source": [
    "# Train / Test Preparation (try 2 Option)    "
   ]
  },
  {
   "cell_type": "code",
   "execution_count": 424,
   "metadata": {},
   "outputs": [
    {
     "name": "stdout",
     "output_type": "stream",
     "text": [
      "test size = 318\n",
      "train size = 742\n"
     ]
    }
   ],
   "source": [
    "from math import ceil, floor\n",
    "test_size = floor(0.3 * len( X ))\n",
    "train_size = floor(0.7 * len( X ))\n",
    "print(f'test size = {test_size}\\ntrain size = {train_size}')\n",
    "X_train, X_test = X[0:train_size], X[train_size:len(X)]\n",
    "Y_train, Y_test = Y[0:train_size], Y[train_size:len(X)]\n",
    "# Option #2\n",
    "# X_train2, X_test2, y_train2, y_test2 = model_selection.train_test_split(X, Y, test_size=0.3, random_state=seed)"
   ]
  },
  {
   "cell_type": "markdown",
   "metadata": {},
   "source": [
    "# 6.2 GridSearchCV()"
   ]
  },
  {
   "cell_type": "code",
   "execution_count": 425,
   "metadata": {},
   "outputs": [
    {
     "name": "stdout",
     "output_type": "stream",
     "text": [
      "{'fit_intercept': [True, False], 'normalize': [True, False]}\n"
     ]
    }
   ],
   "source": [
    "# Create Model List\n",
    "regression = { 'LR': LinearRegression(), 'SVR': SVR(), }\n",
    "# Create Parameter Dictionary for Linear Regression\n",
    "fit_intercept = [True, False]\n",
    "normalize = [True, False]\n",
    "params_LR = dict( fit_intercept = fit_intercept, normalize = normalize)\n",
    "print(params_LR)"
   ]
  },
  {
   "cell_type": "code",
   "execution_count": 426,
   "metadata": {},
   "outputs": [],
   "source": [
    "#Create Parameter Dictionary for SVR\n",
    "kernel = ['linear', 'rbf', 'poly']\n",
    "C_list = [10, 100]\n",
    "ep_list = [0.1, 1, 5]\n",
    "gamma = [0.01, 0.1]\n",
    "degree = [2, 3]       #3x2x3x2x2 = 72\n",
    "params_SVR = dict( kernel = kernel, C = C_list, epsilon = ep_list, gamma = gamma, degree = degree )"
   ]
  },
  {
   "cell_type": "code",
   "execution_count": 427,
   "metadata": {},
   "outputs": [
    {
     "name": "stdout",
     "output_type": "stream",
     "text": [
      "Fitting 5 folds for each of 4 candidates, totalling 20 fits\n",
      "Fitting 5 folds for each of 72 candidates, totalling 360 fits\n"
     ]
    }
   ],
   "source": [
    "for EST in regression:\n",
    "    model = regression[EST]\n",
    "    if (EST == 'LR'):\n",
    "        params = params_LR\n",
    "    else:\n",
    "        params = params_SVR\n",
    "\n",
    "    grid = GridSearchCV( \n",
    "    estimator=model,                        #model\n",
    "    n_jobs = 8,                             #thread ที่ใช้               \n",
    "    verbose = 10,                           #ความละเอียดในการเปิด log\n",
    "    cv = 5,                                 #kfold\n",
    "    scoring = 'neg_mean_squared_error',     #neg mean - mse\n",
    "    param_grid = params)                    #parameter ที่ใช้กับ model\n",
    "    grid_result = grid.fit(X_train, Y_train)\n"
   ]
  },
  {
   "cell_type": "code",
   "execution_count": 428,
   "metadata": {},
   "outputs": [
    {
     "name": "stdout",
     "output_type": "stream",
     "text": [
      "Best params:  {'C': 100, 'degree': 2, 'epsilon': 5, 'gamma': 0.1, 'kernel': 'rbf'}\n",
      "Best score:  -917.7324964932229\n"
     ]
    }
   ],
   "source": [
    "# Show Best Parameters for both models\n",
    "print('Best params: ',grid_result.best_params_)\n",
    "print('Best score: ', grid_result.best_score_)"
   ]
  },
  {
   "cell_type": "markdown",
   "metadata": {},
   "source": [
    "## Show Score for each parameter combination for both model"
   ]
  },
  {
   "cell_type": "code",
   "execution_count": 429,
   "metadata": {},
   "outputs": [
    {
     "name": "stdout",
     "output_type": "stream",
     "text": [
      "-1230.162543 (1393.159717) with: {'C': 10, 'degree': 2, 'epsilon': 0.1, 'gamma': 0.01, 'kernel': 'linear'}\n",
      "-1243.509444 (1777.260925) with: {'C': 10, 'degree': 2, 'epsilon': 0.1, 'gamma': 0.01, 'kernel': 'rbf'}\n",
      "-2429.531711 (2353.837019) with: {'C': 10, 'degree': 2, 'epsilon': 0.1, 'gamma': 0.01, 'kernel': 'poly'}\n",
      "-1230.162543 (1393.159717) with: {'C': 10, 'degree': 2, 'epsilon': 0.1, 'gamma': 0.1, 'kernel': 'linear'}\n",
      "-1050.336677 (1418.060936) with: {'C': 10, 'degree': 2, 'epsilon': 0.1, 'gamma': 0.1, 'kernel': 'rbf'}\n",
      "-1473.237743 (2000.302015) with: {'C': 10, 'degree': 2, 'epsilon': 0.1, 'gamma': 0.1, 'kernel': 'poly'}\n",
      "-1214.785206 (1353.699785) with: {'C': 10, 'degree': 2, 'epsilon': 1, 'gamma': 0.01, 'kernel': 'linear'}\n",
      "-1231.454092 (1742.899954) with: {'C': 10, 'degree': 2, 'epsilon': 1, 'gamma': 0.01, 'kernel': 'rbf'}\n",
      "-2406.875252 (2344.828747) with: {'C': 10, 'degree': 2, 'epsilon': 1, 'gamma': 0.01, 'kernel': 'poly'}\n",
      "-1214.785206 (1353.699785) with: {'C': 10, 'degree': 2, 'epsilon': 1, 'gamma': 0.1, 'kernel': 'linear'}\n",
      "-1052.330731 (1418.294518) with: {'C': 10, 'degree': 2, 'epsilon': 1, 'gamma': 0.1, 'kernel': 'rbf'}\n",
      "-1507.317735 (2074.827762) with: {'C': 10, 'degree': 2, 'epsilon': 1, 'gamma': 0.1, 'kernel': 'poly'}\n",
      "-1254.008474 (1364.727112) with: {'C': 10, 'degree': 2, 'epsilon': 5, 'gamma': 0.01, 'kernel': 'linear'}\n",
      "-1150.482524 (1541.441184) with: {'C': 10, 'degree': 2, 'epsilon': 5, 'gamma': 0.01, 'kernel': 'rbf'}\n",
      "-2264.615677 (2293.360796) with: {'C': 10, 'degree': 2, 'epsilon': 5, 'gamma': 0.01, 'kernel': 'poly'}\n",
      "-1254.008474 (1364.727112) with: {'C': 10, 'degree': 2, 'epsilon': 5, 'gamma': 0.1, 'kernel': 'linear'}\n",
      "-1151.295260 (1480.507818) with: {'C': 10, 'degree': 2, 'epsilon': 5, 'gamma': 0.1, 'kernel': 'rbf'}\n",
      "-1609.627262 (2229.303501) with: {'C': 10, 'degree': 2, 'epsilon': 5, 'gamma': 0.1, 'kernel': 'poly'}\n",
      "-1230.162543 (1393.159717) with: {'C': 10, 'degree': 3, 'epsilon': 0.1, 'gamma': 0.01, 'kernel': 'linear'}\n",
      "-1243.509444 (1777.260925) with: {'C': 10, 'degree': 3, 'epsilon': 0.1, 'gamma': 0.01, 'kernel': 'rbf'}\n",
      "-2457.857466 (2336.855055) with: {'C': 10, 'degree': 3, 'epsilon': 0.1, 'gamma': 0.01, 'kernel': 'poly'}\n",
      "-1230.162543 (1393.159717) with: {'C': 10, 'degree': 3, 'epsilon': 0.1, 'gamma': 0.1, 'kernel': 'linear'}\n",
      "-1050.336677 (1418.060936) with: {'C': 10, 'degree': 3, 'epsilon': 0.1, 'gamma': 0.1, 'kernel': 'rbf'}\n",
      "-1693.627143 (2057.597543) with: {'C': 10, 'degree': 3, 'epsilon': 0.1, 'gamma': 0.1, 'kernel': 'poly'}\n",
      "-1214.785206 (1353.699785) with: {'C': 10, 'degree': 3, 'epsilon': 1, 'gamma': 0.01, 'kernel': 'linear'}\n",
      "-1231.454092 (1742.899954) with: {'C': 10, 'degree': 3, 'epsilon': 1, 'gamma': 0.01, 'kernel': 'rbf'}\n",
      "-2432.168973 (2328.040833) with: {'C': 10, 'degree': 3, 'epsilon': 1, 'gamma': 0.01, 'kernel': 'poly'}\n",
      "-1214.785206 (1353.699785) with: {'C': 10, 'degree': 3, 'epsilon': 1, 'gamma': 0.1, 'kernel': 'linear'}\n",
      "-1052.330731 (1418.294518) with: {'C': 10, 'degree': 3, 'epsilon': 1, 'gamma': 0.1, 'kernel': 'rbf'}\n",
      "-1691.441341 (2052.665422) with: {'C': 10, 'degree': 3, 'epsilon': 1, 'gamma': 0.1, 'kernel': 'poly'}\n",
      "-1254.008474 (1364.727112) with: {'C': 10, 'degree': 3, 'epsilon': 5, 'gamma': 0.01, 'kernel': 'linear'}\n",
      "-1150.482524 (1541.441184) with: {'C': 10, 'degree': 3, 'epsilon': 5, 'gamma': 0.01, 'kernel': 'rbf'}\n",
      "-2278.807585 (2265.030504) with: {'C': 10, 'degree': 3, 'epsilon': 5, 'gamma': 0.01, 'kernel': 'poly'}\n",
      "-1254.008474 (1364.727112) with: {'C': 10, 'degree': 3, 'epsilon': 5, 'gamma': 0.1, 'kernel': 'linear'}\n",
      "-1151.295260 (1480.507818) with: {'C': 10, 'degree': 3, 'epsilon': 5, 'gamma': 0.1, 'kernel': 'rbf'}\n",
      "-1681.208004 (2074.993156) with: {'C': 10, 'degree': 3, 'epsilon': 5, 'gamma': 0.1, 'kernel': 'poly'}\n",
      "-1235.942178 (1377.382387) with: {'C': 100, 'degree': 2, 'epsilon': 0.1, 'gamma': 0.01, 'kernel': 'linear'}\n",
      "-1136.938120 (1287.835393) with: {'C': 100, 'degree': 2, 'epsilon': 0.1, 'gamma': 0.01, 'kernel': 'rbf'}\n",
      "-2191.983972 (2532.932231) with: {'C': 100, 'degree': 2, 'epsilon': 0.1, 'gamma': 0.01, 'kernel': 'poly'}\n",
      "-1235.942178 (1377.382387) with: {'C': 100, 'degree': 2, 'epsilon': 0.1, 'gamma': 0.1, 'kernel': 'linear'}\n",
      "-974.229007 (1383.895676) with: {'C': 100, 'degree': 2, 'epsilon': 0.1, 'gamma': 0.1, 'kernel': 'rbf'}\n",
      "-1726.415713 (1581.386507) with: {'C': 100, 'degree': 2, 'epsilon': 0.1, 'gamma': 0.1, 'kernel': 'poly'}\n",
      "-1236.081669 (1381.475568) with: {'C': 100, 'degree': 2, 'epsilon': 1, 'gamma': 0.01, 'kernel': 'linear'}\n",
      "-1136.587133 (1297.965615) with: {'C': 100, 'degree': 2, 'epsilon': 1, 'gamma': 0.01, 'kernel': 'rbf'}\n",
      "-2176.082211 (2506.850093) with: {'C': 100, 'degree': 2, 'epsilon': 1, 'gamma': 0.01, 'kernel': 'poly'}\n",
      "-1236.081669 (1381.475568) with: {'C': 100, 'degree': 2, 'epsilon': 1, 'gamma': 0.1, 'kernel': 'linear'}\n",
      "-947.373975 (1350.798521) with: {'C': 100, 'degree': 2, 'epsilon': 1, 'gamma': 0.1, 'kernel': 'rbf'}\n",
      "-1691.217138 (1571.986484) with: {'C': 100, 'degree': 2, 'epsilon': 1, 'gamma': 0.1, 'kernel': 'poly'}\n",
      "-1280.228415 (1355.024515) with: {'C': 100, 'degree': 2, 'epsilon': 5, 'gamma': 0.01, 'kernel': 'linear'}\n",
      "-1155.619377 (1369.367486) with: {'C': 100, 'degree': 2, 'epsilon': 5, 'gamma': 0.01, 'kernel': 'rbf'}\n",
      "-2053.168603 (2360.590778) with: {'C': 100, 'degree': 2, 'epsilon': 5, 'gamma': 0.01, 'kernel': 'poly'}\n",
      "-1280.228415 (1355.024515) with: {'C': 100, 'degree': 2, 'epsilon': 5, 'gamma': 0.1, 'kernel': 'linear'}\n",
      "-917.732496 (1363.536650) with: {'C': 100, 'degree': 2, 'epsilon': 5, 'gamma': 0.1, 'kernel': 'rbf'}\n",
      "-1897.244879 (2078.341431) with: {'C': 100, 'degree': 2, 'epsilon': 5, 'gamma': 0.1, 'kernel': 'poly'}\n",
      "-1235.942178 (1377.382387) with: {'C': 100, 'degree': 3, 'epsilon': 0.1, 'gamma': 0.01, 'kernel': 'linear'}\n",
      "-1136.938120 (1287.835393) with: {'C': 100, 'degree': 3, 'epsilon': 0.1, 'gamma': 0.01, 'kernel': 'rbf'}\n",
      "-2450.884636 (2342.080286) with: {'C': 100, 'degree': 3, 'epsilon': 0.1, 'gamma': 0.01, 'kernel': 'poly'}\n",
      "-1235.942178 (1377.382387) with: {'C': 100, 'degree': 3, 'epsilon': 0.1, 'gamma': 0.1, 'kernel': 'linear'}\n",
      "-974.229007 (1383.895676) with: {'C': 100, 'degree': 3, 'epsilon': 0.1, 'gamma': 0.1, 'kernel': 'rbf'}\n",
      "-1634.162299 (2312.489591) with: {'C': 100, 'degree': 3, 'epsilon': 0.1, 'gamma': 0.1, 'kernel': 'poly'}\n",
      "-1236.081669 (1381.475568) with: {'C': 100, 'degree': 3, 'epsilon': 1, 'gamma': 0.01, 'kernel': 'linear'}\n",
      "-1136.587133 (1297.965615) with: {'C': 100, 'degree': 3, 'epsilon': 1, 'gamma': 0.01, 'kernel': 'rbf'}\n",
      "-2427.806945 (2334.431328) with: {'C': 100, 'degree': 3, 'epsilon': 1, 'gamma': 0.01, 'kernel': 'poly'}\n",
      "-1236.081669 (1381.475568) with: {'C': 100, 'degree': 3, 'epsilon': 1, 'gamma': 0.1, 'kernel': 'linear'}\n",
      "-947.373975 (1350.798521) with: {'C': 100, 'degree': 3, 'epsilon': 1, 'gamma': 0.1, 'kernel': 'rbf'}\n",
      "-1830.402290 (2683.188698) with: {'C': 100, 'degree': 3, 'epsilon': 1, 'gamma': 0.1, 'kernel': 'poly'}\n",
      "-1280.228415 (1355.024515) with: {'C': 100, 'degree': 3, 'epsilon': 5, 'gamma': 0.01, 'kernel': 'linear'}\n",
      "-1155.619377 (1369.367486) with: {'C': 100, 'degree': 3, 'epsilon': 5, 'gamma': 0.01, 'kernel': 'rbf'}\n",
      "-2276.459226 (2264.036594) with: {'C': 100, 'degree': 3, 'epsilon': 5, 'gamma': 0.01, 'kernel': 'poly'}\n",
      "-1280.228415 (1355.024515) with: {'C': 100, 'degree': 3, 'epsilon': 5, 'gamma': 0.1, 'kernel': 'linear'}\n",
      "-917.732496 (1363.536650) with: {'C': 100, 'degree': 3, 'epsilon': 5, 'gamma': 0.1, 'kernel': 'rbf'}\n",
      "-2908.714248 (4789.098328) with: {'C': 100, 'degree': 3, 'epsilon': 5, 'gamma': 0.1, 'kernel': 'poly'}\n"
     ]
    }
   ],
   "source": [
    "means   = grid_result.cv_results_['mean_test_score']\n",
    "stds    = grid_result.cv_results_['std_test_score']\n",
    "params  = grid_result.cv_results_['params']\n",
    "for mean, stdev, param in zip(means, stds, params):\n",
    "    print(\"%f (%f) with: %r\" % (mean, stdev, param))"
   ]
  },
  {
   "cell_type": "markdown",
   "metadata": {},
   "source": [
    "## Display Mean, std, params"
   ]
  },
  {
   "cell_type": "code",
   "execution_count": null,
   "metadata": {},
   "outputs": [],
   "source": []
  },
  {
   "cell_type": "markdown",
   "metadata": {},
   "source": [
    "# 6.3 RandomizedSearchCV()"
   ]
  },
  {
   "cell_type": "code",
   "execution_count": 430,
   "metadata": {},
   "outputs": [],
   "source": [
    "# Create Model List\n",
    "regression = { 'LR': LinearRegression(), 'SVR': SVR()}"
   ]
  },
  {
   "cell_type": "code",
   "execution_count": 431,
   "metadata": {},
   "outputs": [],
   "source": [
    "# Create Parameter Dictionary for Linear Regression\n",
    "fit_intercept = [True, False]\n",
    "normalize = [True, False]\n",
    "params_LR = dict( fit_intercept = fit_intercept, normalize = normalize)"
   ]
  },
  {
   "cell_type": "code",
   "execution_count": 432,
   "metadata": {},
   "outputs": [],
   "source": [
    "# Create Parameter Dictionary for SVR\n",
    "kernel = ['linear', 'rbf', 'poly']\n",
    "C_list = list(np.linspace(0.1, 150, 5, dtype = float))\n",
    "ep_list = list(np.linspace(0.1, 1, 5, dtype = float))\n",
    "gamma = list(np.linspace(0.01, 0.1, 5, dtype = float))\n",
    "degree = [2, 3]\n",
    "params_SVR = dict( kernel = kernel, C = C_list, epsilon = ep_list, gamma = gamma, degree = degree )"
   ]
  },
  {
   "cell_type": "markdown",
   "metadata": {},
   "source": [
    "## Show scatter plot compare y_test vs each model prediction"
   ]
  },
  {
   "cell_type": "code",
   "execution_count": 433,
   "metadata": {},
   "outputs": [],
   "source": [
    "# import warnings\n",
    "# warnings.filterwarnings('ignore')"
   ]
  },
  {
   "cell_type": "code",
   "execution_count": 440,
   "metadata": {},
   "outputs": [
    {
     "data": {
      "image/png": "[encoded data removed]",
      "text/plain": [
       "<Figure size 1080x1296 with 1 Axes>"
      ]
     },
     "metadata": {
      "needs_background": "light"
     },
     "output_type": "display_data"
    }
   ],
   "source": [
    "#Best params:  {'C': 100, 'degree': 2, 'epsilon': 5, 'gamma': 0.1, 'kernel': 'rbf'}\n",
    "n_clusters=np.unique(Y_test)\n",
    "kmeans = KMeans(n_clusters= n_clusters.size, random_state=0)\n",
    "clusters_test = kmeans.fit_predict(X_test)\n",
    "### y_train\n",
    "n_clusters=np.unique(Y_train)\n",
    "kmeans = KMeans(n_clusters= n_clusters.size, random_state=0)\n",
    "clusters_train = kmeans.fit_predict(X_train)\n",
    "### LM_pred\n",
    "Model_LM = LinearRegression(copy_X=True, fit_intercept=True, n_jobs=1, normalize=False)\n",
    "LM_pred = Model_LM.fit(X_train, Y_train).predict(X_test)\n",
    "\n",
    "#svr \n",
    "c_val = 100\n",
    "svr_lin = SVR(kernel='linear', C=c_val)\n",
    "svr_rbf = SVR(kernel='rbf', C=c_val, gamma=0.1)\n",
    "svr_poly = SVR(kernel='poly', C=c_val, degree=2)\n",
    "SVR_Linear = svr_lin.fit(X_train,Y_train).predict(X_test)   #ค่า Linear Rbf Poly\n",
    "SVR_Rbf     = svr_rbf.fit(X_train,Y_train).predict(X_test)\n",
    "SVR_Poly = svr_poly.fit(X_train,Y_train).predict(X_test)\n",
    "\n",
    "\n",
    "plt.figure(figsize =(15, 18))\n",
    "plt.scatter(np.arange(len(LM_pred)),    LM_pred,         edgecolors='r',     alpha=0.75,s=20)\n",
    "plt.scatter(np.arange(len(Y_train)),    Y_train,       edgecolors='b',     alpha=0.75,s=2)\n",
    "plt.scatter(np.arange(len(Y_test)),     Y_test,         edgecolors='m',     alpha=0.75,s=1)\n",
    "plt.scatter(np.arange(len(SVR_Linear)), SVR_Linear,    edgecolors='y',     alpha=0.75,s=4)\n",
    "plt.scatter(np.arange(len(SVR_Rbf)),    SVR_Rbf,         edgecolors='g',     alpha=0.75,s=5)\n",
    "plt.scatter(np.arange(len(SVR_Poly)),   SVR_Poly,       edgecolors='pink',  alpha=0.75,s=6)\n",
    "\n",
    "plt.show()"
   ]
  },
  {
   "cell_type": "code",
   "execution_count": 435,
   "metadata": {},
   "outputs": [
    {
     "name": "stdout",
     "output_type": "stream",
     "text": [
      "Fitting 5 folds for each of 4 candidates, totalling 20 fits\n",
      "Fitting 5 folds for each of 10 candidates, totalling 50 fits\n"
     ]
    }
   ],
   "source": [
    "for EST in regression:\n",
    "    model = regression[EST]\n",
    "    if (EST == 'LR'):\n",
    "        params = params_LR\n",
    "    else:\n",
    "        params = params_SVR\n",
    "\n",
    "    grid_rand = RandomizedSearchCV( \n",
    "                                    estimator=model, \n",
    "                                    n_jobs = 8,\n",
    "                                    verbose = 10,\n",
    "                                    cv = 5,\n",
    "                                    scoring = 'neg_mean_squared_error',\n",
    "                                    param_distributions = params )\n",
    "    grid_rand_result = grid_rand.fit(X_train, Y_train)"
   ]
  },
  {
   "cell_type": "code",
   "execution_count": 436,
   "metadata": {},
   "outputs": [
    {
     "name": "stdout",
     "output_type": "stream",
     "text": [
      "Best params:  {'kernel': 'rbf', 'gamma': 0.05500000000000001, 'epsilon': 0.775, 'degree': 2, 'C': 112.525}\n",
      "Best score:  -842.7005229611477\n"
     ]
    }
   ],
   "source": [
    "# Show Best Parameters for both models\n",
    "print('Best params: ',grid_rand_result.best_params_)\n",
    "print('Best score: ', grid_rand_result.best_score_)"
   ]
  },
  {
   "cell_type": "code",
   "execution_count": 437,
   "metadata": {},
   "outputs": [
    {
     "name": "stdout",
     "output_type": "stream",
     "text": [
      "-1310.394855 (1808.990162) with: {'kernel': 'linear', 'gamma': 0.05500000000000001, 'epsilon': 0.1, 'degree': 3, 'C': 0.1}\n",
      "-842.700523 (1147.292947) with: {'kernel': 'rbf', 'gamma': 0.05500000000000001, 'epsilon': 0.775, 'degree': 2, 'C': 112.525}\n",
      "-988.962187 (1234.421802) with: {'kernel': 'rbf', 'gamma': 0.0325, 'epsilon': 0.55, 'degree': 3, 'C': 37.575}\n",
      "-1243.361383 (1400.023756) with: {'kernel': 'linear', 'gamma': 0.0775, 'epsilon': 0.55, 'degree': 2, 'C': 75.05}\n",
      "-1239.301121 (1385.620770) with: {'kernel': 'linear', 'gamma': 0.1, 'epsilon': 0.325, 'degree': 2, 'C': 150.0}\n",
      "-1245.762564 (1400.255708) with: {'kernel': 'linear', 'gamma': 0.1, 'epsilon': 0.775, 'degree': 3, 'C': 150.0}\n",
      "-1571.786992 (1617.455067) with: {'kernel': 'poly', 'gamma': 0.05500000000000001, 'epsilon': 1.0, 'degree': 2, 'C': 150.0}\n",
      "-871.951440 (1194.400873) with: {'kernel': 'rbf', 'gamma': 0.05500000000000001, 'epsilon': 1.0, 'degree': 2, 'C': 75.05}\n",
      "-1768.546194 (1989.404705) with: {'kernel': 'poly', 'gamma': 0.05500000000000001, 'epsilon': 0.775, 'degree': 3, 'C': 37.575}\n",
      "-1571.484274 (1615.103533) with: {'kernel': 'poly', 'gamma': 0.0775, 'epsilon': 0.775, 'degree': 2, 'C': 75.05}\n"
     ]
    }
   ],
   "source": [
    "# Show Score for each parameter combination for both model\n",
    "means = grid_rand_result.cv_results_['mean_test_score']\n",
    "stds = grid_rand_result.cv_results_['std_test_score']\n",
    "params = grid_rand_result.cv_results_['params']\n",
    "for mean, stdev, param in zip(means, stds, params):\n",
    "    print(\"%f (%f) with: %r\" % (mean, stdev, param))"
   ]
  },
  {
   "cell_type": "markdown",
   "metadata": {},
   "source": [
    "## Display Mean, std, params"
   ]
  },
  {
   "cell_type": "code",
   "execution_count": 439,
   "metadata": {},
   "outputs": [
    {
     "data": {
      "image/png": "[encoded data removed]",
      "text/plain": [
       "<Figure size 432x288 with 1 Axes>"
      ]
     },
     "metadata": {
      "needs_background": "light"
     },
     "output_type": "display_data"
    }
   ],
   "source": [
    "# plt.bar(np.arange(len(means)),means)\n",
    "# plt.bar(np.arange(len(stds)),stds)\n",
    "# plt.bar(np.arange(len(params)),params)\n",
    "\n",
    "# set width of bars\n",
    "barWidth = 0.25\n",
    " \n",
    " \n",
    "# Set position of bar on X axis\n",
    "r1 = np.arange(len(means))\n",
    "r2 = [x + barWidth for x in r1]\n",
    " \n",
    "# Make the plot\n",
    "plt.bar(r1, means, color='#7f6d5f', width=barWidth, edgecolor='white', label='means')\n",
    "plt.bar(r2, stds, color='#557f2d', width=barWidth, edgecolor='white', label='score')\n",
    " \n",
    "# Add xticks on the middle of the group bars\n",
    "plt.xlabel('group', fontweight='bold')\n",
    "#plt.xticks([r + barWidth for r in range(len(means))], ['A', 'B', 'C', 'D', 'E'])\n",
    " \n",
    "# Create legend & Show graphic\n",
    "plt.legend()\n",
    "plt.show()\n",
    "\n"
   ]
  },
  {
   "cell_type": "code",
   "execution_count": null,
   "metadata": {},
   "outputs": [],
   "source": []
  },
  {
   "cell_type": "markdown",
   "metadata": {},
   "source": [
    "## Show scatter plot compare y_test vs each model prediction"
   ]
  },
  {
   "cell_type": "markdown",
   "metadata": {},
   "source": []
  }
 ],
 "metadata": {
  "kernelspec": {
   "display_name": "Python 3.9.12 ('base')",
   "language": "python",
   "name": "python3"
  },
  "language_info": {
   "codemirror_mode": {
    "name": "ipython",
    "version": 3
   },
   "file_extension": ".py",
   "mimetype": "text/x-python",
   "name": "python",
   "nbconvert_exporter": "python",
   "pygments_lexer": "ipython3",
   "version": "3.9.12"
  },
  "orig_nbformat": 4,
  "vscode": {
   "interpreter": {
    "hash": "ad2bdc8ecc057115af97d19610ffacc2b4e99fae6737bb82f5d7fb13d2f2c186"
   }
  }
 },
 "nbformat": 4,
 "nbformat_minor": 2
}
