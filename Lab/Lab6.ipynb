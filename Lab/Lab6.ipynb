{
 "cells": [
  {
   "cell_type": "code",
   "execution_count": null,
   "metadata": {},
   "outputs": [],
   "source": [
    "import numpy as np\n",
    "import pandas as pd\n",
    "import matplotlib.pyplot as plt\n",
    "import seaborn as sns \n",
    "from sklearn import preprocessing\n",
    "from sklearn import model_selection\n",
    "from sklearn.linear_model import LinearRegression\n",
    "from sklearn.svm import SVR\n",
    "from sklearn.model_selection import train_test_split,GridSearchCV,RandomizedSearchCV\n",
    "from sklearn import metrics\n",
    "import pandas_datareader.data as web \n",
    "from time import time\n",
    "from sklearn.cluster import KMeans"
   ]
  },
  {
   "cell_type": "markdown",
   "metadata": {},
   "source": [
    "# Get Stock Data"
   ]
  },
  {
   "cell_type": "code",
   "execution_count": null,
   "metadata": {},
   "outputs": [],
   "source": [
    "stk_tickers = ['MSFT', 'IBM', 'GOOGL']\n",
    "ccy_tickers = ['DEXJPUS', 'DEXUSUK']\n",
    "idx_tickers = ['SP500', 'DJIA', 'VIXCLS']\n",
    "stk_data = web.DataReader(stk_tickers, 'yahoo')\n",
    "ccy_data = web.DataReader(ccy_tickers, 'fred')\n",
    "idx_data = web.DataReader(idx_tickers, 'fred')"
   ]
  },
  {
   "cell_type": "code",
   "execution_count": null,
   "metadata": {},
   "outputs": [],
   "source": [
    "#Select columns\n",
    "base = stk_data.loc[:, ('Adj Close', 'MSFT')]\n",
    "X1 = stk_data.loc[:, ('Adj Close', ('GOOGL', 'IBM'))]\n",
    "X2 = ccy_data\n",
    "X3 = idx_data\n",
    "print(X1)\n",
    "print(X2)\n",
    "print(X2)"
   ]
  },
  {
   "cell_type": "code",
   "execution_count": null,
   "metadata": {},
   "outputs": [],
   "source": [
    "#Standardized data (X1, X2, X3) with kept index (date)\n",
    "standard_scaler = preprocessing.StandardScaler()\n",
    "sX1 = standard_scaler.fit_transform(X1.values)\n",
    "sX2 = standard_scaler.fit_transform(X2.values)\n",
    "sX3 = standard_scaler.fit_transform(X3.values)\n",
    "X1 = pd.DataFrame(index = X1.index,data = sX1,columns=X1.columns)\n",
    "X2 = pd.DataFrame(index = X2.index,data = sX2,columns=X2.columns)\n",
    "X3 = pd.DataFrame(index = X3.index,data = sX3,columns=X3.columns)"
   ]
  },
  {
   "cell_type": "markdown",
   "metadata": {},
   "source": [
    "## Calculate ความแตกต่างของค่า ราคา 'Adj Close', 'MSFT’)ย้อนหลัง backHistory วัน"
   ]
  },
  {
   "cell_type": "code",
   "execution_count": null,
   "metadata": {},
   "outputs": [],
   "source": [
    "\n",
    "backHistory = [30, 45, 60, 90, 180, 240] #-> ทดลองหยิบ 3 ค่า 3 รูปแบบ เพื่อดูระยะเวลาการดูค่าข้อมูลย้อนหลงัหลายๆแบบและเปรียบเทียบ MSE\n",
    "BH1, BH2, BH3 = backHistory[1], backHistory[3], backHistory[4]\n",
    "return_period = 2\n",
    "Y = base.shift(-return_period)\n",
    "X4_BH1 = base.diff( BH1).shift( - BH1)\n",
    "X4_BH2 = base.diff( BH2).shift( - BH2)\n",
    "X4_BH3 = base.diff( BH3).shift( - BH3)\n",
    "\n",
    "X4 = pd.concat([X4_BH1, X4_BH2, X4_BH3], axis=1)\n",
    "X4.columns = ['MSFT_3DT', 'MSFT_6DT', 'MSFT_12DT']\n",
    "X4 = pd.DataFrame(standard_scaler.fit_transform(X4.values), index = X4.index,columns=X4.columns)"
   ]
  },
  {
   "cell_type": "code",
   "execution_count": null,
   "metadata": {},
   "outputs": [],
   "source": [
    "# Forming Dataset\n",
    "X = pd.concat([X1, X2, X3, X4], axis=1)\n",
    "dataset = pd.concat([Y, X], axis=1)\n",
    "dataset.dropna(inplace=True)\n",
    "dataset.describe()\n"
   ]
  },
  {
   "cell_type": "code",
   "execution_count": null,
   "metadata": {},
   "outputs": [],
   "source": [
    "# Assign X, Y (drop datetime index)\n",
    "Y = pd.DataFrame(dataset[dataset.columns[0]])\n",
    "X = pd.DataFrame(dataset[dataset.columns[1:]])\n",
    "print(Y)\n",
    "print(X)"
   ]
  },
  {
   "cell_type": "code",
   "execution_count": null,
   "metadata": {},
   "outputs": [],
   "source": [
    "X.corr()"
   ]
  },
  {
   "cell_type": "code",
   "execution_count": null,
   "metadata": {},
   "outputs": [],
   "source": [
    "lower = pd.DataFrame(np.tril(X.corr(),-1),columns = X.columns)\n",
    "to_drop = [column for column in lower.columns if any(lower[column] > 0.9)]\n",
    "X.drop(columns=to_drop,inplace=True)\n",
    "to_drop"
   ]
  },
  {
   "cell_type": "code",
   "execution_count": null,
   "metadata": {},
   "outputs": [],
   "source": [
    "X"
   ]
  },
  {
   "cell_type": "markdown",
   "metadata": {},
   "source": [
    "# Train / Test Preparation (try 2 Option)    "
   ]
  },
  {
   "cell_type": "code",
   "execution_count": null,
   "metadata": {},
   "outputs": [],
   "source": [
    "from math import ceil, floor\n",
    "test_size = floor(0.3 * len( X ))\n",
    "train_size = floor(0.7 * len( X ))\n",
    "print(f'test size = {test_size}\\ntrain size = {train_size}')\n",
    "X_train, X_test = X[0:train_size], X[train_size:len(X)]\n",
    "Y_train, Y_test = Y[0:train_size], Y[train_size:len(X)]\n",
    "# Option #2\n",
    "# X_train2, X_test2, y_train2, y_test2 = model_selection.train_test_split(X, Y, test_size=0.3, random_state=seed)"
   ]
  },
  {
   "cell_type": "markdown",
   "metadata": {},
   "source": [
    "# 6.2 GridSearchCV()"
   ]
  },
  {
   "cell_type": "code",
   "execution_count": null,
   "metadata": {},
   "outputs": [],
   "source": [
    "# Create Model List\n",
    "regression = { 'LR': LinearRegression(), 'SVR': SVR(), }\n",
    "# Create Parameter Dictionary for Linear Regression\n",
    "fit_intercept = [True, False]\n",
    "normalize = [True, False]\n",
    "params_LR = dict( fit_intercept = fit_intercept, normalize = normalize)\n",
    "print(params_LR)"
   ]
  },
  {
   "cell_type": "code",
   "execution_count": null,
   "metadata": {},
   "outputs": [],
   "source": [
    "#Create Parameter Dictionary for SVR\n",
    "kernel = ['linear', 'rbf', 'poly']\n",
    "C_list = [10, 100]\n",
    "ep_list = [0.1, 1, 5]\n",
    "gamma = [0.01, 0.1]\n",
    "degree = [2, 3]       #3x2x3x2x2 = 72\n",
    "params_SVR = dict( kernel = kernel, C = C_list, epsilon = ep_list, gamma = gamma, degree = degree )"
   ]
  },
  {
   "cell_type": "code",
   "execution_count": null,
   "metadata": {},
   "outputs": [],
   "source": [
    "for EST in regression:\n",
    "    model = regression[EST]\n",
    "    if (EST == 'LR'):\n",
    "        params = params_LR\n",
    "    else:\n",
    "        params = params_SVR\n",
    "\n",
    "    grid = GridSearchCV( \n",
    "    estimator=model,                        #model\n",
    "    n_jobs = 8,                             #thread ที่ใช้               \n",
    "    verbose = 10,                           #ความละเอียดในการเปิด log\n",
    "    cv = 5,                                 #kfold\n",
    "    scoring = 'neg_mean_squared_error',     #neg mean - mse\n",
    "    param_grid = params)                    #parameter ที่ใช้กับ model\n",
    "    grid_result = grid.fit(X_train, Y_train)\n"
   ]
  },
  {
   "cell_type": "code",
   "execution_count": null,
   "metadata": {},
   "outputs": [],
   "source": [
    "# Show Best Parameters for both models\n",
    "print('Best params: ',grid_result.best_params_)\n",
    "print('Best score: ', grid_result.best_score_)"
   ]
  },
  {
   "cell_type": "markdown",
   "metadata": {},
   "source": [
    "## Show Score for each parameter combination for both model"
   ]
  },
  {
   "cell_type": "code",
   "execution_count": null,
   "metadata": {},
   "outputs": [],
   "source": [
    "means   = grid_result.cv_results_['mean_test_score']\n",
    "stds    = grid_result.cv_results_['std_test_score']\n",
    "params  = grid_result.cv_results_['params']\n",
    "for mean, stdev, param in zip(means, stds, params):\n",
    "    print(\"%f (%f) with: %r\" % (mean, stdev, param))"
   ]
  },
  {
   "cell_type": "markdown",
   "metadata": {},
   "source": [
    "## Display Mean, std, params"
   ]
  },
  {
   "cell_type": "code",
   "execution_count": null,
   "metadata": {},
   "outputs": [],
   "source": []
  },
  {
   "cell_type": "markdown",
   "metadata": {},
   "source": [
    "# 6.3 RandomizedSearchCV()"
   ]
  },
  {
   "cell_type": "code",
   "execution_count": null,
   "metadata": {},
   "outputs": [],
   "source": [
    "# Create Model List\n",
    "regression = { 'LR': LinearRegression(), 'SVR': SVR()}"
   ]
  },
  {
   "cell_type": "code",
   "execution_count": null,
   "metadata": {},
   "outputs": [],
   "source": [
    "# Create Parameter Dictionary for Linear Regression\n",
    "fit_intercept = [True, False]\n",
    "normalize = [True, False]\n",
    "params_LR = dict( fit_intercept = fit_intercept, normalize = normalize)"
   ]
  },
  {
   "cell_type": "code",
   "execution_count": null,
   "metadata": {},
   "outputs": [],
   "source": [
    "# Create Parameter Dictionary for SVR\n",
    "kernel = ['linear', 'rbf', 'poly']\n",
    "C_list = list(np.linspace(0.1, 150, 5, dtype = float))\n",
    "ep_list = list(np.linspace(0.1, 1, 5, dtype = float))\n",
    "gamma = list(np.linspace(0.01, 0.1, 5, dtype = float))\n",
    "degree = [2, 3]\n",
    "params_SVR = dict( kernel = kernel, C = C_list, epsilon = ep_list, gamma = gamma, degree = degree )"
   ]
  },
  {
   "cell_type": "markdown",
   "metadata": {},
   "source": [
    "## Show scatter plot compare y_test vs each model prediction"
   ]
  },
  {
   "cell_type": "code",
   "execution_count": null,
   "metadata": {},
   "outputs": [],
   "source": [
    "# import warnings\n",
    "# warnings.filterwarnings('ignore')"
   ]
  },
  {
   "cell_type": "code",
   "execution_count": null,
   "metadata": {},
   "outputs": [],
   "source": [
    "#Best params:  {'C': 100, 'degree': 2, 'epsilon': 5, 'gamma': 0.1, 'kernel': 'rbf'}\n",
    "n_clusters=np.unique(Y_test)\n",
    "kmeans = KMeans(n_clusters= n_clusters.size, random_state=0)\n",
    "clusters_test = kmeans.fit_predict(X_test)\n",
    "### y_train\n",
    "n_clusters=np.unique(Y_train)\n",
    "kmeans = KMeans(n_clusters= n_clusters.size, random_state=0)\n",
    "clusters_train = kmeans.fit_predict(X_train)\n",
    "### LM_pred\n",
    "Model_LM = LinearRegression(copy_X=True, fit_intercept=True, n_jobs=1, normalize=False)\n",
    "LM_pred = Model_LM.fit(X_train, Y_train).predict(X_test)\n",
    "\n",
    "#svr \n",
    "c_val = 100\n",
    "svr_lin = SVR(kernel='linear', C=c_val)\n",
    "svr_rbf = SVR(kernel='rbf', C=c_val, gamma=0.1)\n",
    "svr_poly = SVR(kernel='poly', C=c_val, degree=2)\n",
    "SVR_Linear = svr_lin.fit(X_train,Y_train).predict(X_test)   #ค่า Linear Rbf Poly\n",
    "SVR_Rbf     = svr_rbf.fit(X_train,Y_train).predict(X_test)\n",
    "SVR_Poly = svr_poly.fit(X_train,Y_train).predict(X_test)\n",
    "\n",
    "\n",
    "plt.figure(figsize =(15, 18))\n",
    "plt.scatter(np.arange(len(LM_pred)),    LM_pred,         edgecolors='r',     alpha=0.75,s=20)\n",
    "plt.scatter(np.arange(len(Y_train)),    Y_train,       edgecolors='b',     alpha=0.75,s=2)\n",
    "plt.scatter(np.arange(len(Y_test)),     Y_test,         edgecolors='m',     alpha=0.75,s=1)\n",
    "plt.scatter(np.arange(len(SVR_Linear)), SVR_Linear,    edgecolors='y',     alpha=0.75,s=4)\n",
    "plt.scatter(np.arange(len(SVR_Rbf)),    SVR_Rbf,         edgecolors='g',     alpha=0.75,s=5)\n",
    "plt.scatter(np.arange(len(SVR_Poly)),   SVR_Poly,       edgecolors='pink',  alpha=0.75,s=6)\n",
    "\n",
    "plt.show()"
   ]
  },
  {
   "cell_type": "code",
   "execution_count": null,
   "metadata": {},
   "outputs": [],
   "source": [
    "for EST in regression:\n",
    "    model = regression[EST]\n",
    "    if (EST == 'LR'):\n",
    "        params = params_LR\n",
    "    else:\n",
    "        params = params_SVR\n",
    "\n",
    "    grid_rand = RandomizedSearchCV( \n",
    "                                    estimator=model, \n",
    "                                    n_jobs = 8,\n",
    "                                    verbose = 10,\n",
    "                                    cv = 5,\n",
    "                                    scoring = 'neg_mean_squared_error',\n",
    "                                    param_distributions = params )\n",
    "    grid_rand_result = grid_rand.fit(X_train, Y_train)"
   ]
  },
  {
   "cell_type": "code",
   "execution_count": null,
   "metadata": {},
   "outputs": [],
   "source": [
    "# Show Best Parameters for both models\n",
    "print('Best params: ',grid_rand_result.best_params_)\n",
    "print('Best score: ', grid_rand_result.best_score_)"
   ]
  },
  {
   "cell_type": "code",
   "execution_count": null,
   "metadata": {},
   "outputs": [],
   "source": [
    "# Show Score for each parameter combination for both model\n",
    "means = grid_rand_result.cv_results_['mean_test_score']\n",
    "stds = grid_rand_result.cv_results_['std_test_score']\n",
    "params = grid_rand_result.cv_results_['params']\n",
    "for mean, stdev, param in zip(means, stds, params):\n",
    "    print(\"%f (%f) with: %r\" % (mean, stdev, param))"
   ]
  },
  {
   "cell_type": "markdown",
   "metadata": {},
   "source": [
    "## Display Mean, std, params"
   ]
  },
  {
   "cell_type": "code",
   "execution_count": null,
   "metadata": {},
   "outputs": [],
   "source": [
    "# plt.bar(np.arange(len(means)),means)\n",
    "# plt.bar(np.arange(len(stds)),stds)\n",
    "# plt.bar(np.arange(len(params)),params)\n",
    "\n",
    "# set width of bars\n",
    "barWidth = 0.25\n",
    " \n",
    " \n",
    "# Set position of bar on X axis\n",
    "r1 = np.arange(len(means))\n",
    "r2 = [x + barWidth for x in r1]\n",
    " \n",
    "# Make the plot\n",
    "plt.bar(r1, means, color='#7f6d5f', width=barWidth, edgecolor='white', label='means')\n",
    "plt.bar(r2, stds, color='#557f2d', width=barWidth, edgecolor='white', label='score')\n",
    " \n",
    "# Add xticks on the middle of the group bars\n",
    "plt.xlabel('group', fontweight='bold')\n",
    "#plt.xticks([r + barWidth for r in range(len(means))], ['A', 'B', 'C', 'D', 'E'])\n",
    " \n",
    "# Create legend & Show graphic\n",
    "plt.legend()\n",
    "plt.show()\n",
    "\n"
   ]
  },
  {
   "cell_type": "code",
   "execution_count": null,
   "metadata": {},
   "outputs": [],
   "source": []
  },
  {
   "cell_type": "markdown",
   "metadata": {},
   "source": [
    "## Show scatter plot compare y_test vs each model prediction"
   ]
  },
  {
   "cell_type": "markdown",
   "metadata": {},
   "source": []
  }
 ],
 "metadata": {
  "kernelspec": {
   "display_name": "Python 3.9.12 ('base')",
   "language": "python",
   "name": "python3"
  },
  "language_info": {
   "codemirror_mode": {
    "name": "ipython",
    "version": 3
   },
   "file_extension": ".py",
   "mimetype": "text/x-python",
   "name": "python",
   "nbconvert_exporter": "python",
   "pygments_lexer": "ipython3",
   "version": "3.9.12"
  },
  "orig_nbformat": 4,
  "vscode": {
   "interpreter": {
    "hash": "ad2bdc8ecc057115af97d19610ffacc2b4e99fae6737bb82f5d7fb13d2f2c186"
   }
  }
 },
 "nbformat": 4,
 "nbformat_minor": 2
}
