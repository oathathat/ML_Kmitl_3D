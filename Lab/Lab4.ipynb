{
 "cells": [
  {
   "cell_type": "code",
   "execution_count": null,
   "metadata": {},
   "outputs": [],
   "source": [
    "import numpy as np\n",
    "import pandas as pd\n",
    "import matplotlib.pyplot as plt \n",
    "import seaborn as sns \n",
    "from sklearn import preprocessing\n",
    "from sklearn.decomposition import PCA\n",
    "from sklearn.model_selection import train_test_split\n",
    "from sklearn.linear_model import LinearRegression\n",
    "from sklearn.metrics import r2_score\n",
    "from sklearn.metrics import mean_squared_error"
   ]
  },
  {
   "cell_type": "code",
   "execution_count": null,
   "metadata": {},
   "outputs": [],
   "source": [
    "df = pd.read_csv('CarPrice.csv')\n",
    "df.drop(columns=['car_ID','CarName'],inplace=True)\n",
    "df"
   ]
  },
  {
   "cell_type": "code",
   "execution_count": null,
   "metadata": {},
   "outputs": [],
   "source": [
    "con_col,cate_col = [],[]              #แยก column ที่เป็น เลข กับ category\n",
    "for i in df.columns:\n",
    "    if np.issubdtype(df[i],np.number):\n",
    "        con_col.append(i)\n",
    "    else:\n",
    "        cate_col.append(i)\n",
    "len(con_col)+len(cate_col)\n",
    "# price เป็น Y\n",
    "con_col.remove('price')\n",
    "con_col"
   ]
  },
  {
   "cell_type": "code",
   "execution_count": null,
   "metadata": {},
   "outputs": [],
   "source": [
    "std_scale = preprocessing.StandardScaler()\n",
    "cor_df = std_scale.fit_transform(df[con_col])\n",
    "cor_df = pd.DataFrame(cor_df,columns=con_col)\n",
    "lower = pd.DataFrame(np.tril(cor_df.corr(),-1),columns = cor_df.columns)\n",
    "to_drop = [column for column in lower.columns if any(lower[column] > 0.86)]\n",
    "to_drop\n"
   ]
  },
  {
   "cell_type": "code",
   "execution_count": null,
   "metadata": {},
   "outputs": [],
   "source": [
    "cor_df.drop(columns=to_drop,inplace=True)\n",
    "cor_df"
   ]
  },
  {
   "cell_type": "code",
   "execution_count": null,
   "metadata": {},
   "outputs": [],
   "source": [
    "df_encode = pd.get_dummies(data=df[cate_col],columns= cate_col,drop_first=True)\n",
    "df_encode"
   ]
  },
  {
   "cell_type": "code",
   "execution_count": null,
   "metadata": {},
   "outputs": [],
   "source": [
    "#standard เฉพาะ continuous\n",
    "X_standard = std_scale.fit_transform(cor_df)\n",
    "X_standard = pd.DataFrame(X_standard,columns=cor_df.columns)\n",
    "#รวม dataframe continuous(หลังstandardize) กับ category\n",
    "df_afterEncode = pd.concat([X_standard,df_encode], axis=1, join='inner') \n",
    "column_afterEncode_temp = df_afterEncode.columns\n",
    "df_afterEncode\n"
   ]
  },
  {
   "cell_type": "code",
   "execution_count": null,
   "metadata": {},
   "outputs": [],
   "source": [
    "pca = PCA()\n",
    "X_pca = pca.fit_transform(df_afterEncode)\n",
    "fig = plt.figure(figsize =(10, 7))\n",
    "plt.bar([i for i in range(1,len(pca.explained_variance_ratio_)+1)],pca.explained_variance_ratio_,0.75)  #eigen value มี 39 ตัว เพราะมี 39 columns\n",
    "plt.ylabel(\"Explained variance ratio\",fontsize = 12) \n"
   ]
  },
  {
   "cell_type": "code",
   "execution_count": null,
   "metadata": {},
   "outputs": [],
   "source": [
    "pca2 = PCA(n_components=5)\n",
    "X_pca_2 = pca2.fit_transform(X_standard)"
   ]
  },
  {
   "cell_type": "code",
   "execution_count": null,
   "metadata": {},
   "outputs": [],
   "source": [
    "#shuffle spilt\n",
    "Rseed = 55\n",
    "x_train_set , x_test, y_train_set , y_test = train_test_split(X_standard,df['price'],test_size= 0.3,random_state= Rseed)\n",
    "x_train,x_validate,y_train,y_validate =     train_test_split(x_train_set,y_train_set,test_size=0.3 ,random_state= Rseed)\n"
   ]
  },
  {
   "cell_type": "code",
   "execution_count": null,
   "metadata": {},
   "outputs": [],
   "source": [
    "lr = LinearRegression()\n",
    "lr.fit(x_train, y_train)\n",
    "y_pred_lr = lr.predict(x_validate)\n",
    "y_test_pred_lr = lr.predict(x_test)"
   ]
  },
  {
   "cell_type": "code",
   "execution_count": null,
   "metadata": {},
   "outputs": [],
   "source": [
    "no_pca_r2_valid = r2_score(y_pred_lr,y_validate)\n",
    "no_pca_r2_test = r2_score(y_test_pred_lr,y_test)\n",
    "no_pca_mse_valid = mean_squared_error(y_pred_lr,y_validate)\n",
    "no_pca_mse_test = mean_squared_error(y_test_pred_lr,y_test)\n",
    "print(no_pca_r2_valid)    \n",
    "print(no_pca_r2_test)  \n",
    "print(no_pca_mse_valid)   \n",
    "print(no_pca_mse_test)"
   ]
  },
  {
   "cell_type": "code",
   "execution_count": null,
   "metadata": {},
   "outputs": [],
   "source": [
    "r2_valid_score = [no_pca_r2_valid]\n",
    "r2_test_score = [no_pca_r2_test]\n",
    "mse_valid_score = [no_pca_mse_valid]\n",
    "mse_test_score = [no_pca_mse_test]\n",
    "score_labelx = ['no PCA']\n",
    "x_pca_list = []\n",
    "n_compo = []\n",
    "for i in range (4,25,5):\n",
    "    pca = PCA(n_components=i)\n",
    "    X_pca = pca.fit_transform(df_afterEncode)\n",
    "    x_pca_list.append(X_pca)\n",
    "    n_compo.append(i)\n",
    "   \n",
    "for i in range (0,len(x_pca_list)):  \n",
    "    x_train_set , x_test, y_train_set , y_test  =     train_test_split(x_pca_list[i],df['price'],test_size= 0.3,random_state= Rseed) \n",
    "    x_train,x_validate,y_train,y_validate       =     train_test_split(x_train_set,y_train_set,test_size=0.3,random_state= Rseed) \n",
    "    lr = LinearRegression()    \n",
    "    lr.fit(x_train, y_train)\n",
    "    y_pred_lr       =   lr.predict(x_validate)      # valid y_pred_lr       y_validate\n",
    "    y_test_pred_lr  =   lr.predict(x_test)     # test  y_test_pred_lr  y_test\n",
    "        # print(f'r2_pred  = {r2_score(y_pred_lr,y_validate)}')    \n",
    "        # print(f'r2_test  = {r2_score(y_test_pred_lr,y_test)}')  # y_test_pred_lr ค่าที่ได้จาก model  , y_test ค่าที่แยกไว้ test\n",
    "        # print(f'mse_pred = {mean_squared_error(y_pred_lr,y_validate)}')   \n",
    "        # print(f'mse_test = {mean_squared_error(y_test_pred_lr,y_test)}')\n",
    "        # print(f'n_component = {n_compo[i]}')\n",
    "        # print('--------------------------------------')\n",
    "\n",
    "    r2_valid_score.append(r2_score(y_pred_lr,y_validate))\n",
    "    r2_test_score.append(r2_score(y_test_pred_lr,y_test))\n",
    "    mse_valid_score.append(mean_squared_error(y_pred_lr,y_validate))\n",
    "    mse_test_score.append (mean_squared_error(y_test_pred_lr,y_test))\n",
    "    score_labelx.append(f'PCA_{n_compo[i]}')  \n",
    "          \n",
    "    # fig = plt.figure(figsize =(10, 7))\n",
    "    # plt.bar(score_labelx,r2_valid_score,0.75)\n",
    "    # plt.plot(r2_test_score,color='r')\n",
    "\n",
    "    # fig = plt.figure(figsize =(10, 7))\n",
    "    # plt.bar(score_labelx,mse_valid_score,0.75)\n",
    "    # plt.plot(mse_test_score,color='r')\n",
    "\n",
    "    # score_labelx.clear()\n",
    "    # r2_test_score.clear()\n",
    "    # r2_valid_score.clear()\n",
    "    # mse_test_score.clear()\n",
    "    # mse_valid_score.clear()\n",
    "\n"
   ]
  },
  {
   "cell_type": "code",
   "execution_count": null,
   "metadata": {},
   "outputs": [],
   "source": [
    "fig = plt.figure(figsize =(10, 7))\n",
    "plt.bar(score_labelx,r2_valid_score ,0.75)\n",
    "plt.plot(r2_test_score,color='r')"
   ]
  },
  {
   "cell_type": "code",
   "execution_count": null,
   "metadata": {},
   "outputs": [],
   "source": [
    "fig = plt.figure(figsize =(10, 7))\n",
    "plt.bar(score_labelx, mse_valid_score,0.75)\n",
    "plt.plot(mse_test_score,color='r')"
   ]
  }
 ],
 "metadata": {
  "kernelspec": {
   "display_name": "Python 3.9.12 ('base')",
   "language": "python",
   "name": "python3"
  },
  "language_info": {
   "codemirror_mode": {
    "name": "ipython",
    "version": 3
   },
   "file_extension": ".py",
   "mimetype": "text/x-python",
   "name": "python",
   "nbconvert_exporter": "python",
   "pygments_lexer": "ipython3",
   "version": "3.9.12"
  },
  "orig_nbformat": 4,
  "vscode": {
   "interpreter": {
    "hash": "ad2bdc8ecc057115af97d19610ffacc2b4e99fae6737bb82f5d7fb13d2f2c186"
   }
  }
 },
 "nbformat": 4,
 "nbformat_minor": 2
}
