{
 "cells": [
  {
   "cell_type": "code",
   "execution_count": null,
   "metadata": {},
   "outputs": [],
   "source": [
    "import matplotlib.pyplot as plt\n",
    "import numpy as np\n",
    "import pandas as pd\n",
    "import seaborn as sns\n",
    "from sklearn import preprocessing"
   ]
  },
  {
   "cell_type": "code",
   "execution_count": null,
   "metadata": {},
   "outputs": [],
   "source": [
    "uri =\"Data_example.csv\"\n",
    "df = pd.read_csv(uri)\n",
    "df.info()"
   ]
  },
  {
   "cell_type": "code",
   "execution_count": null,
   "metadata": {},
   "outputs": [],
   "source": [
    "#df.drop_duplicates(inplace=True)\n",
    "df.replace({r'[^x00-x7F]+':''}, regex=True, inplace=True) \n",
    "df['X'].replace('[a-zA-Z]', np.nan,regex=True, inplace=True)\n",
    "df['Y'].replace('[a-zA-Z]', np.nan,regex=True, inplace=True)\n",
    "df\n"
   ]
  },
  {
   "cell_type": "code",
   "execution_count": null,
   "metadata": {},
   "outputs": [],
   "source": [
    "df['X'] = df['X'].astype(pd.Int64Dtype())\n",
    "# df['Y'] = df['Y'].astype(pd.Int64Dtype())\n",
    "df['Y'] = pd.to_numeric(df['Y'], errors='coerce').dropna() #errors = 'coerce' change to Nan if invalid\n",
    "\n"
   ]
  },
  {
   "cell_type": "code",
   "execution_count": null,
   "metadata": {},
   "outputs": [],
   "source": [
    "df = df.drop_duplicates()\n",
    "df = df[df.isnull().sum(axis=1)<2]\n",
    "X_median = int(df['X'].median())\n",
    "Y_mean = df['Y'].mean()\n",
    "\n",
    "df['X'].fillna(X_median , inplace=True)\n",
    "df['Y'].fillna(Y_mean, inplace=True)\n",
    "df['Z'].ffill(inplace=True)\n",
    "\n",
    "df"
   ]
  },
  {
   "cell_type": "code",
   "execution_count": null,
   "metadata": {},
   "outputs": [],
   "source": [
    "df.describe()\n"
   ]
  },
  {
   "cell_type": "code",
   "execution_count": null,
   "metadata": {},
   "outputs": [],
   "source": [
    "boxplot = sns.boxplot(data=df)\n",
    "boxplot.set(ylabel=\"Values\")\n",
    "plt.savefig('../Picture/Lab1/boxplot.png',dpi=300)"
   ]
  },
  {
   "cell_type": "code",
   "execution_count": null,
   "metadata": {},
   "outputs": [],
   "source": [
    "scaler = preprocessing.MinMaxScaler()\n",
    "minmax_df = scaler.fit_transform(df[['X','Y']])\n",
    "minmax_df = pd.DataFrame(minmax_df, columns=['X','Y'])\n",
    "minmax_df\n",
    "#sns.set_theme(style=\"whitegrid\")\n",
    "scale_boxplot  = sns.boxplot(data=minmax_df)\n",
    "scale_boxplot.set( ylabel='Values')\n",
    "plt.savefig('../Picture/Lab1/boxplot_minmax.png',dpi=300)\n"
   ]
  },
  {
   "cell_type": "code",
   "execution_count": null,
   "metadata": {},
   "outputs": [],
   "source": [
    "standard_scaler = preprocessing.StandardScaler()\n",
    "standard_df = standard_scaler.fit_transform(df[['X','Y']])\n",
    "standard_df = pd.DataFrame(standard_df, columns=['X','Y'])\n",
    "scale_boxplot  = sns.boxplot(data=standard_df)\n",
    "scale_boxplot.set( ylabel='Values')"
   ]
  },
  {
   "cell_type": "code",
   "execution_count": null,
   "metadata": {},
   "outputs": [],
   "source": [
    "Q1 = df.quantile(0.25)\n",
    "Q3 = df.quantile(0.75)\n",
    "iqr = 1.5*(Q3-Q1)\n",
    "print(f'{Q1}\\n{Q3}\\n{iqr}')\n"
   ]
  },
  {
   "cell_type": "code",
   "execution_count": null,
   "metadata": {},
   "outputs": [],
   "source": [
    "df.drop( df[ (df.X > Q3.X+iqr.X ) | (df.X < Q1.X-iqr.X)].index , inplace=True)\n",
    "df.drop( df[(df.Y > Q3.Y+iqr.Y ) | (df.Y < Q1.Y-iqr.Y)].index , inplace=True)\n",
    "df"
   ]
  },
  {
   "cell_type": "code",
   "execution_count": null,
   "metadata": {},
   "outputs": [],
   "source": [
    "boxplot = sns.boxplot(data=df)\n",
    "boxplot.set(ylabel=\"Values\")\n"
   ]
  },
  {
   "cell_type": "code",
   "execution_count": null,
   "metadata": {},
   "outputs": [],
   "source": [
    "minmax_df = scaler.fit_transform(df[['X','Y']])\n",
    "minmax_df = pd.DataFrame(minmax_df, columns=['X','Y'])\n",
    "minmax_df\n",
    "#sns.set_theme(style=\"whitegrid\")\n",
    "scale_boxplot  = sns.boxplot(data=minmax_df)\n",
    "scale_boxplot.set( ylabel='Values')\n",
    "import os\n",
    "print(os.getcwd())\n",
    "plt.savefig('../Picture/Lab1/boxplot_dropout.png',dpi=300)"
   ]
  },
  {
   "cell_type": "code",
   "execution_count": null,
   "metadata": {},
   "outputs": [],
   "source": [
    "standard_df = standard_scaler.fit_transform(df[['X','Y']])\n",
    "standard_df = pd.DataFrame(standard_df, columns=['X','Y'])\n",
    "scale_boxplot  = sns.boxplot(data=standard_df)\n",
    "scale_boxplot.set( ylabel='Values')"
   ]
  },
  {
   "cell_type": "code",
   "execution_count": null,
   "metadata": {},
   "outputs": [],
   "source": [
    "le = preprocessing.LabelEncoder()\n",
    "df.reset_index(inplace=True)\n",
    "le.fit(df.Z)\n",
    "list(le.classes_)"
   ]
  },
  {
   "cell_type": "code",
   "execution_count": null,
   "metadata": {},
   "outputs": [],
   "source": [
    "df['Z_category'] = le.transform(df.Z)\n",
    "df"
   ]
  },
  {
   "cell_type": "code",
   "execution_count": null,
   "metadata": {},
   "outputs": [],
   "source": [
    "ohe = preprocessing.OneHotEncoder(handle_unknown= 'ignore')\n",
    "arr = ohe.fit_transform(df[['Z']]).toarray()\n",
    "#preprocessing.OneHotEncoder(handle_unknown='ignore')\n",
    "arr\n",
    "\n"
   ]
  },
  {
   "cell_type": "code",
   "execution_count": null,
   "metadata": {},
   "outputs": [],
   "source": [
    "df[['bird','cat','dog']] = arr\n",
    "df"
   ]
  }
 ],
 "metadata": {
  "kernelspec": {
   "display_name": "Python 3.9.12 ('base')",
   "language": "python",
   "name": "python3"
  },
  "language_info": {
   "codemirror_mode": {
    "name": "ipython",
    "version": 3
   },
   "file_extension": ".py",
   "mimetype": "text/x-python",
   "name": "python",
   "nbconvert_exporter": "python",
   "pygments_lexer": "ipython3",
   "version": "3.9.12"
  },
  "orig_nbformat": 4,
  "vscode": {
   "interpreter": {
    "hash": "ad2bdc8ecc057115af97d19610ffacc2b4e99fae6737bb82f5d7fb13d2f2c186"
   }
  }
 },
 "nbformat": 4,
 "nbformat_minor": 2
}
