{
 "cells": [
  {
   "cell_type": "code",
   "execution_count": null,
   "metadata": {},
   "outputs": [],
   "source": [
    "import matplotlib.pyplot as plt\n",
    "import numpy as np\n",
    "import pandas as pd\n",
    "import plotly.express as px\n",
    "import seaborn as sns\n",
    "from sklearn import preprocessing\n",
    "from sklearn.ensemble import RandomForestClassifier\n",
    "from sklearn.metrics import (accuracy_score, classification_report,\n",
    "                             confusion_matrix)\n",
    "from sklearn.model_selection import GridSearchCV, train_test_split\n",
    "from sklearn.neighbors import KNeighborsClassifier\n",
    "from sklearn.tree import DecisionTreeClassifier"
   ]
  },
  {
   "cell_type": "markdown",
   "metadata": {},
   "source": [
    "# 7.1a"
   ]
  },
  {
   "cell_type": "code",
   "execution_count": null,
   "metadata": {},
   "outputs": [],
   "source": [
    "df = pd.read_csv('Coffee-modified.csv')\n",
    "select_lst = ['Total.Cup.Points', 'Species','Country.of.Origin','Processing.Method', 'Aroma', 'Flavor', 'Aftertaste',\n",
    "'Acidity','Body', 'Balance', 'Uniformity', 'Moisture', 'altitude_mean_meters']\n",
    "df = df.filter(select_lst)\n",
    "df.dropna(inplace=True)\n",
    "df.info()"
   ]
  },
  {
   "cell_type": "code",
   "execution_count": null,
   "metadata": {},
   "outputs": [],
   "source": [
    "Y = pd.DataFrame(df[df.columns[0]])\n",
    "X = pd.DataFrame(df[df.columns[1:]])\n",
    "Y=Y.reset_index(drop = True)\n",
    "X=X.reset_index(drop = True)\n",
    "print(X.info())\n",
    "print(Y.info())"
   ]
  },
  {
   "cell_type": "markdown",
   "metadata": {},
   "source": [
    "# 7.1b"
   ]
  },
  {
   "cell_type": "markdown",
   "metadata": {},
   "source": [
    "## Process Y from values to Coffee Bean Grade\n",
    "## define Bean_Grade = [1,2,3] \n"
   ]
  },
  {
   "cell_type": "code",
   "execution_count": null,
   "metadata": {},
   "outputs": [],
   "source": [
    "rating_pctile = np.percentile( Y, [75, 90])\n",
    "Bean_grade = []\n",
    "NSamples =[0,0,0]\n",
    "\n",
    "for i in Y.values:    \n",
    "    if float(i) < rating_pctile[0]: #75 percentile\n",
    "        NSamples[0] += 1 \n",
    "        Bean_grade.append(1)\n",
    "    elif rating_pctile [0] <= float(i) < rating_pctile [1]:\n",
    "        NSamples[1] += 1 \n",
    "        Bean_grade.append(2)\n",
    "    elif  float(i) >= rating_pctile[1]:\n",
    "        NSamples[2] +=1\n",
    "        Bean_grade.append(3)\n",
    "print(NSamples)\n",
    "\n"
   ]
  },
  {
   "cell_type": "code",
   "execution_count": null,
   "metadata": {},
   "outputs": [],
   "source": [
    "fig = px.bar(x = [1,2,3], y = NSamples, color=NSamples, range_y=[0.0,1000])\n",
    "fig.show()"
   ]
  },
  {
   "cell_type": "code",
   "execution_count": null,
   "metadata": {},
   "outputs": [],
   "source": [
    "Y[\"Bean_grade\"] = Bean_grade\n",
    "Y.drop([\"Total.Cup.Points\"],axis =1,inplace= True)\n",
    "Y"
   ]
  },
  {
   "cell_type": "markdown",
   "metadata": {},
   "source": [
    "# 7.1 (c)"
   ]
  },
  {
   "cell_type": "code",
   "execution_count": null,
   "metadata": {},
   "outputs": [],
   "source": [
    "X_category = X.select_dtypes(\"object\")\n",
    "X_continuous = X.select_dtypes(\"number\")\n",
    "print(X_category.info())\n",
    "print(X_continuous.info())\n"
   ]
  },
  {
   "cell_type": "code",
   "execution_count": null,
   "metadata": {},
   "outputs": [],
   "source": [
    "lower = pd.DataFrame(np.tril(X_continuous.corr(),-1),columns = X_continuous.corr().columns)\n",
    "to_drop = [column for column in lower.columns if any(lower[column] > 0.8)]\n",
    "X_continuous.drop(columns = to_drop,inplace=True)\n",
    "to_drop\n"
   ]
  },
  {
   "cell_type": "code",
   "execution_count": null,
   "metadata": {},
   "outputs": [],
   "source": [
    "standard_scaler = preprocessing.StandardScaler()\n",
    "s_X = pd.DataFrame(standard_scaler.fit_transform(X_continuous),columns= X_continuous.columns)\n",
    "X_Encoded = pd.get_dummies(X_category,columns=X_category.columns, drop_first=True )\n",
    "X_Encoded"
   ]
  },
  {
   "cell_type": "code",
   "execution_count": null,
   "metadata": {},
   "outputs": [],
   "source": [
    "X = X_Encoded.join(s_X)\n",
    "# X = pd.concat([X_Encoded, s_X], axis=1,join= 'outer')\n",
    "# print(s_X.shape)\n",
    "# print(X_Encoded.shape)\n",
    "print(X.info())\n",
    "print(Y.info())"
   ]
  },
  {
   "cell_type": "code",
   "execution_count": null,
   "metadata": {},
   "outputs": [],
   "source": [
    "seed = 55\n",
    "x_train, x_test, y_train, y_test = train_test_split(X, Y, test_size=0.3, random_state=seed)\n",
    "#KNN parameter\n",
    "# test_size = int(np.floor(0.3 * len( X )))\n",
    "# train_size = int(np.floor(0.7 * len( X )))\n",
    "# x_train, x_test = X[0:train_size], X[train_size:len(X)]\n",
    "# y_train, y_test = Y[0:train_size], Y[train_size:len(X)]"
   ]
  },
  {
   "cell_type": "markdown",
   "metadata": {},
   "source": [
    "# 7.2a KNN Model"
   ]
  },
  {
   "cell_type": "code",
   "execution_count": null,
   "metadata": {},
   "outputs": [],
   "source": [
    "\n",
    "from sklearn.metrics import r2_score\n",
    "\n",
    "k = [1,3,5,7,9,11,13,19,25,35]\n",
    "modelKNN = KNeighborsClassifier(n_neighbors=11,p=2)\n",
    "modelKNN.fit(x_train,y_train)\n",
    "\n",
    "y_pred = modelKNN.predict(x_test)\n",
    "KNNScore = accuracy_score(y_test,y_pred)\n",
    "KNNScore\n",
    "#rint(r2_score(y_test,y_pred))"
   ]
  },
  {
   "cell_type": "code",
   "execution_count": null,
   "metadata": {},
   "outputs": [],
   "source": [
    "print('Confusion Matrix: ')\n",
    "print(confusion_matrix(y_test, y_pred))\n",
    "print('Classification Report: ')\n",
    "print(classification_report(y_test, y_pred))"
   ]
  },
  {
   "cell_type": "markdown",
   "metadata": {},
   "source": [
    "## knn loop"
   ]
  },
  {
   "cell_type": "code",
   "execution_count": null,
   "metadata": {},
   "outputs": [],
   "source": [
    "KNN_score_list = []\n",
    "for i in range(0,len(k)):\n",
    "    modelKNN = KNeighborsClassifier(n_neighbors=k[i],p=2)\n",
    "    modelKNN.fit(x_train,y_train)\n",
    "\n",
    "    y_pred = modelKNN.predict(x_test)\n",
    "    KNNScore = accuracy_score(y_test,y_pred)\n",
    "    KNN_score_list.append(KNNScore)\n",
    "fig = px.bar(KNN_score_list,x=k,y=KNN_score_list,color = KNN_score_list,range_y=[0.7,1.0])\n",
    "fig.show()\n"
   ]
  },
  {
   "cell_type": "markdown",
   "metadata": {},
   "source": [
    "# 7.2b Decision Tree Model Training and Testing"
   ]
  },
  {
   "cell_type": "code",
   "execution_count": null,
   "metadata": {},
   "outputs": [],
   "source": [
    "# Decision tree parameter\n",
    "ASM_function = ['entropy','gini']\n",
    "maxD = [4,5,6,None]"
   ]
  },
  {
   "cell_type": "code",
   "execution_count": null,
   "metadata": {},
   "outputs": [],
   "source": [
    "#model training\n",
    "ModelDT = DecisionTreeClassifier(criterion= 'entropy' ,splitter='best',max_depth=4)\n",
    "ModelDT.fit(x_train,y_train)\n",
    "#model testing \n",
    "y_pred = ModelDT.predict(x_test)\n",
    "DTScore = accuracy_score(y_test,y_pred)\n",
    "DTScore"
   ]
  },
  {
   "cell_type": "code",
   "execution_count": null,
   "metadata": {},
   "outputs": [],
   "source": [
    "#Print Confusion Matrix and Classification Report for best k\n",
    "print('Confusion Matrix: ')\n",
    "print(confusion_matrix(y_test,y_pred))\n",
    "print('Classifiction Report: ')\n",
    "print(classification_report(y_test,y_pred))\n"
   ]
  },
  {
   "cell_type": "markdown",
   "metadata": {},
   "source": [
    "## loop"
   ]
  },
  {
   "cell_type": "code",
   "execution_count": null,
   "metadata": {},
   "outputs": [],
   "source": [
    "DTScore_list = []\n",
    "for j in ASM_function:\n",
    "    for i in range (0,len(maxD)):\n",
    "        ModelDT = DecisionTreeClassifier(criterion= j ,splitter='best',max_depth=maxD[i])\n",
    "        ModelDT.fit(x_train,y_train)\n",
    "        y_pred = ModelDT.predict(x_test)\n",
    "        DTScore = accuracy_score(y_test,y_pred)\n",
    "        DTScore_list.append(DTScore)\n",
    "        print(DTScore)\n"
   ]
  },
  {
   "cell_type": "code",
   "execution_count": null,
   "metadata": {},
   "outputs": [],
   "source": [
    "#visualize decision tree\n",
    "from sklearn import tree\n",
    "\n",
    "feature_names = x_train.columns\n",
    "Labels = np.unique(y_train)\n",
    "label = []\n",
    "for i in Labels:\n",
    "    label.append(str(i))\n",
    "print(feature_names)\n",
    "print(Labels)\n",
    "from matplotlib.pylab import rcParams\n",
    "\n",
    "##set up the parameters\n",
    "rcParams['figure.figsize'] = 100,50\n",
    "tree.plot_tree(ModelDT,feature_names= feature_names,class_names=label,rounded=True,filled = True,fontsize =9)\n",
    "plt.show()"
   ]
  },
  {
   "cell_type": "markdown",
   "metadata": {},
   "source": [
    "# 7.2c Random forest model training "
   ]
  },
  {
   "cell_type": "code",
   "execution_count": null,
   "metadata": {},
   "outputs": [],
   "source": [
    "# Random Forest parameter\n",
    "ASM_function = ['entropy','gini']\n",
    "nEstimator = 100 \n",
    "nJob = 8\n",
    "rState =10"
   ]
  },
  {
   "cell_type": "code",
   "execution_count": null,
   "metadata": {},
   "outputs": [],
   "source": [
    "# Model Training \n",
    "RandomF = RandomForestClassifier(criterion = 'entropy',n_estimators=nEstimator,n_jobs=nJob,random_state=rState)\n",
    "RandomF.fit(x_train,y_train)\n",
    "#Model Testing\n",
    "y_pred = RandomF.predict(x_test)\n",
    "RFScore = accuracy_score(y_test,y_pred)\n",
    "RFScore"
   ]
  },
  {
   "cell_type": "code",
   "execution_count": null,
   "metadata": {},
   "outputs": [],
   "source": [
    "#print confusion matrix and classification report for best k\n",
    "print('Confusion Matrix: ')\n",
    "print(confusion_matrix(y_test,y_pred))\n",
    "print('Classification Report: ')\n",
    "print(classification_report(y_test,y_pred))"
   ]
  },
  {
   "cell_type": "code",
   "execution_count": null,
   "metadata": {},
   "outputs": [],
   "source": [
    "RFScore_list = []\n",
    "for i in ASM_function:    \n",
    "    RandomF = RandomForestClassifier(criterion = i,n_estimators=nEstimator,n_jobs=nJob,random_state=rState)\n",
    "    RandomF.fit(x_train,y_train)    \n",
    "    y_pred = RandomF.predict(x_test)\n",
    "    RFScore = accuracy_score(y_test,y_pred.ravel())\n",
    "    RFScore_list.append(RFScore)\n",
    "    print(RFScore)"
   ]
  },
  {
   "cell_type": "markdown",
   "metadata": {},
   "source": [
    "## Visualize Feature Important Score "
   ]
  },
  {
   "cell_type": "code",
   "execution_count": null,
   "metadata": {},
   "outputs": [],
   "source": [
    "feature_imp = pd.Series(RandomF.feature_importances_,index = feature_names).sort_values(ascending=False)\n",
    "\n",
    "plt.figure(figsize=(15,15))\n",
    "sns.barplot(x=feature_imp,y=feature_imp.index)"
   ]
  },
  {
   "cell_type": "markdown",
   "metadata": {},
   "source": [
    "## Visualize selected estimator "
   ]
  },
  {
   "cell_type": "code",
   "execution_count": null,
   "metadata": {},
   "outputs": [],
   "source": [
    "fig,axes = plt.subplots(nrows=1 , ncols = 5 , figsize= (100,20),dpi = 500)\n",
    "for index in range(0,5):\n",
    "    tree.plot_tree(RandomF.estimators_[index],class_names=label,filled = True,ax = axes[index])\n",
    "axes[index].set_title('Estimator:'+str(index),fontsize=11)"
   ]
  },
  {
   "cell_type": "markdown",
   "metadata": {},
   "source": [
    "# Hyperparmeter Tuning"
   ]
  },
  {
   "cell_type": "code",
   "execution_count": null,
   "metadata": {},
   "outputs": [],
   "source": [
    "#Create Model List\n",
    "classification = {'KNN':KNeighborsClassifier(),'DT':DecisionTreeClassifier(),'RF':RandomForestClassifier()}\n",
    "#Create Parameter Dicitonary for KNN\n",
    "K_list = [1,3,5,7,9,11,13,15,17,19,21,23,35,45]\n",
    "KNN_param = dict(n_neighbors = K_list)\n",
    "#Create Parameter Dictionary for Decision Tree\n",
    "ASM_function = ['entropy','gini']\n",
    "maxD = [4,5,6,None]\n",
    "maxF =['auto','log2',None]\n",
    "minSample = [1,2,4]\n",
    "DT_param = dict(criterion = ASM_function,max_depth = maxD,min_samples_leaf = minSample,max_features = maxF)\n",
    "#Create Parameter Dictionary for Random Forest\n",
    "nEst = [10,30,50,100]\n",
    "RF_param = dict(n_estimators = nEst,criterion = ASM_function,max_depth = maxD,min_samples_leaf= minSample,max_features = maxF)\n",
    "DecisionTreeClassifier().get_params().keys()\n"
   ]
  },
  {
   "cell_type": "markdown",
   "metadata": {},
   "source": [
    "## Perform GridsearchCV()"
   ]
  },
  {
   "cell_type": "code",
   "execution_count": null,
   "metadata": {},
   "outputs": [],
   "source": [
    "# grid = GridSearchCV(estimator = classification['RF'],n_jobs=8,verbose=10,scoring='accuracy',cv=5,param_grid=RF_param)\n",
    "# grid_result = grid.fit(x_train,y_train)\n",
    "for i in classification:\n",
    "    print(i)"
   ]
  },
  {
   "cell_type": "code",
   "execution_count": null,
   "metadata": {},
   "outputs": [],
   "source": [
    "for model in classification:\n",
    "    if model == 'KNN':\n",
    "        param = KNN_param\n",
    "    elif model == 'DT':\n",
    "        param = DT_param\n",
    "    else:\n",
    "        param = RF_param\n",
    "    grid = GridSearchCV(estimator = classification[model],n_jobs=8,verbose=10,scoring='accuracy',cv=5,param_grid=param)\n",
    "    grid_result = grid.fit(x_train,y_train)"
   ]
  },
  {
   "cell_type": "code",
   "execution_count": null,
   "metadata": {},
   "outputs": [],
   "source": [
    "# Show Best Parameters \n",
    "print('Best params: ',grid_result.best_params_)\n",
    "print('Best score: ', grid_result.best_score_)"
   ]
  },
  {
   "cell_type": "code",
   "execution_count": null,
   "metadata": {},
   "outputs": [],
   "source": [
    "means   = grid_result.cv_results_['mean_test_score']\n",
    "stds    = grid_result.cv_results_['std_test_score']\n",
    "params  = grid_result.cv_results_['params']\n",
    "for mean, stdev, param in zip(means, stds, params):\n",
    "    print(\"%f (%f) with: %r\" % (mean, stdev, param))"
   ]
  },
  {
   "cell_type": "code",
   "execution_count": null,
   "metadata": {},
   "outputs": [],
   "source": []
  }
 ],
 "metadata": {
  "kernelspec": {
   "display_name": "Python 3.9.12 ('base')",
   "language": "python",
   "name": "python3"
  },
  "language_info": {
   "codemirror_mode": {
    "name": "ipython",
    "version": 3
   },
   "file_extension": ".py",
   "mimetype": "text/x-python",
   "name": "python",
   "nbconvert_exporter": "python",
   "pygments_lexer": "ipython3",
   "version": "3.9.12"
  },
  "orig_nbformat": 4,
  "vscode": {
   "interpreter": {
    "hash": "ad2bdc8ecc057115af97d19610ffacc2b4e99fae6737bb82f5d7fb13d2f2c186"
   }
  }
 },
 "nbformat": 4,
 "nbformat_minor": 2
}
