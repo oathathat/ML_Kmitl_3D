{
 "cells": [
  {
   "cell_type": "code",
   "execution_count": 4,
   "metadata": {},
   "outputs": [],
   "source": [
    "import datetime as dt\n",
    "import glob\n",
    "\n",
    "import matplotlib.pyplot as plt\n",
    "import numpy as np\n",
    "import pandas as pd\n",
    "from scipy import stats\n",
    "from sklearn import metrics, preprocessing\n",
    "from sklearn.metrics import (accuracy_score, classification_report,\n",
    "                             confusion_matrix)\n",
    "from sklearn.model_selection import (GridSearchCV, RandomizedSearchCV,\n",
    "                                     StratifiedKFold, cross_val_score,\n",
    "                                     train_test_split)\n",
    "from sklearn.preprocessing import StandardScaler\n",
    "from sklearn.svm import SVC\n",
    "from sklearn import model_selection"
   ]
  },
  {
   "cell_type": "markdown",
   "metadata": {},
   "source": [
    "# 8.1"
   ]
  },
  {
   "cell_type": "markdown",
   "metadata": {},
   "source": [
    "## 8.1a Load and prepare data"
   ]
  },
  {
   "cell_type": "code",
   "execution_count": 5,
   "metadata": {},
   "outputs": [],
   "source": [
    "ACC   = pd.read_csv('acceleration.txt', sep = ' ',names=['timedelta', 'accX', 'accY', 'accZ'])\n",
    "HeartR = pd.read_csv('heartrate.txt', sep = ',',names=['timedelta', 'heartrate'])\n",
    "SleepL = pd.read_csv('labeled_sleep.txt', sep = ' ',names=['timedelta', 'sleep'])"
   ]
  },
  {
   "cell_type": "code",
   "execution_count": 6,
   "metadata": {},
   "outputs": [
    {
     "name": "stdout",
     "output_type": "stream",
     "text": [
      "ACC start: -124489.16105 ACC end: 17643.046417\n",
      "HeartR start: -556410.36066 HeartR end: 16980.47229\n",
      "SleepL start: 0 SLeepL end: 16980\n"
     ]
    }
   ],
   "source": [
    "# Check 'timedelta' max(), min() of ACC, HeartR, SleepL (ช่วงเวลาที่มีข้อมูลใกล้กัน)\n",
    "ACC_max_date = ACC['timedelta'].max()\n",
    "ACC_min_date = ACC['timedelta'].min()\n",
    "# หา start_timedelta, end_timedelta\n",
    "HeartR_max = HeartR['timedelta'].max()\n",
    "HeartR_min = HeartR['timedelta'].min()\n",
    "\n",
    "SleepL_max = SleepL['timedelta'].max()\n",
    "SleepL_min = SleepL['timedelta'].min()\n",
    "\n",
    "print(f'ACC start: {ACC_min_date} ACC end: {ACC_max_date}')\n",
    "print(f'HeartR start: {HeartR_min} HeartR end: {HeartR_max}')\n",
    "print(f'SleepL start: {SleepL_min} SLeepL end: {SleepL_max}')\n"
   ]
  },
  {
   "cell_type": "code",
   "execution_count": 7,
   "metadata": {},
   "outputs": [],
   "source": [
    " # select only intersected timedelta (ACC, HeartR, SleepL) (ช่วงเวลาที่มีข้อมูลใกล้กัน) #เลือกขอบ\n",
    "ACC_new = ACC[(ACC['timedelta'] > SleepL_min) & (ACC['timedelta'] < SleepL_max)]\n",
    "HeartR_new = HeartR[(HeartR['timedelta']> SleepL_min) & HeartR['timedelta']< SleepL_max]\n",
    "SleepL_new = SleepL[(SleepL['timedelta']> SleepL_min) & SleepL['timedelta']< SleepL_max]"
   ]
  },
  {
   "cell_type": "markdown",
   "metadata": {},
   "source": [
    "## 8.1b Load and prepare data acc ปรับ sampling ข้อมูลเป็น 1 sec"
   ]
  },
  {
   "cell_type": "code",
   "execution_count": 8,
   "metadata": {},
   "outputs": [
    {
     "name": "stderr",
     "output_type": "stream",
     "text": [
      "C:\\Users\\ADMIN\\AppData\\Local\\Temp\\ipykernel_41616\\2630731856.py:3: SettingWithCopyWarning: \n",
      "A value is trying to be set on a copy of a slice from a DataFrame.\n",
      "Try using .loc[row_indexer,col_indexer] = value instead\n",
      "\n",
      "See the caveats in the documentation: https://pandas.pydata.org/pandas-docs/stable/user_guide/indexing.html#returning-a-view-versus-a-copy\n",
      "  ACC_new['timedelta'] = pd.DataFrame(pd.to_timedelta(ACC_new['timedelta'], unit='s').round('1s'))\n"
     ]
    },
    {
     "data": {
      "text/html": [
       "<div>\n",
       "<style scoped>\n",
       "    .dataframe tbody tr th:only-of-type {\n",
       "        vertical-align: middle;\n",
       "    }\n",
       "\n",
       "    .dataframe tbody tr th {\n",
       "        vertical-align: top;\n",
       "    }\n",
       "\n",
       "    .dataframe thead th {\n",
       "        text-align: right;\n",
       "    }\n",
       "</style>\n",
       "<table border=\"1\" class=\"dataframe\">\n",
       "  <thead>\n",
       "    <tr style=\"text-align: right;\">\n",
       "      <th></th>\n",
       "      <th>timedelta</th>\n",
       "      <th>accX</th>\n",
       "      <th>accY</th>\n",
       "      <th>accZ</th>\n",
       "    </tr>\n",
       "  </thead>\n",
       "  <tbody>\n",
       "    <tr>\n",
       "      <th>98777</th>\n",
       "      <td>0 days 00:00:00</td>\n",
       "      <td>-0.234650</td>\n",
       "      <td>0.905975</td>\n",
       "      <td>0.362747</td>\n",
       "    </tr>\n",
       "    <tr>\n",
       "      <th>98778</th>\n",
       "      <td>0 days 00:00:00</td>\n",
       "      <td>-0.231232</td>\n",
       "      <td>0.893265</td>\n",
       "      <td>0.371613</td>\n",
       "    </tr>\n",
       "    <tr>\n",
       "      <th>98779</th>\n",
       "      <td>0 days 00:00:00</td>\n",
       "      <td>-0.227814</td>\n",
       "      <td>0.915848</td>\n",
       "      <td>0.369049</td>\n",
       "    </tr>\n",
       "    <tr>\n",
       "      <th>98780</th>\n",
       "      <td>0 days 00:00:00</td>\n",
       "      <td>-0.240524</td>\n",
       "      <td>0.919159</td>\n",
       "      <td>0.352890</td>\n",
       "    </tr>\n",
       "    <tr>\n",
       "      <th>98781</th>\n",
       "      <td>0 days 00:00:00</td>\n",
       "      <td>-0.240448</td>\n",
       "      <td>0.889175</td>\n",
       "      <td>0.350143</td>\n",
       "    </tr>\n",
       "    <tr>\n",
       "      <th>...</th>\n",
       "      <td>...</td>\n",
       "      <td>...</td>\n",
       "      <td>...</td>\n",
       "      <td>...</td>\n",
       "    </tr>\n",
       "    <tr>\n",
       "      <th>948796</th>\n",
       "      <td>0 days 04:43:00</td>\n",
       "      <td>-0.442413</td>\n",
       "      <td>-0.527573</td>\n",
       "      <td>0.723450</td>\n",
       "    </tr>\n",
       "    <tr>\n",
       "      <th>948797</th>\n",
       "      <td>0 days 04:43:00</td>\n",
       "      <td>-0.441925</td>\n",
       "      <td>-0.527573</td>\n",
       "      <td>0.721985</td>\n",
       "    </tr>\n",
       "    <tr>\n",
       "      <th>948798</th>\n",
       "      <td>0 days 04:43:00</td>\n",
       "      <td>-0.441437</td>\n",
       "      <td>-0.526108</td>\n",
       "      <td>0.721985</td>\n",
       "    </tr>\n",
       "    <tr>\n",
       "      <th>948799</th>\n",
       "      <td>0 days 04:43:00</td>\n",
       "      <td>-0.443405</td>\n",
       "      <td>-0.525116</td>\n",
       "      <td>0.723434</td>\n",
       "    </tr>\n",
       "    <tr>\n",
       "      <th>948800</th>\n",
       "      <td>0 days 04:43:00</td>\n",
       "      <td>-0.441925</td>\n",
       "      <td>-0.524628</td>\n",
       "      <td>0.722458</td>\n",
       "    </tr>\n",
       "  </tbody>\n",
       "</table>\n",
       "<p>850024 rows × 4 columns</p>\n",
       "</div>"
      ],
      "text/plain": [
       "             timedelta      accX      accY      accZ\n",
       "98777  0 days 00:00:00 -0.234650  0.905975  0.362747\n",
       "98778  0 days 00:00:00 -0.231232  0.893265  0.371613\n",
       "98779  0 days 00:00:00 -0.227814  0.915848  0.369049\n",
       "98780  0 days 00:00:00 -0.240524  0.919159  0.352890\n",
       "98781  0 days 00:00:00 -0.240448  0.889175  0.350143\n",
       "...                ...       ...       ...       ...\n",
       "948796 0 days 04:43:00 -0.442413 -0.527573  0.723450\n",
       "948797 0 days 04:43:00 -0.441925 -0.527573  0.721985\n",
       "948798 0 days 04:43:00 -0.441437 -0.526108  0.721985\n",
       "948799 0 days 04:43:00 -0.443405 -0.525116  0.723434\n",
       "948800 0 days 04:43:00 -0.441925 -0.524628  0.722458\n",
       "\n",
       "[850024 rows x 4 columns]"
      ]
     },
     "execution_count": 8,
     "metadata": {},
     "output_type": "execute_result"
    }
   ],
   "source": [
    " # Convert to datetime and round to second,\n",
    " # ------------ Rounding ACC (Rounding to 1 sec) -------------------------------\n",
    "ACC_new['timedelta'] = pd.DataFrame(pd.to_timedelta(ACC_new['timedelta'], unit='s').round('1s'))\n",
    "ACC_new"
   ]
  },
  {
   "cell_type": "code",
   "execution_count": 9,
   "metadata": {},
   "outputs": [
    {
     "data": {
      "text/html": [
       "<div>\n",
       "<style scoped>\n",
       "    .dataframe tbody tr th:only-of-type {\n",
       "        vertical-align: middle;\n",
       "    }\n",
       "\n",
       "    .dataframe tbody tr th {\n",
       "        vertical-align: top;\n",
       "    }\n",
       "\n",
       "    .dataframe thead th {\n",
       "        text-align: right;\n",
       "    }\n",
       "</style>\n",
       "<table border=\"1\" class=\"dataframe\">\n",
       "  <thead>\n",
       "    <tr style=\"text-align: right;\">\n",
       "      <th></th>\n",
       "      <th>timedelta</th>\n",
       "      <th>accX</th>\n",
       "      <th>accY</th>\n",
       "      <th>accZ</th>\n",
       "    </tr>\n",
       "  </thead>\n",
       "  <tbody>\n",
       "    <tr>\n",
       "      <th>0</th>\n",
       "      <td>0 days 00:00:00</td>\n",
       "      <td>-0.243203</td>\n",
       "      <td>0.895372</td>\n",
       "      <td>0.367591</td>\n",
       "    </tr>\n",
       "    <tr>\n",
       "      <th>1</th>\n",
       "      <td>0 days 00:00:01</td>\n",
       "      <td>-0.240757</td>\n",
       "      <td>0.873826</td>\n",
       "      <td>0.415446</td>\n",
       "    </tr>\n",
       "    <tr>\n",
       "      <th>2</th>\n",
       "      <td>0 days 00:00:02</td>\n",
       "      <td>-0.244620</td>\n",
       "      <td>0.883943</td>\n",
       "      <td>0.387026</td>\n",
       "    </tr>\n",
       "    <tr>\n",
       "      <th>3</th>\n",
       "      <td>0 days 00:00:03</td>\n",
       "      <td>-0.248036</td>\n",
       "      <td>0.902427</td>\n",
       "      <td>0.347812</td>\n",
       "    </tr>\n",
       "    <tr>\n",
       "      <th>4</th>\n",
       "      <td>0 days 00:00:04</td>\n",
       "      <td>-0.241778</td>\n",
       "      <td>0.912946</td>\n",
       "      <td>0.321502</td>\n",
       "    </tr>\n",
       "    <tr>\n",
       "      <th>...</th>\n",
       "      <td>...</td>\n",
       "      <td>...</td>\n",
       "      <td>...</td>\n",
       "      <td>...</td>\n",
       "    </tr>\n",
       "    <tr>\n",
       "      <th>16976</th>\n",
       "      <td>0 days 04:42:56</td>\n",
       "      <td>-0.442763</td>\n",
       "      <td>-0.525892</td>\n",
       "      <td>0.722950</td>\n",
       "    </tr>\n",
       "    <tr>\n",
       "      <th>16977</th>\n",
       "      <td>0 days 04:42:57</td>\n",
       "      <td>-0.441990</td>\n",
       "      <td>-0.525476</td>\n",
       "      <td>0.723410</td>\n",
       "    </tr>\n",
       "    <tr>\n",
       "      <th>16978</th>\n",
       "      <td>0 days 04:42:58</td>\n",
       "      <td>-0.441581</td>\n",
       "      <td>-0.525116</td>\n",
       "      <td>0.724003</td>\n",
       "    </tr>\n",
       "    <tr>\n",
       "      <th>16979</th>\n",
       "      <td>0 days 04:42:59</td>\n",
       "      <td>-0.442283</td>\n",
       "      <td>-0.525849</td>\n",
       "      <td>0.723265</td>\n",
       "    </tr>\n",
       "    <tr>\n",
       "      <th>16980</th>\n",
       "      <td>0 days 04:43:00</td>\n",
       "      <td>-0.442674</td>\n",
       "      <td>-0.525962</td>\n",
       "      <td>0.722678</td>\n",
       "    </tr>\n",
       "  </tbody>\n",
       "</table>\n",
       "<p>16981 rows × 4 columns</p>\n",
       "</div>"
      ],
      "text/plain": [
       "            timedelta      accX      accY      accZ\n",
       "0     0 days 00:00:00 -0.243203  0.895372  0.367591\n",
       "1     0 days 00:00:01 -0.240757  0.873826  0.415446\n",
       "2     0 days 00:00:02 -0.244620  0.883943  0.387026\n",
       "3     0 days 00:00:03 -0.248036  0.902427  0.347812\n",
       "4     0 days 00:00:04 -0.241778  0.912946  0.321502\n",
       "...               ...       ...       ...       ...\n",
       "16976 0 days 04:42:56 -0.442763 -0.525892  0.722950\n",
       "16977 0 days 04:42:57 -0.441990 -0.525476  0.723410\n",
       "16978 0 days 04:42:58 -0.441581 -0.525116  0.724003\n",
       "16979 0 days 04:42:59 -0.442283 -0.525849  0.723265\n",
       "16980 0 days 04:43:00 -0.442674 -0.525962  0.722678\n",
       "\n",
       "[16981 rows x 4 columns]"
      ]
     },
     "execution_count": 9,
     "metadata": {},
     "output_type": "execute_result"
    }
   ],
   "source": [
    "# Average rounding duplicated time\n",
    "df_acc_X = ACC_new.groupby('timedelta')['accX'].mean().reset_index()\n",
    "df_acc_Y = ACC_new.groupby('timedelta')['accY'].mean().reset_index()\n",
    "df_acc_Z = ACC_new.groupby('timedelta')['accZ'].mean().reset_index()\n",
    "ACC = pd.concat([df_acc_X, df_acc_Y, df_acc_Z], axis=1)\n",
    "ACC = ACC.loc[:,~ACC.columns.duplicated()].copy() #ตัด duplicate columns(timedelta)\n",
    "ACC"
   ]
  },
  {
   "cell_type": "markdown",
   "metadata": {},
   "source": [
    "## 8.1c Load and prepare data heart rate"
   ]
  },
  {
   "cell_type": "code",
   "execution_count": 10,
   "metadata": {},
   "outputs": [],
   "source": [
    "# ------------ Rounding Heart Rate (Rounding to 1 sec) -------------------------------\n",
    "HeartR_new['timedelta'] = pd.DataFrame(pd.to_timedelta(HeartR_new['timedelta'],unit='s').round('1s'))"
   ]
  },
  {
   "cell_type": "code",
   "execution_count": 11,
   "metadata": {},
   "outputs": [],
   "source": [
    "# Resampling every 1s with median with ffill\n",
    "resample_rule = '1s'\n",
    "HeartR_new2 = HeartR_new.set_index('timedelta').resample(resample_rule,).median().ffill()"
   ]
  },
  {
   "cell_type": "markdown",
   "metadata": {},
   "source": [
    "## 8.1d load and prepare data sleep label"
   ]
  },
  {
   "cell_type": "code",
   "execution_count": 12,
   "metadata": {},
   "outputs": [],
   "source": [
    "# ------------ Rounding Sleep Label (Rounding to 1 sec) -------------------------------\n",
    "SleepL_new['timedelta'] = pd.DataFrame(pd.to_timedelta(SleepL_new['timedelta'],unit='s').round('1s'))"
   ]
  },
  {
   "cell_type": "code",
   "execution_count": 13,
   "metadata": {},
   "outputs": [],
   "source": [
    "# Resampling every 1s with median with ffill\n",
    "resample_rule = '1s'\n",
    "SleepL_new2 = SleepL_new.set_index('timedelta').resample(resample_rule,).median().ffill()"
   ]
  },
  {
   "cell_type": "markdown",
   "metadata": {},
   "source": [
    "## 8.1e Merge data andd standardized data"
   ]
  },
  {
   "cell_type": "code",
   "execution_count": 33,
   "metadata": {},
   "outputs": [
    {
     "data": {
      "text/html": [
       "<div>\n",
       "<style scoped>\n",
       "    .dataframe tbody tr th:only-of-type {\n",
       "        vertical-align: middle;\n",
       "    }\n",
       "\n",
       "    .dataframe tbody tr th {\n",
       "        vertical-align: top;\n",
       "    }\n",
       "\n",
       "    .dataframe thead th {\n",
       "        text-align: right;\n",
       "    }\n",
       "</style>\n",
       "<table border=\"1\" class=\"dataframe\">\n",
       "  <thead>\n",
       "    <tr style=\"text-align: right;\">\n",
       "      <th></th>\n",
       "      <th>timedelta</th>\n",
       "      <th>accX</th>\n",
       "      <th>accY</th>\n",
       "      <th>accZ</th>\n",
       "      <th>heartrate</th>\n",
       "      <th>sleep</th>\n",
       "    </tr>\n",
       "  </thead>\n",
       "  <tbody>\n",
       "    <tr>\n",
       "      <th>0</th>\n",
       "      <td>0 days 00:00:00</td>\n",
       "      <td>-0.243203</td>\n",
       "      <td>0.895372</td>\n",
       "      <td>0.367591</td>\n",
       "      <td>87.0</td>\n",
       "      <td>-1.0</td>\n",
       "    </tr>\n",
       "    <tr>\n",
       "      <th>1</th>\n",
       "      <td>0 days 00:00:01</td>\n",
       "      <td>-0.240757</td>\n",
       "      <td>0.873826</td>\n",
       "      <td>0.415446</td>\n",
       "      <td>87.0</td>\n",
       "      <td>-1.0</td>\n",
       "    </tr>\n",
       "    <tr>\n",
       "      <th>2</th>\n",
       "      <td>0 days 00:00:02</td>\n",
       "      <td>-0.244620</td>\n",
       "      <td>0.883943</td>\n",
       "      <td>0.387026</td>\n",
       "      <td>87.0</td>\n",
       "      <td>-1.0</td>\n",
       "    </tr>\n",
       "    <tr>\n",
       "      <th>3</th>\n",
       "      <td>0 days 00:00:03</td>\n",
       "      <td>-0.248036</td>\n",
       "      <td>0.902427</td>\n",
       "      <td>0.347812</td>\n",
       "      <td>87.0</td>\n",
       "      <td>-1.0</td>\n",
       "    </tr>\n",
       "    <tr>\n",
       "      <th>4</th>\n",
       "      <td>0 days 00:00:04</td>\n",
       "      <td>-0.241778</td>\n",
       "      <td>0.912946</td>\n",
       "      <td>0.321502</td>\n",
       "      <td>87.0</td>\n",
       "      <td>-1.0</td>\n",
       "    </tr>\n",
       "    <tr>\n",
       "      <th>...</th>\n",
       "      <td>...</td>\n",
       "      <td>...</td>\n",
       "      <td>...</td>\n",
       "      <td>...</td>\n",
       "      <td>...</td>\n",
       "      <td>...</td>\n",
       "    </tr>\n",
       "    <tr>\n",
       "      <th>16976</th>\n",
       "      <td>0 days 04:42:56</td>\n",
       "      <td>-0.442763</td>\n",
       "      <td>-0.525892</td>\n",
       "      <td>0.722950</td>\n",
       "      <td>76.0</td>\n",
       "      <td>0.0</td>\n",
       "    </tr>\n",
       "    <tr>\n",
       "      <th>16977</th>\n",
       "      <td>0 days 04:42:57</td>\n",
       "      <td>-0.441990</td>\n",
       "      <td>-0.525476</td>\n",
       "      <td>0.723410</td>\n",
       "      <td>76.0</td>\n",
       "      <td>0.0</td>\n",
       "    </tr>\n",
       "    <tr>\n",
       "      <th>16978</th>\n",
       "      <td>0 days 04:42:58</td>\n",
       "      <td>-0.441581</td>\n",
       "      <td>-0.525116</td>\n",
       "      <td>0.724003</td>\n",
       "      <td>76.0</td>\n",
       "      <td>0.0</td>\n",
       "    </tr>\n",
       "    <tr>\n",
       "      <th>16979</th>\n",
       "      <td>0 days 04:42:59</td>\n",
       "      <td>-0.442283</td>\n",
       "      <td>-0.525849</td>\n",
       "      <td>0.723265</td>\n",
       "      <td>76.0</td>\n",
       "      <td>0.0</td>\n",
       "    </tr>\n",
       "    <tr>\n",
       "      <th>16980</th>\n",
       "      <td>0 days 04:43:00</td>\n",
       "      <td>-0.442674</td>\n",
       "      <td>-0.525962</td>\n",
       "      <td>0.722678</td>\n",
       "      <td>75.0</td>\n",
       "      <td>0.0</td>\n",
       "    </tr>\n",
       "  </tbody>\n",
       "</table>\n",
       "<p>16981 rows × 6 columns</p>\n",
       "</div>"
      ],
      "text/plain": [
       "            timedelta      accX      accY      accZ  heartrate  sleep\n",
       "0     0 days 00:00:00 -0.243203  0.895372  0.367591       87.0   -1.0\n",
       "1     0 days 00:00:01 -0.240757  0.873826  0.415446       87.0   -1.0\n",
       "2     0 days 00:00:02 -0.244620  0.883943  0.387026       87.0   -1.0\n",
       "3     0 days 00:00:03 -0.248036  0.902427  0.347812       87.0   -1.0\n",
       "4     0 days 00:00:04 -0.241778  0.912946  0.321502       87.0   -1.0\n",
       "...               ...       ...       ...       ...        ...    ...\n",
       "16976 0 days 04:42:56 -0.442763 -0.525892  0.722950       76.0    0.0\n",
       "16977 0 days 04:42:57 -0.441990 -0.525476  0.723410       76.0    0.0\n",
       "16978 0 days 04:42:58 -0.441581 -0.525116  0.724003       76.0    0.0\n",
       "16979 0 days 04:42:59 -0.442283 -0.525849  0.723265       76.0    0.0\n",
       "16980 0 days 04:43:00 -0.442674 -0.525962  0.722678       75.0    0.0\n",
       "\n",
       "[16981 rows x 6 columns]"
      ]
     },
     "execution_count": 33,
     "metadata": {},
     "output_type": "execute_result"
    }
   ],
   "source": [
    "# ------------Merge All Data -------------------------------\n",
    "df = []\n",
    "df = pd.merge_asof(ACC, HeartR_new2, on='timedelta')\n",
    "df = pd.merge_asof(df, SleepL_new2, on = 'timedelta')\n"
   ]
  },
  {
   "cell_type": "code",
   "execution_count": 15,
   "metadata": {},
   "outputs": [
    {
     "data": {
      "text/html": [
       "<div>\n",
       "<style scoped>\n",
       "    .dataframe tbody tr th:only-of-type {\n",
       "        vertical-align: middle;\n",
       "    }\n",
       "\n",
       "    .dataframe tbody tr th {\n",
       "        vertical-align: top;\n",
       "    }\n",
       "\n",
       "    .dataframe thead th {\n",
       "        text-align: right;\n",
       "    }\n",
       "</style>\n",
       "<table border=\"1\" class=\"dataframe\">\n",
       "  <thead>\n",
       "    <tr style=\"text-align: right;\">\n",
       "      <th></th>\n",
       "      <th>accX</th>\n",
       "      <th>accY</th>\n",
       "      <th>accZ</th>\n",
       "      <th>heartrate</th>\n",
       "      <th>sleep</th>\n",
       "    </tr>\n",
       "  </thead>\n",
       "  <tbody>\n",
       "    <tr>\n",
       "      <th>0</th>\n",
       "      <td>-0.243203</td>\n",
       "      <td>0.895372</td>\n",
       "      <td>0.367591</td>\n",
       "      <td>87.0</td>\n",
       "      <td>-1.0</td>\n",
       "    </tr>\n",
       "    <tr>\n",
       "      <th>1</th>\n",
       "      <td>-0.240757</td>\n",
       "      <td>0.873826</td>\n",
       "      <td>0.415446</td>\n",
       "      <td>87.0</td>\n",
       "      <td>-1.0</td>\n",
       "    </tr>\n",
       "    <tr>\n",
       "      <th>2</th>\n",
       "      <td>-0.244620</td>\n",
       "      <td>0.883943</td>\n",
       "      <td>0.387026</td>\n",
       "      <td>87.0</td>\n",
       "      <td>-1.0</td>\n",
       "    </tr>\n",
       "    <tr>\n",
       "      <th>3</th>\n",
       "      <td>-0.248036</td>\n",
       "      <td>0.902427</td>\n",
       "      <td>0.347812</td>\n",
       "      <td>87.0</td>\n",
       "      <td>-1.0</td>\n",
       "    </tr>\n",
       "    <tr>\n",
       "      <th>4</th>\n",
       "      <td>-0.241778</td>\n",
       "      <td>0.912946</td>\n",
       "      <td>0.321502</td>\n",
       "      <td>87.0</td>\n",
       "      <td>-1.0</td>\n",
       "    </tr>\n",
       "    <tr>\n",
       "      <th>...</th>\n",
       "      <td>...</td>\n",
       "      <td>...</td>\n",
       "      <td>...</td>\n",
       "      <td>...</td>\n",
       "      <td>...</td>\n",
       "    </tr>\n",
       "    <tr>\n",
       "      <th>16976</th>\n",
       "      <td>-0.442763</td>\n",
       "      <td>-0.525892</td>\n",
       "      <td>0.722950</td>\n",
       "      <td>76.0</td>\n",
       "      <td>0.0</td>\n",
       "    </tr>\n",
       "    <tr>\n",
       "      <th>16977</th>\n",
       "      <td>-0.441990</td>\n",
       "      <td>-0.525476</td>\n",
       "      <td>0.723410</td>\n",
       "      <td>76.0</td>\n",
       "      <td>0.0</td>\n",
       "    </tr>\n",
       "    <tr>\n",
       "      <th>16978</th>\n",
       "      <td>-0.441581</td>\n",
       "      <td>-0.525116</td>\n",
       "      <td>0.724003</td>\n",
       "      <td>76.0</td>\n",
       "      <td>0.0</td>\n",
       "    </tr>\n",
       "    <tr>\n",
       "      <th>16979</th>\n",
       "      <td>-0.442283</td>\n",
       "      <td>-0.525849</td>\n",
       "      <td>0.723265</td>\n",
       "      <td>76.0</td>\n",
       "      <td>0.0</td>\n",
       "    </tr>\n",
       "    <tr>\n",
       "      <th>16980</th>\n",
       "      <td>-0.442674</td>\n",
       "      <td>-0.525962</td>\n",
       "      <td>0.722678</td>\n",
       "      <td>75.0</td>\n",
       "      <td>0.0</td>\n",
       "    </tr>\n",
       "  </tbody>\n",
       "</table>\n",
       "<p>16981 rows × 5 columns</p>\n",
       "</div>"
      ],
      "text/plain": [
       "           accX      accY      accZ  heartrate  sleep\n",
       "0     -0.243203  0.895372  0.367591       87.0   -1.0\n",
       "1     -0.240757  0.873826  0.415446       87.0   -1.0\n",
       "2     -0.244620  0.883943  0.387026       87.0   -1.0\n",
       "3     -0.248036  0.902427  0.347812       87.0   -1.0\n",
       "4     -0.241778  0.912946  0.321502       87.0   -1.0\n",
       "...         ...       ...       ...        ...    ...\n",
       "16976 -0.442763 -0.525892  0.722950       76.0    0.0\n",
       "16977 -0.441990 -0.525476  0.723410       76.0    0.0\n",
       "16978 -0.441581 -0.525116  0.724003       76.0    0.0\n",
       "16979 -0.442283 -0.525849  0.723265       76.0    0.0\n",
       "16980 -0.442674 -0.525962  0.722678       75.0    0.0\n",
       "\n",
       "[16981 rows x 5 columns]"
      ]
     },
     "execution_count": 15,
     "metadata": {},
     "output_type": "execute_result"
    }
   ],
   "source": [
    "# Fill NA\n",
    "# Heart rate\n",
    "# Fillna() # using median()\n",
    "heart_mean = df.heartrate.mean()\n",
    "df.heartrate.fillna(heart_mean,inplace=True)\n",
    "# # Sleep Label\n",
    "# Fillna() # with 0\n",
    "df.sleep.fillna(0,inplace=True)\n",
    "# # Drop column\n",
    "df.drop(columns='timedelta',inplace=True)\n",
    "df"
   ]
  },
  {
   "cell_type": "code",
   "execution_count": 16,
   "metadata": {},
   "outputs": [
    {
     "data": {
      "text/html": [
       "<div>\n",
       "<style scoped>\n",
       "    .dataframe tbody tr th:only-of-type {\n",
       "        vertical-align: middle;\n",
       "    }\n",
       "\n",
       "    .dataframe tbody tr th {\n",
       "        vertical-align: top;\n",
       "    }\n",
       "\n",
       "    .dataframe thead th {\n",
       "        text-align: right;\n",
       "    }\n",
       "</style>\n",
       "<table border=\"1\" class=\"dataframe\">\n",
       "  <thead>\n",
       "    <tr style=\"text-align: right;\">\n",
       "      <th></th>\n",
       "      <th>accX</th>\n",
       "      <th>accY</th>\n",
       "      <th>accZ</th>\n",
       "      <th>heartrate</th>\n",
       "    </tr>\n",
       "  </thead>\n",
       "  <tbody>\n",
       "    <tr>\n",
       "      <th>0</th>\n",
       "      <td>-0.587547</td>\n",
       "      <td>3.058075</td>\n",
       "      <td>0.698728</td>\n",
       "      <td>0.788122</td>\n",
       "    </tr>\n",
       "    <tr>\n",
       "      <th>1</th>\n",
       "      <td>-0.581456</td>\n",
       "      <td>2.995094</td>\n",
       "      <td>0.757746</td>\n",
       "      <td>0.788122</td>\n",
       "    </tr>\n",
       "    <tr>\n",
       "      <th>2</th>\n",
       "      <td>-0.591075</td>\n",
       "      <td>3.024668</td>\n",
       "      <td>0.722696</td>\n",
       "      <td>0.788122</td>\n",
       "    </tr>\n",
       "    <tr>\n",
       "      <th>3</th>\n",
       "      <td>-0.599581</td>\n",
       "      <td>3.078699</td>\n",
       "      <td>0.674335</td>\n",
       "      <td>0.788122</td>\n",
       "    </tr>\n",
       "    <tr>\n",
       "      <th>4</th>\n",
       "      <td>-0.583998</td>\n",
       "      <td>3.109450</td>\n",
       "      <td>0.641889</td>\n",
       "      <td>0.788122</td>\n",
       "    </tr>\n",
       "    <tr>\n",
       "      <th>...</th>\n",
       "      <td>...</td>\n",
       "      <td>...</td>\n",
       "      <td>...</td>\n",
       "      <td>...</td>\n",
       "    </tr>\n",
       "    <tr>\n",
       "      <th>16976</th>\n",
       "      <td>-1.084456</td>\n",
       "      <td>-1.096565</td>\n",
       "      <td>1.136974</td>\n",
       "      <td>-0.630659</td>\n",
       "    </tr>\n",
       "    <tr>\n",
       "      <th>16977</th>\n",
       "      <td>-1.082531</td>\n",
       "      <td>-1.095348</td>\n",
       "      <td>1.137542</td>\n",
       "      <td>-0.630659</td>\n",
       "    </tr>\n",
       "    <tr>\n",
       "      <th>16978</th>\n",
       "      <td>-1.081511</td>\n",
       "      <td>-1.094296</td>\n",
       "      <td>1.138273</td>\n",
       "      <td>-0.630659</td>\n",
       "    </tr>\n",
       "    <tr>\n",
       "      <th>16979</th>\n",
       "      <td>-1.083260</td>\n",
       "      <td>-1.096440</td>\n",
       "      <td>1.137363</td>\n",
       "      <td>-0.630659</td>\n",
       "    </tr>\n",
       "    <tr>\n",
       "      <th>16980</th>\n",
       "      <td>-1.084234</td>\n",
       "      <td>-1.096769</td>\n",
       "      <td>1.136639</td>\n",
       "      <td>-0.759639</td>\n",
       "    </tr>\n",
       "  </tbody>\n",
       "</table>\n",
       "<p>16981 rows × 4 columns</p>\n",
       "</div>"
      ],
      "text/plain": [
       "           accX      accY      accZ  heartrate\n",
       "0     -0.587547  3.058075  0.698728   0.788122\n",
       "1     -0.581456  2.995094  0.757746   0.788122\n",
       "2     -0.591075  3.024668  0.722696   0.788122\n",
       "3     -0.599581  3.078699  0.674335   0.788122\n",
       "4     -0.583998  3.109450  0.641889   0.788122\n",
       "...         ...       ...       ...        ...\n",
       "16976 -1.084456 -1.096565  1.136974  -0.630659\n",
       "16977 -1.082531 -1.095348  1.137542  -0.630659\n",
       "16978 -1.081511 -1.094296  1.138273  -0.630659\n",
       "16979 -1.083260 -1.096440  1.137363  -0.630659\n",
       "16980 -1.084234 -1.096769  1.136639  -0.759639\n",
       "\n",
       "[16981 rows x 4 columns]"
      ]
     },
     "execution_count": 16,
     "metadata": {},
     "output_type": "execute_result"
    }
   ],
   "source": [
    "# Standardized data\n",
    "feature_columns = ['accX', 'accY', 'accZ', 'heartrate']\n",
    "label_columns = ['sleep']\n",
    "standard_scaler = preprocessing.StandardScaler()\n",
    "df[feature_columns] = standard_scaler.fit_transform(df[feature_columns])\n",
    "\n",
    "df_feature = df[feature_columns]\n",
    "df_label = df[label_columns]\n",
    "df_feature"
   ]
  },
  {
   "cell_type": "markdown",
   "metadata": {},
   "source": [
    "### Visualize signals"
   ]
  },
  {
   "cell_type": "code",
   "execution_count": 37,
   "metadata": {},
   "outputs": [
    {
     "data": {
      "text/plain": [
       "[<matplotlib.lines.Line2D at 0x1b0c807acd0>]"
      ]
     },
     "execution_count": 37,
     "metadata": {},
     "output_type": "execute_result"
    },
    {
     "data": {
      "image/png": "[encoded data removed]",
      "text/plain": [
       "<Figure size 432x288 with 1 Axes>"
      ]
     },
     "metadata": {
      "needs_background": "light"
     },
     "output_type": "display_data"
    }
   ],
   "source": [
    "lst = [int(i) for i in range(len(df[feature_columns]))]\n",
    "plt.plot(lst,df_feature.accX)\n",
    "plt.plot(lst,df_feature.accY)\n",
    "plt.plot(lst,df_feature.accZ)\n",
    "plt.plot(lst,df_feature.heartrate)"
   ]
  },
  {
   "cell_type": "code",
   "execution_count": 18,
   "metadata": {},
   "outputs": [
    {
     "data": {
      "text/plain": [
       "[<matplotlib.lines.Line2D at 0x1b0c5b2c1f0>]"
      ]
     },
     "execution_count": 18,
     "metadata": {},
     "output_type": "execute_result"
    },
    {
     "data": {
      "image/png": "[encoded data removed]",
      "text/plain": [
       "<Figure size 432x288 with 1 Axes>"
      ]
     },
     "metadata": {
      "needs_background": "light"
     },
     "output_type": "display_data"
    }
   ],
   "source": [
    "lst = [int(i) for i in range(len(df.heartrate))]\n",
    "plt.plot(lst,df_label.sleep)"
   ]
  },
  {
   "cell_type": "markdown",
   "metadata": {},
   "source": [
    "# 8.2"
   ]
  },
  {
   "cell_type": "markdown",
   "metadata": {},
   "source": [
    "## 8.2 a svm model training and testing"
   ]
  },
  {
   "cell_type": "code",
   "execution_count": 19,
   "metadata": {},
   "outputs": [],
   "source": [
    "x = df_feature\n",
    "y = df_label\n",
    "seed = 55\n",
    "x_train,x_test, y_train, y_test = model_selection.train_test_split(x, y, test_size=0.3, random_state=seed)"
   ]
  },
  {
   "cell_type": "code",
   "execution_count": 20,
   "metadata": {},
   "outputs": [],
   "source": [
    "# Model Traing Parameter\n",
    "# Create SVC model\n",
    "c_val = 100 \n",
    "gmm =0.1\n",
    "d = 2"
   ]
  },
  {
   "cell_type": "code",
   "execution_count": 21,
   "metadata": {},
   "outputs": [],
   "source": [
    "# Model initialize\n",
    "svc_lin = SVC(kernel='linear', C=c_val)\n",
    "svc_rbf = SVC(kernel='rbf', C=c_val, gamma=gmm)\n",
    "svc_poly = SVC(kernel='poly', C=c_val, degree = d)"
   ]
  },
  {
   "cell_type": "code",
   "execution_count": 22,
   "metadata": {},
   "outputs": [
    {
     "name": "stderr",
     "output_type": "stream",
     "text": [
      "c:\\ProgramData\\Anaconda3\\lib\\site-packages\\sklearn\\utils\\validation.py:993: DataConversionWarning: A column-vector y was passed when a 1d array was expected. Please change the shape of y to (n_samples, ), for example using ravel().\n",
      "  y = column_or_1d(y, warn=True)\n",
      "c:\\ProgramData\\Anaconda3\\lib\\site-packages\\sklearn\\utils\\validation.py:993: DataConversionWarning: A column-vector y was passed when a 1d array was expected. Please change the shape of y to (n_samples, ), for example using ravel().\n",
      "  y = column_or_1d(y, warn=True)\n",
      "c:\\ProgramData\\Anaconda3\\lib\\site-packages\\sklearn\\utils\\validation.py:993: DataConversionWarning: A column-vector y was passed when a 1d array was expected. Please change the shape of y to (n_samples, ), for example using ravel().\n",
      "  y = column_or_1d(y, warn=True)\n"
     ]
    }
   ],
   "source": [
    "# Model Training\n",
    "svc_lin = svc_lin.fit(x_train,y_train)\n",
    "svc_rbf = svc_rbf.fit(x_train, y_train)\n",
    "svc_poly = svc_poly.fit(x_train, y_train)"
   ]
  },
  {
   "cell_type": "code",
   "execution_count": 23,
   "metadata": {},
   "outputs": [],
   "source": [
    "# Model Testing (Predict)\n",
    "svc_lin_pred = svc_lin.predict(x_test)\n",
    "svc_rbf_pred = svc_rbf.predict(x_test)\n",
    "svc_poly_pred = svc_poly.predict(x_test)"
   ]
  },
  {
   "cell_type": "markdown",
   "metadata": {},
   "source": [
    "## 8.2b svm prediction report"
   ]
  },
  {
   "cell_type": "code",
   "execution_count": 24,
   "metadata": {},
   "outputs": [
    {
     "name": "stdout",
     "output_type": "stream",
     "text": [
      "----- Confusion matrix of SVC linear -----\n",
      "[[  91    0    0    7    0    0]\n",
      " [  43  415    0  173   62   22]\n",
      " [  11   91    0  117   41   17]\n",
      " [  20   81    0  920   75  432]\n",
      " [   0    2    0   61  627  696]\n",
      " [   0   59    0    0    0 1032]]\n",
      "----- Confusion matrix of SVC Rbf -----\n",
      "[[  98    0    0    0    0    0]\n",
      " [   2  540    8  137   21    7]\n",
      " [   0   69   60  131    4   13]\n",
      " [   0   40    9 1383   73   23]\n",
      " [   0    0    0   50 1336    0]\n",
      " [   7    1    1  181    0  901]]\n",
      "----- Confusion matrix of SVC Poly -----\n",
      "[[  96    2    0    0    0    0]\n",
      " [   6  507  109   64   21    8]\n",
      " [   3   19  114  115   12   14]\n",
      " [   2   31  115 1150  174   56]\n",
      " [   0   18    0  132 1236    0]\n",
      " [   0    0    3  152    6  930]]\n"
     ]
    }
   ],
   "source": [
    "print('----- Confusion matrix of SVC linear -----')\n",
    "print(confusion_matrix(y_test,svc_lin_pred))\n",
    "print('----- Confusion matrix of SVC Rbf -----')\n",
    "print(confusion_matrix(y_test,svc_rbf_pred))\n",
    "print('----- Confusion matrix of SVC Poly -----')\n",
    "print(confusion_matrix(y_test,svc_poly_pred))"
   ]
  },
  {
   "cell_type": "code",
   "execution_count": 25,
   "metadata": {},
   "outputs": [
    {
     "name": "stdout",
     "output_type": "stream",
     "text": [
      "----- Classification matrix of SVC linear -----\n",
      "              precision    recall  f1-score   support\n",
      "\n",
      "        -1.0       0.55      0.93      0.69        98\n",
      "         0.0       0.64      0.58      0.61       715\n",
      "         1.0       0.00      0.00      0.00       277\n",
      "         2.0       0.72      0.60      0.66      1528\n",
      "         3.0       0.78      0.45      0.57      1386\n",
      "         5.0       0.47      0.95      0.63      1091\n",
      "\n",
      "    accuracy                           0.61      5095\n",
      "   macro avg       0.53      0.58      0.53      5095\n",
      "weighted avg       0.63      0.61      0.59      5095\n",
      "\n",
      "----- Classification matrix of SVC Rbf -----\n",
      "              precision    recall  f1-score   support\n",
      "\n",
      "        -1.0       0.92      1.00      0.96        98\n",
      "         0.0       0.83      0.76      0.79       715\n",
      "         1.0       0.77      0.22      0.34       277\n",
      "         2.0       0.73      0.91      0.81      1528\n",
      "         3.0       0.93      0.96      0.95      1386\n",
      "         5.0       0.95      0.83      0.89      1091\n",
      "\n",
      "    accuracy                           0.85      5095\n",
      "   macro avg       0.86      0.78      0.79      5095\n",
      "weighted avg       0.85      0.85      0.84      5095\n",
      "\n",
      "----- Classification matrix of SVC Poly -----\n",
      "              precision    recall  f1-score   support\n",
      "\n",
      "        -1.0       0.90      0.98      0.94        98\n",
      "         0.0       0.88      0.71      0.78       715\n",
      "         1.0       0.33      0.41      0.37       277\n",
      "         2.0       0.71      0.75      0.73      1528\n",
      "         3.0       0.85      0.89      0.87      1386\n",
      "         5.0       0.92      0.85      0.89      1091\n",
      "\n",
      "    accuracy                           0.79      5095\n",
      "   macro avg       0.77      0.77      0.76      5095\n",
      "weighted avg       0.80      0.79      0.79      5095\n",
      "\n"
     ]
    },
    {
     "name": "stderr",
     "output_type": "stream",
     "text": [
      "c:\\ProgramData\\Anaconda3\\lib\\site-packages\\sklearn\\metrics\\_classification.py:1318: UndefinedMetricWarning: Precision and F-score are ill-defined and being set to 0.0 in labels with no predicted samples. Use `zero_division` parameter to control this behavior.\n",
      "  _warn_prf(average, modifier, msg_start, len(result))\n",
      "c:\\ProgramData\\Anaconda3\\lib\\site-packages\\sklearn\\metrics\\_classification.py:1318: UndefinedMetricWarning: Precision and F-score are ill-defined and being set to 0.0 in labels with no predicted samples. Use `zero_division` parameter to control this behavior.\n",
      "  _warn_prf(average, modifier, msg_start, len(result))\n",
      "c:\\ProgramData\\Anaconda3\\lib\\site-packages\\sklearn\\metrics\\_classification.py:1318: UndefinedMetricWarning: Precision and F-score are ill-defined and being set to 0.0 in labels with no predicted samples. Use `zero_division` parameter to control this behavior.\n",
      "  _warn_prf(average, modifier, msg_start, len(result))\n"
     ]
    }
   ],
   "source": [
    "print('----- Classification matrix of SVC linear -----')\n",
    "print(classification_report(y_test,svc_lin_pred))\n",
    "print('----- Classification matrix of SVC Rbf -----')\n",
    "print(classification_report(y_test,svc_rbf_pred))\n",
    "print('----- Classification matrix of SVC Poly -----')\n",
    "print(classification_report(y_test,svc_poly_pred))"
   ]
  },
  {
   "cell_type": "markdown",
   "metadata": {},
   "source": [
    "# 8.3 Hyperparameter Tuning"
   ]
  },
  {
   "cell_type": "code",
   "execution_count": 26,
   "metadata": {},
   "outputs": [],
   "source": [
    "#Create Model Parameter Dictionary for SVC\n",
    "kernel = ['rbf','poly']\n",
    "C_list = [0.1, 1.0, 10.0 ] #100.0, 200.0, 500.0\n",
    "Gamma_list = [0.01, 0.1, 1.0, 10]\n",
    "d_list = [2,3] # ,3\n",
    "params = dict(kernel = kernel,C = C_list,gamma = Gamma_list,degree = d_list)"
   ]
  },
  {
   "cell_type": "code",
   "execution_count": 27,
   "metadata": {},
   "outputs": [
    {
     "name": "stdout",
     "output_type": "stream",
     "text": [
      "Fitting 2 folds for each of 48 candidates, totalling 96 fits\n"
     ]
    },
    {
     "name": "stderr",
     "output_type": "stream",
     "text": [
      "c:\\ProgramData\\Anaconda3\\lib\\site-packages\\sklearn\\utils\\validation.py:993: DataConversionWarning: A column-vector y was passed when a 1d array was expected. Please change the shape of y to (n_samples, ), for example using ravel().\n",
      "  y = column_or_1d(y, warn=True)\n"
     ]
    }
   ],
   "source": [
    "# Perform GridsearchCV() for each classification model\n",
    "grid = GridSearchCV(estimator = SVC(), n_jobs=15,verbose = 10, scoring = 'accuracy', cv = 2, param_grid= params)\n",
    "grid_result = grid.fit(x_train, y_train)"
   ]
  },
  {
   "cell_type": "code",
   "execution_count": 28,
   "metadata": {},
   "outputs": [
    {
     "name": "stdout",
     "output_type": "stream",
     "text": [
      "Best params:  {'C': 10.0, 'degree': 2, 'gamma': 10, 'kernel': 'rbf'}\n",
      "Best score:  0.897778899545684\n"
     ]
    }
   ],
   "source": [
    "# Show best search results\n",
    "print('Best params: ',grid_result.best_params_)\n",
    "print('Best score: ', grid_result.best_score_)"
   ]
  },
  {
   "cell_type": "code",
   "execution_count": 29,
   "metadata": {},
   "outputs": [
    {
     "name": "stdout",
     "output_type": "stream",
     "text": [
      "0.501767 (0.008245) with: {'C': 0.1, 'degree': 2, 'gamma': 0.01, 'kernel': 'rbf'}\n",
      "0.300690 (0.000168) with: {'C': 0.1, 'degree': 2, 'gamma': 0.01, 'kernel': 'poly'}\n",
      "0.639744 (0.001851) with: {'C': 0.1, 'degree': 2, 'gamma': 0.1, 'kernel': 'rbf'}\n",
      "0.485193 (0.002103) with: {'C': 0.1, 'degree': 2, 'gamma': 0.1, 'kernel': 'poly'}\n",
      "0.727074 (0.000673) with: {'C': 0.1, 'degree': 2, 'gamma': 1.0, 'kernel': 'rbf'}\n",
      "0.689467 (0.002608) with: {'C': 0.1, 'degree': 2, 'gamma': 1.0, 'kernel': 'poly'}\n",
      "0.774525 (0.001346) with: {'C': 0.1, 'degree': 2, 'gamma': 10, 'kernel': 'rbf'}\n",
      "0.778058 (0.001346) with: {'C': 0.1, 'degree': 2, 'gamma': 10, 'kernel': 'poly'}\n",
      "0.501767 (0.008245) with: {'C': 0.1, 'degree': 3, 'gamma': 0.01, 'kernel': 'rbf'}\n",
      "0.300522 (0.000000) with: {'C': 0.1, 'degree': 3, 'gamma': 0.01, 'kernel': 'poly'}\n",
      "0.639744 (0.001851) with: {'C': 0.1, 'degree': 3, 'gamma': 0.1, 'kernel': 'rbf'}\n",
      "0.557378 (0.005132) with: {'C': 0.1, 'degree': 3, 'gamma': 0.1, 'kernel': 'poly'}\n",
      "0.727074 (0.000673) with: {'C': 0.1, 'degree': 3, 'gamma': 1.0, 'kernel': 'rbf'}\n",
      "0.765607 (0.001178) with: {'C': 0.1, 'degree': 3, 'gamma': 1.0, 'kernel': 'poly'}\n",
      "0.774525 (0.001346) with: {'C': 0.1, 'degree': 3, 'gamma': 10, 'kernel': 'rbf'}\n",
      "0.853609 (0.000505) with: {'C': 0.1, 'degree': 3, 'gamma': 10, 'kernel': 'poly'}\n",
      "0.555275 (0.013125) with: {'C': 1.0, 'degree': 2, 'gamma': 0.01, 'kernel': 'rbf'}\n",
      "0.391890 (0.017668) with: {'C': 1.0, 'degree': 2, 'gamma': 0.01, 'kernel': 'poly'}\n",
      "0.722447 (0.003786) with: {'C': 1.0, 'degree': 2, 'gamma': 0.1, 'kernel': 'rbf'}\n",
      "0.654552 (0.001514) with: {'C': 1.0, 'degree': 2, 'gamma': 0.1, 'kernel': 'poly'}\n",
      "0.790089 (0.001262) with: {'C': 1.0, 'degree': 2, 'gamma': 1.0, 'kernel': 'rbf'}\n",
      "0.744153 (0.000589) with: {'C': 1.0, 'degree': 2, 'gamma': 1.0, 'kernel': 'poly'}\n",
      "0.862696 (0.004711) with: {'C': 1.0, 'degree': 2, 'gamma': 10, 'kernel': 'rbf'}\n",
      "0.787145 (0.001178) with: {'C': 1.0, 'degree': 2, 'gamma': 10, 'kernel': 'poly'}\n",
      "0.555275 (0.013125) with: {'C': 1.0, 'degree': 3, 'gamma': 0.01, 'kernel': 'rbf'}\n",
      "0.311122 (0.001346) with: {'C': 1.0, 'degree': 3, 'gamma': 0.01, 'kernel': 'poly'}\n",
      "0.722447 (0.003786) with: {'C': 1.0, 'degree': 3, 'gamma': 0.1, 'kernel': 'rbf'}\n",
      "0.659263 (0.001178) with: {'C': 1.0, 'degree': 3, 'gamma': 0.1, 'kernel': 'poly'}\n",
      "0.790089 (0.001262) with: {'C': 1.0, 'degree': 3, 'gamma': 1.0, 'kernel': 'rbf'}\n",
      "0.825425 (0.002272) with: {'C': 1.0, 'degree': 3, 'gamma': 1.0, 'kernel': 'poly'}\n",
      "0.862696 (0.004711) with: {'C': 1.0, 'degree': 3, 'gamma': 10, 'kernel': 'rbf'}\n",
      "0.852516 (0.001094) with: {'C': 1.0, 'degree': 3, 'gamma': 10, 'kernel': 'poly'}\n",
      "0.681390 (0.003281) with: {'C': 10.0, 'degree': 2, 'gamma': 0.01, 'kernel': 'rbf'}\n",
      "0.485193 (0.002103) with: {'C': 10.0, 'degree': 2, 'gamma': 0.01, 'kernel': 'poly'}\n",
      "0.767037 (0.006815) with: {'C': 10.0, 'degree': 2, 'gamma': 0.1, 'kernel': 'rbf'}\n",
      "0.689467 (0.002608) with: {'C': 10.0, 'degree': 2, 'gamma': 0.1, 'kernel': 'poly'}\n",
      "0.853020 (0.003281) with: {'C': 10.0, 'degree': 2, 'gamma': 1.0, 'kernel': 'rbf'}\n",
      "0.778058 (0.001346) with: {'C': 10.0, 'degree': 2, 'gamma': 1.0, 'kernel': 'poly'}\n",
      "0.897779 (0.005973) with: {'C': 10.0, 'degree': 2, 'gamma': 10, 'kernel': 'rbf'}\n",
      "0.788154 (0.000841) with: {'C': 10.0, 'degree': 2, 'gamma': 10, 'kernel': 'poly'}\n",
      "0.681390 (0.003281) with: {'C': 10.0, 'degree': 3, 'gamma': 0.01, 'kernel': 'rbf'}\n",
      "0.319956 (0.002103) with: {'C': 10.0, 'degree': 3, 'gamma': 0.01, 'kernel': 'poly'}\n",
      "0.767037 (0.006815) with: {'C': 10.0, 'degree': 3, 'gamma': 0.1, 'kernel': 'rbf'}\n",
      "0.729682 (0.004291) with: {'C': 10.0, 'degree': 3, 'gamma': 0.1, 'kernel': 'poly'}\n",
      "0.853020 (0.003281) with: {'C': 10.0, 'degree': 3, 'gamma': 1.0, 'kernel': 'rbf'}\n",
      "0.840905 (0.002272) with: {'C': 10.0, 'degree': 3, 'gamma': 1.0, 'kernel': 'poly'}\n",
      "0.897779 (0.005973) with: {'C': 10.0, 'degree': 3, 'gamma': 10, 'kernel': 'rbf'}\n",
      "0.854955 (0.001851) with: {'C': 10.0, 'degree': 3, 'gamma': 10, 'kernel': 'poly'}\n"
     ]
    }
   ],
   "source": [
    "# Show and Display Mean, std, params\n",
    "means   = grid_result.cv_results_['mean_test_score']\n",
    "stds    = grid_result.cv_results_['std_test_score']\n",
    "params  = grid_result.cv_results_['params']\n",
    "for mean, stdev, param in zip(means, stds, params):\n",
    "    print(\"%f (%f) with: %r\" % (mean, stdev, param))"
   ]
  },
  {
   "cell_type": "code",
   "execution_count": 30,
   "metadata": {},
   "outputs": [],
   "source": [
    "score_df = pd.DataFrame(grid_result.cv_results_)\n",
    "rbf_result = score_df[score_df['param_kernel'] == 'rbf']\n",
    "rbf_param = [str(i) for i in rbf_result.params]\n",
    "poly_result = score_df[score_df['param_kernel'] == 'poly']\n",
    "poly_param = [str(i) for i in poly_result.params]"
   ]
  },
  {
   "cell_type": "code",
   "execution_count": 31,
   "metadata": {},
   "outputs": [
    {
     "data": {
      "image/png": "[encoded data removed]",
      "text/plain": [
       "<Figure size 3600x2160 with 1 Axes>"
      ]
     },
     "metadata": {
      "needs_background": "light"
     },
     "output_type": "display_data"
    }
   ],
   "source": [
    "# set width of bars\n",
    "barWidth = 1\n",
    "plt.figure(figsize=(50,30))\n",
    "# Make the plot\n",
    "plt.bar(rbf_param, rbf_result.mean_test_score, color='#7f6d5f', width=barWidth, edgecolor='white', label='svm rbf mean avg score') \n",
    "# Add xticks on the middle of the group bars\n",
    "plt.xlabel('svm rbf mean avg score', fontweight='bold',fontsize=25)\n",
    "plt.xticks(rotation=90)\n",
    "# Create legend & Show graphic\n",
    "plt.legend()\n",
    "plt.show()"
   ]
  },
  {
   "cell_type": "code",
   "execution_count": 32,
   "metadata": {},
   "outputs": [
    {
     "data": {
      "image/png": "[encoded data removed]",
      "text/plain": [
       "<Figure size 3600x2160 with 1 Axes>"
      ]
     },
     "metadata": {
      "needs_background": "light"
     },
     "output_type": "display_data"
    }
   ],
   "source": [
    "# set width of bars\n",
    "barWidth = 1 \n",
    "plt.figure(figsize=(50,30))\n",
    "# Make the plot\n",
    "plt.bar(poly_param, poly_result.mean_test_score, color='#7f6d5f', width=barWidth, edgecolor='white', label='svm poly mean avg score') \n",
    "# Add xticks on the middle of the group bars\n",
    "plt.xlabel('svm poly mean avg score', fontweight='bold',fontsize=20)\n",
    "plt.xticks(rotation=90)\n",
    "# Create legend & Show graphic\n",
    "plt.legend()\n",
    "plt.show()"
   ]
  }
 ],
 "metadata": {
  "kernelspec": {
   "display_name": "Python 3.9.12 ('base')",
   "language": "python",
   "name": "python3"
  },
  "language_info": {
   "codemirror_mode": {
    "name": "ipython",
    "version": 3
   },
   "file_extension": ".py",
   "mimetype": "text/x-python",
   "name": "python",
   "nbconvert_exporter": "python",
   "pygments_lexer": "ipython3",
   "version": "3.9.12"
  },
  "orig_nbformat": 4,
  "vscode": {
   "interpreter": {
    "hash": "ad2bdc8ecc057115af97d19610ffacc2b4e99fae6737bb82f5d7fb13d2f2c186"
   }
  }
 },
 "nbformat": 4,
 "nbformat_minor": 2
}
