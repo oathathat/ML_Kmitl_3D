{
 "cells": [
  {
   "cell_type": "code",
   "execution_count": null,
   "metadata": {},
   "outputs": [],
   "source": [
    "import datetime as dt\n",
    "import glob\n",
    "import matplotlib.pyplot as plt\n",
    "import numpy as np\n",
    "import pandas as pd\n",
    "from scipy import stats\n",
    "from sklearn import metrics\n",
    "from sklearn.metrics import (accuracy_score, classification_report,\n",
    "                             confusion_matrix)\n",
    "from sklearn.model_selection import (GridSearchCV, RandomizedSearchCV,\n",
    "                                     StratifiedKFold, cross_val_score,\n",
    "                                     train_test_split)\n",
    "from sklearn.preprocessing import StandardScaler\n",
    "from sklearn.svm import SVC"
   ]
  },
  {
   "cell_type": "markdown",
   "metadata": {},
   "source": [
    "# 8.1"
   ]
  },
  {
   "cell_type": "markdown",
   "metadata": {},
   "source": [
    "## 8.1a Load and prepare data"
   ]
  },
  {
   "cell_type": "code",
   "execution_count": null,
   "metadata": {},
   "outputs": [],
   "source": [
    "ACC   = pd.read_csv('acceleration.txt', sep = ' ',names=['timedelta', 'accX', 'accY', 'accZ'])\n",
    "HeartR = pd.read_csv('heartrate.txt', sep = ',',names=['timedelta', 'heartrate'])\n",
    "SleepL = pd.read_csv('labeled_sleep.txt', sep = ' ',names=['timedelta', 'sleep'])"
   ]
  },
  {
   "cell_type": "code",
   "execution_count": null,
   "metadata": {},
   "outputs": [],
   "source": [
    "# Check 'timedelta' max(), min() of ACC, HeartR, SleepL (ช่วงเวลาที่มีข้อมูลใกล้กัน)\n",
    "ACC_max_date = ACC['timedelta'].max()\n",
    "ACC_min_date = ACC['timedelta'].min()\n",
    "# หา start_timedelta, end_timedelta\n",
    "HeartR_max = HeartR['timedelta'].max()\n",
    "HeartR_min = HeartR['timedelta'].min()\n",
    "\n",
    "SleepL_max = SleepL['timedelta'].max()\n",
    "SleepL_min = SleepL['timedelta'].min()\n",
    "\n",
    "print(f'ACC start: {ACC_min_date} ACC end: {ACC_max_date}')\n",
    "print(f'HeartR start: {HeartR_min} HeartR end: {HeartR_max}')\n",
    "print(f'SleepL start: {SleepL_min} SLeepL end: {SleepL_max}')\n"
   ]
  },
  {
   "cell_type": "code",
   "execution_count": null,
   "metadata": {},
   "outputs": [],
   "source": [
    " # select only intersected timedelta (ACC, HeartR, SleepL) (ช่วงเวลาที่มีข้อมูลใกล้กัน)\n",
    "ACC_new = ACC[(ACC['timedelta'] > SleepL_min) & (ACC['timedelta'] < SleepL_max)]\n",
    "HeartR_new = HeartR[(HeartR['timedelta']> SleepL_min) & HeartR['timedelta']< SleepL_max]\n",
    "SleepL_new = SleepL[(SleepL['timedelta']> SleepL_min) & SleepL['timedelta']< SleepL_max]"
   ]
  },
  {
   "cell_type": "markdown",
   "metadata": {},
   "source": [
    "## 8.1b Load and prepare data acc"
   ]
  },
  {
   "cell_type": "code",
   "execution_count": null,
   "metadata": {},
   "outputs": [],
   "source": [
    " # Convert to datetime and round to second,\n",
    " # ------------ Rounding ACC (Rounding to 1 sec) -------------------------------\n",
    "ACC_new['timedelta'] = pd.DataFrame(pd.to_timedelta(ACC_new['timedelta'], unit='s').round('1s'))\n",
    "ACC_new"
   ]
  },
  {
   "cell_type": "code",
   "execution_count": null,
   "metadata": {},
   "outputs": [],
   "source": [
    "# Average rounding duplicated time\n",
    "df_acc_X = ACC_new.groupby('timedelta')['accX'].mean().reset_index()\n",
    "df_acc_Y = ACC_new.groupby('timedelta')['accY'].mean().reset_index()\n",
    "df_acc_Z = ACC_new.groupby('timedelta')['accZ'].mean().reset_index()\n",
    "ACC = pd.concat([df_acc_X, df_acc_Y, df_acc_Z], axis=1)\n",
    "ACC = ACC.loc[:,~ACC.columns.duplicated()].copy()\n",
    "ACC"
   ]
  },
  {
   "cell_type": "markdown",
   "metadata": {},
   "source": [
    "## 8.1c Load and prepare data heart rate"
   ]
  },
  {
   "cell_type": "code",
   "execution_count": null,
   "metadata": {},
   "outputs": [],
   "source": [
    "# ------------ Rounding Heart Rate (Rounding to 1 sec) -------------------------------\n",
    "HeartR_new['timedelta'] = pd.DataFrame(pd.to_timedelta(HeartR_new['timedelta'],unit='s').round('1s'))"
   ]
  },
  {
   "cell_type": "code",
   "execution_count": null,
   "metadata": {},
   "outputs": [],
   "source": [
    "# Resampling every 1s with median with ffill\n",
    "resample_rule = '1s'\n",
    "HeartR_new2 = HeartR_new.set_index('timedelta').resample(resample_rule,).median().ffill()"
   ]
  },
  {
   "cell_type": "markdown",
   "metadata": {},
   "source": [
    "## 8.1d load and prepare data sleep label"
   ]
  },
  {
   "cell_type": "code",
   "execution_count": null,
   "metadata": {},
   "outputs": [],
   "source": [
    "# ------------ Rounding Sleep Label (Rounding to 1 sec) -------------------------------\n",
    "SleepL_new['timedelta'] = pd.DataFrame(pd.to_timedelta(SleepL_new['timedelta'],unit='s').round('1s'))"
   ]
  },
  {
   "cell_type": "code",
   "execution_count": null,
   "metadata": {},
   "outputs": [],
   "source": [
    "# Resampling every 1s with median with ffill\n",
    "resample_rule = '1s'\n",
    "SleepL_new2 = SleepL_new.set_index('timedelta').resample(resample_rule,).median().ffill()"
   ]
  },
  {
   "cell_type": "markdown",
   "metadata": {},
   "source": [
    "## 8.1e Merge data andd standardized data"
   ]
  },
  {
   "cell_type": "code",
   "execution_count": null,
   "metadata": {},
   "outputs": [],
   "source": [
    "# ------------Merge All Data -------------------------------\n",
    "df = []\n",
    "df = pd.merge_asof(ACC, HeartR_new2, on='timedelta')\n",
    "df = pd.merge_asof(df, SleepL_new2, on = 'timedelta')"
   ]
  },
  {
   "cell_type": "code",
   "execution_count": null,
   "metadata": {},
   "outputs": [],
   "source": [
    "# # Fill NA\n",
    "# # Heart rate\n",
    "# Fillna() # using median()\n",
    "# # Sleep Label\n",
    "# Fillna() # with 0\n",
    "# # Drop column\n",
    "# drop('timedelta’)"
   ]
  },
  {
   "cell_type": "code",
   "execution_count": null,
   "metadata": {},
   "outputs": [],
   "source": [
    "# Standardized data\n",
    "feature_columns = ['accX', 'accY', 'accZ', 'heartrate']\n",
    "label_columns = ['sleep']\n",
    "# df_feature = df[feature_columns] <= standardized data of df_feature\n",
    "df_label = df[label_columns]"
   ]
  },
  {
   "cell_type": "code",
   "execution_count": null,
   "metadata": {},
   "outputs": [],
   "source": [
    "# Visualize signals"
   ]
  },
  {
   "cell_type": "markdown",
   "metadata": {},
   "source": [
    "# 8.2"
   ]
  },
  {
   "cell_type": "markdown",
   "metadata": {},
   "source": [
    "## 8.2 a svm model training and testing"
   ]
  },
  {
   "cell_type": "markdown",
   "metadata": {},
   "source": []
  }
 ],
 "metadata": {
  "kernelspec": {
   "display_name": "Python 3.9.12 ('base')",
   "language": "python",
   "name": "python3"
  },
  "language_info": {
   "codemirror_mode": {
    "name": "ipython",
    "version": 3
   },
   "file_extension": ".py",
   "mimetype": "text/x-python",
   "name": "python",
   "nbconvert_exporter": "python",
   "pygments_lexer": "ipython3",
   "version": "3.9.12"
  },
  "orig_nbformat": 4,
  "vscode": {
   "interpreter": {
    "hash": "ad2bdc8ecc057115af97d19610ffacc2b4e99fae6737bb82f5d7fb13d2f2c186"
   }
  }
 },
 "nbformat": 4,
 "nbformat_minor": 2
}
