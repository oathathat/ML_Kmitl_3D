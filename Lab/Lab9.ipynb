{
 "cells": [
  {
   "cell_type": "code",
   "execution_count": 1,
   "metadata": {},
   "outputs": [],
   "source": [
    "import numpy as np\n",
    "import pandas as pd\n",
    "import matplotlib.pyplot as plt\n",
    "from sklearn.preprocessing import StandardScaler\n",
    "from sklearn.model_selection import train_test_split, cross_val_score, StratifiedKFold\n",
    "from sklearn.svm import SVC\n",
    "from sklearn import metrics\n",
    "from sklearn.model_selection import GridSearchCV, RandomizedSearchCV\n",
    "from sklearn.metrics import accuracy_score, classification_report, confusion_matrix\n",
    "import glob\n",
    "from scipy import stats\n",
    "import datetime as dt\n",
    "from sklearn.neural_network import MLPClassifier\n",
    "\n",
    "from tensorflow.keras.regularizers import l1,l2,l1_l2\n",
    "from tensorflow.keras import Sequential\n",
    "from tensorflow.keras.layers import MaxPooling2D,Dropout,Flatten,Dense,Conv2D\n",
    "import tensorflow as tf\n"
   ]
  },
  {
   "cell_type": "markdown",
   "metadata": {},
   "source": [
    "# 9.1.1"
   ]
  },
  {
   "cell_type": "markdown",
   "metadata": {},
   "source": [
    "## 9.1.1a"
   ]
  },
  {
   "cell_type": "code",
   "execution_count": 2,
   "metadata": {},
   "outputs": [],
   "source": [
    "ACC   = pd.read_csv('acceleration.txt', sep = ' ',names=['timedelta', 'accX', 'accY', 'accZ'])\n",
    "HeartR = pd.read_csv('heartrate.txt', sep = ',',names=['timedelta', 'heartrate'])\n",
    "SleepL = pd.read_csv('labeled_sleep.txt', sep = ' ',names=['timedelta', 'sleep'])"
   ]
  },
  {
   "cell_type": "code",
   "execution_count": 3,
   "metadata": {},
   "outputs": [
    {
     "name": "stdout",
     "output_type": "stream",
     "text": [
      "ACC start: -124489.16105 ACC end: 17643.046417\n",
      "HeartR start: -556410.36066 HeartR end: 16980.47229\n",
      "SleepL start: 0 SLeepL end: 16980\n"
     ]
    }
   ],
   "source": [
    "# Check 'timedelta' max(), min() of ACC, HeartR, SleepL (ช่วงเวลาที่มีข้อมูลใกล้กัน)\n",
    "ACC_max_date = ACC['timedelta'].max()\n",
    "ACC_min_date = ACC['timedelta'].min()\n",
    "# หา start_timedelta, end_timedelta\n",
    "HeartR_max = HeartR['timedelta'].max()\n",
    "HeartR_min = HeartR['timedelta'].min()\n",
    "\n",
    "SleepL_max = SleepL['timedelta'].max()\n",
    "SleepL_min = SleepL['timedelta'].min()\n",
    "\n",
    "print(f'ACC start: {ACC_min_date} ACC end: {ACC_max_date}')\n",
    "print(f'HeartR start: {HeartR_min} HeartR end: {HeartR_max}')\n",
    "print(f'SleepL start: {SleepL_min} SLeepL end: {SleepL_max}')\n"
   ]
  },
  {
   "cell_type": "code",
   "execution_count": 4,
   "metadata": {},
   "outputs": [],
   "source": [
    " # select only intersected timedelta (ACC, HeartR, SleepL) (ช่วงเวลาที่มีข้อมูลใกล้กัน) #เลือกขอบ\n",
    "ACC_new = ACC[(ACC['timedelta'] > SleepL_min) & (ACC['timedelta'] < SleepL_max)]\n",
    "HeartR_new = HeartR[(HeartR['timedelta']> SleepL_min) & HeartR['timedelta']< SleepL_max]\n",
    "SleepL_new = SleepL[(SleepL['timedelta']> SleepL_min) & SleepL['timedelta']< SleepL_max]"
   ]
  },
  {
   "cell_type": "markdown",
   "metadata": {},
   "source": [
    "## 9.1.1b"
   ]
  },
  {
   "cell_type": "code",
   "execution_count": 5,
   "metadata": {},
   "outputs": [
    {
     "name": "stderr",
     "output_type": "stream",
     "text": [
      "C:\\Users\\ADMIN\\AppData\\Local\\Temp\\ipykernel_18404\\2630731856.py:3: SettingWithCopyWarning: \n",
      "A value is trying to be set on a copy of a slice from a DataFrame.\n",
      "Try using .loc[row_indexer,col_indexer] = value instead\n",
      "\n",
      "See the caveats in the documentation: https://pandas.pydata.org/pandas-docs/stable/user_guide/indexing.html#returning-a-view-versus-a-copy\n",
      "  ACC_new['timedelta'] = pd.DataFrame(pd.to_timedelta(ACC_new['timedelta'], unit='s').round('1s'))\n"
     ]
    },
    {
     "data": {
      "text/html": [
       "<div>\n",
       "<style scoped>\n",
       "    .dataframe tbody tr th:only-of-type {\n",
       "        vertical-align: middle;\n",
       "    }\n",
       "\n",
       "    .dataframe tbody tr th {\n",
       "        vertical-align: top;\n",
       "    }\n",
       "\n",
       "    .dataframe thead th {\n",
       "        text-align: right;\n",
       "    }\n",
       "</style>\n",
       "<table border=\"1\" class=\"dataframe\">\n",
       "  <thead>\n",
       "    <tr style=\"text-align: right;\">\n",
       "      <th></th>\n",
       "      <th>timedelta</th>\n",
       "      <th>accX</th>\n",
       "      <th>accY</th>\n",
       "      <th>accZ</th>\n",
       "    </tr>\n",
       "  </thead>\n",
       "  <tbody>\n",
       "    <tr>\n",
       "      <th>98777</th>\n",
       "      <td>0 days 00:00:00</td>\n",
       "      <td>-0.234650</td>\n",
       "      <td>0.905975</td>\n",
       "      <td>0.362747</td>\n",
       "    </tr>\n",
       "    <tr>\n",
       "      <th>98778</th>\n",
       "      <td>0 days 00:00:00</td>\n",
       "      <td>-0.231232</td>\n",
       "      <td>0.893265</td>\n",
       "      <td>0.371613</td>\n",
       "    </tr>\n",
       "    <tr>\n",
       "      <th>98779</th>\n",
       "      <td>0 days 00:00:00</td>\n",
       "      <td>-0.227814</td>\n",
       "      <td>0.915848</td>\n",
       "      <td>0.369049</td>\n",
       "    </tr>\n",
       "    <tr>\n",
       "      <th>98780</th>\n",
       "      <td>0 days 00:00:00</td>\n",
       "      <td>-0.240524</td>\n",
       "      <td>0.919159</td>\n",
       "      <td>0.352890</td>\n",
       "    </tr>\n",
       "    <tr>\n",
       "      <th>98781</th>\n",
       "      <td>0 days 00:00:00</td>\n",
       "      <td>-0.240448</td>\n",
       "      <td>0.889175</td>\n",
       "      <td>0.350143</td>\n",
       "    </tr>\n",
       "    <tr>\n",
       "      <th>...</th>\n",
       "      <td>...</td>\n",
       "      <td>...</td>\n",
       "      <td>...</td>\n",
       "      <td>...</td>\n",
       "    </tr>\n",
       "    <tr>\n",
       "      <th>948796</th>\n",
       "      <td>0 days 04:43:00</td>\n",
       "      <td>-0.442413</td>\n",
       "      <td>-0.527573</td>\n",
       "      <td>0.723450</td>\n",
       "    </tr>\n",
       "    <tr>\n",
       "      <th>948797</th>\n",
       "      <td>0 days 04:43:00</td>\n",
       "      <td>-0.441925</td>\n",
       "      <td>-0.527573</td>\n",
       "      <td>0.721985</td>\n",
       "    </tr>\n",
       "    <tr>\n",
       "      <th>948798</th>\n",
       "      <td>0 days 04:43:00</td>\n",
       "      <td>-0.441437</td>\n",
       "      <td>-0.526108</td>\n",
       "      <td>0.721985</td>\n",
       "    </tr>\n",
       "    <tr>\n",
       "      <th>948799</th>\n",
       "      <td>0 days 04:43:00</td>\n",
       "      <td>-0.443405</td>\n",
       "      <td>-0.525116</td>\n",
       "      <td>0.723434</td>\n",
       "    </tr>\n",
       "    <tr>\n",
       "      <th>948800</th>\n",
       "      <td>0 days 04:43:00</td>\n",
       "      <td>-0.441925</td>\n",
       "      <td>-0.524628</td>\n",
       "      <td>0.722458</td>\n",
       "    </tr>\n",
       "  </tbody>\n",
       "</table>\n",
       "<p>850024 rows × 4 columns</p>\n",
       "</div>"
      ],
      "text/plain": [
       "             timedelta      accX      accY      accZ\n",
       "98777  0 days 00:00:00 -0.234650  0.905975  0.362747\n",
       "98778  0 days 00:00:00 -0.231232  0.893265  0.371613\n",
       "98779  0 days 00:00:00 -0.227814  0.915848  0.369049\n",
       "98780  0 days 00:00:00 -0.240524  0.919159  0.352890\n",
       "98781  0 days 00:00:00 -0.240448  0.889175  0.350143\n",
       "...                ...       ...       ...       ...\n",
       "948796 0 days 04:43:00 -0.442413 -0.527573  0.723450\n",
       "948797 0 days 04:43:00 -0.441925 -0.527573  0.721985\n",
       "948798 0 days 04:43:00 -0.441437 -0.526108  0.721985\n",
       "948799 0 days 04:43:00 -0.443405 -0.525116  0.723434\n",
       "948800 0 days 04:43:00 -0.441925 -0.524628  0.722458\n",
       "\n",
       "[850024 rows x 4 columns]"
      ]
     },
     "execution_count": 5,
     "metadata": {},
     "output_type": "execute_result"
    }
   ],
   "source": [
    " # Convert to datetime and round to second,\n",
    " # ------------ Rounding ACC (Rounding to 1 sec) -------------------------------\n",
    "ACC_new['timedelta'] = pd.DataFrame(pd.to_timedelta(ACC_new['timedelta'], unit='s').round('1s'))\n",
    "ACC_new"
   ]
  },
  {
   "cell_type": "code",
   "execution_count": 6,
   "metadata": {},
   "outputs": [
    {
     "data": {
      "text/html": [
       "<div>\n",
       "<style scoped>\n",
       "    .dataframe tbody tr th:only-of-type {\n",
       "        vertical-align: middle;\n",
       "    }\n",
       "\n",
       "    .dataframe tbody tr th {\n",
       "        vertical-align: top;\n",
       "    }\n",
       "\n",
       "    .dataframe thead th {\n",
       "        text-align: right;\n",
       "    }\n",
       "</style>\n",
       "<table border=\"1\" class=\"dataframe\">\n",
       "  <thead>\n",
       "    <tr style=\"text-align: right;\">\n",
       "      <th></th>\n",
       "      <th>timedelta</th>\n",
       "      <th>accX</th>\n",
       "      <th>accY</th>\n",
       "      <th>accZ</th>\n",
       "    </tr>\n",
       "  </thead>\n",
       "  <tbody>\n",
       "    <tr>\n",
       "      <th>0</th>\n",
       "      <td>0 days 00:00:00</td>\n",
       "      <td>-0.243203</td>\n",
       "      <td>0.895372</td>\n",
       "      <td>0.367591</td>\n",
       "    </tr>\n",
       "    <tr>\n",
       "      <th>1</th>\n",
       "      <td>0 days 00:00:01</td>\n",
       "      <td>-0.240757</td>\n",
       "      <td>0.873826</td>\n",
       "      <td>0.415446</td>\n",
       "    </tr>\n",
       "    <tr>\n",
       "      <th>2</th>\n",
       "      <td>0 days 00:00:02</td>\n",
       "      <td>-0.244620</td>\n",
       "      <td>0.883943</td>\n",
       "      <td>0.387026</td>\n",
       "    </tr>\n",
       "    <tr>\n",
       "      <th>3</th>\n",
       "      <td>0 days 00:00:03</td>\n",
       "      <td>-0.248036</td>\n",
       "      <td>0.902427</td>\n",
       "      <td>0.347812</td>\n",
       "    </tr>\n",
       "    <tr>\n",
       "      <th>4</th>\n",
       "      <td>0 days 00:00:04</td>\n",
       "      <td>-0.241778</td>\n",
       "      <td>0.912946</td>\n",
       "      <td>0.321502</td>\n",
       "    </tr>\n",
       "    <tr>\n",
       "      <th>...</th>\n",
       "      <td>...</td>\n",
       "      <td>...</td>\n",
       "      <td>...</td>\n",
       "      <td>...</td>\n",
       "    </tr>\n",
       "    <tr>\n",
       "      <th>16976</th>\n",
       "      <td>0 days 04:42:56</td>\n",
       "      <td>-0.442763</td>\n",
       "      <td>-0.525892</td>\n",
       "      <td>0.722950</td>\n",
       "    </tr>\n",
       "    <tr>\n",
       "      <th>16977</th>\n",
       "      <td>0 days 04:42:57</td>\n",
       "      <td>-0.441990</td>\n",
       "      <td>-0.525476</td>\n",
       "      <td>0.723410</td>\n",
       "    </tr>\n",
       "    <tr>\n",
       "      <th>16978</th>\n",
       "      <td>0 days 04:42:58</td>\n",
       "      <td>-0.441581</td>\n",
       "      <td>-0.525116</td>\n",
       "      <td>0.724003</td>\n",
       "    </tr>\n",
       "    <tr>\n",
       "      <th>16979</th>\n",
       "      <td>0 days 04:42:59</td>\n",
       "      <td>-0.442283</td>\n",
       "      <td>-0.525849</td>\n",
       "      <td>0.723265</td>\n",
       "    </tr>\n",
       "    <tr>\n",
       "      <th>16980</th>\n",
       "      <td>0 days 04:43:00</td>\n",
       "      <td>-0.442674</td>\n",
       "      <td>-0.525962</td>\n",
       "      <td>0.722678</td>\n",
       "    </tr>\n",
       "  </tbody>\n",
       "</table>\n",
       "<p>16981 rows × 4 columns</p>\n",
       "</div>"
      ],
      "text/plain": [
       "            timedelta      accX      accY      accZ\n",
       "0     0 days 00:00:00 -0.243203  0.895372  0.367591\n",
       "1     0 days 00:00:01 -0.240757  0.873826  0.415446\n",
       "2     0 days 00:00:02 -0.244620  0.883943  0.387026\n",
       "3     0 days 00:00:03 -0.248036  0.902427  0.347812\n",
       "4     0 days 00:00:04 -0.241778  0.912946  0.321502\n",
       "...               ...       ...       ...       ...\n",
       "16976 0 days 04:42:56 -0.442763 -0.525892  0.722950\n",
       "16977 0 days 04:42:57 -0.441990 -0.525476  0.723410\n",
       "16978 0 days 04:42:58 -0.441581 -0.525116  0.724003\n",
       "16979 0 days 04:42:59 -0.442283 -0.525849  0.723265\n",
       "16980 0 days 04:43:00 -0.442674 -0.525962  0.722678\n",
       "\n",
       "[16981 rows x 4 columns]"
      ]
     },
     "execution_count": 6,
     "metadata": {},
     "output_type": "execute_result"
    }
   ],
   "source": [
    "# Average rounding duplicated time\n",
    "df_acc_X = ACC_new.groupby('timedelta')['accX'].mean().reset_index()\n",
    "df_acc_Y = ACC_new.groupby('timedelta')['accY'].mean().reset_index()\n",
    "df_acc_Z = ACC_new.groupby('timedelta')['accZ'].mean().reset_index()\n",
    "ACC = pd.concat([df_acc_X, df_acc_Y, df_acc_Z], axis=1)\n",
    "ACC = ACC.loc[:,~ACC.columns.duplicated()].copy() #ตัด duplicate columns(timedelta)\n",
    "ACC"
   ]
  },
  {
   "cell_type": "markdown",
   "metadata": {},
   "source": [
    "## 9.1.1c"
   ]
  },
  {
   "cell_type": "code",
   "execution_count": 7,
   "metadata": {},
   "outputs": [],
   "source": [
    "# ------------ Rounding Heart Rate (Rounding to 1 sec) -------------------------------\n",
    "HeartR_new['timedelta'] = pd.DataFrame(pd.to_timedelta(HeartR_new['timedelta'],unit='s').round('1s'))"
   ]
  },
  {
   "cell_type": "code",
   "execution_count": 8,
   "metadata": {},
   "outputs": [],
   "source": [
    "# Resampling every 1s with median with ffill\n",
    "resample_rule = '1s'\n",
    "HeartR_new2 = HeartR_new.set_index('timedelta').resample(resample_rule,).median().ffill()"
   ]
  },
  {
   "cell_type": "markdown",
   "metadata": {},
   "source": [
    "## 9.1.1d"
   ]
  },
  {
   "cell_type": "code",
   "execution_count": 9,
   "metadata": {},
   "outputs": [],
   "source": [
    "# ------------ Rounding Sleep Label (Rounding to 1 sec) -------------------------------\n",
    "SleepL_new['timedelta'] = pd.DataFrame(pd.to_timedelta(SleepL_new['timedelta'],unit='s').round('1s'))"
   ]
  },
  {
   "cell_type": "code",
   "execution_count": 10,
   "metadata": {},
   "outputs": [],
   "source": [
    "# Resampling every 1s with median with ffill\n",
    "resample_rule = '1s'\n",
    "SleepL_new2 = SleepL_new.set_index('timedelta').resample(resample_rule,).median().ffill()\n",
    "SleepL_new2.replace({-1:0},inplace=True)"
   ]
  },
  {
   "cell_type": "markdown",
   "metadata": {},
   "source": [
    "## 9.1.1e"
   ]
  },
  {
   "cell_type": "code",
   "execution_count": 11,
   "metadata": {},
   "outputs": [],
   "source": [
    "# ------------Merge All Data -------------------------------\n",
    "df = []\n",
    "df = pd.merge_asof(ACC, HeartR_new2, on='timedelta')\n",
    "df = pd.merge_asof(df, SleepL_new2, on = 'timedelta')"
   ]
  },
  {
   "cell_type": "code",
   "execution_count": 12,
   "metadata": {},
   "outputs": [],
   "source": [
    "# Fill NA\n",
    "# Heart rate\n",
    "# Fillna() # using median()\n",
    "heart_mean = df.heartrate.mean()\n",
    "df.heartrate.fillna(heart_mean,inplace=True)\n",
    "# # Sleep Label\n",
    "# Fillna() # with 0\n",
    "df.sleep.fillna(0,inplace=True)\n",
    "# # Drop column\n",
    "df.drop(columns='timedelta',inplace=True)\n"
   ]
  },
  {
   "cell_type": "code",
   "execution_count": 13,
   "metadata": {},
   "outputs": [
    {
     "data": {
      "text/html": [
       "<div>\n",
       "<style scoped>\n",
       "    .dataframe tbody tr th:only-of-type {\n",
       "        vertical-align: middle;\n",
       "    }\n",
       "\n",
       "    .dataframe tbody tr th {\n",
       "        vertical-align: top;\n",
       "    }\n",
       "\n",
       "    .dataframe thead th {\n",
       "        text-align: right;\n",
       "    }\n",
       "</style>\n",
       "<table border=\"1\" class=\"dataframe\">\n",
       "  <thead>\n",
       "    <tr style=\"text-align: right;\">\n",
       "      <th></th>\n",
       "      <th>accX</th>\n",
       "      <th>accY</th>\n",
       "      <th>accZ</th>\n",
       "      <th>heartrate</th>\n",
       "    </tr>\n",
       "  </thead>\n",
       "  <tbody>\n",
       "    <tr>\n",
       "      <th>0</th>\n",
       "      <td>-0.587547</td>\n",
       "      <td>3.058075</td>\n",
       "      <td>0.698728</td>\n",
       "      <td>0.788122</td>\n",
       "    </tr>\n",
       "    <tr>\n",
       "      <th>1</th>\n",
       "      <td>-0.581456</td>\n",
       "      <td>2.995094</td>\n",
       "      <td>0.757746</td>\n",
       "      <td>0.788122</td>\n",
       "    </tr>\n",
       "    <tr>\n",
       "      <th>2</th>\n",
       "      <td>-0.591075</td>\n",
       "      <td>3.024668</td>\n",
       "      <td>0.722696</td>\n",
       "      <td>0.788122</td>\n",
       "    </tr>\n",
       "    <tr>\n",
       "      <th>3</th>\n",
       "      <td>-0.599581</td>\n",
       "      <td>3.078699</td>\n",
       "      <td>0.674335</td>\n",
       "      <td>0.788122</td>\n",
       "    </tr>\n",
       "    <tr>\n",
       "      <th>4</th>\n",
       "      <td>-0.583998</td>\n",
       "      <td>3.109450</td>\n",
       "      <td>0.641889</td>\n",
       "      <td>0.788122</td>\n",
       "    </tr>\n",
       "    <tr>\n",
       "      <th>...</th>\n",
       "      <td>...</td>\n",
       "      <td>...</td>\n",
       "      <td>...</td>\n",
       "      <td>...</td>\n",
       "    </tr>\n",
       "    <tr>\n",
       "      <th>16976</th>\n",
       "      <td>-1.084456</td>\n",
       "      <td>-1.096565</td>\n",
       "      <td>1.136974</td>\n",
       "      <td>-0.630659</td>\n",
       "    </tr>\n",
       "    <tr>\n",
       "      <th>16977</th>\n",
       "      <td>-1.082531</td>\n",
       "      <td>-1.095348</td>\n",
       "      <td>1.137542</td>\n",
       "      <td>-0.630659</td>\n",
       "    </tr>\n",
       "    <tr>\n",
       "      <th>16978</th>\n",
       "      <td>-1.081511</td>\n",
       "      <td>-1.094296</td>\n",
       "      <td>1.138273</td>\n",
       "      <td>-0.630659</td>\n",
       "    </tr>\n",
       "    <tr>\n",
       "      <th>16979</th>\n",
       "      <td>-1.083260</td>\n",
       "      <td>-1.096440</td>\n",
       "      <td>1.137363</td>\n",
       "      <td>-0.630659</td>\n",
       "    </tr>\n",
       "    <tr>\n",
       "      <th>16980</th>\n",
       "      <td>-1.084234</td>\n",
       "      <td>-1.096769</td>\n",
       "      <td>1.136639</td>\n",
       "      <td>-0.759639</td>\n",
       "    </tr>\n",
       "  </tbody>\n",
       "</table>\n",
       "<p>16981 rows × 4 columns</p>\n",
       "</div>"
      ],
      "text/plain": [
       "           accX      accY      accZ  heartrate\n",
       "0     -0.587547  3.058075  0.698728   0.788122\n",
       "1     -0.581456  2.995094  0.757746   0.788122\n",
       "2     -0.591075  3.024668  0.722696   0.788122\n",
       "3     -0.599581  3.078699  0.674335   0.788122\n",
       "4     -0.583998  3.109450  0.641889   0.788122\n",
       "...         ...       ...       ...        ...\n",
       "16976 -1.084456 -1.096565  1.136974  -0.630659\n",
       "16977 -1.082531 -1.095348  1.137542  -0.630659\n",
       "16978 -1.081511 -1.094296  1.138273  -0.630659\n",
       "16979 -1.083260 -1.096440  1.137363  -0.630659\n",
       "16980 -1.084234 -1.096769  1.136639  -0.759639\n",
       "\n",
       "[16981 rows x 4 columns]"
      ]
     },
     "execution_count": 13,
     "metadata": {},
     "output_type": "execute_result"
    }
   ],
   "source": [
    "# Standardized data\n",
    "feature_columns = ['accX', 'accY', 'accZ', 'heartrate']\n",
    "label_columns = ['sleep']\n",
    "standard_scaler = StandardScaler()\n",
    "df[feature_columns] = standard_scaler.fit_transform(df[feature_columns])\n",
    "\n",
    "df_feature = df[feature_columns]\n",
    "df_label = df[label_columns]\n",
    "df_feature"
   ]
  },
  {
   "cell_type": "markdown",
   "metadata": {},
   "source": [
    "### Visualize"
   ]
  },
  {
   "cell_type": "code",
   "execution_count": 14,
   "metadata": {},
   "outputs": [
    {
     "data": {
      "text/plain": [
       "[<matplotlib.lines.Line2D at 0x27a6d045130>]"
      ]
     },
     "execution_count": 14,
     "metadata": {},
     "output_type": "execute_result"
    },
    {
     "data": {
      "image/png": "[encoded data removed]",
      "text/plain": [
       "<Figure size 640x480 with 1 Axes>"
      ]
     },
     "metadata": {},
     "output_type": "display_data"
    }
   ],
   "source": [
    "lst = [int(i) for i in range(len(df[feature_columns]))]\n",
    "plt.plot(lst,df_feature.accX)\n",
    "plt.plot(lst,df_feature.accY)\n",
    "plt.plot(lst,df_feature.accZ)\n",
    "plt.plot(lst,df_feature.heartrate)"
   ]
  },
  {
   "cell_type": "code",
   "execution_count": 15,
   "metadata": {},
   "outputs": [
    {
     "data": {
      "text/plain": [
       "[<matplotlib.lines.Line2D at 0x27a6cf3a1c0>]"
      ]
     },
     "execution_count": 15,
     "metadata": {},
     "output_type": "execute_result"
    },
    {
     "data": {
      "image/png": "[encoded data removed]",
      "text/plain": [
       "<Figure size 640x480 with 1 Axes>"
      ]
     },
     "metadata": {},
     "output_type": "display_data"
    }
   ],
   "source": [
    "lst = [int(i) for i in range(len(df.heartrate))]\n",
    "plt.plot(lst,df_label.sleep)"
   ]
  },
  {
   "cell_type": "code",
   "execution_count": 16,
   "metadata": {},
   "outputs": [
    {
     "name": "stdout",
     "output_type": "stream",
     "text": [
      "<class 'pandas.core.frame.DataFrame'>\n",
      "Int64Index: 16981 entries, 0 to 16980\n",
      "Data columns (total 4 columns):\n",
      " #   Column     Non-Null Count  Dtype  \n",
      "---  ------     --------------  -----  \n",
      " 0   accX       16981 non-null  float64\n",
      " 1   accY       16981 non-null  float64\n",
      " 2   accZ       16981 non-null  float64\n",
      " 3   heartrate  16981 non-null  float64\n",
      "dtypes: float64(4)\n",
      "memory usage: 663.3 KB\n"
     ]
    },
    {
     "data": {
      "text/plain": [
       "16981"
      ]
     },
     "execution_count": 16,
     "metadata": {},
     "output_type": "execute_result"
    }
   ],
   "source": [
    "df_feature.info()\n",
    "len(df_feature)"
   ]
  },
  {
   "cell_type": "markdown",
   "metadata": {},
   "source": [
    "# Create 3d input"
   ]
  },
  {
   "cell_type": "code",
   "execution_count": 17,
   "metadata": {},
   "outputs": [
    {
     "name": "stderr",
     "output_type": "stream",
     "text": [
      "C:\\Users\\ADMIN\\AppData\\Local\\Temp\\ipykernel_18404\\3495659072.py:13: FutureWarning: Unlike other reduction functions (e.g. `skew`, `kurtosis`), the default behavior of `mode` typically preserves the axis it acts along. In SciPy 1.11.0, this behavior will change: the default value of `keepdims` will become False, the `axis` over which the statistic is taken will be eliminated, and the value None will no longer be accepted. Set `keepdims` to True or False to avoid this warning.\n",
      "  Labels = stats.mode(df_label[t : t+slidingW]) #majority vote\n"
     ]
    },
    {
     "name": "stdout",
     "output_type": "stream",
     "text": [
      "(3377, 100, 4, 1)\n",
      "(3377,)\n"
     ]
    }
   ],
   "source": [
    "# # ------------ 1D to 3D feature-------------------------------\n",
    "# # set sliding window parameter\n",
    "slidingW = 100\n",
    "n_feature =4\n",
    "stride_step = 5\n",
    "df_feature3D = []\n",
    "df_label_new = np.array([])                                         # ไม่ให้เกิน slicing window\n",
    "for t in range( 0 , len(df_feature) - 96, stride_step):    # len(dataframe)ตัวสุดท้ายที่มากที่สุดที่ step หารลงตัว - (slidingW size - Stride Step) \n",
    "    F3d= df_feature[t:t+ slidingW]                         # = 16980 - (100-5)  = 16980 - 95 หรือ (16981 - 96)\n",
    "    #print(F3d.shape)           # F3d เป็น  2D  (100,4)\n",
    "    df_feature3D.append(np.array(F3d))    # list เก็บ 2D เป็น 3D (จำนวน 2D, มิติของ 2D) หรือ (3377,100,4)  # (จำนวน,กว้าง,สูง,จำนวนมิติของภาพ)\n",
    "    #print(np.array(df_feature3D).shape)      \n",
    "    Labels = stats.mode(df_label[t : t+slidingW]) #majority vote\n",
    "    #print(Labels)\n",
    "    df_label_new = np.append(df_label_new,Labels[0])\n",
    "df_feature3D = np.array(df_feature3D).reshape(len(df_feature3D),100,4,1) # reshape ในรูปแบบ (Nset,slidingW,n_feature,1)\n",
    "\n",
    "print(df_feature3D.shape)\n",
    "print(df_label_new.shape)"
   ]
  },
  {
   "cell_type": "code",
   "execution_count": 18,
   "metadata": {},
   "outputs": [
    {
     "name": "stdout",
     "output_type": "stream",
     "text": [
      "0.0\n"
     ]
    }
   ],
   "source": [
    "# print(df_feature2D)\n",
    "print(df_label_new[0])"
   ]
  },
  {
   "cell_type": "markdown",
   "metadata": {},
   "source": [
    "## 9.1.2 Train Test Split"
   ]
  },
  {
   "cell_type": "code",
   "execution_count": 19,
   "metadata": {},
   "outputs": [],
   "source": [
    "# # ------------ Train-Test-Split 2D features -------------------------------\n",
    "x_train, x_test, y_train, y_test = train_test_split(df_feature, df_label)"
   ]
  },
  {
   "cell_type": "code",
   "execution_count": 20,
   "metadata": {},
   "outputs": [],
   "source": [
    "# # ------------ Train-Test-Split 3D features -------------------------------\n",
    "x3D_train, x3D_test, y3D_train, y3D_test = train_test_split( df_feature3D , df_label_new)"
   ]
  },
  {
   "cell_type": "markdown",
   "metadata": {},
   "source": [
    "# 9.2 NN Model "
   ]
  },
  {
   "cell_type": "markdown",
   "metadata": {},
   "source": [
    "## 9.2.1 NN Model Train Test"
   ]
  },
  {
   "cell_type": "code",
   "execution_count": 21,
   "metadata": {},
   "outputs": [],
   "source": [
    "# ------------ NN Architecture parameter -------------------------------\n",
    "Hidden_Layer_param = (30, 30, 30)\n",
    "mlp = MLPClassifier(hidden_layer_sizes = Hidden_Layer_param)\n",
    "# View NN model parameters"
   ]
  },
  {
   "cell_type": "code",
   "execution_count": 22,
   "metadata": {},
   "outputs": [
    {
     "name": "stderr",
     "output_type": "stream",
     "text": [
      "c:\\ProgramData\\Anaconda3\\lib\\site-packages\\sklearn\\neural_network\\_multilayer_perceptron.py:692: ConvergenceWarning: Stochastic Optimizer: Maximum iterations (200) reached and the optimization hasn't converged yet.\n",
      "  warnings.warn(\n"
     ]
    }
   ],
   "source": [
    "# # ------------ Training NN using 1D features -------------------------------\n",
    "y_train = np.array(y_train).ravel()  ## reshape เป็น (n_sample, ) แก้ตาม warning\n",
    "y_train.shape\n",
    "mlp.fit(x_train,y_train)\n",
    "mlp_pred = mlp.predict(x_test)"
   ]
  },
  {
   "cell_type": "markdown",
   "metadata": {},
   "source": [
    "### View Confusion Matrix and Classification Report"
   ]
  },
  {
   "cell_type": "code",
   "execution_count": 23,
   "metadata": {},
   "outputs": [
    {
     "name": "stdout",
     "output_type": "stream",
     "text": [
      "----- Confusion matrix of NN -----\n",
      "[[ 650   11   55   10    1]\n",
      " [  28  109   73    2    6]\n",
      " [  56   20 1096   54   33]\n",
      " [   4    0   65 1122    0]\n",
      " [   0    3   29    0  819]]\n",
      "----- Classification matrix of NN -----\n",
      "              precision    recall  f1-score   support\n",
      "\n",
      "         0.0       0.88      0.89      0.89       727\n",
      "         1.0       0.76      0.50      0.60       218\n",
      "         2.0       0.83      0.87      0.85      1259\n",
      "         3.0       0.94      0.94      0.94      1191\n",
      "         5.0       0.95      0.96      0.96       851\n",
      "\n",
      "    accuracy                           0.89      4246\n",
      "   macro avg       0.87      0.83      0.85      4246\n",
      "weighted avg       0.89      0.89      0.89      4246\n",
      "\n"
     ]
    }
   ],
   "source": [
    "print('----- Confusion matrix of NN -----')\n",
    "print(confusion_matrix(y_test,mlp_pred))\n",
    "print('----- Classification matrix of NN -----')\n",
    "print(classification_report(y_test,mlp_pred))"
   ]
  },
  {
   "cell_type": "markdown",
   "metadata": {},
   "source": [
    "# 9.3 CNN Model Train and Test"
   ]
  },
  {
   "cell_type": "markdown",
   "metadata": {},
   "source": [
    "## 9.3.1 CNN Model Train Test"
   ]
  },
  {
   "cell_type": "code",
   "execution_count": 24,
   "metadata": {},
   "outputs": [],
   "source": [
    "# ------------ CNN Architecture parameter -------------------------------\n",
    "# Nlayer (CNN, dense), Nnode, Activation\n",
    "CNN_L1 = 16 \n",
    "CNN_L2 = 64\n",
    "CNN_L3 = 128\n",
    "D_L1 = 512\n",
    "D_out = 6\n",
    "Activation = \"relu\"\n",
    "Ker_size = (3,3)\n",
    "Pooling_size = (2,1)  \n",
    "Input_shape = (slidingW, n_feature, 1)  # (100,4,1)\n",
    "model = Sequential()"
   ]
  },
  {
   "cell_type": "code",
   "execution_count": 25,
   "metadata": {},
   "outputs": [
    {
     "name": "stdout",
     "output_type": "stream",
     "text": [
      "Model: \"sequential\"\n",
      "_________________________________________________________________\n",
      " Layer (type)                Output Shape              Param #   \n",
      "=================================================================\n",
      " conv2d (Conv2D)             (None, 100, 4, 16)        160       \n",
      "                                                                 \n",
      " max_pooling2d (MaxPooling2D  (None, 50, 4, 16)        0         \n",
      " )                                                               \n",
      "                                                                 \n",
      " dropout (Dropout)           (None, 50, 4, 16)         0         \n",
      "                                                                 \n",
      " conv2d_1 (Conv2D)           (None, 50, 4, 64)         9280      \n",
      "                                                                 \n",
      " max_pooling2d_1 (MaxPooling  (None, 25, 4, 64)        0         \n",
      " 2D)                                                             \n",
      "                                                                 \n",
      " dropout_1 (Dropout)         (None, 25, 4, 64)         0         \n",
      "                                                                 \n",
      " conv2d_2 (Conv2D)           (None, 25, 4, 128)        73856     \n",
      "                                                                 \n",
      " max_pooling2d_2 (MaxPooling  (None, 12, 4, 128)       0         \n",
      " 2D)                                                             \n",
      "                                                                 \n",
      " dropout_2 (Dropout)         (None, 12, 4, 128)        0         \n",
      "                                                                 \n",
      " flatten (Flatten)           (None, 6144)              0         \n",
      "                                                                 \n",
      " dense (Dense)               (None, 512)               3146240   \n",
      "                                                                 \n",
      " dense_1 (Dense)             (None, 6)                 3078      \n",
      "                                                                 \n",
      "=================================================================\n",
      "Total params: 3,232,614\n",
      "Trainable params: 3,232,614\n",
      "Non-trainable params: 0\n",
      "_________________________________________________________________\n"
     ]
    }
   ],
   "source": [
    " # ------------ Create CNN Model -------------------------------\n",
    "model.add(Conv2D(CNN_L1, kernel_size=Ker_size, activation=Activation,input_shape=Input_shape,padding='same'))\n",
    "model.add(MaxPooling2D(pool_size=Pooling_size)) #ลดขนาดข้อมูล เพื่อให้ประมวลเร็ว\n",
    "model.add(Dropout(0.4)) #ลดการเชื่อมต่อของ node เพื่อลด overfit\n",
    "model.add(Conv2D(CNN_L2, kernel_size=Ker_size, activation= Activation, padding='same'))\n",
    "model.add(MaxPooling2D(pool_size= Pooling_size)) # ลดมิติ shape\n",
    "model.add(Dropout(0.4))\n",
    "model.add(Conv2D(CNN_L3, kernel_size=Ker_size, activation= Activation, padding='same'))\n",
    "model.add(MaxPooling2D(pool_size= Pooling_size))\n",
    "model.add(Dropout(0.4))\n",
    "model.add(Flatten())  # ลดมิติข้อมูล\n",
    "model.add(Dense(D_L1 , activation= Activation )) #ออก 512 layerหลังก่อนส่งออก output layer\n",
    "model.add(Dense(D_out, activation='sigmoid')) #ออก 6 layer\n",
    "model.compile(optimizer='adam', metrics=['accuracy'])\n",
    "model.summary()"
   ]
  },
  {
   "cell_type": "code",
   "execution_count": 26,
   "metadata": {},
   "outputs": [],
   "source": [
    "# ------------ Create Optimizer -------------------------------\n",
    "model.compile(optimizer='adam',loss= tf.keras.losses.SparseCategoricalCrossentropy(from_logits=True),metrics=[\"acc\"])"
   ]
  },
  {
   "cell_type": "code",
   "execution_count": 27,
   "metadata": {},
   "outputs": [
    {
     "name": "stdout",
     "output_type": "stream",
     "text": [
      "(2532, 100, 4, 1)\n",
      "(2532,)\n",
      "(845, 100, 4, 1)\n",
      "(845,)\n"
     ]
    }
   ],
   "source": [
    "print(x3D_train.shape)\n",
    "print(np.array(y3D_train).shape)\n",
    "# np.array(y3D_train).reshape(2,4,1)\n",
    "print(x3D_test.shape)\n",
    "print(np.array(y3D_test).shape)"
   ]
  },
  {
   "cell_type": "code",
   "execution_count": 28,
   "metadata": {},
   "outputs": [
    {
     "name": "stdout",
     "output_type": "stream",
     "text": [
      "Epoch 1/50\n"
     ]
    },
    {
     "name": "stderr",
     "output_type": "stream",
     "text": [
      "C:\\Users\\ADMIN\\AppData\\Roaming\\Python\\Python39\\site-packages\\keras\\backend.py:5582: UserWarning: \"`sparse_categorical_crossentropy` received `from_logits=True`, but the `output` argument was produced by a Softmax activation and thus does not represent logits. Was this intended?\n",
      "  output, from_logits = _get_logits(\n"
     ]
    },
    {
     "name": "stdout",
     "output_type": "stream",
     "text": [
      "40/40 [==============================] - 2s 44ms/step - loss: 1.0212 - acc: 0.5553 - val_loss: 0.6830 - val_acc: 0.7266\n",
      "Epoch 2/50\n",
      "40/40 [==============================] - 2s 40ms/step - loss: 0.6522 - acc: 0.7160 - val_loss: 0.6051 - val_acc: 0.7467\n",
      "Epoch 3/50\n",
      "40/40 [==============================] - 2s 41ms/step - loss: 0.5014 - acc: 0.7927 - val_loss: 0.4776 - val_acc: 0.8201\n",
      "Epoch 4/50\n",
      "40/40 [==============================] - 2s 41ms/step - loss: 0.4542 - acc: 0.8128 - val_loss: 0.4896 - val_acc: 0.7882\n",
      "Epoch 5/50\n",
      "40/40 [==============================] - 2s 42ms/step - loss: 0.4072 - acc: 0.8294 - val_loss: 0.3973 - val_acc: 0.8497\n",
      "Epoch 6/50\n",
      "40/40 [==============================] - 2s 41ms/step - loss: 0.3956 - acc: 0.8314 - val_loss: 0.3674 - val_acc: 0.8438\n",
      "Epoch 7/50\n",
      "40/40 [==============================] - 2s 41ms/step - loss: 0.3452 - acc: 0.8523 - val_loss: 0.3408 - val_acc: 0.8781\n",
      "Epoch 8/50\n",
      "40/40 [==============================] - 2s 41ms/step - loss: 0.3468 - acc: 0.8468 - val_loss: 0.3449 - val_acc: 0.8757\n",
      "Epoch 9/50\n",
      "40/40 [==============================] - 2s 41ms/step - loss: 0.3302 - acc: 0.8677 - val_loss: 0.3564 - val_acc: 0.8698\n",
      "Epoch 10/50\n",
      "40/40 [==============================] - 2s 42ms/step - loss: 0.2908 - acc: 0.8705 - val_loss: 0.3412 - val_acc: 0.8805\n",
      "Epoch 11/50\n",
      "40/40 [==============================] - 2s 41ms/step - loss: 0.3151 - acc: 0.8712 - val_loss: 0.3120 - val_acc: 0.8947\n",
      "Epoch 12/50\n",
      "40/40 [==============================] - 2s 41ms/step - loss: 0.2772 - acc: 0.8894 - val_loss: 0.2679 - val_acc: 0.9077\n",
      "Epoch 13/50\n",
      "40/40 [==============================] - 2s 42ms/step - loss: 0.2604 - acc: 0.8859 - val_loss: 0.2715 - val_acc: 0.9030\n",
      "Epoch 14/50\n",
      "40/40 [==============================] - 2s 41ms/step - loss: 0.2500 - acc: 0.8945 - val_loss: 0.2875 - val_acc: 0.8947\n",
      "Epoch 15/50\n",
      "40/40 [==============================] - 2s 41ms/step - loss: 0.2287 - acc: 0.8997 - val_loss: 0.2536 - val_acc: 0.9006\n",
      "Epoch 16/50\n",
      "40/40 [==============================] - 2s 42ms/step - loss: 0.2283 - acc: 0.9084 - val_loss: 0.3435 - val_acc: 0.8485\n",
      "Epoch 17/50\n",
      "40/40 [==============================] - 2s 42ms/step - loss: 0.2265 - acc: 0.9005 - val_loss: 0.2314 - val_acc: 0.9172\n",
      "Epoch 18/50\n",
      "40/40 [==============================] - 2s 41ms/step - loss: 0.2095 - acc: 0.9107 - val_loss: 0.3447 - val_acc: 0.8450\n",
      "Epoch 19/50\n",
      "40/40 [==============================] - 2s 43ms/step - loss: 0.1999 - acc: 0.9092 - val_loss: 0.2133 - val_acc: 0.9337\n",
      "Epoch 20/50\n",
      "40/40 [==============================] - 2s 45ms/step - loss: 0.2065 - acc: 0.9111 - val_loss: 0.2531 - val_acc: 0.8982\n",
      "Epoch 21/50\n",
      "40/40 [==============================] - 2s 43ms/step - loss: 0.1872 - acc: 0.9182 - val_loss: 0.1799 - val_acc: 0.9432\n",
      "Epoch 22/50\n",
      "40/40 [==============================] - 2s 46ms/step - loss: 0.1842 - acc: 0.9250 - val_loss: 0.2305 - val_acc: 0.9207\n",
      "Epoch 23/50\n",
      "40/40 [==============================] - 2s 42ms/step - loss: 0.1968 - acc: 0.9238 - val_loss: 0.1957 - val_acc: 0.9361\n",
      "Epoch 24/50\n",
      "40/40 [==============================] - 2s 49ms/step - loss: 0.1809 - acc: 0.9198 - val_loss: 0.1562 - val_acc: 0.9479\n",
      "Epoch 25/50\n",
      "40/40 [==============================] - 2s 46ms/step - loss: 0.1737 - acc: 0.9206 - val_loss: 0.3279 - val_acc: 0.8651\n",
      "Epoch 26/50\n",
      "40/40 [==============================] - 2s 43ms/step - loss: 0.2514 - acc: 0.9009 - val_loss: 0.2916 - val_acc: 0.8722\n",
      "Epoch 27/50\n",
      "40/40 [==============================] - 2s 42ms/step - loss: 0.1727 - acc: 0.9336 - val_loss: 0.1641 - val_acc: 0.9467\n",
      "Epoch 28/50\n",
      "40/40 [==============================] - 2s 53ms/step - loss: 0.1643 - acc: 0.9285 - val_loss: 0.1607 - val_acc: 0.9420\n",
      "Epoch 29/50\n",
      "40/40 [==============================] - 2s 55ms/step - loss: 0.1537 - acc: 0.9340 - val_loss: 0.1715 - val_acc: 0.9408\n",
      "Epoch 30/50\n",
      "40/40 [==============================] - 2s 54ms/step - loss: 0.1615 - acc: 0.9289 - val_loss: 0.2905 - val_acc: 0.8757\n",
      "Epoch 31/50\n",
      "40/40 [==============================] - 2s 50ms/step - loss: 0.1683 - acc: 0.9258 - val_loss: 0.2160 - val_acc: 0.9207\n",
      "Epoch 32/50\n",
      "40/40 [==============================] - 2s 49ms/step - loss: 0.1647 - acc: 0.9285 - val_loss: 0.4430 - val_acc: 0.8308\n",
      "Epoch 33/50\n",
      "40/40 [==============================] - 2s 50ms/step - loss: 0.1652 - acc: 0.9301 - val_loss: 0.2043 - val_acc: 0.9065\n",
      "Epoch 34/50\n",
      "40/40 [==============================] - 2s 50ms/step - loss: 0.1604 - acc: 0.9226 - val_loss: 0.1924 - val_acc: 0.9396\n",
      "Epoch 35/50\n",
      "40/40 [==============================] - 2s 49ms/step - loss: 0.1486 - acc: 0.9384 - val_loss: 0.2141 - val_acc: 0.9266\n",
      "Epoch 36/50\n",
      "40/40 [==============================] - 2s 50ms/step - loss: 0.1337 - acc: 0.9388 - val_loss: 0.3685 - val_acc: 0.8450\n",
      "Epoch 37/50\n",
      "40/40 [==============================] - 2s 49ms/step - loss: 0.1288 - acc: 0.9459 - val_loss: 0.1691 - val_acc: 0.9550\n",
      "Epoch 38/50\n",
      "40/40 [==============================] - 2s 50ms/step - loss: 0.1499 - acc: 0.9364 - val_loss: 0.1864 - val_acc: 0.9254\n",
      "Epoch 39/50\n",
      "40/40 [==============================] - 2s 49ms/step - loss: 0.1275 - acc: 0.9408 - val_loss: 0.1915 - val_acc: 0.9385\n",
      "Epoch 40/50\n",
      "40/40 [==============================] - 2s 50ms/step - loss: 0.1461 - acc: 0.9404 - val_loss: 0.4072 - val_acc: 0.8556\n",
      "Epoch 41/50\n",
      "40/40 [==============================] - 2s 50ms/step - loss: 0.1566 - acc: 0.9336 - val_loss: 0.2443 - val_acc: 0.9219\n",
      "Epoch 42/50\n",
      "40/40 [==============================] - 2s 52ms/step - loss: 0.1740 - acc: 0.9277 - val_loss: 0.2230 - val_acc: 0.8970\n",
      "Epoch 43/50\n",
      "40/40 [==============================] - 2s 50ms/step - loss: 0.1232 - acc: 0.9459 - val_loss: 0.1572 - val_acc: 0.9503\n",
      "Epoch 44/50\n",
      "40/40 [==============================] - 2s 50ms/step - loss: 0.1112 - acc: 0.9487 - val_loss: 0.1602 - val_acc: 0.9586\n",
      "Epoch 45/50\n",
      "40/40 [==============================] - 2s 51ms/step - loss: 0.1258 - acc: 0.9467 - val_loss: 0.2291 - val_acc: 0.9160\n",
      "Epoch 46/50\n",
      "40/40 [==============================] - 2s 50ms/step - loss: 0.1262 - acc: 0.9451 - val_loss: 0.1849 - val_acc: 0.9562\n",
      "Epoch 47/50\n",
      "40/40 [==============================] - 2s 50ms/step - loss: 0.1103 - acc: 0.9518 - val_loss: 0.1383 - val_acc: 0.9515\n",
      "Epoch 48/50\n",
      "40/40 [==============================] - 2s 51ms/step - loss: 0.1431 - acc: 0.9419 - val_loss: 0.1660 - val_acc: 0.9432\n",
      "Epoch 49/50\n",
      "40/40 [==============================] - 2s 50ms/step - loss: 0.1604 - acc: 0.9352 - val_loss: 0.2000 - val_acc: 0.9314\n",
      "Epoch 50/50\n",
      "40/40 [==============================] - 2s 50ms/step - loss: 0.1333 - acc: 0.9396 - val_loss: 0.1369 - val_acc: 0.9550\n"
     ]
    }
   ],
   "source": [
    "# ------ Train CNN using 3D feature--------------------------------------------\n",
    "history = model.fit(x3D_train, y3D_train, epochs=50, batch_size=64,validation_data=(x3D_test, y3D_test)) #batch size load รอไว้ 64 ชุด"
   ]
  },
  {
   "cell_type": "code",
   "execution_count": 29,
   "metadata": {},
   "outputs": [
    {
     "name": "stdout",
     "output_type": "stream",
     "text": [
      "27/27 [==============================] - 0s 6ms/step\n",
      "27/27 [==============================] - 0s 6ms/step\n",
      "                0         1             2         3             4  \\\n",
      "0    9.916883e-01  0.091406  5.416046e-01  0.155434  4.305928e-04   \n",
      "1    3.743025e-02  0.006652  8.843213e-01  0.992896  1.944332e-03   \n",
      "2    2.579405e-04  0.023698  8.487805e-01  0.329619  7.917617e-05   \n",
      "3    8.546010e-01  0.271619  9.977344e-01  0.073260  1.158084e-02   \n",
      "4    9.970575e-01  0.996760  9.999965e-01  0.000057  5.922212e-06   \n",
      "..            ...       ...           ...       ...           ...   \n",
      "840  9.681832e-01  0.999751  9.669644e-01  0.001437  1.503413e-04   \n",
      "841  5.330813e-02  0.005439  8.903822e-01  0.994398  1.039499e-03   \n",
      "842  2.196459e-03  0.029731  8.904603e-01  0.140032  2.982554e-04   \n",
      "843  6.381884e-02  0.044011  9.064085e-01  0.984732  7.622202e-03   \n",
      "844  1.191641e-11  0.089838  2.520803e-08  0.989219  2.170159e-13   \n",
      "\n",
      "                5  \n",
      "0    1.743503e-02  \n",
      "1    9.158063e-03  \n",
      "2    9.966735e-01  \n",
      "3    1.987074e-04  \n",
      "4    3.494032e-08  \n",
      "..            ...  \n",
      "840  9.405062e-03  \n",
      "841  4.282598e-03  \n",
      "842  9.963584e-01  \n",
      "843  8.182931e-03  \n",
      "844  1.000000e+00  \n",
      "\n",
      "[845 rows x 6 columns]\n",
      "[0 3 5 2 2 0 5 3 2 3 2 0 3 2 5 3 3 3 2 0 0 3 2 0 2 5 2 1 3 2 2 3 5 0 0 0 2\n",
      " 3 5 0 3 0 0 2 3 2 2 5 3 2 0 2 2 3 3 5 2 0 0 5 2 3 0 1 2 2 5 3 2 3 3 2 0 3\n",
      " 0 5 3 5 0 2 2 2 0 3 5 3 0 2 3 3 3 0 3 5 0 3 2 2 2 0 2 3 2 5 3 2 3 3 2 3 5\n",
      " 0 3 3 1 3 2 2 5 0 5 2 0 2 3 2 3 2 5 5 5 2 3 2 2 2 1 3 3 0 0 2 3 3 3 3 5 0\n",
      " 2 0 3 2 0 3 5 3 0 1 5 3 5 2 3 2 5 3 5 0 3 3 3 0 0 0 0 2 3 2 3 0 3 0 0 3 5\n",
      " 0 0 5 3 2 3 0 2 5 5 3 5 5 5 2 3 5 2 5 2 2 5 2 3 2 0 5 5 2 2 0 3 0 3 0 0 5\n",
      " 0 5 2 2 2 5 2 3 3 2 3 2 3 3 5 5 3 5 2 2 5 3 0 3 2 3 5 3 3 2 5 0 2 5 0 2 5\n",
      " 5 3 3 5 0 0 3 3 0 2 2 3 0 3 5 2 3 2 5 3 5 3 3 1 2 2 5 5 0 2 3 5 2 3 3 2 3\n",
      " 2 5 2 5 2 0 3 2 2 5 0 3 0 2 0 5 5 2 2 2 5 2 3 3 3 2 3 3 2 0 2 3 2 5 3 5 3\n",
      " 5 2 5 5 5 2 0 3 3 5 3 0 2 3 2 5 2 5 0 1 5 3 5 3 3 5 2 2 3 2 5 3 5 0 0 2 5\n",
      " 3 2 5 2 5 5 0 1 5 1 2 0 0 0 2 2 3 3 5 2 2 3 2 3 5 5 2 5 2 0 5 0 0 0 3 2 2\n",
      " 2 3 2 5 2 0 5 0 0 3 0 0 2 1 5 5 0 2 5 2 3 2 2 3 2 5 2 5 3 5 2 3 3 1 0 3 3\n",
      " 5 5 3 5 3 3 2 3 0 3 3 2 5 3 1 3 5 2 0 0 5 5 2 2 5 5 2 2 3 5 0 3 3 3 3 2 2\n",
      " 3 2 1 5 2 3 5 2 2 1 3 2 3 2 2 2 3 2 2 2 3 5 2 1 3 2 5 2 0 3 5 5 2 5 3 0 3\n",
      " 5 3 2 2 0 5 0 2 2 2 5 0 5 0 3 2 0 2 3 0 3 3 3 3 2 5 2 2 3 3 3 0 3 3 5 3 2\n",
      " 3 2 3 2 2 0 5 3 2 3 3 1 3 3 2 5 5 2 3 2 5 0 3 2 0 0 0 0 5 5 5 2 5 0 5 2 3\n",
      " 3 3 2 5 0 5 2 3 2 5 3 3 3 2 3 3 2 5 3 3 2 0 5 3 2 3 2 3 2 3 5 1 2 5 5 2 1\n",
      " 2 2 5 0 5 0 2 5 0 2 2 3 2 5 2 0 3 3 3 5 3 3 2 2 5 5 1 2 2 2 0 2 0 0 5 0 0\n",
      " 2 5 2 2 5 2 2 5 2 3 3 3 5 1 2 0 3 0 2 2 5 5 5 3 5 3 3 2 0 2 5 5 5 0 3 0 5\n",
      " 2 0 3 2 3 2 2 2 0 5 2 0 3 0 3 2 1 2 3 5 3 3 2 3 2 3 2 3 0 3 2 2 2 5 5 2 3\n",
      " 3 3 2 3 5 2 3 5 2 3 2 5 5 3 3 0 0 3 5 0 0 2 5 3 3 3 3 2 2 5 0 3 3 3 3 3 5\n",
      " 5 1 0 5 0 5 3 2 2 2 2 3 2 0 2 2 5 3 2 3 3 0 1 3 2 2 3 3 2 3 5 2 2 3 2 3 5\n",
      " 3 2 0 5 5 3 5 2 5 3 2 3 2 3 3 2 5 3 1 3 3 5 3 2 5 0 1 3 5 3 5]\n"
     ]
    }
   ],
   "source": [
    "# # ------- Test CNN -------------------------------\n",
    "CNN_pred = np.argmax(model.predict(x3D_test),axis=1)\n",
    "print(pd.DataFrame(model.predict(x3D_test)))\n",
    "print(CNN_pred)"
   ]
  },
  {
   "cell_type": "markdown",
   "metadata": {},
   "source": [
    "## 9.3.2 Performance of CNN Model"
   ]
  },
  {
   "cell_type": "code",
   "execution_count": 30,
   "metadata": {},
   "outputs": [
    {
     "name": "stdout",
     "output_type": "stream",
     "text": [
      "----- Confusion matrix of NN -----\n",
      "[[126   1   3   0   0]\n",
      " [  3  23  13   0   0]\n",
      " [  6   0 232   2   6]\n",
      " [  0   0   1 249   0]\n",
      " [  0   1   2   0 177]]\n",
      "----- Classification matrix of NN -----\n",
      "              precision    recall  f1-score   support\n",
      "\n",
      "         0.0       0.93      0.97      0.95       130\n",
      "         1.0       0.92      0.59      0.72        39\n",
      "         2.0       0.92      0.94      0.93       246\n",
      "         3.0       0.99      1.00      0.99       250\n",
      "         5.0       0.97      0.98      0.98       180\n",
      "\n",
      "    accuracy                           0.96       845\n",
      "   macro avg       0.95      0.90      0.91       845\n",
      "weighted avg       0.95      0.96      0.95       845\n",
      "\n"
     ]
    }
   ],
   "source": [
    "# ------------ View Confusion Matrix, Classification Report -------------------------------\n",
    "print('----- Confusion matrix of NN -----')\n",
    "print(confusion_matrix(y3D_test,CNN_pred))\n",
    "print('----- Classification matrix of NN -----')\n",
    "print(classification_report(y3D_test,CNN_pred))"
   ]
  },
  {
   "cell_type": "code",
   "execution_count": 31,
   "metadata": {},
   "outputs": [
    {
     "data": {
      "image/png": "[encoded data removed]",
      "text/plain": [
       "<Figure size 640x480 with 1 Axes>"
      ]
     },
     "metadata": {},
     "output_type": "display_data"
    },
    {
     "data": {
      "image/png": "[encoded data removed]",
      "text/plain": [
       "<Figure size 640x480 with 1 Axes>"
      ]
     },
     "metadata": {},
     "output_type": "display_data"
    }
   ],
   "source": [
    "# ------ View History Graph -------------------------------------------\n",
    "# View Accuracy Graph\n",
    "# summarize history for accuracy\n",
    "plt.plot(history.history['acc'],label = 'train')\n",
    "plt.plot(history.history['val_acc'], label = 'test')\n",
    "plt.xlabel('Epochs')\n",
    "plt.ylabel('Accuracy')\n",
    "plt.legend()\n",
    "plt.show()\n",
    "# View Loss Graph\n",
    "# summarize history for loss\n",
    "plt.plot(history.history['loss'],label = 'train')\n",
    "plt.plot(history.history['val_loss'],label = 'test')\n",
    "plt.xlabel('Epochs')\n",
    "plt.ylabel('Loss')\n",
    "plt.legend()\n",
    "plt.show()"
   ]
  }
 ],
 "metadata": {
  "kernelspec": {
   "display_name": "Python 3.9.12 ('base')",
   "language": "python",
   "name": "python3"
  },
  "language_info": {
   "codemirror_mode": {
    "name": "ipython",
    "version": 3
   },
   "file_extension": ".py",
   "mimetype": "text/x-python",
   "name": "python",
   "nbconvert_exporter": "python",
   "pygments_lexer": "ipython3",
   "version": "3.9.12"
  },
  "orig_nbformat": 4,
  "vscode": {
   "interpreter": {
    "hash": "ad2bdc8ecc057115af97d19610ffacc2b4e99fae6737bb82f5d7fb13d2f2c186"
   }
  }
 },
 "nbformat": 4,
 "nbformat_minor": 2
}
