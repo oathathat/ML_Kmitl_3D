{
 "cells": [
  {
   "cell_type": "code",
   "execution_count": 127,
   "metadata": {},
   "outputs": [],
   "source": [
    "import numpy as np\n",
    "import pandas as pd\n",
    "import matplotlib.pyplot as plt\n",
    "from sklearn.preprocessing import StandardScaler\n",
    "from sklearn.model_selection import train_test_split, cross_val_score, StratifiedKFold\n",
    "from sklearn.svm import SVC\n",
    "from sklearn import metrics\n",
    "from sklearn.model_selection import GridSearchCV, RandomizedSearchCV\n",
    "from sklearn.metrics import accuracy_score, classification_report, confusion_matrix\n",
    "import glob\n",
    "from scipy import stats\n",
    "import datetime as dt\n",
    "from sklearn.neural_network import MLPClassifier\n",
    "\n",
    "from tensorflow.keras.regularizers import l1,l2,l1_l2\n",
    "from tensorflow.keras import Sequential\n",
    "from tensorflow.keras.layers import MaxPooling2D,Dropout,Flatten,Dense,Conv2D\n",
    "import tensorflow as tf\n"
   ]
  },
  {
   "cell_type": "markdown",
   "metadata": {},
   "source": [
    "# 9.1.1"
   ]
  },
  {
   "cell_type": "markdown",
   "metadata": {},
   "source": [
    "## 9.1.1a"
   ]
  },
  {
   "cell_type": "code",
   "execution_count": 128,
   "metadata": {},
   "outputs": [],
   "source": [
    "ACC   = pd.read_csv('acceleration.txt', sep = ' ',names=['timedelta', 'accX', 'accY', 'accZ'])\n",
    "HeartR = pd.read_csv('heartrate.txt', sep = ',',names=['timedelta', 'heartrate'])\n",
    "SleepL = pd.read_csv('labeled_sleep.txt', sep = ' ',names=['timedelta', 'sleep'])"
   ]
  },
  {
   "cell_type": "code",
   "execution_count": 129,
   "metadata": {},
   "outputs": [
    {
     "name": "stdout",
     "output_type": "stream",
     "text": [
      "ACC start: -124489.16105 ACC end: 17643.046417\n",
      "HeartR start: -556410.36066 HeartR end: 16980.47229\n",
      "SleepL start: 0 SLeepL end: 16980\n"
     ]
    }
   ],
   "source": [
    "# Check 'timedelta' max(), min() of ACC, HeartR, SleepL (ช่วงเวลาที่มีข้อมูลใกล้กัน)\n",
    "ACC_max_date = ACC['timedelta'].max()\n",
    "ACC_min_date = ACC['timedelta'].min()\n",
    "# หา start_timedelta, end_timedelta\n",
    "HeartR_max = HeartR['timedelta'].max()\n",
    "HeartR_min = HeartR['timedelta'].min()\n",
    "\n",
    "SleepL_max = SleepL['timedelta'].max()\n",
    "SleepL_min = SleepL['timedelta'].min()\n",
    "\n",
    "print(f'ACC start: {ACC_min_date} ACC end: {ACC_max_date}')\n",
    "print(f'HeartR start: {HeartR_min} HeartR end: {HeartR_max}')\n",
    "print(f'SleepL start: {SleepL_min} SLeepL end: {SleepL_max}')\n"
   ]
  },
  {
   "cell_type": "code",
   "execution_count": 130,
   "metadata": {},
   "outputs": [],
   "source": [
    " # select only intersected timedelta (ACC, HeartR, SleepL) (ช่วงเวลาที่มีข้อมูลใกล้กัน) #เลือกขอบ\n",
    "ACC_new = ACC[(ACC['timedelta'] > SleepL_min) & (ACC['timedelta'] < SleepL_max)]\n",
    "HeartR_new = HeartR[(HeartR['timedelta']> SleepL_min) & HeartR['timedelta']< SleepL_max]\n",
    "SleepL_new = SleepL[(SleepL['timedelta']> SleepL_min) & SleepL['timedelta']< SleepL_max]"
   ]
  },
  {
   "cell_type": "markdown",
   "metadata": {},
   "source": [
    "## 9.1.1b"
   ]
  },
  {
   "cell_type": "code",
   "execution_count": 131,
   "metadata": {},
   "outputs": [
    {
     "name": "stderr",
     "output_type": "stream",
     "text": [
      "C:\\Users\\ADMIN\\AppData\\Local\\Temp\\ipykernel_7348\\2630731856.py:3: SettingWithCopyWarning: \n",
      "A value is trying to be set on a copy of a slice from a DataFrame.\n",
      "Try using .loc[row_indexer,col_indexer] = value instead\n",
      "\n",
      "See the caveats in the documentation: https://pandas.pydata.org/pandas-docs/stable/user_guide/indexing.html#returning-a-view-versus-a-copy\n",
      "  ACC_new['timedelta'] = pd.DataFrame(pd.to_timedelta(ACC_new['timedelta'], unit='s').round('1s'))\n"
     ]
    },
    {
     "data": {
      "text/html": [
       "<div>\n",
       "<style scoped>\n",
       "    .dataframe tbody tr th:only-of-type {\n",
       "        vertical-align: middle;\n",
       "    }\n",
       "\n",
       "    .dataframe tbody tr th {\n",
       "        vertical-align: top;\n",
       "    }\n",
       "\n",
       "    .dataframe thead th {\n",
       "        text-align: right;\n",
       "    }\n",
       "</style>\n",
       "<table border=\"1\" class=\"dataframe\">\n",
       "  <thead>\n",
       "    <tr style=\"text-align: right;\">\n",
       "      <th></th>\n",
       "      <th>timedelta</th>\n",
       "      <th>accX</th>\n",
       "      <th>accY</th>\n",
       "      <th>accZ</th>\n",
       "    </tr>\n",
       "  </thead>\n",
       "  <tbody>\n",
       "    <tr>\n",
       "      <th>98777</th>\n",
       "      <td>0 days 00:00:00</td>\n",
       "      <td>-0.234650</td>\n",
       "      <td>0.905975</td>\n",
       "      <td>0.362747</td>\n",
       "    </tr>\n",
       "    <tr>\n",
       "      <th>98778</th>\n",
       "      <td>0 days 00:00:00</td>\n",
       "      <td>-0.231232</td>\n",
       "      <td>0.893265</td>\n",
       "      <td>0.371613</td>\n",
       "    </tr>\n",
       "    <tr>\n",
       "      <th>98779</th>\n",
       "      <td>0 days 00:00:00</td>\n",
       "      <td>-0.227814</td>\n",
       "      <td>0.915848</td>\n",
       "      <td>0.369049</td>\n",
       "    </tr>\n",
       "    <tr>\n",
       "      <th>98780</th>\n",
       "      <td>0 days 00:00:00</td>\n",
       "      <td>-0.240524</td>\n",
       "      <td>0.919159</td>\n",
       "      <td>0.352890</td>\n",
       "    </tr>\n",
       "    <tr>\n",
       "      <th>98781</th>\n",
       "      <td>0 days 00:00:00</td>\n",
       "      <td>-0.240448</td>\n",
       "      <td>0.889175</td>\n",
       "      <td>0.350143</td>\n",
       "    </tr>\n",
       "    <tr>\n",
       "      <th>...</th>\n",
       "      <td>...</td>\n",
       "      <td>...</td>\n",
       "      <td>...</td>\n",
       "      <td>...</td>\n",
       "    </tr>\n",
       "    <tr>\n",
       "      <th>948796</th>\n",
       "      <td>0 days 04:43:00</td>\n",
       "      <td>-0.442413</td>\n",
       "      <td>-0.527573</td>\n",
       "      <td>0.723450</td>\n",
       "    </tr>\n",
       "    <tr>\n",
       "      <th>948797</th>\n",
       "      <td>0 days 04:43:00</td>\n",
       "      <td>-0.441925</td>\n",
       "      <td>-0.527573</td>\n",
       "      <td>0.721985</td>\n",
       "    </tr>\n",
       "    <tr>\n",
       "      <th>948798</th>\n",
       "      <td>0 days 04:43:00</td>\n",
       "      <td>-0.441437</td>\n",
       "      <td>-0.526108</td>\n",
       "      <td>0.721985</td>\n",
       "    </tr>\n",
       "    <tr>\n",
       "      <th>948799</th>\n",
       "      <td>0 days 04:43:00</td>\n",
       "      <td>-0.443405</td>\n",
       "      <td>-0.525116</td>\n",
       "      <td>0.723434</td>\n",
       "    </tr>\n",
       "    <tr>\n",
       "      <th>948800</th>\n",
       "      <td>0 days 04:43:00</td>\n",
       "      <td>-0.441925</td>\n",
       "      <td>-0.524628</td>\n",
       "      <td>0.722458</td>\n",
       "    </tr>\n",
       "  </tbody>\n",
       "</table>\n",
       "<p>850024 rows × 4 columns</p>\n",
       "</div>"
      ],
      "text/plain": [
       "             timedelta      accX      accY      accZ\n",
       "98777  0 days 00:00:00 -0.234650  0.905975  0.362747\n",
       "98778  0 days 00:00:00 -0.231232  0.893265  0.371613\n",
       "98779  0 days 00:00:00 -0.227814  0.915848  0.369049\n",
       "98780  0 days 00:00:00 -0.240524  0.919159  0.352890\n",
       "98781  0 days 00:00:00 -0.240448  0.889175  0.350143\n",
       "...                ...       ...       ...       ...\n",
       "948796 0 days 04:43:00 -0.442413 -0.527573  0.723450\n",
       "948797 0 days 04:43:00 -0.441925 -0.527573  0.721985\n",
       "948798 0 days 04:43:00 -0.441437 -0.526108  0.721985\n",
       "948799 0 days 04:43:00 -0.443405 -0.525116  0.723434\n",
       "948800 0 days 04:43:00 -0.441925 -0.524628  0.722458\n",
       "\n",
       "[850024 rows x 4 columns]"
      ]
     },
     "execution_count": 131,
     "metadata": {},
     "output_type": "execute_result"
    }
   ],
   "source": [
    " # Convert to datetime and round to second,\n",
    " # ------------ Rounding ACC (Rounding to 1 sec) -------------------------------\n",
    "ACC_new['timedelta'] = pd.DataFrame(pd.to_timedelta(ACC_new['timedelta'], unit='s').round('1s'))\n",
    "ACC_new"
   ]
  },
  {
   "cell_type": "code",
   "execution_count": 132,
   "metadata": {},
   "outputs": [
    {
     "data": {
      "text/html": [
       "<div>\n",
       "<style scoped>\n",
       "    .dataframe tbody tr th:only-of-type {\n",
       "        vertical-align: middle;\n",
       "    }\n",
       "\n",
       "    .dataframe tbody tr th {\n",
       "        vertical-align: top;\n",
       "    }\n",
       "\n",
       "    .dataframe thead th {\n",
       "        text-align: right;\n",
       "    }\n",
       "</style>\n",
       "<table border=\"1\" class=\"dataframe\">\n",
       "  <thead>\n",
       "    <tr style=\"text-align: right;\">\n",
       "      <th></th>\n",
       "      <th>timedelta</th>\n",
       "      <th>accX</th>\n",
       "      <th>accY</th>\n",
       "      <th>accZ</th>\n",
       "    </tr>\n",
       "  </thead>\n",
       "  <tbody>\n",
       "    <tr>\n",
       "      <th>0</th>\n",
       "      <td>0 days 00:00:00</td>\n",
       "      <td>-0.243203</td>\n",
       "      <td>0.895372</td>\n",
       "      <td>0.367591</td>\n",
       "    </tr>\n",
       "    <tr>\n",
       "      <th>1</th>\n",
       "      <td>0 days 00:00:01</td>\n",
       "      <td>-0.240757</td>\n",
       "      <td>0.873826</td>\n",
       "      <td>0.415446</td>\n",
       "    </tr>\n",
       "    <tr>\n",
       "      <th>2</th>\n",
       "      <td>0 days 00:00:02</td>\n",
       "      <td>-0.244620</td>\n",
       "      <td>0.883943</td>\n",
       "      <td>0.387026</td>\n",
       "    </tr>\n",
       "    <tr>\n",
       "      <th>3</th>\n",
       "      <td>0 days 00:00:03</td>\n",
       "      <td>-0.248036</td>\n",
       "      <td>0.902427</td>\n",
       "      <td>0.347812</td>\n",
       "    </tr>\n",
       "    <tr>\n",
       "      <th>4</th>\n",
       "      <td>0 days 00:00:04</td>\n",
       "      <td>-0.241778</td>\n",
       "      <td>0.912946</td>\n",
       "      <td>0.321502</td>\n",
       "    </tr>\n",
       "    <tr>\n",
       "      <th>...</th>\n",
       "      <td>...</td>\n",
       "      <td>...</td>\n",
       "      <td>...</td>\n",
       "      <td>...</td>\n",
       "    </tr>\n",
       "    <tr>\n",
       "      <th>16976</th>\n",
       "      <td>0 days 04:42:56</td>\n",
       "      <td>-0.442763</td>\n",
       "      <td>-0.525892</td>\n",
       "      <td>0.722950</td>\n",
       "    </tr>\n",
       "    <tr>\n",
       "      <th>16977</th>\n",
       "      <td>0 days 04:42:57</td>\n",
       "      <td>-0.441990</td>\n",
       "      <td>-0.525476</td>\n",
       "      <td>0.723410</td>\n",
       "    </tr>\n",
       "    <tr>\n",
       "      <th>16978</th>\n",
       "      <td>0 days 04:42:58</td>\n",
       "      <td>-0.441581</td>\n",
       "      <td>-0.525116</td>\n",
       "      <td>0.724003</td>\n",
       "    </tr>\n",
       "    <tr>\n",
       "      <th>16979</th>\n",
       "      <td>0 days 04:42:59</td>\n",
       "      <td>-0.442283</td>\n",
       "      <td>-0.525849</td>\n",
       "      <td>0.723265</td>\n",
       "    </tr>\n",
       "    <tr>\n",
       "      <th>16980</th>\n",
       "      <td>0 days 04:43:00</td>\n",
       "      <td>-0.442674</td>\n",
       "      <td>-0.525962</td>\n",
       "      <td>0.722678</td>\n",
       "    </tr>\n",
       "  </tbody>\n",
       "</table>\n",
       "<p>16981 rows × 4 columns</p>\n",
       "</div>"
      ],
      "text/plain": [
       "            timedelta      accX      accY      accZ\n",
       "0     0 days 00:00:00 -0.243203  0.895372  0.367591\n",
       "1     0 days 00:00:01 -0.240757  0.873826  0.415446\n",
       "2     0 days 00:00:02 -0.244620  0.883943  0.387026\n",
       "3     0 days 00:00:03 -0.248036  0.902427  0.347812\n",
       "4     0 days 00:00:04 -0.241778  0.912946  0.321502\n",
       "...               ...       ...       ...       ...\n",
       "16976 0 days 04:42:56 -0.442763 -0.525892  0.722950\n",
       "16977 0 days 04:42:57 -0.441990 -0.525476  0.723410\n",
       "16978 0 days 04:42:58 -0.441581 -0.525116  0.724003\n",
       "16979 0 days 04:42:59 -0.442283 -0.525849  0.723265\n",
       "16980 0 days 04:43:00 -0.442674 -0.525962  0.722678\n",
       "\n",
       "[16981 rows x 4 columns]"
      ]
     },
     "execution_count": 132,
     "metadata": {},
     "output_type": "execute_result"
    }
   ],
   "source": [
    "# Average rounding duplicated time\n",
    "df_acc_X = ACC_new.groupby('timedelta')['accX'].mean().reset_index()\n",
    "df_acc_Y = ACC_new.groupby('timedelta')['accY'].mean().reset_index()\n",
    "df_acc_Z = ACC_new.groupby('timedelta')['accZ'].mean().reset_index()\n",
    "ACC = pd.concat([df_acc_X, df_acc_Y, df_acc_Z], axis=1)\n",
    "ACC = ACC.loc[:,~ACC.columns.duplicated()].copy() #ตัด duplicate columns(timedelta)\n",
    "ACC"
   ]
  },
  {
   "cell_type": "markdown",
   "metadata": {},
   "source": [
    "## 9.1.1c"
   ]
  },
  {
   "cell_type": "code",
   "execution_count": 133,
   "metadata": {},
   "outputs": [],
   "source": [
    "# ------------ Rounding Heart Rate (Rounding to 1 sec) -------------------------------\n",
    "HeartR_new['timedelta'] = pd.DataFrame(pd.to_timedelta(HeartR_new['timedelta'],unit='s').round('1s'))"
   ]
  },
  {
   "cell_type": "code",
   "execution_count": 134,
   "metadata": {},
   "outputs": [],
   "source": [
    "# Resampling every 1s with median with ffill\n",
    "resample_rule = '1s'\n",
    "HeartR_new2 = HeartR_new.set_index('timedelta').resample(resample_rule,).median().ffill()"
   ]
  },
  {
   "cell_type": "markdown",
   "metadata": {},
   "source": [
    "## 9.1.1d"
   ]
  },
  {
   "cell_type": "code",
   "execution_count": 135,
   "metadata": {},
   "outputs": [],
   "source": [
    "# ------------ Rounding Sleep Label (Rounding to 1 sec) -------------------------------\n",
    "SleepL_new['timedelta'] = pd.DataFrame(pd.to_timedelta(SleepL_new['timedelta'],unit='s').round('1s'))"
   ]
  },
  {
   "cell_type": "code",
   "execution_count": 136,
   "metadata": {},
   "outputs": [],
   "source": [
    "# Resampling every 1s with median with ffill\n",
    "resample_rule = '1s'\n",
    "SleepL_new2 = SleepL_new.set_index('timedelta').resample(resample_rule,).median().ffill()\n",
    "SleepL_new2.replace({-1:0},inplace=True)"
   ]
  },
  {
   "cell_type": "markdown",
   "metadata": {},
   "source": [
    "## 9.1.1e"
   ]
  },
  {
   "cell_type": "code",
   "execution_count": 137,
   "metadata": {},
   "outputs": [],
   "source": [
    "# ------------Merge All Data -------------------------------\n",
    "df = []\n",
    "df = pd.merge_asof(ACC, HeartR_new2, on='timedelta')\n",
    "df = pd.merge_asof(df, SleepL_new2, on = 'timedelta')"
   ]
  },
  {
   "cell_type": "code",
   "execution_count": 138,
   "metadata": {},
   "outputs": [],
   "source": [
    "# Fill NA\n",
    "# Heart rate\n",
    "# Fillna() # using median()\n",
    "heart_mean = df.heartrate.mean()\n",
    "df.heartrate.fillna(heart_mean,inplace=True)\n",
    "# # Sleep Label\n",
    "# Fillna() # with 0\n",
    "df.sleep.fillna(0,inplace=True)\n",
    "# # Drop column\n",
    "df.drop(columns='timedelta',inplace=True)\n"
   ]
  },
  {
   "cell_type": "code",
   "execution_count": 139,
   "metadata": {},
   "outputs": [
    {
     "data": {
      "text/html": [
       "<div>\n",
       "<style scoped>\n",
       "    .dataframe tbody tr th:only-of-type {\n",
       "        vertical-align: middle;\n",
       "    }\n",
       "\n",
       "    .dataframe tbody tr th {\n",
       "        vertical-align: top;\n",
       "    }\n",
       "\n",
       "    .dataframe thead th {\n",
       "        text-align: right;\n",
       "    }\n",
       "</style>\n",
       "<table border=\"1\" class=\"dataframe\">\n",
       "  <thead>\n",
       "    <tr style=\"text-align: right;\">\n",
       "      <th></th>\n",
       "      <th>accX</th>\n",
       "      <th>accY</th>\n",
       "      <th>accZ</th>\n",
       "      <th>heartrate</th>\n",
       "    </tr>\n",
       "  </thead>\n",
       "  <tbody>\n",
       "    <tr>\n",
       "      <th>0</th>\n",
       "      <td>-0.587547</td>\n",
       "      <td>3.058075</td>\n",
       "      <td>0.698728</td>\n",
       "      <td>0.788122</td>\n",
       "    </tr>\n",
       "    <tr>\n",
       "      <th>1</th>\n",
       "      <td>-0.581456</td>\n",
       "      <td>2.995094</td>\n",
       "      <td>0.757746</td>\n",
       "      <td>0.788122</td>\n",
       "    </tr>\n",
       "    <tr>\n",
       "      <th>2</th>\n",
       "      <td>-0.591075</td>\n",
       "      <td>3.024668</td>\n",
       "      <td>0.722696</td>\n",
       "      <td>0.788122</td>\n",
       "    </tr>\n",
       "    <tr>\n",
       "      <th>3</th>\n",
       "      <td>-0.599581</td>\n",
       "      <td>3.078699</td>\n",
       "      <td>0.674335</td>\n",
       "      <td>0.788122</td>\n",
       "    </tr>\n",
       "    <tr>\n",
       "      <th>4</th>\n",
       "      <td>-0.583998</td>\n",
       "      <td>3.109450</td>\n",
       "      <td>0.641889</td>\n",
       "      <td>0.788122</td>\n",
       "    </tr>\n",
       "    <tr>\n",
       "      <th>...</th>\n",
       "      <td>...</td>\n",
       "      <td>...</td>\n",
       "      <td>...</td>\n",
       "      <td>...</td>\n",
       "    </tr>\n",
       "    <tr>\n",
       "      <th>16976</th>\n",
       "      <td>-1.084456</td>\n",
       "      <td>-1.096565</td>\n",
       "      <td>1.136974</td>\n",
       "      <td>-0.630659</td>\n",
       "    </tr>\n",
       "    <tr>\n",
       "      <th>16977</th>\n",
       "      <td>-1.082531</td>\n",
       "      <td>-1.095348</td>\n",
       "      <td>1.137542</td>\n",
       "      <td>-0.630659</td>\n",
       "    </tr>\n",
       "    <tr>\n",
       "      <th>16978</th>\n",
       "      <td>-1.081511</td>\n",
       "      <td>-1.094296</td>\n",
       "      <td>1.138273</td>\n",
       "      <td>-0.630659</td>\n",
       "    </tr>\n",
       "    <tr>\n",
       "      <th>16979</th>\n",
       "      <td>-1.083260</td>\n",
       "      <td>-1.096440</td>\n",
       "      <td>1.137363</td>\n",
       "      <td>-0.630659</td>\n",
       "    </tr>\n",
       "    <tr>\n",
       "      <th>16980</th>\n",
       "      <td>-1.084234</td>\n",
       "      <td>-1.096769</td>\n",
       "      <td>1.136639</td>\n",
       "      <td>-0.759639</td>\n",
       "    </tr>\n",
       "  </tbody>\n",
       "</table>\n",
       "<p>16981 rows × 4 columns</p>\n",
       "</div>"
      ],
      "text/plain": [
       "           accX      accY      accZ  heartrate\n",
       "0     -0.587547  3.058075  0.698728   0.788122\n",
       "1     -0.581456  2.995094  0.757746   0.788122\n",
       "2     -0.591075  3.024668  0.722696   0.788122\n",
       "3     -0.599581  3.078699  0.674335   0.788122\n",
       "4     -0.583998  3.109450  0.641889   0.788122\n",
       "...         ...       ...       ...        ...\n",
       "16976 -1.084456 -1.096565  1.136974  -0.630659\n",
       "16977 -1.082531 -1.095348  1.137542  -0.630659\n",
       "16978 -1.081511 -1.094296  1.138273  -0.630659\n",
       "16979 -1.083260 -1.096440  1.137363  -0.630659\n",
       "16980 -1.084234 -1.096769  1.136639  -0.759639\n",
       "\n",
       "[16981 rows x 4 columns]"
      ]
     },
     "execution_count": 139,
     "metadata": {},
     "output_type": "execute_result"
    }
   ],
   "source": [
    "# Standardized data\n",
    "feature_columns = ['accX', 'accY', 'accZ', 'heartrate']\n",
    "label_columns = ['sleep']\n",
    "standard_scaler = StandardScaler()\n",
    "df[feature_columns] = standard_scaler.fit_transform(df[feature_columns])\n",
    "\n",
    "df_feature = df[feature_columns]\n",
    "df_label = df[label_columns]\n",
    "df_feature"
   ]
  },
  {
   "cell_type": "markdown",
   "metadata": {},
   "source": [
    "### Visualize"
   ]
  },
  {
   "cell_type": "code",
   "execution_count": 140,
   "metadata": {},
   "outputs": [
    {
     "data": {
      "text/plain": [
       "[<matplotlib.lines.Line2D at 0x22dbab33be0>]"
      ]
     },
     "execution_count": 140,
     "metadata": {},
     "output_type": "execute_result"
    },
    {
     "data": {
      "image/png": "[encoded data removed]",
      "text/plain": [
       "<Figure size 432x288 with 1 Axes>"
      ]
     },
     "metadata": {
      "needs_background": "light"
     },
     "output_type": "display_data"
    }
   ],
   "source": [
    "lst = [int(i) for i in range(len(df[feature_columns]))]\n",
    "plt.plot(lst,df_feature.accX)\n",
    "plt.plot(lst,df_feature.accY)\n",
    "plt.plot(lst,df_feature.accZ)\n",
    "plt.plot(lst,df_feature.heartrate)"
   ]
  },
  {
   "cell_type": "code",
   "execution_count": 141,
   "metadata": {},
   "outputs": [
    {
     "data": {
      "text/plain": [
       "[<matplotlib.lines.Line2D at 0x22dbcfe5430>]"
      ]
     },
     "execution_count": 141,
     "metadata": {},
     "output_type": "execute_result"
    },
    {
     "data": {
      "image/png": "[encoded data removed]",
      "text/plain": [
       "<Figure size 432x288 with 1 Axes>"
      ]
     },
     "metadata": {
      "needs_background": "light"
     },
     "output_type": "display_data"
    }
   ],
   "source": [
    "lst = [int(i) for i in range(len(df.heartrate))]\n",
    "plt.plot(lst,df_label.sleep)"
   ]
  },
  {
   "cell_type": "code",
   "execution_count": 142,
   "metadata": {},
   "outputs": [
    {
     "name": "stdout",
     "output_type": "stream",
     "text": [
      "<class 'pandas.core.frame.DataFrame'>\n",
      "Int64Index: 16981 entries, 0 to 16980\n",
      "Data columns (total 4 columns):\n",
      " #   Column     Non-Null Count  Dtype  \n",
      "---  ------     --------------  -----  \n",
      " 0   accX       16981 non-null  float64\n",
      " 1   accY       16981 non-null  float64\n",
      " 2   accZ       16981 non-null  float64\n",
      " 3   heartrate  16981 non-null  float64\n",
      "dtypes: float64(4)\n",
      "memory usage: 663.3 KB\n"
     ]
    },
    {
     "data": {
      "text/plain": [
       "16981"
      ]
     },
     "execution_count": 142,
     "metadata": {},
     "output_type": "execute_result"
    }
   ],
   "source": [
    "df_feature.info()\n",
    "len(df_feature)"
   ]
  },
  {
   "cell_type": "markdown",
   "metadata": {},
   "source": [
    "# Create 3d input"
   ]
  },
  {
   "cell_type": "code",
   "execution_count": 159,
   "metadata": {},
   "outputs": [
    {
     "name": "stdout",
     "output_type": "stream",
     "text": [
      "(3377, 100, 4, 1)\n",
      "(3377,)\n"
     ]
    }
   ],
   "source": [
    "# # ------------ 1D to 3D feature-------------------------------\n",
    "# # set sliding window parameter\n",
    "slidingW = 100\n",
    "n_feature =4\n",
    "stride_step = 5\n",
    "df_feature3D = []\n",
    "df_label_new = np.array([])                                         # ไม่ให้เกิน slicing window\n",
    "for t in range( 0 , len(df_feature) - 96, stride_step):    # len(dataframe)ตัวสุดท้ายที่มากที่สุดที่ step หารลงตัว - (slidingW size - Stride Step) \n",
    "    F3d= df_feature[t:t+ slidingW]                         # = 16980 - (100-5)  = 16980 - 95 หรือ (16981 - 96)\n",
    "    #print(F3d.shape)           # F3d เป็น  2D  (100,4)\n",
    "    df_feature3D.append(np.array(F3d))    # list เก็บ 2D เป็น 3D (จำนวน 2D, มิติของ 2D) หรือ (3377,100,4)  # (จำนวน,กว้าง,สูง,จำนวนมิติของภาพ)\n",
    "    #print(np.array(df_feature3D).shape)      \n",
    "    Labels = stats.mode(df_label[t : t+slidingW])\n",
    "    #print(Labels)\n",
    "    df_label_new = np.append(df_label_new,Labels[0])\n",
    "df_feature3D = np.array(df_feature3D).reshape(len(df_feature3D),100,4,1) # reshape ในรูปแบบ (Nset,slidingW,n_feature,1)\n",
    "\n",
    "print(df_feature3D.shape)\n",
    "print(df_label_new.shape)"
   ]
  },
  {
   "cell_type": "markdown",
   "metadata": {},
   "source": [
    "## 9.1.2 Train Test Split"
   ]
  },
  {
   "cell_type": "code",
   "execution_count": 144,
   "metadata": {},
   "outputs": [],
   "source": [
    "# # ------------ Train-Test-Split 2D features -------------------------------\n",
    "x_train, x_test, y_train, y_test = train_test_split(df_feature, df_label)"
   ]
  },
  {
   "cell_type": "code",
   "execution_count": 145,
   "metadata": {},
   "outputs": [],
   "source": [
    "# # ------------ Train-Test-Split 3D features -------------------------------\n",
    "x3D_train, x3D_test, y3D_train, y3D_test = train_test_split( df_feature3D , df_label_new)"
   ]
  },
  {
   "cell_type": "markdown",
   "metadata": {},
   "source": [
    "# 9.2 NN Model "
   ]
  },
  {
   "cell_type": "markdown",
   "metadata": {},
   "source": [
    "## 9.2.1 NN Model Train Test"
   ]
  },
  {
   "cell_type": "code",
   "execution_count": 146,
   "metadata": {},
   "outputs": [],
   "source": [
    "# ------------ NN Architecture parameter -------------------------------\n",
    "Hidden_Layer_param = (30, 30, 30)\n",
    "mlp = MLPClassifier(hidden_layer_sizes = Hidden_Layer_param)\n",
    "# View NN model parameters"
   ]
  },
  {
   "cell_type": "code",
   "execution_count": 147,
   "metadata": {},
   "outputs": [],
   "source": [
    "# # ------------ Training NN using 1D features -------------------------------\n",
    "y_train = np.array(y_train).ravel()  ## reshape เป็น (n_sample, ) แก้ตาม warning\n",
    "y_train.shape\n",
    "mlp.fit(x_train,y_train)\n",
    "mlp_pred = mlp.predict(x_test)"
   ]
  },
  {
   "cell_type": "markdown",
   "metadata": {},
   "source": [
    "### View Confusion Matrix and Classification Report"
   ]
  },
  {
   "cell_type": "code",
   "execution_count": 148,
   "metadata": {},
   "outputs": [
    {
     "name": "stdout",
     "output_type": "stream",
     "text": [
      "----- Confusion matrix of NN -----\n",
      "[[ 632   50   43    8    3]\n",
      " [  16  150   49    3    3]\n",
      " [  24   86 1025   58   69]\n",
      " [   1    0   55 1142    0]\n",
      " [   0    2    1    0  826]]\n",
      "----- Classification matrix of NN -----\n",
      "              precision    recall  f1-score   support\n",
      "\n",
      "         0.0       0.94      0.86      0.90       736\n",
      "         1.0       0.52      0.68      0.59       221\n",
      "         2.0       0.87      0.81      0.84      1262\n",
      "         3.0       0.94      0.95      0.95      1198\n",
      "         5.0       0.92      1.00      0.95       829\n",
      "\n",
      "    accuracy                           0.89      4246\n",
      "   macro avg       0.84      0.86      0.85      4246\n",
      "weighted avg       0.89      0.89      0.89      4246\n",
      "\n"
     ]
    }
   ],
   "source": [
    "print('----- Confusion matrix of NN -----')\n",
    "print(confusion_matrix(y_test,mlp_pred))\n",
    "print('----- Classification matrix of NN -----')\n",
    "print(classification_report(y_test,mlp_pred))"
   ]
  },
  {
   "cell_type": "markdown",
   "metadata": {},
   "source": [
    "# 9.3 CNN Model Train and Test"
   ]
  },
  {
   "cell_type": "markdown",
   "metadata": {},
   "source": [
    "## 9.3.1 CNN Model Train Test"
   ]
  },
  {
   "cell_type": "code",
   "execution_count": 149,
   "metadata": {},
   "outputs": [],
   "source": [
    "# ------------ CNN Architecture parameter -------------------------------\n",
    "# Nlayer (CNN, dense), Nnode, Activation\n",
    "CNN_L1 = 16 \n",
    "CNN_L2 = 64\n",
    "CNN_L3 = 128\n",
    "D_L1 = 512\n",
    "D_out = 6\n",
    "Activation = \"relu\"\n",
    "Ker_size = (3,3)\n",
    "Pooling_size = (2,1)  \n",
    "Input_shape = (slidingW, n_feature, 1)  # (100,4,1)\n",
    "model = Sequential()"
   ]
  },
  {
   "cell_type": "code",
   "execution_count": 150,
   "metadata": {},
   "outputs": [
    {
     "name": "stdout",
     "output_type": "stream",
     "text": [
      "Model: \"sequential_2\"\n",
      "_________________________________________________________________\n",
      " Layer (type)                Output Shape              Param #   \n",
      "=================================================================\n",
      " conv2d_6 (Conv2D)           (None, 100, 4, 16)        160       \n",
      "                                                                 \n",
      " max_pooling2d_6 (MaxPooling  (None, 50, 4, 16)        0         \n",
      " 2D)                                                             \n",
      "                                                                 \n",
      " dropout_6 (Dropout)         (None, 50, 4, 16)         0         \n",
      "                                                                 \n",
      " conv2d_7 (Conv2D)           (None, 50, 4, 64)         9280      \n",
      "                                                                 \n",
      " max_pooling2d_7 (MaxPooling  (None, 25, 4, 64)        0         \n",
      " 2D)                                                             \n",
      "                                                                 \n",
      " dropout_7 (Dropout)         (None, 25, 4, 64)         0         \n",
      "                                                                 \n",
      " conv2d_8 (Conv2D)           (None, 25, 4, 128)        73856     \n",
      "                                                                 \n",
      " max_pooling2d_8 (MaxPooling  (None, 12, 4, 128)       0         \n",
      " 2D)                                                             \n",
      "                                                                 \n",
      " dropout_8 (Dropout)         (None, 12, 4, 128)        0         \n",
      "                                                                 \n",
      " flatten_2 (Flatten)         (None, 6144)              0         \n",
      "                                                                 \n",
      " dense_4 (Dense)             (None, 512)               3146240   \n",
      "                                                                 \n",
      " dense_5 (Dense)             (None, 6)                 3078      \n",
      "                                                                 \n",
      "=================================================================\n",
      "Total params: 3,232,614\n",
      "Trainable params: 3,232,614\n",
      "Non-trainable params: 0\n",
      "_________________________________________________________________\n"
     ]
    }
   ],
   "source": [
    " # ------------ Create CNN Model -------------------------------\n",
    "model.add(Conv2D(CNN_L1, kernel_size=Ker_size, activation=Activation,input_shape=Input_shape,padding='same'))\n",
    "model.add(MaxPooling2D(pool_size=Pooling_size)) #ลดขนาดข้อมูล เพื่อให้ประมวลเร็ว\n",
    "model.add(Dropout(0.4)) #ลดการเชื่อมต่อของ node เพื่อลด overfit\n",
    "model.add(Conv2D(CNN_L2, kernel_size=Ker_size, activation= Activation, padding='same'))\n",
    "model.add(MaxPooling2D(pool_size= Pooling_size))\n",
    "model.add(Dropout(0.4))\n",
    "model.add(Conv2D(CNN_L3, kernel_size=Ker_size, activation= Activation, padding='same'))\n",
    "model.add(MaxPooling2D(pool_size= Pooling_size))\n",
    "model.add(Dropout(0.4))\n",
    "model.add(Flatten())  # ลดมิติข้อมูล\n",
    "model.add(Dense(D_L1 , activation= Activation )) #ออก 512 layerหลังก่อนส่งออก output layer\n",
    "model.add(Dense(D_out, activation='sigmoid')) #ออก 6 layer\n",
    "model.compile(optimizer='adam', metrics=['accuracy'])\n",
    "model.summary()"
   ]
  },
  {
   "cell_type": "code",
   "execution_count": 151,
   "metadata": {},
   "outputs": [],
   "source": [
    "\n",
    "# ------------ Create Optimizer -------------------------------\n",
    "model.compile(optimizer='adam',loss= tf.keras.losses.SparseCategoricalCrossentropy(from_logits=True),metrics=[\"acc\"])"
   ]
  },
  {
   "cell_type": "code",
   "execution_count": 152,
   "metadata": {},
   "outputs": [
    {
     "name": "stdout",
     "output_type": "stream",
     "text": [
      "(2532, 100, 4, 1)\n",
      "(2532,)\n",
      "(845, 100, 4, 1)\n",
      "(845,)\n"
     ]
    }
   ],
   "source": [
    "print(x3D_train.shape)\n",
    "print(np.array(y3D_train).shape)\n",
    "# np.array(y3D_train).reshape(2,4,1)\n",
    "print(x3D_test.shape)\n",
    "print(np.array(y3D_test).shape)"
   ]
  },
  {
   "cell_type": "code",
   "execution_count": 153,
   "metadata": {},
   "outputs": [
    {
     "name": "stdout",
     "output_type": "stream",
     "text": [
      "Epoch 1/50\n"
     ]
    },
    {
     "name": "stderr",
     "output_type": "stream",
     "text": [
      "C:\\Users\\ADMIN\\AppData\\Roaming\\Python\\Python39\\site-packages\\keras\\backend.py:5582: UserWarning: \"`sparse_categorical_crossentropy` received `from_logits=True`, but the `output` argument was produced by a Softmax activation and thus does not represent logits. Was this intended?\n",
      "  output, from_logits = _get_logits(\n"
     ]
    },
    {
     "name": "stdout",
     "output_type": "stream",
     "text": [
      "40/40 [==============================] - 2s 48ms/step - loss: 1.0274 - acc: 0.5762 - val_loss: 0.6891 - val_acc: 0.7562\n",
      "Epoch 2/50\n",
      "40/40 [==============================] - 2s 43ms/step - loss: 0.6323 - acc: 0.7208 - val_loss: 0.5643 - val_acc: 0.7822\n",
      "Epoch 3/50\n",
      "40/40 [==============================] - 2s 43ms/step - loss: 0.5179 - acc: 0.7840 - val_loss: 0.4564 - val_acc: 0.8568\n",
      "Epoch 4/50\n",
      "40/40 [==============================] - 2s 43ms/step - loss: 0.4698 - acc: 0.8029 - val_loss: 0.3940 - val_acc: 0.8556\n",
      "Epoch 5/50\n",
      "40/40 [==============================] - 2s 43ms/step - loss: 0.4353 - acc: 0.8211 - val_loss: 0.3811 - val_acc: 0.8568\n",
      "Epoch 6/50\n",
      "40/40 [==============================] - 2s 43ms/step - loss: 0.3825 - acc: 0.8436 - val_loss: 0.3618 - val_acc: 0.8686\n",
      "Epoch 7/50\n",
      "40/40 [==============================] - 2s 42ms/step - loss: 0.3560 - acc: 0.8515 - val_loss: 0.3343 - val_acc: 0.8604\n",
      "Epoch 8/50\n",
      "40/40 [==============================] - 2s 42ms/step - loss: 0.3417 - acc: 0.8618 - val_loss: 0.2941 - val_acc: 0.8805\n",
      "Epoch 9/50\n",
      "40/40 [==============================] - 2s 42ms/step - loss: 0.3217 - acc: 0.8641 - val_loss: 0.2897 - val_acc: 0.8769\n",
      "Epoch 10/50\n",
      "40/40 [==============================] - 2s 43ms/step - loss: 0.3077 - acc: 0.8752 - val_loss: 0.2915 - val_acc: 0.8781\n",
      "Epoch 11/50\n",
      "40/40 [==============================] - 2s 43ms/step - loss: 0.2890 - acc: 0.8740 - val_loss: 0.2592 - val_acc: 0.8876\n",
      "Epoch 12/50\n",
      "40/40 [==============================] - 2s 42ms/step - loss: 0.2667 - acc: 0.8874 - val_loss: 0.2423 - val_acc: 0.9053\n",
      "Epoch 13/50\n",
      "40/40 [==============================] - 2s 43ms/step - loss: 0.2538 - acc: 0.8938 - val_loss: 0.2613 - val_acc: 0.8876\n",
      "Epoch 14/50\n",
      "40/40 [==============================] - 2s 43ms/step - loss: 0.2498 - acc: 0.8973 - val_loss: 0.2600 - val_acc: 0.8947\n",
      "Epoch 15/50\n",
      "40/40 [==============================] - 2s 42ms/step - loss: 0.2512 - acc: 0.8942 - val_loss: 0.2346 - val_acc: 0.9136\n",
      "Epoch 16/50\n",
      "40/40 [==============================] - 2s 42ms/step - loss: 0.2350 - acc: 0.9032 - val_loss: 0.2261 - val_acc: 0.9065\n",
      "Epoch 17/50\n",
      "40/40 [==============================] - 2s 42ms/step - loss: 0.2262 - acc: 0.9056 - val_loss: 0.2658 - val_acc: 0.8817\n",
      "Epoch 18/50\n",
      "40/40 [==============================] - 2s 43ms/step - loss: 0.2207 - acc: 0.9005 - val_loss: 0.2019 - val_acc: 0.9089\n",
      "Epoch 19/50\n",
      "40/40 [==============================] - 2s 43ms/step - loss: 0.2148 - acc: 0.9048 - val_loss: 0.2151 - val_acc: 0.9053\n",
      "Epoch 20/50\n",
      "40/40 [==============================] - 2s 45ms/step - loss: 0.1815 - acc: 0.9159 - val_loss: 0.2258 - val_acc: 0.9053\n",
      "Epoch 21/50\n",
      "40/40 [==============================] - 2s 49ms/step - loss: 0.2215 - acc: 0.9119 - val_loss: 0.2565 - val_acc: 0.8899\n",
      "Epoch 22/50\n",
      "40/40 [==============================] - 2s 47ms/step - loss: 0.1823 - acc: 0.9254 - val_loss: 0.3523 - val_acc: 0.8852\n",
      "Epoch 23/50\n",
      "40/40 [==============================] - 2s 47ms/step - loss: 0.2176 - acc: 0.9048 - val_loss: 0.1896 - val_acc: 0.9278\n",
      "Epoch 24/50\n",
      "40/40 [==============================] - 2s 46ms/step - loss: 0.1765 - acc: 0.9230 - val_loss: 0.1858 - val_acc: 0.9172\n",
      "Epoch 25/50\n",
      "40/40 [==============================] - 2s 47ms/step - loss: 0.1711 - acc: 0.9265 - val_loss: 0.2128 - val_acc: 0.9089\n",
      "Epoch 26/50\n",
      "40/40 [==============================] - 2s 49ms/step - loss: 0.1687 - acc: 0.9261 - val_loss: 0.1642 - val_acc: 0.9325\n",
      "Epoch 27/50\n",
      "40/40 [==============================] - 2s 47ms/step - loss: 0.2226 - acc: 0.9092 - val_loss: 0.2606 - val_acc: 0.8947\n",
      "Epoch 28/50\n",
      "40/40 [==============================] - 2s 50ms/step - loss: 0.1810 - acc: 0.9238 - val_loss: 0.2426 - val_acc: 0.8888\n",
      "Epoch 29/50\n",
      "40/40 [==============================] - 2s 45ms/step - loss: 0.1734 - acc: 0.9321 - val_loss: 0.1853 - val_acc: 0.9172\n",
      "Epoch 30/50\n",
      "40/40 [==============================] - 2s 48ms/step - loss: 0.1736 - acc: 0.9293 - val_loss: 0.1815 - val_acc: 0.9314\n",
      "Epoch 31/50\n",
      "40/40 [==============================] - 2s 45ms/step - loss: 0.1733 - acc: 0.9254 - val_loss: 0.1625 - val_acc: 0.9325\n",
      "Epoch 32/50\n",
      "40/40 [==============================] - 2s 48ms/step - loss: 0.1649 - acc: 0.9250 - val_loss: 0.1671 - val_acc: 0.9266\n",
      "Epoch 33/50\n",
      "40/40 [==============================] - 2s 46ms/step - loss: 0.1368 - acc: 0.9372 - val_loss: 0.1682 - val_acc: 0.9243\n",
      "Epoch 34/50\n",
      "40/40 [==============================] - 2s 47ms/step - loss: 0.1561 - acc: 0.9336 - val_loss: 0.2396 - val_acc: 0.8959\n",
      "Epoch 35/50\n",
      "40/40 [==============================] - 2s 46ms/step - loss: 0.1436 - acc: 0.9356 - val_loss: 0.2128 - val_acc: 0.9112\n",
      "Epoch 36/50\n",
      "40/40 [==============================] - 2s 48ms/step - loss: 0.1687 - acc: 0.9246 - val_loss: 0.1473 - val_acc: 0.9385\n",
      "Epoch 37/50\n",
      "40/40 [==============================] - 2s 48ms/step - loss: 0.1413 - acc: 0.9384 - val_loss: 0.2863 - val_acc: 0.8970\n",
      "Epoch 38/50\n",
      "40/40 [==============================] - 2s 47ms/step - loss: 0.1698 - acc: 0.9265 - val_loss: 0.2090 - val_acc: 0.9065\n",
      "Epoch 39/50\n",
      "40/40 [==============================] - 2s 48ms/step - loss: 0.1307 - acc: 0.9447 - val_loss: 0.1665 - val_acc: 0.9290\n",
      "Epoch 40/50\n",
      "40/40 [==============================] - 2s 49ms/step - loss: 0.1370 - acc: 0.9396 - val_loss: 0.1890 - val_acc: 0.9148\n",
      "Epoch 41/50\n",
      "40/40 [==============================] - 2s 47ms/step - loss: 0.1285 - acc: 0.9439 - val_loss: 0.1432 - val_acc: 0.9302\n",
      "Epoch 42/50\n",
      "40/40 [==============================] - 2s 46ms/step - loss: 0.1090 - acc: 0.9475 - val_loss: 0.1646 - val_acc: 0.9361\n",
      "Epoch 43/50\n",
      "40/40 [==============================] - 2s 49ms/step - loss: 0.1318 - acc: 0.9431 - val_loss: 0.2283 - val_acc: 0.9124\n",
      "Epoch 44/50\n",
      "40/40 [==============================] - 2s 47ms/step - loss: 0.1213 - acc: 0.9475 - val_loss: 0.2459 - val_acc: 0.9006\n",
      "Epoch 45/50\n",
      "40/40 [==============================] - 2s 47ms/step - loss: 0.1235 - acc: 0.9475 - val_loss: 0.1474 - val_acc: 0.9385\n",
      "Epoch 46/50\n",
      "40/40 [==============================] - 2s 47ms/step - loss: 0.1195 - acc: 0.9443 - val_loss: 0.1739 - val_acc: 0.9349\n",
      "Epoch 47/50\n",
      "40/40 [==============================] - 2s 47ms/step - loss: 0.1345 - acc: 0.9475 - val_loss: 0.1922 - val_acc: 0.9172\n",
      "Epoch 48/50\n",
      "40/40 [==============================] - 2s 48ms/step - loss: 0.1169 - acc: 0.9463 - val_loss: 0.1907 - val_acc: 0.9254\n",
      "Epoch 49/50\n",
      "40/40 [==============================] - 2s 45ms/step - loss: 0.1116 - acc: 0.9550 - val_loss: 0.2297 - val_acc: 0.9124\n",
      "Epoch 50/50\n",
      "40/40 [==============================] - 2s 45ms/step - loss: 0.1331 - acc: 0.9400 - val_loss: 0.1703 - val_acc: 0.9385\n"
     ]
    }
   ],
   "source": [
    "# ------ Train CNN using 3D feature--------------------------------------------\n",
    "history = model.fit(x3D_train, y3D_train, epochs=50, batch_size=64,validation_data=(x3D_test, y3D_test))"
   ]
  },
  {
   "cell_type": "code",
   "execution_count": 154,
   "metadata": {},
   "outputs": [
    {
     "name": "stdout",
     "output_type": "stream",
     "text": [
      "27/27 [==============================] - 0s 6ms/step\n"
     ]
    }
   ],
   "source": [
    "# # ------- Test CNN -------------------------------\n",
    "CNN_pred = np.argmax(model.predict(x3D_test),axis=1)"
   ]
  },
  {
   "cell_type": "markdown",
   "metadata": {},
   "source": [
    "## 9.3.2 Performance of CNN Model"
   ]
  },
  {
   "cell_type": "code",
   "execution_count": 155,
   "metadata": {},
   "outputs": [
    {
     "name": "stdout",
     "output_type": "stream",
     "text": [
      "----- Confusion matrix of NN -----\n",
      "[[128   0   9   0   0]\n",
      " [  1  24   8   0   0]\n",
      " [  3   3 250   3   4]\n",
      " [  0   1  10 230   0]\n",
      " [  0   4   6   0 161]]\n",
      "----- Classification matrix of NN -----\n",
      "              precision    recall  f1-score   support\n",
      "\n",
      "         0.0       0.97      0.93      0.95       137\n",
      "         1.0       0.75      0.73      0.74        33\n",
      "         2.0       0.88      0.95      0.92       263\n",
      "         3.0       0.99      0.95      0.97       241\n",
      "         5.0       0.98      0.94      0.96       171\n",
      "\n",
      "    accuracy                           0.94       845\n",
      "   macro avg       0.91      0.90      0.91       845\n",
      "weighted avg       0.94      0.94      0.94       845\n",
      "\n"
     ]
    }
   ],
   "source": [
    "# ------------ View Confusion Matrix, Classification Report -------------------------------\n",
    "print('----- Confusion matrix of NN -----')\n",
    "print(confusion_matrix(y3D_test,CNN_pred))\n",
    "print('----- Classification matrix of NN -----')\n",
    "print(classification_report(y3D_test,CNN_pred))"
   ]
  },
  {
   "cell_type": "code",
   "execution_count": 156,
   "metadata": {},
   "outputs": [
    {
     "data": {
      "image/png": "[encoded data removed]",
      "text/plain": [
       "<Figure size 432x288 with 1 Axes>"
      ]
     },
     "metadata": {
      "needs_background": "light"
     },
     "output_type": "display_data"
    },
    {
     "data": {
      "image/png": "[encoded data removed]",
      "text/plain": [
       "<Figure size 432x288 with 1 Axes>"
      ]
     },
     "metadata": {
      "needs_background": "light"
     },
     "output_type": "display_data"
    }
   ],
   "source": [
    "# ------------ View Confusion Matrix, Classification Report -------------------------------\n",
    "# ------ View History Graph -------------------------------------------\n",
    "# View Accuracy Graph\n",
    "# summarize history for accuracy\n",
    "plt.plot(history.history['acc'])\n",
    "plt.plot(history.history['val_acc'])\n",
    "plt.show()\n",
    "# View Loss Graph\n",
    "# summarize history for loss\n",
    "plt.plot(history.history['loss'])\n",
    "plt.plot(history.history['val_loss'])\n",
    "plt.show()"
   ]
  }
 ],
 "metadata": {
  "kernelspec": {
   "display_name": "Python 3.9.12 ('base')",
   "language": "python",
   "name": "python3"
  },
  "language_info": {
   "codemirror_mode": {
    "name": "ipython",
    "version": 3
   },
   "file_extension": ".py",
   "mimetype": "text/x-python",
   "name": "python",
   "nbconvert_exporter": "python",
   "pygments_lexer": "ipython3",
   "version": "3.9.12"
  },
  "orig_nbformat": 4,
  "vscode": {
   "interpreter": {
    "hash": "ad2bdc8ecc057115af97d19610ffacc2b4e99fae6737bb82f5d7fb13d2f2c186"
   }
  }
 },
 "nbformat": 4,
 "nbformat_minor": 2
}
