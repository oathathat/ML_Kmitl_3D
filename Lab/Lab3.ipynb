{
 "cells": [
  {
   "cell_type": "code",
   "execution_count": null,
   "metadata": {},
   "outputs": [],
   "source": [
    "import numpy as np \n",
    "import pandas as pd\n",
    "import matplotlib.pyplot as plt\n",
    "import seaborn as sns\n",
    "from sklearn import preprocessing\n",
    "from sklearn.decomposition import PCA\n",
    "from sklearn.cluster import KMeans\n",
    "from sklearn.metrics import accuracy_score\n",
    "from scipy.stats import mode\n",
    "from scipy.stats import zscore\n",
    "from IPython.display import Image"
   ]
  },
  {
   "cell_type": "code",
   "execution_count": null,
   "metadata": {},
   "outputs": [],
   "source": [
    "df_wine = pd.read_csv('https://archive.ics.uci.edu/ml/machine-learning-databases/wine/wine.data', header=None)\n",
    "df_wine.columns = ['Class label', 'Alcohol', 'Malic acid', 'Ash',\n",
    " 'Alcalinity of ash', 'Magnesium', 'Total phenols',\n",
    " 'Flavanoids', 'Nonflavanoid phenols', 'Proanthocyanins',\n",
    " 'Color intensity', 'Hue',\n",
    " 'OD280/OD315 of diluted wines', 'Proline']\n",
    "df_wine\n"
   ]
  },
  {
   "cell_type": "code",
   "execution_count": null,
   "metadata": {},
   "outputs": [],
   "source": [
    "df_wine.info()"
   ]
  },
  {
   "cell_type": "code",
   "execution_count": null,
   "metadata": {},
   "outputs": [],
   "source": [
    "df_wine.corr()"
   ]
  },
  {
   "cell_type": "code",
   "execution_count": null,
   "metadata": {},
   "outputs": [],
   "source": [
    "sns.pairplot(df_wine, hue='Class label', size=2.5);"
   ]
  },
  {
   "cell_type": "code",
   "execution_count": null,
   "metadata": {},
   "outputs": [],
   "source": [
    "scaler = preprocessing.StandardScaler()\n",
    "ccols = ['Alcohol', 'Malic acid', 'Ash', 'Alcalinity of ash',\n",
    "       'Magnesium', 'Total phenols', 'Flavanoids', 'Nonflavanoid phenols',\n",
    "       'Proanthocyanins', 'Color intensity', 'Hue',\n",
    "       'OD280/OD315 of diluted wines', 'Proline']\n",
    "x_t = scaler.fit_transform(df_wine[ccols])  # x-mean/sd\n",
    "d_t = pd.DataFrame(x_t,columns=ccols)\n",
    "d_t"
   ]
  },
  {
   "cell_type": "code",
   "execution_count": null,
   "metadata": {},
   "outputs": [],
   "source": [
    "x_t.shape # shape[0] = row , shape[1] = column"
   ]
  },
  {
   "cell_type": "code",
   "execution_count": null,
   "metadata": {},
   "outputs": [],
   "source": [
    "pca2 = PCA(n_components=2)\n",
    "pca2.fit_transform(x_t)\n",
    "print(f'Eigenvalue\\t\\t=\\t{pca2.explained_variance_}')\n",
    "print(f'Eigenvalue ratio\\t=\\t{pca2.explained_variance_ratio_}')\n"
   ]
  },
  {
   "cell_type": "code",
   "execution_count": null,
   "metadata": {},
   "outputs": [],
   "source": [
    "print('Explained Variance (eigenvalues) = ', pca2.explained_variance_)\n",
    "print('--------------------------------------------')\n",
    "print('PCA components (eigenvectors)')\n",
    "print(pca2.components_)\n"
   ]
  },
  {
   "cell_type": "code",
   "execution_count": null,
   "metadata": {},
   "outputs": [],
   "source": [
    "pca13 = PCA(n_components=x_t.shape[1])\n",
    "pca13.fit_transform(x_t)\n",
    "fig = plt.figure(figsize =(10, 7))\n",
    "plt.bar([i for i in range(1,14)],pca13.explained_variance_ratio_,0.8)\n",
    "plt.ylabel(\"Explained variance ratio\",fontsize = 12)"
   ]
  },
  {
   "cell_type": "code",
   "execution_count": null,
   "metadata": {},
   "outputs": [],
   "source": [
    "Y = df_wine['Class label']\n",
    "X = df_wine[ccols]\n",
    "kmeans = KMeans(n_clusters=len(np.unique(df_wine['Class label'])),random_state=0)  #n_cluster คือค่า k จุดที่สุ่มขึ้นมา\n",
    "clusters = kmeans.fit_predict(X)\n",
    "clusters\n"
   ]
  },
  {
   "cell_type": "code",
   "execution_count": null,
   "metadata": {},
   "outputs": [],
   "source": [
    "plt.scatter(X['Alcohol'], X['Flavanoids'], c=clusters, edgecolors='m',alpha=0.75,s=150)\n",
    "centers = kmeans.cluster_centers_\n",
    "plt.scatter(centers[:, 0], centers[:, 1], c='red', s=200, alpha=0.5);\n"
   ]
  },
  {
   "cell_type": "code",
   "execution_count": null,
   "metadata": {},
   "outputs": [],
   "source": [
    "labels = np.zeros_like(clusters)\n",
    "for i in range(3):\n",
    "    mask = (clusters == i)    #true = 1,false = 0 \n",
    "    labels[mask] = mode(Y[mask])[0]\n",
    "labels"
   ]
  },
  {
   "cell_type": "code",
   "execution_count": null,
   "metadata": {},
   "outputs": [],
   "source": [
    "accuracy_score(labels, Y)"
   ]
  },
  {
   "cell_type": "code",
   "execution_count": null,
   "metadata": {},
   "outputs": [],
   "source": [
    "X_pca_2 = pca2.fit_transform(x_t)\n",
    "X_pca_2.shape"
   ]
  },
  {
   "cell_type": "code",
   "execution_count": null,
   "metadata": {},
   "outputs": [],
   "source": [
    "kmeans_PCA = KMeans(n_clusters=len(np.unique(df_wine['Class label'])),random_state=0) #np.unique() ประเภท input ใน\n",
    "clusters_pca = kmeans_PCA.fit_predict(X_pca_2)\n",
    "clusters_pca.shape"
   ]
  },
  {
   "cell_type": "code",
   "execution_count": null,
   "metadata": {},
   "outputs": [],
   "source": [
    "plt.scatter(X_pca_2[:, 0], X_pca_2[:, 1], c=clusters, edgecolors='m',alpha=0.75,s=150)\n",
    "centers_pca = kmeans_PCA.cluster_centers_\n",
    "plt.scatter(centers_pca[:, 0], centers_pca[:, 1], c='red', s=200, alpha=0.5);"
   ]
  },
  {
   "cell_type": "code",
   "execution_count": null,
   "metadata": {},
   "outputs": [],
   "source": [
    "Labels_pca = np.zeros_like(clusters_pca)\n",
    "for i in range(10):\n",
    "    mask = (clusters_pca == i)\n",
    "    Labels_pca[mask] = mode(Y[mask])[0]\n",
    "accuracy_score(Labels_pca, Y)"
   ]
  }
 ],
 "metadata": {
  "kernelspec": {
   "display_name": "Python 3.9.12 ('base')",
   "language": "python",
   "name": "python3"
  },
  "language_info": {
   "codemirror_mode": {
    "name": "ipython",
    "version": 3
   },
   "file_extension": ".py",
   "mimetype": "text/x-python",
   "name": "python",
   "nbconvert_exporter": "python",
   "pygments_lexer": "ipython3",
   "version": "3.9.12"
  },
  "orig_nbformat": 4,
  "vscode": {
   "interpreter": {
    "hash": "ad2bdc8ecc057115af97d19610ffacc2b4e99fae6737bb82f5d7fb13d2f2c186"
   }
  }
 },
 "nbformat": 4,
 "nbformat_minor": 2
}
