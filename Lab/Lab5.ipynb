{
 "cells": [
  {
   "cell_type": "code",
   "execution_count": null,
   "metadata": {},
   "outputs": [],
   "source": [
    "import numpy as np \n",
    "import pandas as pd\n",
    "import matplotlib.pyplot as plt \n",
    "import seaborn as sns\n",
    "from sklearn.linear_model import LinearRegression\n",
    "from sklearn.svm import SVR\n",
    "from sklearn import preprocessing\n",
    "from sklearn import metrics\n",
    "import pandas_datareader.data as web\n",
    "from sklearn.model_selection import KFold\n",
    "from sklearn.model_selection import cross_val_score"
   ]
  },
  {
   "cell_type": "markdown",
   "metadata": {},
   "source": [
    "# Data preparing"
   ]
  },
  {
   "cell_type": "code",
   "execution_count": null,
   "metadata": {},
   "outputs": [],
   "source": [
    "#Read stock data use pandas_datareader.data from web\n",
    "# Get Stock Data\n",
    "stk_tickers = ['MSFT', 'IBM', 'GOOGL']\n",
    "ccy_tickers = ['DEXJPUS', 'DEXUSUK']\n",
    "idx_tickers = ['SP500', 'DJIA', 'VIXCLS']\n",
    "stk_data = web.DataReader(stk_tickers, 'yahoo')\n",
    "ccy_data = web.DataReader(ccy_tickers, 'fred')\n",
    "idx_data = web.DataReader(idx_tickers, 'fred')"
   ]
  },
  {
   "cell_type": "code",
   "execution_count": null,
   "metadata": {},
   "outputs": [],
   "source": [
    "# Select columns\n",
    "base = stk_data.loc[:, ('Adj Close', 'MSFT')]\n",
    "X1 = stk_data.loc[:, ('Adj Close', ('GOOGL', 'IBM'))]\n",
    "X2 = ccy_data\n",
    "X3 = idx_data\n",
    "print(X1)\n",
    "print(X2)\n",
    "print(X3)"
   ]
  },
  {
   "cell_type": "code",
   "execution_count": null,
   "metadata": {},
   "outputs": [],
   "source": [
    "#Standardized data (X1, X2, X3) with kept index (date)\n",
    "standard_scaler = preprocessing.StandardScaler()\n",
    "sX1 = standard_scaler.fit_transform(X1.values)\n",
    "sX2 = standard_scaler.fit_transform(X2.values)\n",
    "sX3 = standard_scaler.fit_transform(X3.values)\n",
    "print(type(sX1))\n",
    "sX1"
   ]
  },
  {
   "cell_type": "code",
   "execution_count": null,
   "metadata": {},
   "outputs": [],
   "source": [
    "sX1 = pd.DataFrame(index = X1.index,data = sX1,columns=X1.columns)\n",
    "sX2 = pd.DataFrame(index = X2.index,data = sX2,columns=X2.columns)\n",
    "sX3 = pd.DataFrame(index = X3.index,data = sX3,columns=X3.columns)\n",
    "sX1"
   ]
  },
  {
   "cell_type": "code",
   "execution_count": null,
   "metadata": {},
   "outputs": [],
   "source": [
    "X1['Adj Close']"
   ]
  },
  {
   "cell_type": "code",
   "execution_count": null,
   "metadata": {},
   "outputs": [],
   "source": [
    "# Calculate ความแตกต่างของค่า ราคา 'Adj Close', 'MSFT’)ย้อนหลัง return_period วัน\n",
    "return_period = 1 #predict 1 วันข้างหน้า\n",
    "Y = base.shift(-return_period)\n",
    "X4_3DT = base.diff(3*return_period).shift(-3*return_period)\n",
    "X4_6DT = base.diff(6*return_period).shift(-6*return_period)\n",
    "X4_12DT = base.diff(12*return_period).shift(-12*return_period)\n",
    "X4 = pd.concat([X4_3DT, X4_6DT, X4_12DT], axis=1)\n",
    "X4.columns = ['MSFT_3DT', 'MSFT_6DT', 'MSFT_12DT']\n",
    "X4 = pd.DataFrame(standard_scaler.fit_transform(X4.values), index = X4.index,columns=X4.columns)\n",
    "\n",
    "# Forming Dataset\n",
    "X = pd.concat([sX1, sX2, sX3, X4], axis=1)\n",
    "dataset = pd.concat([Y, X], axis=1)\n",
    "print(type(dataset))\n"
   ]
  },
  {
   "cell_type": "code",
   "execution_count": null,
   "metadata": {},
   "outputs": [],
   "source": [
    "dataset.dropna(inplace=True)\n",
    "dataset"
   ]
  },
  {
   "cell_type": "code",
   "execution_count": null,
   "metadata": {},
   "outputs": [],
   "source": [
    "dataset.info()"
   ]
  },
  {
   "cell_type": "code",
   "execution_count": null,
   "metadata": {},
   "outputs": [],
   "source": [
    "Y = pd.DataFrame(dataset[dataset.columns[0]].reset_index(drop=True))\n",
    "X = pd.DataFrame(dataset[dataset.columns[1:]].reset_index(drop=True))\n",
    "print(Y)\n",
    "print(X)"
   ]
  },
  {
   "cell_type": "code",
   "execution_count": null,
   "metadata": {},
   "outputs": [],
   "source": [
    "X.corr()"
   ]
  },
  {
   "cell_type": "code",
   "execution_count": null,
   "metadata": {},
   "outputs": [],
   "source": [
    "lower = pd.DataFrame(np.tril(X.corr(),-1),columns = X.columns)\n",
    "to_drop = [column for column in lower.columns if any(lower[column] > 0.9)]\n",
    "to_drop\n"
   ]
  },
  {
   "cell_type": "code",
   "execution_count": null,
   "metadata": {},
   "outputs": [],
   "source": [
    "X.drop(columns=to_drop,inplace=True)\n"
   ]
  },
  {
   "cell_type": "code",
   "execution_count": null,
   "metadata": {},
   "outputs": [],
   "source": [
    "X"
   ]
  },
  {
   "cell_type": "markdown",
   "metadata": {},
   "source": [
    "# train"
   ]
  },
  {
   "cell_type": "code",
   "execution_count": null,
   "metadata": {},
   "outputs": [],
   "source": [
    "#shuffle spilt\n",
    "# Rseed = 55\n",
    "# x_train_set , x_test, y_train_set , y_test = train_test_split(X,Y,test_size= 0.3,random_state= Rseed)\n",
    "# x_train,x_validate,y_train,y_validate = train_test_split(x_train_set,y_train_set,test_size=0.3 ,random_state= Rseed)\n",
    "from math import ceil, floor\n",
    "#test_size =  ceil(0.3 * len( X ))\n",
    "train_size = floor(0.7 * len( X ))\n",
    "X_train, X_test = X[0:train_size], X[train_size:len(X)]\n",
    "Y_train, Y_test = Y[0:train_size], Y[train_size:len(X)]\n",
    "\n",
    "print(train_size)\n"
   ]
  },
  {
   "cell_type": "markdown",
   "metadata": {},
   "source": [
    "## Kfold"
   ]
  },
  {
   "cell_type": "code",
   "execution_count": null,
   "metadata": {},
   "outputs": [],
   "source": [
    "# Cross Validation Model\n",
    "# set k-fold crossvalidation with shuffle\n",
    "num_fold = 4\n",
    "seed = 500\n",
    "kfold = KFold(n_splits=num_fold, shuffle = True, random_state=seed)"
   ]
  },
  {
   "cell_type": "markdown",
   "metadata": {},
   "source": [
    "## SVR train"
   ]
  },
  {
   "cell_type": "code",
   "execution_count": null,
   "metadata": {},
   "outputs": [],
   "source": [
    "import warnings\n",
    "warnings.filterwarnings('ignore')\n",
    "# Model selection\n",
    "model_LM = LinearRegression(copy_X=True, fit_intercept=True, n_jobs=4, normalize=False)\n",
    "#c_val ลองอย่างน้อย 3 ค่า [0.1, 1, 10, 100]\n",
    "lst = [0.1, 1, 10, 100]\n",
    "c_val = 0\n",
    "AVG_Linear_Model =[]\n",
    "AVG_SVR_linear =[]\n",
    "AVG_SVR_rbf = []\n",
    "AVG_SVR_poly = []\n",
    "for i in lst:\n",
    "    c_val = i\n",
    "    svr_lin  = SVR(kernel='linear', C=c_val)\n",
    "    svr_rbf  = SVR(kernel='rbf'   , C=c_val, gamma=0.01)\n",
    "    svr_poly = SVR(kernel='poly'  , C=c_val, degree=2)\n",
    "    \n",
    "    #Calculate accuracy score for each model\n",
    "    score_LM    =  cross_val_score(model_LM, X_train, Y_train, cv=kfold)\n",
    "    score_lin   =  cross_val_score(svr_lin, X_train, Y_train, cv=kfold)\n",
    "    score_rbf   =  cross_val_score(svr_rbf, X_train, Y_train, cv=kfold)\n",
    "    score_poly  =  cross_val_score(svr_poly, X_train, Y_train, cv=kfold)\n",
    "\n",
    "    # View score k-fold\n",
    "    # Valication score comparison\n",
    "    score = pd.DataFrame({'Linear Model':score_LM,'SVR_linear':score_lin, 'SVR_rbf': score_rbf, 'SVR_poly':score_poly})\n",
    "    score_mean = pd.DataFrame({'AVG Linear Model':[score_LM.mean()],'AVG SVR_linear':[score_lin.mean()],\n",
    "                                'AVG SVR_rbf': [score_rbf.mean()], 'AVG SVC_poly': [score_poly.mean()]})\n",
    "    print(score)\n",
    "    print(score_mean)\n",
    "\n",
    "    #display( plot ( score ))\n",
    "    AVG_Linear_Model.append(score_LM.mean())\n",
    "    AVG_SVR_linear.append(score_lin.mean())\n",
    "    AVG_SVR_rbf.append(score_rbf.mean())\n",
    "    AVG_SVR_poly.append(score_poly.mean())\n"
   ]
  },
  {
   "cell_type": "code",
   "execution_count": null,
   "metadata": {},
   "outputs": [],
   "source": [
    "cvall = ['c 0.1','c 1','c 10','c 100']\n",
    "plt.figure(figsize =(15, 8))\n",
    "X_axis = np.arange(len(AVG_Linear_Model))\n",
    "plt.bar(X_axis , AVG_Linear_Model, 0.2, label = 'avg_linear')\n",
    "plt.bar(X_axis + 0.2, AVG_SVR_linear, 0.2, label = 'avg_svr_linear')\n",
    "plt.bar(X_axis + 0.4, AVG_SVR_rbf, 0.2, label = 'avg_svr_rbf')\n",
    "plt.bar(X_axis + 0.6, AVG_SVR_poly, 0.2, label = 'avg_svr_poly')\n",
    "plt.xticks(X_axis, cvall)\n",
    "\n",
    "plt.legend()\n",
    "plt.show()"
   ]
  },
  {
   "cell_type": "markdown",
   "metadata": {},
   "source": [
    "## Score"
   ]
  },
  {
   "cell_type": "code",
   "execution_count": null,
   "metadata": {},
   "outputs": [],
   "source": [
    "print(score_LM)\n",
    "print(score_lin)\n",
    "print(score_rbf)\n",
    "print(score_poly)"
   ]
  },
  {
   "cell_type": "code",
   "execution_count": null,
   "metadata": {},
   "outputs": [],
   "source": [
    "# View score k-fold\n",
    "# Valication score comparison\n",
    "score = pd.DataFrame({'Linear Model':score_LM,'SVR_linear':score_lin, 'SVR_rbf': score_rbf, 'SVR_poly': score_poly})\n",
    "score_mean = pd.DataFrame({'AVG Linear Model':[score_LM.mean()],'AVG SVR_linear':[score_lin.mean()],\n",
    "                            'AVG SVR_rbf': [score_rbf.mean()], 'AVG SVC_poly': [score_poly.mean()]})\n",
    "print(score)\n",
    "print(score_mean)\n",
    "#display( plot ( score ))"
   ]
  },
  {
   "cell_type": "code",
   "execution_count": null,
   "metadata": {},
   "outputs": [],
   "source": [
    "# Predict all models ( LM, SVR_linear, SVR_rbf, SVR Poly )\n",
    "LM_pred = model_LM.fit(X_train, Y_train).predict(X_test)\n",
    "# Model prediction performance evaluation for all model ( LM, SVR_linear, SVR_rbf, SVR Poly )\n",
    "#MSE \n",
    "LM_MSE = metrics.mean_squared_error(Y_test, LM_pred)\n",
    "#R2\n",
    "LM_r2 = metrics.r2_score(Y_test, LM_pred)\n",
    "print(LM_MSE)\n",
    "print(LM_r2)"
   ]
  },
  {
   "cell_type": "markdown",
   "metadata": {},
   "source": [
    "# Find all"
   ]
  },
  {
   "cell_type": "code",
   "execution_count": null,
   "metadata": {},
   "outputs": [],
   "source": [
    "c_val = 10\n",
    "svr_lin =   SVR(kernel='linear',   C=c_val)\n",
    "svr_rbf =   SVR(kernel='rbf',      C=c_val, gamma=0.01)\n",
    "svr_poly =  SVR(kernel='poly',     C=c_val, degree=2)\n",
    "\n",
    "LM_pred      =  model_LM.fit(X_train, Y_train).predict(X_test)\n",
    "svr_lin_pred =  svr_lin.fit(X_train,Y_train).predict(X_test)\n",
    "svr_rbf_pred =  svr_rbf.fit(X_train,Y_train).predict(X_test)\n",
    "svr_poly_pred = svr_poly.fit(X_train,Y_train).predict(X_test)\n",
    "# X_test.reset_index(inplace = True)\n",
    "# X_test.drop(columns = [X_test.columns[0]],inplace = True)\n",
    "# print(len(LM_pred))\n",
    "# print(X_test)"
   ]
  },
  {
   "cell_type": "code",
   "execution_count": null,
   "metadata": {},
   "outputs": [],
   "source": [
    "X_test.columns"
   ]
  },
  {
   "cell_type": "code",
   "execution_count": null,
   "metadata": {},
   "outputs": [],
   "source": [
    "plt.scatter(X_test[\"DEXJPUS\"],LM_pred, c='magenta')\n",
    "plt.title('X_test[\"DEXJPUS\"] compare with Linear model')\n",
    "plt.legend()\n",
    "plt.show()"
   ]
  },
  {
   "cell_type": "code",
   "execution_count": null,
   "metadata": {},
   "outputs": [],
   "source": [
    "plt.scatter(X_test[\"VIXCLS\"],LM_pred, c='coral')\n",
    "plt.title('X_test[\"VIXCLS\"] compare with Linear model')\n",
    "plt.show()\n"
   ]
  },
  {
   "cell_type": "code",
   "execution_count": null,
   "metadata": {},
   "outputs": [],
   "source": [
    "plt.scatter(X_test[\"VIXCLS\"],svr_lin_pred, c='coral')\n",
    "plt.title('X_test[\"VIXCLS\"] compare with SVR linear')\n",
    "\n",
    "plt.show()"
   ]
  },
  {
   "cell_type": "code",
   "execution_count": null,
   "metadata": {},
   "outputs": [],
   "source": [
    "plt.scatter(X_test[\"VIXCLS\"],svr_poly_pred, c='coral')\n",
    "plt.title('X_test[\"VIXCLS\"] compare with SVR poly')\n",
    "plt.show()\n"
   ]
  },
  {
   "cell_type": "code",
   "execution_count": null,
   "metadata": {},
   "outputs": [],
   "source": [
    "plt.scatter(X_test[\"VIXCLS\"],svr_rbf_pred, c='coral')\n",
    "plt.title('X_test[\"VIXCLS\"] compare with SVR rbf')\n",
    "plt.show()"
   ]
  },
  {
   "cell_type": "code",
   "execution_count": null,
   "metadata": {},
   "outputs": [],
   "source": [
    "LM_MSE = metrics.mean_squared_error(Y_test, LM_pred)\n",
    "LM_r2 = metrics.r2_score(Y_test, LM_pred)\n",
    "# print (LM_MSE)\n",
    "# print(LM_r2)\n",
    "\n",
    "svr_lin_MSE = metrics.mean_squared_error(Y_test, svr_lin_pred)\n",
    "svr_lin_r2 = metrics.r2_score(Y_test, svr_lin_pred)\n",
    "# print (svr_lin_MSE)\n",
    "# print(svr_lin_r2)\n",
    "\n",
    "svr_rbf_MSE = metrics.mean_squared_error(Y_test, svr_rbf_pred)\n",
    "svr_rbf_r2 = metrics.r2_score(Y_test, svr_rbf_pred)\n",
    "# print (svr_rbf_MSE)\n",
    "# print(svr_rbf_r2)\n",
    "\n",
    "svr_poly_MSE = metrics.mean_squared_error(Y_test, svr_poly_pred)\n",
    "svr_poly_r2 = metrics.r2_score(Y_test, svr_poly_pred)\n",
    "# print (svr_poly_MSE)\n",
    "# print(svr_poly_r2)\n",
    "\n",
    "plt.bar([\"LM_MSE\",\"svr_lin_MSE\",\"svr_rbf_MSE\",\"svr_poly_MSE\"],[LM_MSE,svr_lin_MSE,svr_rbf_MSE,svr_poly_MSE])\n",
    "plt.show()"
   ]
  },
  {
   "cell_type": "code",
   "execution_count": null,
   "metadata": {},
   "outputs": [],
   "source": [
    "plt.bar([\"LM_r2\",\"svr_lin_r2\",\"svr_rbf_r2\",\"svr_poly_r2\"],[LM_r2,svr_lin_r2,svr_rbf_r2,svr_poly_r2])\n",
    "plt.show()"
   ]
  }
 ],
 "metadata": {
  "kernelspec": {
   "display_name": "Python 3.9.12 ('base')",
   "language": "python",
   "name": "python3"
  },
  "language_info": {
   "codemirror_mode": {
    "name": "ipython",
    "version": 3
   },
   "file_extension": ".py",
   "mimetype": "text/x-python",
   "name": "python",
   "nbconvert_exporter": "python",
   "pygments_lexer": "ipython3",
   "version": "3.9.12"
  },
  "orig_nbformat": 4,
  "vscode": {
   "interpreter": {
    "hash": "ad2bdc8ecc057115af97d19610ffacc2b4e99fae6737bb82f5d7fb13d2f2c186"
   }
  }
 },
 "nbformat": 4,
 "nbformat_minor": 2
}
