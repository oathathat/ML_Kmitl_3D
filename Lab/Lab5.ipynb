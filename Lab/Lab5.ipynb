{
 "cells": [
  {
   "cell_type": "code",
   "execution_count": 31,
   "metadata": {},
   "outputs": [],
   "source": [
    "import numpy as np \n",
    "import pandas as pd\n",
    "import matplotlib.pyplot as plt \n",
    "import seaborn as sns\n",
    "from sklearn.linear_model import LinearRegression\n",
    "from sklearn.svm import SVR\n",
    "from sklearn import preprocessing\n",
    "from sklearn import metrics\n",
    "import pandas_datareader.data as web\n",
    "from sklearn.model_selection import KFold\n",
    "from sklearn.model_selection import cross_val_score"
   ]
  },
  {
   "cell_type": "markdown",
   "metadata": {},
   "source": [
    "# Data preparing"
   ]
  },
  {
   "cell_type": "code",
   "execution_count": 32,
   "metadata": {},
   "outputs": [],
   "source": [
    "#Read stock data use pandas_datareader.data from web\n",
    "# Get Stock Data\n",
    "stk_tickers = ['MSFT', 'IBM', 'GOOGL']\n",
    "ccy_tickers = ['DEXJPUS', 'DEXUSUK']\n",
    "idx_tickers = ['SP500', 'DJIA', 'VIXCLS']\n",
    "stk_data = web.DataReader(stk_tickers, 'yahoo')\n",
    "ccy_data = web.DataReader(ccy_tickers, 'fred')\n",
    "idx_data = web.DataReader(idx_tickers, 'fred')"
   ]
  },
  {
   "cell_type": "code",
   "execution_count": 33,
   "metadata": {},
   "outputs": [
    {
     "name": "stdout",
     "output_type": "stream",
     "text": [
      "Attributes   Adj Close            \n",
      "Symbols          GOOGL         IBM\n",
      "Date                              \n",
      "2017-10-03   48.604000  110.628021\n",
      "2017-10-04   48.339001  110.401939\n",
      "2017-10-05   49.259499  110.582809\n",
      "2017-10-06   49.681999  110.401939\n",
      "2017-10-09   49.615501  111.087791\n",
      "...                ...         ...\n",
      "2022-09-27   97.500000  121.739998\n",
      "2022-09-28  100.050003  122.760002\n",
      "2022-09-29   97.419998  121.629997\n",
      "2022-09-30   95.650002  118.809998\n",
      "2022-10-03   97.040001  119.724998\n",
      "\n",
      "[1259 rows x 2 columns]\n",
      "            DEXJPUS  DEXUSUK\n",
      "DATE                        \n",
      "2017-10-04   112.84   1.3268\n",
      "2017-10-05   112.74   1.3132\n",
      "2017-10-06   112.68   1.3063\n",
      "2017-10-09      NaN      NaN\n",
      "2017-10-10   112.15   1.3215\n",
      "...             ...      ...\n",
      "2022-09-19   143.34   1.1403\n",
      "2022-09-20   143.64   1.1405\n",
      "2022-09-21   144.14   1.1330\n",
      "2022-09-22   142.16   1.1269\n",
      "2022-09-23   143.18   1.0921\n",
      "\n",
      "[1298 rows x 2 columns]\n",
      "              SP500      DJIA  VIXCLS\n",
      "DATE                                 \n",
      "2017-10-04  2537.74  22661.64    9.63\n",
      "2017-10-05  2552.07  22775.39    9.19\n",
      "2017-10-06  2549.33  22773.67    9.65\n",
      "2017-10-09  2544.73  22761.07   10.33\n",
      "2017-10-10  2550.64  22830.68   10.08\n",
      "...             ...       ...     ...\n",
      "2022-09-26  3655.04  29260.81   32.26\n",
      "2022-09-27  3647.29  29134.99   32.60\n",
      "2022-09-28  3719.04  29683.74   30.18\n",
      "2022-09-29  3640.47  29225.61   31.84\n",
      "2022-09-30  3585.62  28725.51   31.62\n",
      "\n",
      "[1303 rows x 3 columns]\n"
     ]
    }
   ],
   "source": [
    "# Select columns\n",
    "base = stk_data.loc[:, ('Adj Close', 'MSFT')]\n",
    "X1 = stk_data.loc[:, ('Adj Close', ('GOOGL', 'IBM'))]\n",
    "X2 = ccy_data\n",
    "X3 = idx_data\n",
    "print(X1)\n",
    "print(X2)\n",
    "print(X3)"
   ]
  },
  {
   "cell_type": "code",
   "execution_count": 34,
   "metadata": {},
   "outputs": [
    {
     "name": "stdout",
     "output_type": "stream",
     "text": [
      "<class 'numpy.ndarray'>\n"
     ]
    },
    {
     "data": {
      "text/plain": [
       "array([[-1.11088344, -0.45255836],\n",
       "       [-1.11930087, -0.47342409],\n",
       "       [-1.09006224, -0.45673108],\n",
       "       ...,\n",
       "       [ 0.43970446,  0.56284481],\n",
       "       [ 0.38348241,  0.30257914],\n",
       "       [ 0.42763425,  0.38702714]])"
      ]
     },
     "execution_count": 34,
     "metadata": {},
     "output_type": "execute_result"
    }
   ],
   "source": [
    "#Standardized data (X1, X2, X3) with kept index (date)\n",
    "standard_scaler = preprocessing.StandardScaler()\n",
    "sX1 = standard_scaler.fit_transform(X1.values)\n",
    "sX2 = standard_scaler.fit_transform(X2.values)\n",
    "sX3 = standard_scaler.fit_transform(X3.values)\n",
    "print(type(sX1))\n",
    "sX1"
   ]
  },
  {
   "cell_type": "code",
   "execution_count": 35,
   "metadata": {},
   "outputs": [
    {
     "data": {
      "text/html": [
       "<div>\n",
       "<style scoped>\n",
       "    .dataframe tbody tr th:only-of-type {\n",
       "        vertical-align: middle;\n",
       "    }\n",
       "\n",
       "    .dataframe tbody tr th {\n",
       "        vertical-align: top;\n",
       "    }\n",
       "\n",
       "    .dataframe thead tr th {\n",
       "        text-align: left;\n",
       "    }\n",
       "\n",
       "    .dataframe thead tr:last-of-type th {\n",
       "        text-align: right;\n",
       "    }\n",
       "</style>\n",
       "<table border=\"1\" class=\"dataframe\">\n",
       "  <thead>\n",
       "    <tr>\n",
       "      <th>Attributes</th>\n",
       "      <th colspan=\"2\" halign=\"left\">Adj Close</th>\n",
       "    </tr>\n",
       "    <tr>\n",
       "      <th>Symbols</th>\n",
       "      <th>GOOGL</th>\n",
       "      <th>IBM</th>\n",
       "    </tr>\n",
       "    <tr>\n",
       "      <th>Date</th>\n",
       "      <th></th>\n",
       "      <th></th>\n",
       "    </tr>\n",
       "  </thead>\n",
       "  <tbody>\n",
       "    <tr>\n",
       "      <th>2017-10-03</th>\n",
       "      <td>-1.110883</td>\n",
       "      <td>-0.452558</td>\n",
       "    </tr>\n",
       "    <tr>\n",
       "      <th>2017-10-04</th>\n",
       "      <td>-1.119301</td>\n",
       "      <td>-0.473424</td>\n",
       "    </tr>\n",
       "    <tr>\n",
       "      <th>2017-10-05</th>\n",
       "      <td>-1.090062</td>\n",
       "      <td>-0.456731</td>\n",
       "    </tr>\n",
       "    <tr>\n",
       "      <th>2017-10-06</th>\n",
       "      <td>-1.076642</td>\n",
       "      <td>-0.473424</td>\n",
       "    </tr>\n",
       "    <tr>\n",
       "      <th>2017-10-09</th>\n",
       "      <td>-1.078754</td>\n",
       "      <td>-0.410125</td>\n",
       "    </tr>\n",
       "    <tr>\n",
       "      <th>...</th>\n",
       "      <td>...</td>\n",
       "      <td>...</td>\n",
       "    </tr>\n",
       "    <tr>\n",
       "      <th>2022-09-27</th>\n",
       "      <td>0.442246</td>\n",
       "      <td>0.572997</td>\n",
       "    </tr>\n",
       "    <tr>\n",
       "      <th>2022-09-28</th>\n",
       "      <td>0.523244</td>\n",
       "      <td>0.667136</td>\n",
       "    </tr>\n",
       "    <tr>\n",
       "      <th>2022-09-29</th>\n",
       "      <td>0.439704</td>\n",
       "      <td>0.562845</td>\n",
       "    </tr>\n",
       "    <tr>\n",
       "      <th>2022-09-30</th>\n",
       "      <td>0.383482</td>\n",
       "      <td>0.302579</td>\n",
       "    </tr>\n",
       "    <tr>\n",
       "      <th>2022-10-03</th>\n",
       "      <td>0.427634</td>\n",
       "      <td>0.387027</td>\n",
       "    </tr>\n",
       "  </tbody>\n",
       "</table>\n",
       "<p>1259 rows × 2 columns</p>\n",
       "</div>"
      ],
      "text/plain": [
       "Attributes Adj Close          \n",
       "Symbols        GOOGL       IBM\n",
       "Date                          \n",
       "2017-10-03 -1.110883 -0.452558\n",
       "2017-10-04 -1.119301 -0.473424\n",
       "2017-10-05 -1.090062 -0.456731\n",
       "2017-10-06 -1.076642 -0.473424\n",
       "2017-10-09 -1.078754 -0.410125\n",
       "...              ...       ...\n",
       "2022-09-27  0.442246  0.572997\n",
       "2022-09-28  0.523244  0.667136\n",
       "2022-09-29  0.439704  0.562845\n",
       "2022-09-30  0.383482  0.302579\n",
       "2022-10-03  0.427634  0.387027\n",
       "\n",
       "[1259 rows x 2 columns]"
      ]
     },
     "execution_count": 35,
     "metadata": {},
     "output_type": "execute_result"
    }
   ],
   "source": [
    "sX1 = pd.DataFrame(index = X1.index,data = sX1,columns=X1.columns)\n",
    "sX2 = pd.DataFrame(index = X2.index,data = sX2,columns=X2.columns)\n",
    "sX3 = pd.DataFrame(index = X3.index,data = sX3,columns=X3.columns)\n",
    "sX1"
   ]
  },
  {
   "cell_type": "code",
   "execution_count": 36,
   "metadata": {},
   "outputs": [
    {
     "data": {
      "text/html": [
       "<div>\n",
       "<style scoped>\n",
       "    .dataframe tbody tr th:only-of-type {\n",
       "        vertical-align: middle;\n",
       "    }\n",
       "\n",
       "    .dataframe tbody tr th {\n",
       "        vertical-align: top;\n",
       "    }\n",
       "\n",
       "    .dataframe thead th {\n",
       "        text-align: right;\n",
       "    }\n",
       "</style>\n",
       "<table border=\"1\" class=\"dataframe\">\n",
       "  <thead>\n",
       "    <tr style=\"text-align: right;\">\n",
       "      <th>Symbols</th>\n",
       "      <th>GOOGL</th>\n",
       "      <th>IBM</th>\n",
       "    </tr>\n",
       "    <tr>\n",
       "      <th>Date</th>\n",
       "      <th></th>\n",
       "      <th></th>\n",
       "    </tr>\n",
       "  </thead>\n",
       "  <tbody>\n",
       "    <tr>\n",
       "      <th>2017-10-03</th>\n",
       "      <td>48.604000</td>\n",
       "      <td>110.628021</td>\n",
       "    </tr>\n",
       "    <tr>\n",
       "      <th>2017-10-04</th>\n",
       "      <td>48.339001</td>\n",
       "      <td>110.401939</td>\n",
       "    </tr>\n",
       "    <tr>\n",
       "      <th>2017-10-05</th>\n",
       "      <td>49.259499</td>\n",
       "      <td>110.582809</td>\n",
       "    </tr>\n",
       "    <tr>\n",
       "      <th>2017-10-06</th>\n",
       "      <td>49.681999</td>\n",
       "      <td>110.401939</td>\n",
       "    </tr>\n",
       "    <tr>\n",
       "      <th>2017-10-09</th>\n",
       "      <td>49.615501</td>\n",
       "      <td>111.087791</td>\n",
       "    </tr>\n",
       "    <tr>\n",
       "      <th>...</th>\n",
       "      <td>...</td>\n",
       "      <td>...</td>\n",
       "    </tr>\n",
       "    <tr>\n",
       "      <th>2022-09-27</th>\n",
       "      <td>97.500000</td>\n",
       "      <td>121.739998</td>\n",
       "    </tr>\n",
       "    <tr>\n",
       "      <th>2022-09-28</th>\n",
       "      <td>100.050003</td>\n",
       "      <td>122.760002</td>\n",
       "    </tr>\n",
       "    <tr>\n",
       "      <th>2022-09-29</th>\n",
       "      <td>97.419998</td>\n",
       "      <td>121.629997</td>\n",
       "    </tr>\n",
       "    <tr>\n",
       "      <th>2022-09-30</th>\n",
       "      <td>95.650002</td>\n",
       "      <td>118.809998</td>\n",
       "    </tr>\n",
       "    <tr>\n",
       "      <th>2022-10-03</th>\n",
       "      <td>97.040001</td>\n",
       "      <td>119.724998</td>\n",
       "    </tr>\n",
       "  </tbody>\n",
       "</table>\n",
       "<p>1259 rows × 2 columns</p>\n",
       "</div>"
      ],
      "text/plain": [
       "Symbols          GOOGL         IBM\n",
       "Date                              \n",
       "2017-10-03   48.604000  110.628021\n",
       "2017-10-04   48.339001  110.401939\n",
       "2017-10-05   49.259499  110.582809\n",
       "2017-10-06   49.681999  110.401939\n",
       "2017-10-09   49.615501  111.087791\n",
       "...                ...         ...\n",
       "2022-09-27   97.500000  121.739998\n",
       "2022-09-28  100.050003  122.760002\n",
       "2022-09-29   97.419998  121.629997\n",
       "2022-09-30   95.650002  118.809998\n",
       "2022-10-03   97.040001  119.724998\n",
       "\n",
       "[1259 rows x 2 columns]"
      ]
     },
     "execution_count": 36,
     "metadata": {},
     "output_type": "execute_result"
    }
   ],
   "source": [
    "X1['Adj Close']"
   ]
  },
  {
   "cell_type": "code",
   "execution_count": 37,
   "metadata": {},
   "outputs": [
    {
     "name": "stdout",
     "output_type": "stream",
     "text": [
      "<class 'pandas.core.frame.DataFrame'>\n"
     ]
    }
   ],
   "source": [
    "# Calculate ความแตกต่างของค่า ราคา 'Adj Close', 'MSFT’)ย้อนหลัง return_period วัน\n",
    "return_period = 1 #predict 1 วันข้างหน้า\n",
    "Y = base.shift(-return_period)\n",
    "X4_3DT = base.diff(3*return_period).shift(-3*return_period)\n",
    "X4_6DT = base.diff(6*return_period).shift(-6*return_period)\n",
    "X4_12DT = base.diff(12*return_period).shift(-12*return_period)\n",
    "X4 = pd.concat([X4_3DT, X4_6DT, X4_12DT], axis=1)\n",
    "X4.columns = ['MSFT_3DT', 'MSFT_6DT', 'MSFT_12DT']\n",
    "X4 = pd.DataFrame(standard_scaler.fit_transform(X4.values), index = X4.index,columns=X4.columns)\n",
    "\n",
    "# Forming Dataset\n",
    "X = pd.concat([sX1, sX2, sX3, X4], axis=1)\n",
    "dataset = pd.concat([Y, X], axis=1)\n",
    "print(type(dataset))\n"
   ]
  },
  {
   "cell_type": "code",
   "execution_count": 38,
   "metadata": {},
   "outputs": [
    {
     "data": {
      "text/html": [
       "<div>\n",
       "<style scoped>\n",
       "    .dataframe tbody tr th:only-of-type {\n",
       "        vertical-align: middle;\n",
       "    }\n",
       "\n",
       "    .dataframe tbody tr th {\n",
       "        vertical-align: top;\n",
       "    }\n",
       "\n",
       "    .dataframe thead th {\n",
       "        text-align: right;\n",
       "    }\n",
       "</style>\n",
       "<table border=\"1\" class=\"dataframe\">\n",
       "  <thead>\n",
       "    <tr style=\"text-align: right;\">\n",
       "      <th></th>\n",
       "      <th>(Adj Close, MSFT)</th>\n",
       "      <th>(Adj Close, GOOGL)</th>\n",
       "      <th>(Adj Close, IBM)</th>\n",
       "      <th>DEXJPUS</th>\n",
       "      <th>DEXUSUK</th>\n",
       "      <th>SP500</th>\n",
       "      <th>DJIA</th>\n",
       "      <th>VIXCLS</th>\n",
       "      <th>MSFT_3DT</th>\n",
       "      <th>MSFT_6DT</th>\n",
       "      <th>MSFT_12DT</th>\n",
       "    </tr>\n",
       "  </thead>\n",
       "  <tbody>\n",
       "    <tr>\n",
       "      <th>2017-10-04</th>\n",
       "      <td>71.385201</td>\n",
       "      <td>-1.119301</td>\n",
       "      <td>-0.473424</td>\n",
       "      <td>0.107769</td>\n",
       "      <td>0.278181</td>\n",
       "      <td>-1.241406</td>\n",
       "      <td>-1.454791</td>\n",
       "      <td>-1.266307</td>\n",
       "      <td>0.194006</td>\n",
       "      <td>0.187955</td>\n",
       "      <td>0.207123</td>\n",
       "    </tr>\n",
       "    <tr>\n",
       "      <th>2017-10-05</th>\n",
       "      <td>71.413376</td>\n",
       "      <td>-1.090062</td>\n",
       "      <td>-0.456731</td>\n",
       "      <td>0.095187</td>\n",
       "      <td>0.051422</td>\n",
       "      <td>-1.220499</td>\n",
       "      <td>-1.427032</td>\n",
       "      <td>-1.317006</td>\n",
       "      <td>-0.016300</td>\n",
       "      <td>0.080042</td>\n",
       "      <td>0.098646</td>\n",
       "    </tr>\n",
       "    <tr>\n",
       "      <th>2017-10-06</th>\n",
       "      <td>71.685883</td>\n",
       "      <td>-1.076642</td>\n",
       "      <td>-0.473424</td>\n",
       "      <td>0.087638</td>\n",
       "      <td>-0.063625</td>\n",
       "      <td>-1.224496</td>\n",
       "      <td>-1.427452</td>\n",
       "      <td>-1.264002</td>\n",
       "      <td>0.000131</td>\n",
       "      <td>0.095461</td>\n",
       "      <td>0.098649</td>\n",
       "    </tr>\n",
       "    <tr>\n",
       "      <th>2017-10-10</th>\n",
       "      <td>71.808029</td>\n",
       "      <td>-1.085917</td>\n",
       "      <td>-0.332910</td>\n",
       "      <td>0.020953</td>\n",
       "      <td>0.189811</td>\n",
       "      <td>-1.222585</td>\n",
       "      <td>-1.413539</td>\n",
       "      <td>-1.214455</td>\n",
       "      <td>0.128284</td>\n",
       "      <td>0.056327</td>\n",
       "      <td>0.065071</td>\n",
       "    </tr>\n",
       "    <tr>\n",
       "      <th>2017-10-11</th>\n",
       "      <td>72.465805</td>\n",
       "      <td>-1.057568</td>\n",
       "      <td>-0.394125</td>\n",
       "      <td>0.046117</td>\n",
       "      <td>0.181475</td>\n",
       "      <td>-1.215874</td>\n",
       "      <td>-1.403238</td>\n",
       "      <td>-1.240957</td>\n",
       "      <td>0.133217</td>\n",
       "      <td>0.076484</td>\n",
       "      <td>0.488649</td>\n",
       "    </tr>\n",
       "    <tr>\n",
       "      <th>...</th>\n",
       "      <td>...</td>\n",
       "      <td>...</td>\n",
       "      <td>...</td>\n",
       "      <td>...</td>\n",
       "      <td>...</td>\n",
       "      <td>...</td>\n",
       "      <td>...</td>\n",
       "      <td>...</td>\n",
       "      <td>...</td>\n",
       "      <td>...</td>\n",
       "      <td>...</td>\n",
       "    </tr>\n",
       "    <tr>\n",
       "      <th>2022-09-09</th>\n",
       "      <td>266.649994</td>\n",
       "      <td>0.859941</td>\n",
       "      <td>1.260579</td>\n",
       "      <td>3.832036</td>\n",
       "      <td>-2.502954</td>\n",
       "      <td>0.990295</td>\n",
       "      <td>0.861158</td>\n",
       "      <td>0.250062</td>\n",
       "      <td>-2.209060</td>\n",
       "      <td>-2.616591</td>\n",
       "      <td>-2.717579</td>\n",
       "    </tr>\n",
       "    <tr>\n",
       "      <th>2022-09-12</th>\n",
       "      <td>251.990005</td>\n",
       "      <td>0.866612</td>\n",
       "      <td>1.396249</td>\n",
       "      <td>3.828261</td>\n",
       "      <td>-2.334552</td>\n",
       "      <td>1.053104</td>\n",
       "      <td>0.917196</td>\n",
       "      <td>0.374506</td>\n",
       "      <td>-3.787972</td>\n",
       "      <td>-3.154196</td>\n",
       "      <td>-2.491272</td>\n",
       "    </tr>\n",
       "    <tr>\n",
       "      <th>2022-09-13</th>\n",
       "      <td>252.220001</td>\n",
       "      <td>0.658876</td>\n",
       "      <td>1.081531</td>\n",
       "      <td>4.066061</td>\n",
       "      <td>-2.626338</td>\n",
       "      <td>0.793813</td>\n",
       "      <td>0.605712</td>\n",
       "      <td>0.766273</td>\n",
       "      <td>-1.336551</td>\n",
       "      <td>-1.745827</td>\n",
       "      <td>-1.475184</td>\n",
       "    </tr>\n",
       "    <tr>\n",
       "      <th>2022-09-14</th>\n",
       "      <td>245.380005</td>\n",
       "      <td>0.680475</td>\n",
       "      <td>1.122140</td>\n",
       "      <td>3.893688</td>\n",
       "      <td>-2.562979</td>\n",
       "      <td>0.813246</td>\n",
       "      <td>0.613063</td>\n",
       "      <td>0.638373</td>\n",
       "      <td>-1.415234</td>\n",
       "      <td>-1.518670</td>\n",
       "      <td>-1.917719</td>\n",
       "    </tr>\n",
       "    <tr>\n",
       "      <th>2022-09-15</th>\n",
       "      <td>244.740005</td>\n",
       "      <td>0.614089</td>\n",
       "      <td>0.919095</td>\n",
       "      <td>3.974212</td>\n",
       "      <td>-2.716375</td>\n",
       "      <td>0.748088</td>\n",
       "      <td>0.570778</td>\n",
       "      <td>0.651048</td>\n",
       "      <td>-0.581192</td>\n",
       "      <td>-1.041641</td>\n",
       "      <td>-1.035397</td>\n",
       "    </tr>\n",
       "  </tbody>\n",
       "</table>\n",
       "<p>1229 rows × 11 columns</p>\n",
       "</div>"
      ],
      "text/plain": [
       "            (Adj Close, MSFT)  (Adj Close, GOOGL)  (Adj Close, IBM)   DEXJPUS  \\\n",
       "2017-10-04          71.385201           -1.119301         -0.473424  0.107769   \n",
       "2017-10-05          71.413376           -1.090062         -0.456731  0.095187   \n",
       "2017-10-06          71.685883           -1.076642         -0.473424  0.087638   \n",
       "2017-10-10          71.808029           -1.085917         -0.332910  0.020953   \n",
       "2017-10-11          72.465805           -1.057568         -0.394125  0.046117   \n",
       "...                       ...                 ...               ...       ...   \n",
       "2022-09-09         266.649994            0.859941          1.260579  3.832036   \n",
       "2022-09-12         251.990005            0.866612          1.396249  3.828261   \n",
       "2022-09-13         252.220001            0.658876          1.081531  4.066061   \n",
       "2022-09-14         245.380005            0.680475          1.122140  3.893688   \n",
       "2022-09-15         244.740005            0.614089          0.919095  3.974212   \n",
       "\n",
       "             DEXUSUK     SP500      DJIA    VIXCLS  MSFT_3DT  MSFT_6DT  \\\n",
       "2017-10-04  0.278181 -1.241406 -1.454791 -1.266307  0.194006  0.187955   \n",
       "2017-10-05  0.051422 -1.220499 -1.427032 -1.317006 -0.016300  0.080042   \n",
       "2017-10-06 -0.063625 -1.224496 -1.427452 -1.264002  0.000131  0.095461   \n",
       "2017-10-10  0.189811 -1.222585 -1.413539 -1.214455  0.128284  0.056327   \n",
       "2017-10-11  0.181475 -1.215874 -1.403238 -1.240957  0.133217  0.076484   \n",
       "...              ...       ...       ...       ...       ...       ...   \n",
       "2022-09-09 -2.502954  0.990295  0.861158  0.250062 -2.209060 -2.616591   \n",
       "2022-09-12 -2.334552  1.053104  0.917196  0.374506 -3.787972 -3.154196   \n",
       "2022-09-13 -2.626338  0.793813  0.605712  0.766273 -1.336551 -1.745827   \n",
       "2022-09-14 -2.562979  0.813246  0.613063  0.638373 -1.415234 -1.518670   \n",
       "2022-09-15 -2.716375  0.748088  0.570778  0.651048 -0.581192 -1.041641   \n",
       "\n",
       "            MSFT_12DT  \n",
       "2017-10-04   0.207123  \n",
       "2017-10-05   0.098646  \n",
       "2017-10-06   0.098649  \n",
       "2017-10-10   0.065071  \n",
       "2017-10-11   0.488649  \n",
       "...               ...  \n",
       "2022-09-09  -2.717579  \n",
       "2022-09-12  -2.491272  \n",
       "2022-09-13  -1.475184  \n",
       "2022-09-14  -1.917719  \n",
       "2022-09-15  -1.035397  \n",
       "\n",
       "[1229 rows x 11 columns]"
      ]
     },
     "execution_count": 38,
     "metadata": {},
     "output_type": "execute_result"
    }
   ],
   "source": [
    "dataset.dropna(inplace=True)\n",
    "dataset"
   ]
  },
  {
   "cell_type": "code",
   "execution_count": 39,
   "metadata": {},
   "outputs": [
    {
     "name": "stdout",
     "output_type": "stream",
     "text": [
      "<class 'pandas.core.frame.DataFrame'>\n",
      "DatetimeIndex: 1229 entries, 2017-10-04 to 2022-09-15\n",
      "Data columns (total 11 columns):\n",
      " #   Column              Non-Null Count  Dtype  \n",
      "---  ------              --------------  -----  \n",
      " 0   (Adj Close, MSFT)   1229 non-null   float64\n",
      " 1   (Adj Close, GOOGL)  1229 non-null   float64\n",
      " 2   (Adj Close, IBM)    1229 non-null   float64\n",
      " 3   DEXJPUS             1229 non-null   float64\n",
      " 4   DEXUSUK             1229 non-null   float64\n",
      " 5   SP500               1229 non-null   float64\n",
      " 6   DJIA                1229 non-null   float64\n",
      " 7   VIXCLS              1229 non-null   float64\n",
      " 8   MSFT_3DT            1229 non-null   float64\n",
      " 9   MSFT_6DT            1229 non-null   float64\n",
      " 10  MSFT_12DT           1229 non-null   float64\n",
      "dtypes: float64(11)\n",
      "memory usage: 115.2 KB\n"
     ]
    }
   ],
   "source": [
    "dataset.info()"
   ]
  },
  {
   "cell_type": "code",
   "execution_count": 40,
   "metadata": {},
   "outputs": [
    {
     "name": "stdout",
     "output_type": "stream",
     "text": [
      "       Adj Close\n",
      "            MSFT\n",
      "0      71.385201\n",
      "1      71.413376\n",
      "2      71.685883\n",
      "3      71.808029\n",
      "4      72.465805\n",
      "...          ...\n",
      "1224  266.649994\n",
      "1225  251.990005\n",
      "1226  252.220001\n",
      "1227  245.380005\n",
      "1228  244.740005\n",
      "\n",
      "[1229 rows x 1 columns]\n",
      "      (Adj Close, GOOGL)  (Adj Close, IBM)   DEXJPUS   DEXUSUK     SP500  \\\n",
      "0              -1.119301         -0.473424  0.107769  0.278181 -1.241406   \n",
      "1              -1.090062         -0.456731  0.095187  0.051422 -1.220499   \n",
      "2              -1.076642         -0.473424  0.087638 -0.063625 -1.224496   \n",
      "3              -1.085917         -0.332910  0.020953  0.189811 -1.222585   \n",
      "4              -1.057568         -0.394125  0.046117  0.181475 -1.215874   \n",
      "...                  ...               ...       ...       ...       ...   \n",
      "1224            0.859941          1.260579  3.832036 -2.502954  0.990295   \n",
      "1225            0.866612          1.396249  3.828261 -2.334552  1.053104   \n",
      "1226            0.658876          1.081531  4.066061 -2.626338  0.793813   \n",
      "1227            0.680475          1.122140  3.893688 -2.562979  0.813246   \n",
      "1228            0.614089          0.919095  3.974212 -2.716375  0.748088   \n",
      "\n",
      "          DJIA    VIXCLS  MSFT_3DT  MSFT_6DT  MSFT_12DT  \n",
      "0    -1.454791 -1.266307  0.194006  0.187955   0.207123  \n",
      "1    -1.427032 -1.317006 -0.016300  0.080042   0.098646  \n",
      "2    -1.427452 -1.264002  0.000131  0.095461   0.098649  \n",
      "3    -1.413539 -1.214455  0.128284  0.056327   0.065071  \n",
      "4    -1.403238 -1.240957  0.133217  0.076484   0.488649  \n",
      "...        ...       ...       ...       ...        ...  \n",
      "1224  0.861158  0.250062 -2.209060 -2.616591  -2.717579  \n",
      "1225  0.917196  0.374506 -3.787972 -3.154196  -2.491272  \n",
      "1226  0.605712  0.766273 -1.336551 -1.745827  -1.475184  \n",
      "1227  0.613063  0.638373 -1.415234 -1.518670  -1.917719  \n",
      "1228  0.570778  0.651048 -0.581192 -1.041641  -1.035397  \n",
      "\n",
      "[1229 rows x 10 columns]\n"
     ]
    }
   ],
   "source": [
    "Y = pd.DataFrame(dataset[dataset.columns[0]].reset_index(drop=True))\n",
    "X = pd.DataFrame(dataset[dataset.columns[1:]].reset_index(drop=True))\n",
    "print(Y)\n",
    "print(X)"
   ]
  },
  {
   "cell_type": "code",
   "execution_count": 41,
   "metadata": {},
   "outputs": [
    {
     "data": {
      "text/html": [
       "<div>\n",
       "<style scoped>\n",
       "    .dataframe tbody tr th:only-of-type {\n",
       "        vertical-align: middle;\n",
       "    }\n",
       "\n",
       "    .dataframe tbody tr th {\n",
       "        vertical-align: top;\n",
       "    }\n",
       "\n",
       "    .dataframe thead th {\n",
       "        text-align: right;\n",
       "    }\n",
       "</style>\n",
       "<table border=\"1\" class=\"dataframe\">\n",
       "  <thead>\n",
       "    <tr style=\"text-align: right;\">\n",
       "      <th></th>\n",
       "      <th>(Adj Close, GOOGL)</th>\n",
       "      <th>(Adj Close, IBM)</th>\n",
       "      <th>DEXJPUS</th>\n",
       "      <th>DEXUSUK</th>\n",
       "      <th>SP500</th>\n",
       "      <th>DJIA</th>\n",
       "      <th>VIXCLS</th>\n",
       "      <th>MSFT_3DT</th>\n",
       "      <th>MSFT_6DT</th>\n",
       "      <th>MSFT_12DT</th>\n",
       "    </tr>\n",
       "  </thead>\n",
       "  <tbody>\n",
       "    <tr>\n",
       "      <th>(Adj Close, GOOGL)</th>\n",
       "      <td>1.000000</td>\n",
       "      <td>0.603660</td>\n",
       "      <td>0.393266</td>\n",
       "      <td>0.244286</td>\n",
       "      <td>0.985346</td>\n",
       "      <td>0.960352</td>\n",
       "      <td>0.145096</td>\n",
       "      <td>-0.060370</td>\n",
       "      <td>-0.084786</td>\n",
       "      <td>-0.114582</td>\n",
       "    </tr>\n",
       "    <tr>\n",
       "      <th>(Adj Close, IBM)</th>\n",
       "      <td>0.603660</td>\n",
       "      <td>1.000000</td>\n",
       "      <td>0.567784</td>\n",
       "      <td>0.192431</td>\n",
       "      <td>0.611634</td>\n",
       "      <td>0.663627</td>\n",
       "      <td>-0.285487</td>\n",
       "      <td>-0.094267</td>\n",
       "      <td>-0.144566</td>\n",
       "      <td>-0.191502</td>\n",
       "    </tr>\n",
       "    <tr>\n",
       "      <th>DEXJPUS</th>\n",
       "      <td>0.393266</td>\n",
       "      <td>0.567784</td>\n",
       "      <td>1.000000</td>\n",
       "      <td>-0.427531</td>\n",
       "      <td>0.357720</td>\n",
       "      <td>0.347752</td>\n",
       "      <td>0.069241</td>\n",
       "      <td>-0.101157</td>\n",
       "      <td>-0.151651</td>\n",
       "      <td>-0.217975</td>\n",
       "    </tr>\n",
       "    <tr>\n",
       "      <th>DEXUSUK</th>\n",
       "      <td>0.244286</td>\n",
       "      <td>0.192431</td>\n",
       "      <td>-0.427531</td>\n",
       "      <td>1.000000</td>\n",
       "      <td>0.254743</td>\n",
       "      <td>0.303752</td>\n",
       "      <td>-0.326826</td>\n",
       "      <td>0.026000</td>\n",
       "      <td>0.043653</td>\n",
       "      <td>0.072561</td>\n",
       "    </tr>\n",
       "    <tr>\n",
       "      <th>SP500</th>\n",
       "      <td>0.985346</td>\n",
       "      <td>0.611634</td>\n",
       "      <td>0.357720</td>\n",
       "      <td>0.254743</td>\n",
       "      <td>1.000000</td>\n",
       "      <td>0.986183</td>\n",
       "      <td>0.098877</td>\n",
       "      <td>-0.068540</td>\n",
       "      <td>-0.098295</td>\n",
       "      <td>-0.134585</td>\n",
       "    </tr>\n",
       "    <tr>\n",
       "      <th>DJIA</th>\n",
       "      <td>0.960352</td>\n",
       "      <td>0.663627</td>\n",
       "      <td>0.347752</td>\n",
       "      <td>0.303752</td>\n",
       "      <td>0.986183</td>\n",
       "      <td>1.000000</td>\n",
       "      <td>-0.019465</td>\n",
       "      <td>-0.070349</td>\n",
       "      <td>-0.100861</td>\n",
       "      <td>-0.135495</td>\n",
       "    </tr>\n",
       "    <tr>\n",
       "      <th>VIXCLS</th>\n",
       "      <td>0.145096</td>\n",
       "      <td>-0.285487</td>\n",
       "      <td>0.069241</td>\n",
       "      <td>-0.326826</td>\n",
       "      <td>0.098877</td>\n",
       "      <td>-0.019465</td>\n",
       "      <td>1.000000</td>\n",
       "      <td>0.054788</td>\n",
       "      <td>0.075365</td>\n",
       "      <td>0.099628</td>\n",
       "    </tr>\n",
       "    <tr>\n",
       "      <th>MSFT_3DT</th>\n",
       "      <td>-0.060370</td>\n",
       "      <td>-0.094267</td>\n",
       "      <td>-0.101157</td>\n",
       "      <td>0.026000</td>\n",
       "      <td>-0.068540</td>\n",
       "      <td>-0.070349</td>\n",
       "      <td>0.054788</td>\n",
       "      <td>1.000000</td>\n",
       "      <td>0.688492</td>\n",
       "      <td>0.494451</td>\n",
       "    </tr>\n",
       "    <tr>\n",
       "      <th>MSFT_6DT</th>\n",
       "      <td>-0.084786</td>\n",
       "      <td>-0.144566</td>\n",
       "      <td>-0.151651</td>\n",
       "      <td>0.043653</td>\n",
       "      <td>-0.098295</td>\n",
       "      <td>-0.100861</td>\n",
       "      <td>0.075365</td>\n",
       "      <td>0.688492</td>\n",
       "      <td>1.000000</td>\n",
       "      <td>0.684222</td>\n",
       "    </tr>\n",
       "    <tr>\n",
       "      <th>MSFT_12DT</th>\n",
       "      <td>-0.114582</td>\n",
       "      <td>-0.191502</td>\n",
       "      <td>-0.217975</td>\n",
       "      <td>0.072561</td>\n",
       "      <td>-0.134585</td>\n",
       "      <td>-0.135495</td>\n",
       "      <td>0.099628</td>\n",
       "      <td>0.494451</td>\n",
       "      <td>0.684222</td>\n",
       "      <td>1.000000</td>\n",
       "    </tr>\n",
       "  </tbody>\n",
       "</table>\n",
       "</div>"
      ],
      "text/plain": [
       "                    (Adj Close, GOOGL)  (Adj Close, IBM)   DEXJPUS   DEXUSUK  \\\n",
       "(Adj Close, GOOGL)            1.000000          0.603660  0.393266  0.244286   \n",
       "(Adj Close, IBM)              0.603660          1.000000  0.567784  0.192431   \n",
       "DEXJPUS                       0.393266          0.567784  1.000000 -0.427531   \n",
       "DEXUSUK                       0.244286          0.192431 -0.427531  1.000000   \n",
       "SP500                         0.985346          0.611634  0.357720  0.254743   \n",
       "DJIA                          0.960352          0.663627  0.347752  0.303752   \n",
       "VIXCLS                        0.145096         -0.285487  0.069241 -0.326826   \n",
       "MSFT_3DT                     -0.060370         -0.094267 -0.101157  0.026000   \n",
       "MSFT_6DT                     -0.084786         -0.144566 -0.151651  0.043653   \n",
       "MSFT_12DT                    -0.114582         -0.191502 -0.217975  0.072561   \n",
       "\n",
       "                       SP500      DJIA    VIXCLS  MSFT_3DT  MSFT_6DT  \\\n",
       "(Adj Close, GOOGL)  0.985346  0.960352  0.145096 -0.060370 -0.084786   \n",
       "(Adj Close, IBM)    0.611634  0.663627 -0.285487 -0.094267 -0.144566   \n",
       "DEXJPUS             0.357720  0.347752  0.069241 -0.101157 -0.151651   \n",
       "DEXUSUK             0.254743  0.303752 -0.326826  0.026000  0.043653   \n",
       "SP500               1.000000  0.986183  0.098877 -0.068540 -0.098295   \n",
       "DJIA                0.986183  1.000000 -0.019465 -0.070349 -0.100861   \n",
       "VIXCLS              0.098877 -0.019465  1.000000  0.054788  0.075365   \n",
       "MSFT_3DT           -0.068540 -0.070349  0.054788  1.000000  0.688492   \n",
       "MSFT_6DT           -0.098295 -0.100861  0.075365  0.688492  1.000000   \n",
       "MSFT_12DT          -0.134585 -0.135495  0.099628  0.494451  0.684222   \n",
       "\n",
       "                    MSFT_12DT  \n",
       "(Adj Close, GOOGL)  -0.114582  \n",
       "(Adj Close, IBM)    -0.191502  \n",
       "DEXJPUS             -0.217975  \n",
       "DEXUSUK              0.072561  \n",
       "SP500               -0.134585  \n",
       "DJIA                -0.135495  \n",
       "VIXCLS               0.099628  \n",
       "MSFT_3DT             0.494451  \n",
       "MSFT_6DT             0.684222  \n",
       "MSFT_12DT            1.000000  "
      ]
     },
     "execution_count": 41,
     "metadata": {},
     "output_type": "execute_result"
    }
   ],
   "source": [
    "X.corr()"
   ]
  },
  {
   "cell_type": "code",
   "execution_count": 42,
   "metadata": {},
   "outputs": [
    {
     "data": {
      "text/plain": [
       "[('Adj Close', 'GOOGL'), 'SP500']"
      ]
     },
     "execution_count": 42,
     "metadata": {},
     "output_type": "execute_result"
    }
   ],
   "source": [
    "lower = pd.DataFrame(np.tril(X.corr(),-1),columns = X.columns)\n",
    "to_drop = [column for column in lower.columns if any(lower[column] > 0.9)]\n",
    "to_drop\n"
   ]
  },
  {
   "cell_type": "code",
   "execution_count": 43,
   "metadata": {},
   "outputs": [],
   "source": [
    "X.drop(columns=to_drop,inplace=True)\n"
   ]
  },
  {
   "cell_type": "code",
   "execution_count": 44,
   "metadata": {},
   "outputs": [
    {
     "data": {
      "text/html": [
       "<div>\n",
       "<style scoped>\n",
       "    .dataframe tbody tr th:only-of-type {\n",
       "        vertical-align: middle;\n",
       "    }\n",
       "\n",
       "    .dataframe tbody tr th {\n",
       "        vertical-align: top;\n",
       "    }\n",
       "\n",
       "    .dataframe thead th {\n",
       "        text-align: right;\n",
       "    }\n",
       "</style>\n",
       "<table border=\"1\" class=\"dataframe\">\n",
       "  <thead>\n",
       "    <tr style=\"text-align: right;\">\n",
       "      <th></th>\n",
       "      <th>(Adj Close, IBM)</th>\n",
       "      <th>DEXJPUS</th>\n",
       "      <th>DEXUSUK</th>\n",
       "      <th>DJIA</th>\n",
       "      <th>VIXCLS</th>\n",
       "      <th>MSFT_3DT</th>\n",
       "      <th>MSFT_6DT</th>\n",
       "      <th>MSFT_12DT</th>\n",
       "    </tr>\n",
       "  </thead>\n",
       "  <tbody>\n",
       "    <tr>\n",
       "      <th>0</th>\n",
       "      <td>-0.473424</td>\n",
       "      <td>0.107769</td>\n",
       "      <td>0.278181</td>\n",
       "      <td>-1.454791</td>\n",
       "      <td>-1.266307</td>\n",
       "      <td>0.194006</td>\n",
       "      <td>0.187955</td>\n",
       "      <td>0.207123</td>\n",
       "    </tr>\n",
       "    <tr>\n",
       "      <th>1</th>\n",
       "      <td>-0.456731</td>\n",
       "      <td>0.095187</td>\n",
       "      <td>0.051422</td>\n",
       "      <td>-1.427032</td>\n",
       "      <td>-1.317006</td>\n",
       "      <td>-0.016300</td>\n",
       "      <td>0.080042</td>\n",
       "      <td>0.098646</td>\n",
       "    </tr>\n",
       "    <tr>\n",
       "      <th>2</th>\n",
       "      <td>-0.473424</td>\n",
       "      <td>0.087638</td>\n",
       "      <td>-0.063625</td>\n",
       "      <td>-1.427452</td>\n",
       "      <td>-1.264002</td>\n",
       "      <td>0.000131</td>\n",
       "      <td>0.095461</td>\n",
       "      <td>0.098649</td>\n",
       "    </tr>\n",
       "    <tr>\n",
       "      <th>3</th>\n",
       "      <td>-0.332910</td>\n",
       "      <td>0.020953</td>\n",
       "      <td>0.189811</td>\n",
       "      <td>-1.413539</td>\n",
       "      <td>-1.214455</td>\n",
       "      <td>0.128284</td>\n",
       "      <td>0.056327</td>\n",
       "      <td>0.065071</td>\n",
       "    </tr>\n",
       "    <tr>\n",
       "      <th>4</th>\n",
       "      <td>-0.394125</td>\n",
       "      <td>0.046117</td>\n",
       "      <td>0.181475</td>\n",
       "      <td>-1.403238</td>\n",
       "      <td>-1.240957</td>\n",
       "      <td>0.133217</td>\n",
       "      <td>0.076484</td>\n",
       "      <td>0.488649</td>\n",
       "    </tr>\n",
       "    <tr>\n",
       "      <th>...</th>\n",
       "      <td>...</td>\n",
       "      <td>...</td>\n",
       "      <td>...</td>\n",
       "      <td>...</td>\n",
       "      <td>...</td>\n",
       "      <td>...</td>\n",
       "      <td>...</td>\n",
       "      <td>...</td>\n",
       "    </tr>\n",
       "    <tr>\n",
       "      <th>1224</th>\n",
       "      <td>1.260579</td>\n",
       "      <td>3.832036</td>\n",
       "      <td>-2.502954</td>\n",
       "      <td>0.861158</td>\n",
       "      <td>0.250062</td>\n",
       "      <td>-2.209060</td>\n",
       "      <td>-2.616591</td>\n",
       "      <td>-2.717579</td>\n",
       "    </tr>\n",
       "    <tr>\n",
       "      <th>1225</th>\n",
       "      <td>1.396249</td>\n",
       "      <td>3.828261</td>\n",
       "      <td>-2.334552</td>\n",
       "      <td>0.917196</td>\n",
       "      <td>0.374506</td>\n",
       "      <td>-3.787972</td>\n",
       "      <td>-3.154196</td>\n",
       "      <td>-2.491272</td>\n",
       "    </tr>\n",
       "    <tr>\n",
       "      <th>1226</th>\n",
       "      <td>1.081531</td>\n",
       "      <td>4.066061</td>\n",
       "      <td>-2.626338</td>\n",
       "      <td>0.605712</td>\n",
       "      <td>0.766273</td>\n",
       "      <td>-1.336551</td>\n",
       "      <td>-1.745827</td>\n",
       "      <td>-1.475184</td>\n",
       "    </tr>\n",
       "    <tr>\n",
       "      <th>1227</th>\n",
       "      <td>1.122140</td>\n",
       "      <td>3.893688</td>\n",
       "      <td>-2.562979</td>\n",
       "      <td>0.613063</td>\n",
       "      <td>0.638373</td>\n",
       "      <td>-1.415234</td>\n",
       "      <td>-1.518670</td>\n",
       "      <td>-1.917719</td>\n",
       "    </tr>\n",
       "    <tr>\n",
       "      <th>1228</th>\n",
       "      <td>0.919095</td>\n",
       "      <td>3.974212</td>\n",
       "      <td>-2.716375</td>\n",
       "      <td>0.570778</td>\n",
       "      <td>0.651048</td>\n",
       "      <td>-0.581192</td>\n",
       "      <td>-1.041641</td>\n",
       "      <td>-1.035397</td>\n",
       "    </tr>\n",
       "  </tbody>\n",
       "</table>\n",
       "<p>1229 rows × 8 columns</p>\n",
       "</div>"
      ],
      "text/plain": [
       "      (Adj Close, IBM)   DEXJPUS   DEXUSUK      DJIA    VIXCLS  MSFT_3DT  \\\n",
       "0            -0.473424  0.107769  0.278181 -1.454791 -1.266307  0.194006   \n",
       "1            -0.456731  0.095187  0.051422 -1.427032 -1.317006 -0.016300   \n",
       "2            -0.473424  0.087638 -0.063625 -1.427452 -1.264002  0.000131   \n",
       "3            -0.332910  0.020953  0.189811 -1.413539 -1.214455  0.128284   \n",
       "4            -0.394125  0.046117  0.181475 -1.403238 -1.240957  0.133217   \n",
       "...                ...       ...       ...       ...       ...       ...   \n",
       "1224          1.260579  3.832036 -2.502954  0.861158  0.250062 -2.209060   \n",
       "1225          1.396249  3.828261 -2.334552  0.917196  0.374506 -3.787972   \n",
       "1226          1.081531  4.066061 -2.626338  0.605712  0.766273 -1.336551   \n",
       "1227          1.122140  3.893688 -2.562979  0.613063  0.638373 -1.415234   \n",
       "1228          0.919095  3.974212 -2.716375  0.570778  0.651048 -0.581192   \n",
       "\n",
       "      MSFT_6DT  MSFT_12DT  \n",
       "0     0.187955   0.207123  \n",
       "1     0.080042   0.098646  \n",
       "2     0.095461   0.098649  \n",
       "3     0.056327   0.065071  \n",
       "4     0.076484   0.488649  \n",
       "...        ...        ...  \n",
       "1224 -2.616591  -2.717579  \n",
       "1225 -3.154196  -2.491272  \n",
       "1226 -1.745827  -1.475184  \n",
       "1227 -1.518670  -1.917719  \n",
       "1228 -1.041641  -1.035397  \n",
       "\n",
       "[1229 rows x 8 columns]"
      ]
     },
     "execution_count": 44,
     "metadata": {},
     "output_type": "execute_result"
    }
   ],
   "source": [
    "X"
   ]
  },
  {
   "cell_type": "markdown",
   "metadata": {},
   "source": [
    "# train"
   ]
  },
  {
   "cell_type": "code",
   "execution_count": 45,
   "metadata": {},
   "outputs": [
    {
     "name": "stdout",
     "output_type": "stream",
     "text": [
      "860\n"
     ]
    }
   ],
   "source": [
    "#shuffle spilt\n",
    "# Rseed = 55\n",
    "# x_train_set , x_test, y_train_set , y_test = train_test_split(X,Y,test_size= 0.3,random_state= Rseed)\n",
    "# x_train,x_validate,y_train,y_validate = train_test_split(x_train_set,y_train_set,test_size=0.3 ,random_state= Rseed)\n",
    "from math import ceil, floor\n",
    "#test_size =  ceil(0.3 * len( X ))\n",
    "train_size = floor(0.7 * len( X ))\n",
    "X_train, X_test = X[0:train_size], X[train_size:len(X)]\n",
    "Y_train, Y_test = Y[0:train_size], Y[train_size:len(X)]\n",
    "\n",
    "print(train_size)\n"
   ]
  },
  {
   "cell_type": "markdown",
   "metadata": {},
   "source": [
    "## Kfold"
   ]
  },
  {
   "cell_type": "code",
   "execution_count": 46,
   "metadata": {},
   "outputs": [],
   "source": [
    "# Cross Validation Model\n",
    "# set k-fold crossvalidation with shuffle\n",
    "num_fold = 4\n",
    "seed = 500\n",
    "kfold = KFold(n_splits=num_fold, shuffle = True, random_state=seed)"
   ]
  },
  {
   "cell_type": "markdown",
   "metadata": {},
   "source": [
    "## SVR train"
   ]
  },
  {
   "cell_type": "code",
   "execution_count": 47,
   "metadata": {},
   "outputs": [
    {
     "name": "stdout",
     "output_type": "stream",
     "text": [
      "   Linear Model  SVR_linear   SVR_rbf  SVR_poly\n",
      "0      0.896255    0.577119  0.018711  0.113743\n",
      "1      0.903978    0.539056  0.000922  0.094584\n",
      "2      0.879188    0.515312 -0.007959  0.099898\n",
      "3      0.905045    0.456854 -0.115904 -0.066761\n",
      "   AVG Linear Model  AVG SVR_linear  AVG SVR_rbf  AVG SVC_poly\n",
      "0          0.896117        0.522085    -0.026057      0.060366\n",
      "   Linear Model  SVR_linear   SVR_rbf  SVR_poly\n",
      "0      0.896255    0.876777  0.177733  0.492646\n",
      "1      0.903978    0.897765  0.139673  0.461029\n",
      "2      0.879188    0.860802  0.138966  0.468082\n",
      "3      0.905045    0.888732  0.026358  0.339344\n",
      "   AVG Linear Model  AVG SVR_linear  AVG SVR_rbf  AVG SVC_poly\n",
      "0          0.896117        0.881019     0.120683      0.440275\n",
      "   Linear Model  SVR_linear   SVR_rbf  SVR_poly\n",
      "0      0.896255    0.884148  0.797600  0.878854\n",
      "1      0.903978    0.900830  0.788089  0.874663\n",
      "2      0.879188    0.865343  0.765264  0.853198\n",
      "3      0.905045    0.895390  0.730434  0.844609\n",
      "   AVG Linear Model  AVG SVR_linear  AVG SVR_rbf  AVG SVC_poly\n",
      "0          0.896117        0.886428     0.770347      0.862831\n",
      "   Linear Model  SVR_linear   SVR_rbf  SVR_poly\n",
      "0      0.896255    0.885093  0.924316  0.890436\n",
      "1      0.903978    0.900711  0.925871  0.864555\n",
      "2      0.879188    0.864928  0.907863  0.865782\n",
      "3      0.905045    0.895518  0.926689  0.853124\n",
      "   AVG Linear Model  AVG SVR_linear  AVG SVR_rbf  AVG SVC_poly\n",
      "0          0.896117        0.886563     0.921185      0.868474\n"
     ]
    }
   ],
   "source": [
    "import warnings\n",
    "warnings.filterwarnings('ignore')\n",
    "# Model selection\n",
    "model_LM = LinearRegression(copy_X=True, fit_intercept=True, n_jobs=4, normalize=False)\n",
    "#c_val ลองอย่างน้อย 3 ค่า [0.1, 1, 10, 100]\n",
    "lst = [0.1, 1, 10, 100]\n",
    "c_val = 0\n",
    "AVG_Linear_Model =[]\n",
    "AVG_SVR_linear =[]\n",
    "AVG_SVR_rbf = []\n",
    "AVG_SVR_poly = []\n",
    "for i in lst:\n",
    "    c_val = i\n",
    "    svr_lin  = SVR(kernel='linear', C=c_val)\n",
    "    svr_rbf  = SVR(kernel='rbf'   , C=c_val, gamma=0.01)\n",
    "    svr_poly = SVR(kernel='poly'  , C=c_val, degree=2)\n",
    "    \n",
    "    #Calculate accuracy score for each model\n",
    "    score_LM    =  cross_val_score(model_LM, X_train, Y_train, cv=kfold)\n",
    "    score_lin   =  cross_val_score(svr_lin, X_train, Y_train, cv=kfold)\n",
    "    score_rbf   =  cross_val_score(svr_rbf, X_train, Y_train, cv=kfold)\n",
    "    score_poly  =  cross_val_score(svr_poly, X_train, Y_train, cv=kfold)\n",
    "\n",
    "    # View score k-fold\n",
    "    # Valication score comparison\n",
    "    score = pd.DataFrame({'Linear Model':score_LM,'SVR_linear':score_lin, 'SVR_rbf': score_rbf, 'SVR_poly':score_poly})\n",
    "    score_mean = pd.DataFrame({'AVG Linear Model':[score_LM.mean()],'AVG SVR_linear':[score_lin.mean()],\n",
    "                                'AVG SVR_rbf': [score_rbf.mean()], 'AVG SVC_poly': [score_poly.mean()]})\n",
    "    print(score)\n",
    "    print(score_mean)\n",
    "\n",
    "    #display( plot ( score ))\n",
    "    AVG_Linear_Model.append(score_LM.mean())\n",
    "    AVG_SVR_linear.append(score_lin.mean())\n",
    "    AVG_SVR_rbf.append(score_rbf.mean())\n",
    "    AVG_SVR_poly.append(score_poly.mean())\n"
   ]
  },
  {
   "cell_type": "code",
   "execution_count": 48,
   "metadata": {},
   "outputs": [
    {
     "data": {
      "image/png": "[encoded data removed]",
      "text/plain": [
       "<Figure size 1080x576 with 1 Axes>"
      ]
     },
     "metadata": {
      "needs_background": "light"
     },
     "output_type": "display_data"
    }
   ],
   "source": [
    "cvall = ['c 0.1','c 1','c 10','c 100']\n",
    "plt.figure(figsize =(15, 8))\n",
    "X_axis = np.arange(len(AVG_Linear_Model))\n",
    "plt.bar(X_axis , AVG_Linear_Model, 0.2, label = 'avg_linear')\n",
    "plt.bar(X_axis + 0.2, AVG_SVR_linear, 0.2, label = 'avg_svr_linear')\n",
    "plt.bar(X_axis + 0.4, AVG_SVR_rbf, 0.2, label = 'avg_svr_rbf')\n",
    "plt.bar(X_axis + 0.6, AVG_SVR_poly, 0.2, label = 'avg_svr_poly')\n",
    "plt.xticks(X_axis, cvall)\n",
    "\n",
    "plt.legend()\n",
    "plt.show()"
   ]
  },
  {
   "cell_type": "markdown",
   "metadata": {},
   "source": [
    "## Score"
   ]
  },
  {
   "cell_type": "code",
   "execution_count": 49,
   "metadata": {},
   "outputs": [
    {
     "name": "stdout",
     "output_type": "stream",
     "text": [
      "[0.89625548 0.90397806 0.87918837 0.90504463]\n",
      "[0.88509339 0.90071135 0.86492759 0.89551782]\n",
      "[0.92431562 0.92587112 0.90786261 0.92668925]\n",
      "[0.89043599 0.86455451 0.86578228 0.85312399]\n"
     ]
    }
   ],
   "source": [
    "print(score_LM)\n",
    "print(score_lin)\n",
    "print(score_rbf)\n",
    "print(score_poly)"
   ]
  },
  {
   "cell_type": "code",
   "execution_count": 50,
   "metadata": {},
   "outputs": [
    {
     "name": "stdout",
     "output_type": "stream",
     "text": [
      "   Linear Model  SVR_linear   SVR_rbf  SVR_poly\n",
      "0      0.896255    0.885093  0.924316  0.890436\n",
      "1      0.903978    0.900711  0.925871  0.864555\n",
      "2      0.879188    0.864928  0.907863  0.865782\n",
      "3      0.905045    0.895518  0.926689  0.853124\n",
      "   AVG Linear Model  AVG SVR_linear  AVG SVR_rbf  AVG SVC_poly\n",
      "0          0.896117        0.886563     0.921185      0.868474\n"
     ]
    }
   ],
   "source": [
    "# View score k-fold\n",
    "# Valication score comparison\n",
    "score = pd.DataFrame({'Linear Model':score_LM,'SVR_linear':score_lin, 'SVR_rbf': score_rbf, 'SVR_poly': score_poly})\n",
    "score_mean = pd.DataFrame({'AVG Linear Model':[score_LM.mean()],'AVG SVR_linear':[score_lin.mean()],\n",
    "                            'AVG SVR_rbf': [score_rbf.mean()], 'AVG SVC_poly': [score_poly.mean()]})\n",
    "print(score)\n",
    "print(score_mean)\n",
    "#display( plot ( score ))"
   ]
  },
  {
   "cell_type": "code",
   "execution_count": 51,
   "metadata": {},
   "outputs": [
    {
     "name": "stdout",
     "output_type": "stream",
     "text": [
      "4469.6833415730825\n",
      "-5.278359182489573\n"
     ]
    }
   ],
   "source": [
    "# Predict all models ( LM, SVR_linear, SVR_rbf, SVR Poly )\n",
    "LM_pred = model_LM.fit(X_train, Y_train).predict(X_test)\n",
    "# Model prediction performance evaluation for all model ( LM, SVR_linear, SVR_rbf, SVR Poly )\n",
    "#MSE \n",
    "LM_MSE = metrics.mean_squared_error(Y_test, LM_pred)\n",
    "#R2\n",
    "LM_r2 = metrics.r2_score(Y_test, LM_pred)\n",
    "print(LM_MSE)\n",
    "print(LM_r2)"
   ]
  },
  {
   "cell_type": "markdown",
   "metadata": {},
   "source": [
    "# Find all"
   ]
  },
  {
   "cell_type": "code",
   "execution_count": 52,
   "metadata": {},
   "outputs": [],
   "source": [
    "c_val = 10\n",
    "svr_lin =   SVR(kernel='linear',   C=c_val)\n",
    "svr_rbf =   SVR(kernel='rbf',      C=c_val, gamma=0.01)\n",
    "svr_poly =  SVR(kernel='poly',     C=c_val, degree=2)\n",
    "\n",
    "LM_pred      =  model_LM.fit(X_train, Y_train).predict(X_test)\n",
    "svr_lin_pred =  svr_lin.fit(X_train,Y_train).predict(X_test)\n",
    "svr_rbf_pred =  svr_rbf.fit(X_train,Y_train).predict(X_test)\n",
    "svr_poly_pred = svr_poly.fit(X_train,Y_train).predict(X_test)\n",
    "# X_test.reset_index(inplace = True)\n",
    "# X_test.drop(columns = [X_test.columns[0]],inplace = True)\n",
    "# print(len(LM_pred))\n",
    "# print(X_test)"
   ]
  },
  {
   "cell_type": "code",
   "execution_count": 53,
   "metadata": {},
   "outputs": [
    {
     "data": {
      "text/plain": [
       "Index([('Adj Close', 'IBM'),            'DEXJPUS',            'DEXUSUK',\n",
       "                     'DJIA',             'VIXCLS',           'MSFT_3DT',\n",
       "                 'MSFT_6DT',          'MSFT_12DT'],\n",
       "      dtype='object')"
      ]
     },
     "execution_count": 53,
     "metadata": {},
     "output_type": "execute_result"
    }
   ],
   "source": [
    "X_test.columns"
   ]
  },
  {
   "cell_type": "code",
   "execution_count": 54,
   "metadata": {},
   "outputs": [
    {
     "name": "stderr",
     "output_type": "stream",
     "text": [
      "No artists with labels found to put in legend.  Note that artists whose label start with an underscore are ignored when legend() is called with no argument.\n"
     ]
    },
    {
     "data": {
      "image/png": "[encoded data removed]",
      "text/plain": [
       "<Figure size 432x288 with 1 Axes>"
      ]
     },
     "metadata": {
      "needs_background": "light"
     },
     "output_type": "display_data"
    }
   ],
   "source": [
    "plt.scatter(X_test[\"DEXJPUS\"],LM_pred, c='magenta')\n",
    "plt.title('X_test[\"DEXJPUS\"] compare with Linear model')\n",
    "plt.legend()\n",
    "plt.show()"
   ]
  },
  {
   "cell_type": "code",
   "execution_count": 55,
   "metadata": {},
   "outputs": [
    {
     "data": {
      "image/png": "[encoded data removed]",
      "text/plain": [
       "<Figure size 432x288 with 1 Axes>"
      ]
     },
     "metadata": {
      "needs_background": "light"
     },
     "output_type": "display_data"
    }
   ],
   "source": [
    "plt.scatter(X_test[\"VIXCLS\"],LM_pred, c='coral')\n",
    "plt.title('X_test[\"VIXCLS\"] compare with Linear model')\n",
    "plt.show()\n"
   ]
  },
  {
   "cell_type": "code",
   "execution_count": 56,
   "metadata": {},
   "outputs": [
    {
     "data": {
      "image/png": "[encoded data removed]",
      "text/plain": [
       "<Figure size 432x288 with 1 Axes>"
      ]
     },
     "metadata": {
      "needs_background": "light"
     },
     "output_type": "display_data"
    }
   ],
   "source": [
    "plt.scatter(X_test[\"VIXCLS\"],svr_lin_pred, c='coral')\n",
    "plt.title('X_test[\"VIXCLS\"] compare with Linear model')\n",
    "plt.show()"
   ]
  },
  {
   "cell_type": "code",
   "execution_count": 57,
   "metadata": {},
   "outputs": [
    {
     "data": {
      "image/png": "[encoded data removed]",
      "text/plain": [
       "<Figure size 432x288 with 1 Axes>"
      ]
     },
     "metadata": {
      "needs_background": "light"
     },
     "output_type": "display_data"
    }
   ],
   "source": [
    "plt.scatter(X_test[\"VIXCLS\"],svr_poly_pred, c='coral')\n",
    "plt.title('X_test[\"VIXCLS\"] compare with SVR poly')\n",
    "plt.show()\n"
   ]
  },
  {
   "cell_type": "code",
   "execution_count": 58,
   "metadata": {},
   "outputs": [
    {
     "data": {
      "image/png": "[encoded data removed]",
      "text/plain": [
       "<Figure size 432x288 with 1 Axes>"
      ]
     },
     "metadata": {
      "needs_background": "light"
     },
     "output_type": "display_data"
    }
   ],
   "source": [
    "plt.scatter(X_test[\"VIXCLS\"],svr_rbf_pred, c='coral')\n",
    "plt.title('X_test[\"VIXCLS\"] compare with SVR rbf')\n",
    "plt.show()"
   ]
  },
  {
   "cell_type": "code",
   "execution_count": 59,
   "metadata": {},
   "outputs": [
    {
     "data": {
      "image/png": "[encoded data removed]",
      "text/plain": [
       "<Figure size 432x288 with 1 Axes>"
      ]
     },
     "metadata": {
      "needs_background": "light"
     },
     "output_type": "display_data"
    }
   ],
   "source": [
    "LM_MSE = metrics.mean_squared_error(Y_test, LM_pred)\n",
    "LM_r2 = metrics.r2_score(Y_test, LM_pred)\n",
    "# print (LM_MSE)\n",
    "# print(LM_r2)\n",
    "\n",
    "svr_lin_MSE = metrics.mean_squared_error(Y_test, svr_lin_pred)\n",
    "svr_lin_r2 = metrics.r2_score(Y_test, svr_lin_pred)\n",
    "# print (svr_lin_MSE)\n",
    "# print(svr_lin_r2)\n",
    "\n",
    "svr_rbf_MSE = metrics.mean_squared_error(Y_test, svr_rbf_pred)\n",
    "svr_rbf_r2 = metrics.r2_score(Y_test, svr_rbf_pred)\n",
    "# print (svr_rbf_MSE)\n",
    "# print(svr_rbf_r2)\n",
    "\n",
    "svr_poly_MSE = metrics.mean_squared_error(Y_test, svr_poly_pred)\n",
    "svr_poly_r2 = metrics.r2_score(Y_test, svr_poly_pred)\n",
    "# print (svr_poly_MSE)\n",
    "# print(svr_poly_r2)\n",
    "\n",
    "plt.bar([\"LM_MSE\",\"svr_lin_MSE\",\"svr_rbf_MSE\",\"svr_poly_MSE\"],[LM_MSE,svr_lin_MSE,svr_rbf_MSE,svr_poly_MSE])\n",
    "plt.show()"
   ]
  },
  {
   "cell_type": "code",
   "execution_count": 60,
   "metadata": {},
   "outputs": [
    {
     "data": {
      "image/png": "[encoded data removed]",
      "text/plain": [
       "<Figure size 432x288 with 1 Axes>"
      ]
     },
     "metadata": {
      "needs_background": "light"
     },
     "output_type": "display_data"
    }
   ],
   "source": [
    "plt.bar([\"LM_r2\",\"svr_lin_r2\",\"svr_rbf_r2\",\"svr_poly_r2\"],[LM_r2,svr_lin_r2,svr_rbf_r2,svr_poly_r2])\n",
    "plt.show()"
   ]
  }
 ],
 "metadata": {
  "kernelspec": {
   "display_name": "Python 3.9.12 ('base')",
   "language": "python",
   "name": "python3"
  },
  "language_info": {
   "codemirror_mode": {
    "name": "ipython",
    "version": 3
   },
   "file_extension": ".py",
   "mimetype": "text/x-python",
   "name": "python",
   "nbconvert_exporter": "python",
   "pygments_lexer": "ipython3",
   "version": "3.9.12"
  },
  "orig_nbformat": 4,
  "vscode": {
   "interpreter": {
    "hash": "ad2bdc8ecc057115af97d19610ffacc2b4e99fae6737bb82f5d7fb13d2f2c186"
   }
  }
 },
 "nbformat": 4,
 "nbformat_minor": 2
}
